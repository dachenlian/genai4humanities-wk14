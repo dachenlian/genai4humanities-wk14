{
 "cells": [
  {
   "cell_type": "markdown",
   "id": "b77a10bc",
   "metadata": {},
   "source": [
    "# Imports"
   ]
  },
  {
   "cell_type": "code",
   "execution_count": 1,
   "id": "8133fb97",
   "metadata": {},
   "outputs": [],
   "source": [
    "import asyncio\n",
    "import datetime\n",
    "import json\n",
    "import os\n",
    "\n",
    "import lancedb\n",
    "import pandas as pd\n",
    "import tiktoken\n",
    "import torch\n",
    "import torch.nn.functional as F\n",
    "from datasets import load_dataset\n",
    "from dotenv import load_dotenv\n",
    "from loguru import logger\n",
    "from openai import OpenAI, AsyncOpenAI\n",
    "from sentence_transformers import SentenceTransformer\n",
    "from tenacity import (\n",
    "    RetryCallState,\n",
    "    retry,\n",
    "    stop_after_attempt,\n",
    "    wait_random_exponential,\n",
    ")  # for exponential backoff\n",
    "\n",
    "try:\n",
    "    from google.colab import userdata  # type: ignore\n",
    "except ImportError:\n",
    "    userdata = None\n",
    "\n",
    "load_dotenv(override=True)\n",
    "pd.set_option(\"display.max_colwidth\", 0)"
   ]
  },
  {
   "cell_type": "markdown",
   "id": "4f7c4e35",
   "metadata": {},
   "source": [
    "# Preparing dataset"
   ]
  },
  {
   "cell_type": "code",
   "execution_count": 2,
   "id": "3b0bc263",
   "metadata": {},
   "outputs": [
    {
     "data": {
      "application/vnd.jupyter.widget-view+json": {
       "model_id": "5435d0fab5d2411d828ae3b75018c098",
       "version_major": 2,
       "version_minor": 0
      },
      "text/plain": [
       "README.md:   0%|          | 0.00/1.62k [00:00<?, ?B/s]"
      ]
     },
     "metadata": {},
     "output_type": "display_data"
    },
    {
     "data": {
      "application/vnd.jupyter.widget-view+json": {
       "model_id": "b2868ab85b954e6aabccb5e8bacd680f",
       "version_major": 2,
       "version_minor": 0
      },
      "text/plain": [
       "(…)-00000-of-00001-6db04ab1c75d6817.parquet:   0%|          | 0.00/13.9M [00:00<?, ?B/s]"
      ]
     },
     "metadata": {},
     "output_type": "display_data"
    },
    {
     "data": {
      "application/vnd.jupyter.widget-view+json": {
       "model_id": "881abc3f442e4456bec4aae4ab0a763e",
       "version_major": 2,
       "version_minor": 0
      },
      "text/plain": [
       "Generating train split:   0%|          | 0/4803 [00:00<?, ? examples/s]"
      ]
     },
     "metadata": {},
     "output_type": "display_data"
    },
    {
     "data": {
      "text/plain": [
       "Dataset({\n",
       "    features: ['id', 'budget', 'genres', 'homepage', 'keywords', 'original_language', 'original_title', 'overview', 'popularity', 'production_companies', 'production_countries', 'release_date', 'revenue', 'runtime', 'spoken_languages', 'status', 'tagline', 'title', 'vote_average', 'vote_count', 'cast', 'crew'],\n",
       "    num_rows: 4803\n",
       "})"
      ]
     },
     "execution_count": 2,
     "metadata": {},
     "output_type": "execute_result"
    }
   ],
   "source": [
    "# https://huggingface.co/datasets/AiresPucrs/tmdb-5000-movies\n",
    "ds = load_dataset(\"AiresPucrs/tmdb-5000-movies\", split=\"train\")\n",
    "ds"
   ]
  },
  {
   "cell_type": "code",
   "execution_count": 3,
   "id": "cee9a86b",
   "metadata": {},
   "outputs": [
    {
     "data": {
      "application/vnd.jupyter.widget-view+json": {
       "model_id": "f4e0bc27a0c54bafba65f2040e4685c5",
       "version_major": 2,
       "version_minor": 0
      },
      "text/plain": [
       "Filter:   0%|          | 0/4803 [00:00<?, ? examples/s]"
      ]
     },
     "metadata": {},
     "output_type": "display_data"
    },
    {
     "data": {
      "text/plain": [
       "Dataset({\n",
       "    features: ['id', 'budget', 'genres', 'homepage', 'keywords', 'original_language', 'original_title', 'overview', 'popularity', 'production_companies', 'production_countries', 'release_date', 'revenue', 'runtime', 'spoken_languages', 'status', 'tagline', 'title', 'vote_average', 'vote_count', 'cast', 'crew'],\n",
       "    num_rows: 4800\n",
       "})"
      ]
     },
     "execution_count": 3,
     "metadata": {},
     "output_type": "execute_result"
    }
   ],
   "source": [
    "# Remove missing overview\n",
    "ds = ds.filter(lambda x: bool(x[\"overview\"]))\n",
    "ds"
   ]
  },
  {
   "cell_type": "code",
   "execution_count": 4,
   "id": "d67d408b",
   "metadata": {},
   "outputs": [],
   "source": [
    "def preprocess(example: dict) -> dict:\n",
    "    example[\"genres\"] = [g[\"name\"] for g in json.loads(example[\"genres\"])]\n",
    "    example[\"keywords\"] = [k[\"name\"] for k in json.loads(example[\"keywords\"])]\n",
    "    example[\"release_date\"] = datetime.datetime.strptime(\n",
    "        d if (d := example[\"release_date\"]) else \"1970-01-01\", \"%Y-%m-%d\"\n",
    "    ).date()\n",
    "    example[\"release_year\"] = example[\"release_date\"].year\n",
    "    example[\"spoken_languages\"] = [\n",
    "        sl[\"name\"] for sl in json.loads(example[\"spoken_languages\"])\n",
    "    ]\n",
    "    example[\"cast\"] = [\n",
    "        {\n",
    "            \"name\": c[\"name\"],\n",
    "            \"character\": c[\"character\"],\n",
    "        }\n",
    "        for c in json.loads(example[\"cast\"])\n",
    "    ]\n",
    "    # example[\"production_companies\"] = [\n",
    "    #     pc[\"name\"] for pc in json.loads(example[\"production_companies\"])\n",
    "    # ]\n",
    "    # example[\"production_countries\"] = [\n",
    "    #     pc[\"name\"] for pc in json.loads(example[\"production_countries\"])\n",
    "    # ]\n",
    "    # example[\"crew\"] = [\n",
    "    #     {\n",
    "    #         \"name\": c[\"name\"],\n",
    "    #         \"job\": c[\"job\"],\n",
    "    #     }\n",
    "    #     for c in json.loads(example[\"crew\"])\n",
    "    # ]\n",
    "    return example\n"
   ]
  },
  {
   "cell_type": "code",
   "execution_count": 5,
   "id": "5de6f690",
   "metadata": {},
   "outputs": [
    {
     "name": "stderr",
     "output_type": "stream",
     "text": [
      "/home/richlian/github/genai4humanities-wk14/.venv/lib/python3.11/site-packages/lancedb/__init__.py:220: UserWarning: lance is not fork-safe. If you are using multiprocessing, use spawn instead.\n",
      "  warnings.warn(\n"
     ]
    },
    {
     "data": {
      "application/vnd.jupyter.widget-view+json": {
       "model_id": "fd52672278cb4b80b439348cc360da8f",
       "version_major": 2,
       "version_minor": 0
      },
      "text/plain": [
       "Map (num_proc=4):   0%|          | 0/4800 [00:00<?, ? examples/s]"
      ]
     },
     "metadata": {},
     "output_type": "display_data"
    },
    {
     "name": "stderr",
     "output_type": "stream",
     "text": [
      "/home/richlian/github/genai4humanities-wk14/.venv/lib/python3.11/site-packages/lancedb/__init__.py:220: UserWarning: lance is not fork-safe. If you are using multiprocessing, use spawn instead.\n",
      "  warnings.warn(\n"
     ]
    },
    {
     "data": {
      "text/plain": [
       "{'budget': 4000000,\n",
       " 'genres': ['Crime', 'Comedy'],\n",
       " 'keywords': ['hotel',\n",
       "  \"new year's eve\",\n",
       "  'witch',\n",
       "  'bet',\n",
       "  'hotel room',\n",
       "  'sperm',\n",
       "  'los angeles',\n",
       "  'hoodlum',\n",
       "  'woman director',\n",
       "  'episode film'],\n",
       " 'original_language': 'en',\n",
       " 'overview': \"It's Ted the Bellhop's first night on the job...and the hotel's very unusual guests are about to place him in some outrageous predicaments. It seems that this evening's room service is serving up one unbelievable happening after another.\",\n",
       " 'popularity': 22.87623,\n",
       " 'release_date': datetime.date(1995, 12, 9),\n",
       " 'revenue': 4300000,\n",
       " 'runtime': 98.0,\n",
       " 'spoken_languages': ['English'],\n",
       " 'title': 'Four Rooms',\n",
       " 'cast': [{'character': 'Ted the Bellhop', 'name': 'Tim Roth'},\n",
       "  {'character': 'Man', 'name': 'Antonio Banderas'},\n",
       "  {'character': 'Angela', 'name': 'Jennifer Beals'},\n",
       "  {'character': 'Elspeth', 'name': 'Madonna'},\n",
       "  {'character': 'Margaret', 'name': 'Marisa Tomei'},\n",
       "  {'character': 'Leo', 'name': 'Bruce Willis'},\n",
       "  {'character': 'Chester Rush', 'name': 'Quentin Tarantino'},\n",
       "  {'character': 'Jezebel', 'name': 'Sammi Davis'},\n",
       "  {'character': 'Diana', 'name': 'Amanda de Cadenet'},\n",
       "  {'character': 'Athena', 'name': 'Valeria Golino'},\n",
       "  {'character': 'Raven', 'name': 'Lili Taylor'},\n",
       "  {'character': 'Long Hair Yuppy Scum', 'name': 'Lawrence Bender'},\n",
       "  {'character': 'Eva', 'name': 'Ione Skye'},\n",
       "  {'character': 'Kiva', 'name': 'Alicia Witt'},\n",
       "  {'character': 'Siegfried', 'name': 'David Proval'},\n",
       "  {'character': 'Sarah', 'name': 'Lana McKissack'},\n",
       "  {'character': 'Wife', 'name': 'Tamlyn Tomita'},\n",
       "  {'character': 'Betty', 'name': 'Kathy Griffin'},\n",
       "  {'character': 'Norman', 'name': 'Paul Calderon'},\n",
       "  {'character': 'TV Dancing Girl', 'name': 'Salma Hayek'},\n",
       "  {'character': 'Corpse', 'name': 'Patricia Vonne'},\n",
       "  {'character': 'Juancho', 'name': 'Danny Verduzco'},\n",
       "  {'character': 'Hooker', 'name': 'Kimberly Blair'},\n",
       "  {'character': 'Sam the Bellhop', 'name': 'Marc Lawrence'}],\n",
       " 'release_year': 1995}"
      ]
     },
     "execution_count": 5,
     "metadata": {},
     "output_type": "execute_result"
    }
   ],
   "source": [
    "ds = ds.map(\n",
    "    preprocess,\n",
    "    remove_columns=[\n",
    "        \"id\",\n",
    "        \"homepage\",\n",
    "        \"production_companies\",\n",
    "        \"production_countries\",\n",
    "        \"status\",\n",
    "        \"tagline\",\n",
    "        \"vote_count\",\n",
    "        \"vote_average\",\n",
    "        \"crew\",\n",
    "        \"original_title\",\n",
    "    ],\n",
    "    num_proc=4,\n",
    ")\n",
    "ds[0]"
   ]
  },
  {
   "cell_type": "markdown",
   "id": "e343d419",
   "metadata": {},
   "source": [
    "# Embeddings"
   ]
  },
  {
   "cell_type": "code",
   "execution_count": 6,
   "id": "4e3ff444",
   "metadata": {},
   "outputs": [],
   "source": [
    "queries = [\n",
    "    \"I want to watch an exciting superhero movie\",\n",
    "    \"我想看一部超級英雄電影\",\n",
    "]\n",
    "\n",
    "movies = [\n",
    "    \"A movie about a group of friends who go on a road trip\",\n",
    "    \"A romantic comedy about a couple who meet at a wedding\",\n",
    "    \"An autobiography of George Washington, the first president of the United States\",\n",
    "    \"Spider-Man is fighting against the Green Goblin in another universe\",\n",
    "]"
   ]
  },
  {
   "cell_type": "markdown",
   "id": "e57dd154",
   "metadata": {},
   "source": [
    "## sentence-transformers\n",
    "\n",
    "* [Official Documentation](https://sbert.net/)\n",
    "* Models supporting `sentence-transformers`: https://huggingface.co/models?library=sentence-transformers\n",
    "* Models for `sentence-similarity`: https://huggingface.co/models?pipeline_tag=sentence-similarity\n"
   ]
  },
  {
   "cell_type": "code",
   "execution_count": 10,
   "id": "921bbc08",
   "metadata": {},
   "outputs": [],
   "source": [
    "embedder = SentenceTransformer(\n",
    "    \"sentence-transformers/paraphrase-multilingual-MiniLM-L12-v2\",\n",
    "    device=\"cpu\",\n",
    ")"
   ]
  },
  {
   "cell_type": "markdown",
   "id": "fb11faf2",
   "metadata": {},
   "source": [
    "### Compute embeddings"
   ]
  },
  {
   "cell_type": "code",
   "execution_count": null,
   "id": "e4d94b2b",
   "metadata": {},
   "outputs": [
    {
     "name": "stdout",
     "output_type": "stream",
     "text": [
      "(2, 384) (4, 384)\n",
      "Query: [-0.4084644  -0.24543129 -0.600559   -0.11258549  0.19218642]\n",
      "Movie: [ 0.30984214 -0.12824544 -0.33090717 -0.2385715   0.33415732]\n"
     ]
    }
   ],
   "source": [
    "query_embeddings = embedder.encode(queries)\n",
    "movie_embeddings = embedder.encode(movies)\n",
    "print(query_embeddings.shape, movie_embeddings.shape)\n",
    "print(f\"Query: {query_embeddings[0][:5]}\")\n",
    "print(f\"Movie: {movie_embeddings[0][:5]}\")"
   ]
  },
  {
   "cell_type": "markdown",
   "id": "2596c7ff",
   "metadata": {},
   "source": [
    "### Computing similarity + retrieving top k"
   ]
  },
  {
   "cell_type": "code",
   "execution_count": null,
   "id": "a1293584",
   "metadata": {},
   "outputs": [
    {
     "data": {
      "text/plain": [
       "tensor([[ 0.2611,  0.1753, -0.0321,  0.3556],\n",
       "        [ 0.2784,  0.1435,  0.0242,  0.3834]])"
      ]
     },
     "execution_count": 9,
     "metadata": {},
     "output_type": "execute_result"
    }
   ],
   "source": [
    "# Compute cosine similarities\n",
    "similarities = embedder.similarity(query_embeddings, movie_embeddings)\n",
    "similarities"
   ]
  },
  {
   "cell_type": "code",
   "execution_count": 12,
   "id": "e5e50169",
   "metadata": {},
   "outputs": [
    {
     "name": "stdout",
     "output_type": "stream",
     "text": [
      "I want to watch an exciting superhero movie\n",
      " - A movie about a group of friends who go on a road trip: \u001b[33m0.2611\u001b[0m\n",
      " - A romantic comedy about a couple who meet at a wedding: \u001b[33m0.1753\u001b[0m\n",
      " - An autobiography of George Washington, the first president of the United States: \u001b[33m-0.0321\u001b[0m\n",
      " - Spider-Man is fighting against the Green Goblin in another universe: \u001b[33m0.3556\u001b[0m\n",
      "我想看一部超級英雄電影\n",
      " - A movie about a group of friends who go on a road trip: \u001b[33m0.2784\u001b[0m\n",
      " - A romantic comedy about a couple who meet at a wedding: \u001b[33m0.1435\u001b[0m\n",
      " - An autobiography of George Washington, the first president of the United States: \u001b[33m0.0242\u001b[0m\n",
      " - Spider-Man is fighting against the Green Goblin in another universe: \u001b[33m0.3834\u001b[0m\n"
     ]
    }
   ],
   "source": [
    "YELLOW = \"\\033[33m\"\n",
    "END = \"\\033[0m\"\n",
    "# Output the pairs with their score\n",
    "for idx_i, sentence1 in enumerate(queries):\n",
    "    print(sentence1)\n",
    "    for idx_j, sentence2 in enumerate(movies):\n",
    "        print(f\" - {sentence2: <30}: {YELLOW}{similarities[idx_i][idx_j]:.4f}{END}\")"
   ]
  },
  {
   "cell_type": "code",
   "execution_count": 141,
   "id": "55494610",
   "metadata": {},
   "outputs": [
    {
     "data": {
      "text/plain": [
       "torch.return_types.topk(\n",
       "values=tensor([ 0.3556,  0.2611,  0.1753, -0.0321]),\n",
       "indices=tensor([3, 0, 1, 2]))"
      ]
     },
     "execution_count": 141,
     "metadata": {},
     "output_type": "execute_result"
    }
   ],
   "source": [
    "torch.topk(similarities[0], k=4)"
   ]
  },
  {
   "cell_type": "code",
   "execution_count": 13,
   "id": "f1d2dc21",
   "metadata": {},
   "outputs": [
    {
     "name": "stdout",
     "output_type": "stream",
     "text": [
      "I want to watch an exciting superhero movie\n",
      " - Spider-Man is fighting against the Green Goblin in another universe: \u001b[33m0.3556\u001b[0m\n",
      " - A movie about a group of friends who go on a road trip: \u001b[33m0.2611\u001b[0m\n",
      " - A romantic comedy about a couple who meet at a wedding: \u001b[33m0.1753\u001b[0m\n",
      " - An autobiography of George Washington, the first president of the United States: \u001b[33m-0.0321\u001b[0m\n",
      "我想看一部超級英雄電影\n",
      " - Spider-Man is fighting against the Green Goblin in another universe: \u001b[33m0.3834\u001b[0m\n",
      " - A movie about a group of friends who go on a road trip: \u001b[33m0.2784\u001b[0m\n",
      " - A romantic comedy about a couple who meet at a wedding: \u001b[33m0.1435\u001b[0m\n",
      " - An autobiography of George Washington, the first president of the United States: \u001b[33m0.0242\u001b[0m\n"
     ]
    }
   ],
   "source": [
    "for idx_i, sentence1 in enumerate(queries):\n",
    "    print(sentence1)\n",
    "    for idx_j in torch.topk(similarities[idx_i], k=4).indices:\n",
    "        print(f\" - {movies[idx_j]: <30}: {YELLOW}{similarities[idx_i][idx_j]:.4f}{END}\")"
   ]
  },
  {
   "cell_type": "markdown",
   "id": "a408f6c2",
   "metadata": {},
   "source": [
    "## OpenAI\n",
    "\n",
    "[Documentation](https://platform.openai.com/docs/guides/embeddings?lang=python)"
   ]
  },
  {
   "cell_type": "markdown",
   "id": "afb4c287",
   "metadata": {},
   "source": [
    "![](https://i.redd.it/lpf0u9nbj7w41.jpg)"
   ]
  },
  {
   "cell_type": "code",
   "execution_count": null,
   "id": "1b45bfd8",
   "metadata": {},
   "outputs": [],
   "source": [
    "api_key = os.getenv(\"OPENAI_API_KEY\")\n",
    "if not api_key and userdata:\n",
    "    # If running in Google Colab, try to get the API key from userdata\n",
    "    api_key = userdata.get(\"OPENAI_API_KEY\")\n",
    "if not api_key:\n",
    "    raise ValueError(\"OPENAI_API_KEY environment variable is not set\")\n",
    "\n",
    "client = AsyncOpenAI(api_key=api_key, max_retries=5)  # async instead of sync"
   ]
  },
  {
   "cell_type": "markdown",
   "id": "9535512f",
   "metadata": {},
   "source": [
    "### Compute embeddings"
   ]
  },
  {
   "cell_type": "code",
   "execution_count": 15,
   "id": "ecb09082",
   "metadata": {},
   "outputs": [
    {
     "name": "stdout",
     "output_type": "stream",
     "text": [
      "1536\n",
      "[-0.010025657713413239, 0.007190898526459932, -0.08766952902078629, 0.010150458663702011, -0.025221630930900574]\n"
     ]
    }
   ],
   "source": [
    "res = await client.embeddings.create(input=queries[0], model=\"text-embedding-3-small\")\n",
    "embedding = res.data[0].embedding\n",
    "print(len(embedding))\n",
    "print(embedding[:5])"
   ]
  },
  {
   "cell_type": "code",
   "execution_count": 16,
   "id": "24c4d2f0",
   "metadata": {},
   "outputs": [
    {
     "name": "stdout",
     "output_type": "stream",
     "text": [
      "Total tokens: 8\n"
     ]
    }
   ],
   "source": [
    "print(f\"Total tokens: {res.usage.total_tokens}\")"
   ]
  },
  {
   "cell_type": "code",
   "execution_count": 17,
   "id": "c7f42920",
   "metadata": {},
   "outputs": [],
   "source": [
    "# Convert to torch.Tensor for cosine similarity\n",
    "_query_embeddings = await asyncio.gather(\n",
    "    *[\n",
    "        client.embeddings.create(input=query, model=\"text-embedding-3-small\")\n",
    "        for query in queries\n",
    "    ]\n",
    ")\n",
    "query_embeddings = torch.Tensor(\n",
    "    [embedding.data[0].embedding for embedding in _query_embeddings]\n",
    ")\n",
    "_movie_embeddings = await asyncio.gather(\n",
    "    *[\n",
    "        client.embeddings.create(input=movie, model=\"text-embedding-3-small\")\n",
    "        for movie in movies\n",
    "    ]\n",
    ")\n",
    "movie_embeddings = torch.Tensor(\n",
    "    [embedding.data[0].embedding for embedding in _movie_embeddings]\n",
    ")"
   ]
  },
  {
   "cell_type": "code",
   "execution_count": 18,
   "id": "9afcaf1d",
   "metadata": {},
   "outputs": [
    {
     "data": {
      "text/plain": [
       "tensor([[ 0.0125,  0.0218, -0.0479,  ...,  0.0026, -0.0386,  0.0079],\n",
       "        [-0.0326,  0.0203, -0.0673,  ...,  0.0057, -0.0081, -0.0111],\n",
       "        [ 0.0083, -0.0117,  0.0179,  ...,  0.0175, -0.0041, -0.0108],\n",
       "        [-0.0362, -0.0462,  0.0150,  ..., -0.0224,  0.0127,  0.0131]])"
      ]
     },
     "execution_count": 18,
     "metadata": {},
     "output_type": "execute_result"
    }
   ],
   "source": [
    "torch.Tensor(movie_embeddings)"
   ]
  },
  {
   "cell_type": "markdown",
   "id": "b3cbdbca",
   "metadata": {},
   "source": [
    "### Computing similarity + retrieving top k"
   ]
  },
  {
   "cell_type": "code",
   "execution_count": null,
   "id": "e5ed078e",
   "metadata": {},
   "outputs": [
    {
     "data": {
      "text/plain": [
       "tensor([[0.2881, 0.2119, 0.0501, 0.3344],\n",
       "        [0.2241, 0.1764, 0.0754, 0.2568]])"
      ]
     },
     "execution_count": 20,
     "metadata": {},
     "output_type": "execute_result"
    }
   ],
   "source": [
    "similarities = F.cosine_similarity(\n",
    "    query_embeddings.unsqueeze(1), movie_embeddings.unsqueeze(0), dim=2\n",
    ")\n",
    "similarities"
   ]
  },
  {
   "cell_type": "code",
   "execution_count": 21,
   "id": "56e48176",
   "metadata": {},
   "outputs": [
    {
     "name": "stdout",
     "output_type": "stream",
     "text": [
      "I want to watch an exciting superhero movie\n",
      " - Spider-Man is fighting against the Green Goblin in another universe: \u001b[33m0.3344\u001b[0m\n",
      " - A movie about a group of friends who go on a road trip: \u001b[33m0.2881\u001b[0m\n",
      " - A romantic comedy about a couple who meet at a wedding: \u001b[33m0.2119\u001b[0m\n",
      " - An autobiography of George Washington, the first president of the United States: \u001b[33m0.0501\u001b[0m\n",
      "我想看一部超級英雄電影\n",
      " - Spider-Man is fighting against the Green Goblin in another universe: \u001b[33m0.2568\u001b[0m\n",
      " - A movie about a group of friends who go on a road trip: \u001b[33m0.2241\u001b[0m\n",
      " - A romantic comedy about a couple who meet at a wedding: \u001b[33m0.1764\u001b[0m\n",
      " - An autobiography of George Washington, the first president of the United States: \u001b[33m0.0754\u001b[0m\n"
     ]
    }
   ],
   "source": [
    "YELLOW = \"\\033[33m\"\n",
    "END = \"\\033[0m\"\n",
    "for idx_i, sentence1 in enumerate(queries):\n",
    "    print(sentence1)\n",
    "    for idx_j in torch.topk(similarities[idx_i], k=4).indices:\n",
    "        print(f\" - {movies[idx_j]: <30}: {YELLOW}{similarities[idx_i][idx_j]:.4f}{END}\")"
   ]
  },
  {
   "cell_type": "markdown",
   "id": "79d81fd6",
   "metadata": {},
   "source": [
    "### Calculate tokens and price\n",
    "\n",
    "[OpenAI pricing](https://platform.openai.com/docs/pricing)"
   ]
  },
  {
   "cell_type": "code",
   "execution_count": 24,
   "id": "30951b8d",
   "metadata": {},
   "outputs": [],
   "source": [
    "enc = tiktoken.encoding_for_model(\"text-embedding-3-small\")"
   ]
  },
  {
   "cell_type": "code",
   "execution_count": 27,
   "id": "8216e6d8",
   "metadata": {},
   "outputs": [
    {
     "name": "stdout",
     "output_type": "stream",
     "text": [
      "Total tokens: 8\n",
      "[40, 1390, 311, 3821, 459, 13548, 46244, 5818]\n"
     ]
    }
   ],
   "source": [
    "encoded = enc.encode(queries[0])\n",
    "print(f\"Total tokens: {len(encoded)}\")\n",
    "print(encoded)"
   ]
  },
  {
   "cell_type": "code",
   "execution_count": 28,
   "id": "c7b57982",
   "metadata": {},
   "outputs": [],
   "source": [
    "# price per 1M tokens\n",
    "model_to_price = {\n",
    "    \"text-embedding-3-small\": 0.02,\n",
    "    \"text-embedding-3-large\": 0.13,\n",
    "}\n",
    "\n",
    "\n",
    "def get_token_count_and_price(\n",
    "    texts: list[str], model: str = \"text-embedding-3-small\"\n",
    ") -> tuple[int, float]:\n",
    "    if model not in model_to_price:\n",
    "        raise ValueError(f\"Model {model} not supported\")\n",
    "    enc = tiktoken.encoding_for_model(model)\n",
    "    token_count = sum(len(e) for e in enc.encode_batch(texts))\n",
    "    price_per_1m_tokens = model_to_price[model]\n",
    "    price = (token_count / 1_000_000) * price_per_1m_tokens\n",
    "    return token_count, price"
   ]
  },
  {
   "cell_type": "code",
   "execution_count": 29,
   "id": "27304088",
   "metadata": {},
   "outputs": [
    {
     "data": {
      "text/plain": [
       "(480, 9.600000000000001e-06)"
      ]
     },
     "execution_count": 29,
     "metadata": {},
     "output_type": "execute_result"
    }
   ],
   "source": [
    "get_token_count_and_price(movies * 10, model=\"text-embedding-3-small\")"
   ]
  },
  {
   "cell_type": "markdown",
   "id": "de99a2af",
   "metadata": {},
   "source": [
    "### Handling rate limits"
   ]
  },
  {
   "cell_type": "code",
   "execution_count": null,
   "id": "ee5c15ca",
   "metadata": {},
   "outputs": [],
   "source": [
    "def log_backoff_attempt(retry_state: RetryCallState) -> None:\n",
    "    \"\"\"\n",
    "    Logs a message before a retry attempt, detailing the attempt number,\n",
    "    the exception, and the wait time.\n",
    "    \"\"\"\n",
    "    attempt_num = retry_state.attempt_number\n",
    "    exception = retry_state.outcome.exception() if retry_state.outcome else \"N/A\"\n",
    "    wait_time = retry_state.next_action.sleep if retry_state.next_action else 0.0\n",
    "    func_name = retry_state.fn.__name__ if retry_state.fn else \"N/A\"\n",
    "\n",
    "    logger.info(\n",
    "        f\"Backing off for function '{func_name}': \"\n",
    "        f\"Attempt {attempt_num} failed due to '{exception.__class__.__name__}: {exception}'. \"\n",
    "        f\"Waiting {wait_time:.2f} seconds before next attempt.\"\n",
    "    )\n",
    "\n",
    "\n",
    "@retry(\n",
    "    wait=wait_random_exponential(min=1, max=60),\n",
    "    stop=stop_after_attempt(6),\n",
    "    before_sleep=log_backoff_attempt,\n",
    ")\n",
    "async def embedding_with_backoff(**kwargs):\n",
    "    return await client.embeddings.create(**kwargs)"
   ]
  },
  {
   "cell_type": "markdown",
   "id": "77b75512",
   "metadata": {},
   "source": [
    "# Setting up a vector database\n",
    "\n",
    "[LanceDB documentation](https://lancedb.github.io/lancedb/basic/)"
   ]
  },
  {
   "cell_type": "markdown",
   "id": "0bd42b39",
   "metadata": {},
   "source": [
    "## Creating a LanceDB table"
   ]
  },
  {
   "cell_type": "code",
   "execution_count": 6,
   "id": "5a56860a",
   "metadata": {},
   "outputs": [
    {
     "data": {
      "text/plain": [
       "{'budget': 4000000,\n",
       " 'genres': ['Crime', 'Comedy'],\n",
       " 'keywords': ['hotel',\n",
       "  \"new year's eve\",\n",
       "  'witch',\n",
       "  'bet',\n",
       "  'hotel room',\n",
       "  'sperm',\n",
       "  'los angeles',\n",
       "  'hoodlum',\n",
       "  'woman director',\n",
       "  'episode film'],\n",
       " 'original_language': 'en',\n",
       " 'overview': \"It's Ted the Bellhop's first night on the job...and the hotel's very unusual guests are about to place him in some outrageous predicaments. It seems that this evening's room service is serving up one unbelievable happening after another.\",\n",
       " 'popularity': 22.87623,\n",
       " 'release_date': datetime.date(1995, 12, 9),\n",
       " 'revenue': 4300000,\n",
       " 'runtime': 98.0,\n",
       " 'spoken_languages': ['English'],\n",
       " 'title': 'Four Rooms',\n",
       " 'cast': [{'character': 'Ted the Bellhop', 'name': 'Tim Roth'},\n",
       "  {'character': 'Man', 'name': 'Antonio Banderas'},\n",
       "  {'character': 'Angela', 'name': 'Jennifer Beals'},\n",
       "  {'character': 'Elspeth', 'name': 'Madonna'},\n",
       "  {'character': 'Margaret', 'name': 'Marisa Tomei'},\n",
       "  {'character': 'Leo', 'name': 'Bruce Willis'},\n",
       "  {'character': 'Chester Rush', 'name': 'Quentin Tarantino'},\n",
       "  {'character': 'Jezebel', 'name': 'Sammi Davis'},\n",
       "  {'character': 'Diana', 'name': 'Amanda de Cadenet'},\n",
       "  {'character': 'Athena', 'name': 'Valeria Golino'},\n",
       "  {'character': 'Raven', 'name': 'Lili Taylor'},\n",
       "  {'character': 'Long Hair Yuppy Scum', 'name': 'Lawrence Bender'},\n",
       "  {'character': 'Eva', 'name': 'Ione Skye'},\n",
       "  {'character': 'Kiva', 'name': 'Alicia Witt'},\n",
       "  {'character': 'Siegfried', 'name': 'David Proval'},\n",
       "  {'character': 'Sarah', 'name': 'Lana McKissack'},\n",
       "  {'character': 'Wife', 'name': 'Tamlyn Tomita'},\n",
       "  {'character': 'Betty', 'name': 'Kathy Griffin'},\n",
       "  {'character': 'Norman', 'name': 'Paul Calderon'},\n",
       "  {'character': 'TV Dancing Girl', 'name': 'Salma Hayek'},\n",
       "  {'character': 'Corpse', 'name': 'Patricia Vonne'},\n",
       "  {'character': 'Juancho', 'name': 'Danny Verduzco'},\n",
       "  {'character': 'Hooker', 'name': 'Kimberly Blair'},\n",
       "  {'character': 'Sam the Bellhop', 'name': 'Marc Lawrence'}],\n",
       " 'release_year': 1995}"
      ]
     },
     "execution_count": 6,
     "metadata": {},
     "output_type": "execute_result"
    }
   ],
   "source": [
    "# We'll use the \"overview\" column as the text to embed\n",
    "ds[0]"
   ]
  },
  {
   "cell_type": "code",
   "execution_count": 7,
   "id": "bf1efe30",
   "metadata": {},
   "outputs": [
    {
     "name": "stdout",
     "output_type": "stream",
     "text": [
      "4800\n"
     ]
    },
    {
     "data": {
      "text/plain": [
       "[\"It's Ted the Bellhop's first night on the job...and the hotel's very unusual guests are about to place him in some outrageous predicaments. It seems that this evening's room service is serving up one unbelievable happening after another.\",\n",
       " 'Princess Leia is captured and held hostage by the evil Imperial forces in their effort to take over the galactic Empire. Venturesome Luke Skywalker and dashing captain Han Solo team together with the loveable robot duo R2-D2 and C-3PO to rescue the beautiful princess and restore peace and justice in the Empire.',\n",
       " \"Nemo, an adventurous young clownfish, is unexpectedly taken from his Great Barrier Reef home to a dentist's office aquarium. It's up to his worrisome father Marlin and a friendly but forgetful fish Dory to bring Nemo home -- meeting vegetarian sharks, surfer dude turtles, hypnotic jellyfish, hungry seagulls, and more along the way.\",\n",
       " \"A man with a low IQ has accomplished great things in his life and been present during significant historic events - in each case, far exceeding what anyone imagined he could do. Yet, despite all the things he has attained, his one true love eludes him. 'Forrest Gump' is the story of a man who rose above his challenges, and who proved that determination, courage, and love are more important than ability.\",\n",
       " \"Lester Burnham, a depressed suburban father in a mid-life crisis, decides to turn his hectic life around after developing an infatuation with his daughter's attractive friend.\"]"
      ]
     },
     "execution_count": 7,
     "metadata": {},
     "output_type": "execute_result"
    }
   ],
   "source": [
    "overviews = ds[\"overview\"]\n",
    "print(len(overviews))\n",
    "overviews[:5]"
   ]
  },
  {
   "cell_type": "code",
   "execution_count": 8,
   "id": "003b2d90",
   "metadata": {},
   "outputs": [
    {
     "data": {
      "text/plain": [
       "{'budget': Value(dtype='int64', id=None),\n",
       " 'genres': Sequence(feature=Value(dtype='string', id=None), length=-1, id=None),\n",
       " 'keywords': Sequence(feature=Value(dtype='string', id=None), length=-1, id=None),\n",
       " 'original_language': Value(dtype='string', id=None),\n",
       " 'overview': Value(dtype='string', id=None),\n",
       " 'popularity': Value(dtype='float64', id=None),\n",
       " 'release_date': Value(dtype='date32', id=None),\n",
       " 'revenue': Value(dtype='int64', id=None),\n",
       " 'runtime': Value(dtype='float64', id=None),\n",
       " 'spoken_languages': Sequence(feature=Value(dtype='string', id=None), length=-1, id=None),\n",
       " 'title': Value(dtype='string', id=None),\n",
       " 'cast': [{'character': Value(dtype='string', id=None),\n",
       "   'name': Value(dtype='string', id=None)}],\n",
       " 'release_year': Value(dtype='int64', id=None)}"
      ]
     },
     "execution_count": 8,
     "metadata": {},
     "output_type": "execute_result"
    }
   ],
   "source": [
    "ds.features"
   ]
  },
  {
   "cell_type": "markdown",
   "id": "18a04fca",
   "metadata": {},
   "source": [
    "## sentence-transformers"
   ]
  },
  {
   "cell_type": "code",
   "execution_count": 11,
   "id": "22fe5039",
   "metadata": {},
   "outputs": [
    {
     "data": {
      "text/plain": [
       "array([ 0.07971882, -0.22588535, -0.08258647, -0.06734925,  0.0794584 ],\n",
       "      dtype=float32)"
      ]
     },
     "execution_count": 11,
     "metadata": {},
     "output_type": "execute_result"
    }
   ],
   "source": [
    "overview_embeddings = embedder.encode(overviews)\n",
    "overview_embeddings[0][:5]"
   ]
  },
  {
   "cell_type": "code",
   "execution_count": 12,
   "id": "24ccd446",
   "metadata": {},
   "outputs": [
    {
     "data": {
      "application/vnd.microsoft.datawrangler.viewer.v0+json": {
       "columns": [
        {
         "name": "index",
         "rawType": "object",
         "type": "string"
        },
        {
         "name": "0",
         "rawType": "object",
         "type": "unknown"
        }
       ],
       "ref": "0d82e949-a6ab-4c48-8f1d-e0a2bb38a5d9",
       "rows": [
        [
         "budget",
         "4000000"
        ],
        [
         "genres",
         "['Crime' 'Comedy']"
        ],
        [
         "keywords",
         "['hotel' \"new year's eve\" 'witch' 'bet' 'hotel room' 'sperm' 'los angeles'\n 'hoodlum' 'woman director' 'episode film']"
        ],
        [
         "original_language",
         "en"
        ],
        [
         "overview",
         "It's Ted the Bellhop's first night on the job...and the hotel's very unusual guests are about to place him in some outrageous predicaments. It seems that this evening's room service is serving up one unbelievable happening after another."
        ],
        [
         "popularity",
         "22.87623"
        ],
        [
         "release_date",
         "1995-12-09"
        ],
        [
         "revenue",
         "4300000"
        ],
        [
         "runtime",
         "98.0"
        ],
        [
         "spoken_languages",
         "['English']"
        ],
        [
         "title",
         "Four Rooms"
        ],
        [
         "cast",
         "[{'character': 'Ted the Bellhop', 'name': 'Tim Roth'}\n {'character': 'Man', 'name': 'Antonio Banderas'}\n {'character': 'Angela', 'name': 'Jennifer Beals'}\n {'character': 'Elspeth', 'name': 'Madonna'}\n {'character': 'Margaret', 'name': 'Marisa Tomei'}\n {'character': 'Leo', 'name': 'Bruce Willis'}\n {'character': 'Chester Rush', 'name': 'Quentin Tarantino'}\n {'character': 'Jezebel', 'name': 'Sammi Davis'}\n {'character': 'Diana', 'name': 'Amanda de Cadenet'}\n {'character': 'Athena', 'name': 'Valeria Golino'}\n {'character': 'Raven', 'name': 'Lili Taylor'}\n {'character': 'Long Hair Yuppy Scum', 'name': 'Lawrence Bender'}\n {'character': 'Eva', 'name': 'Ione Skye'}\n {'character': 'Kiva', 'name': 'Alicia Witt'}\n {'character': 'Siegfried', 'name': 'David Proval'}\n {'character': 'Sarah', 'name': 'Lana McKissack'}\n {'character': 'Wife', 'name': 'Tamlyn Tomita'}\n {'character': 'Betty', 'name': 'Kathy Griffin'}\n {'character': 'Norman', 'name': 'Paul Calderon'}\n {'character': 'TV Dancing Girl', 'name': 'Salma Hayek'}\n {'character': 'Corpse', 'name': 'Patricia Vonne'}\n {'character': 'Juancho', 'name': 'Danny Verduzco'}\n {'character': 'Hooker', 'name': 'Kimberly Blair'}\n {'character': 'Sam the Bellhop', 'name': 'Marc Lawrence'}]"
        ],
        [
         "release_year",
         "1995"
        ],
        [
         "vector",
         "[0.07971882075071335, -0.22588534653186798, -0.08258646726608276, -0.06734924763441086, 0.07945840060710907, -0.0077929068356752396, 0.20818649232387543, -0.05983145907521248, 0.37639644742012024, 0.15994125604629517, -0.03390928730368614, 0.557076632976532, -0.2832843065261841, 0.07294664531946182, -0.06037349998950958, 0.035015787929296494, 0.04075496271252632, -0.14458410441875458, -0.06307351589202881, 0.484988272190094, -0.0035080518573522568, -0.1593170017004013, 0.024108877405524254, 0.39136818051338196, 0.12227243930101395, -0.10958606749773026, 0.3602820336818695, -0.14865131676197052, -0.3392030894756317, -0.3866499364376068, -0.3291855454444885, -0.004170011263340712, -0.02511667273938656, 0.10739908367395401, 0.22779464721679688, 0.07729756832122803, 0.19648334383964539, 0.09722363203763962, 0.06259569525718689, 0.19326594471931458, 0.15396787226200104, -0.11439710110425949, 0.0071198586374521255, 0.009638805873692036, -0.2516464293003082, 0.04700208082795143, -0.08753163367509842, 0.030516522005200386, -0.05551803857088089, 0.04095613211393356, 0.04564269632101059, 0.24446822702884674, -0.1134914979338646, -0.0849655345082283, -0.3540255129337311, -0.028869403526186943, 0.1769842803478241, 0.1587352156639099, -0.21263235807418823, 0.2724984586238861, 0.12742380797863007, 0.007504205219447613, -0.351890504360199, 0.204241544008255, -0.18355022370815277, 0.27082085609436035, -0.38788923621177673, -0.22341716289520264, -0.06142066791653633, 0.12052159756422043, 0.002140152733772993, -0.05371638759970665, -0.15430358052253723, -0.13308677077293396, 0.41069257259368896, -0.04140356555581093, -0.054771602153778076, -0.05415654554963112, 0.1254846155643463, -0.045016098767519, 0.03460722044110298, -0.2604438066482544, -0.174565851688385, 0.05583005025982857, -0.14313583076000214, 0.2041950821876526, 0.1683356612920761, -0.02496124990284443, 0.15503840148448944, -0.12457010895013809, -0.3307628035545349, -0.10738862305879593, 0.044761959463357925, 0.1525128334760666, 0.04114758223295212, -0.19631768763065338, 0.01345714833587408, 0.2304171323776245, -0.04921664670109749, 0.18146824836730957, 0.24550098180770874, 0.2352083921432495, 0.21234968304634094, -0.006722653284668922, 0.3789942264556885, -0.1989675760269165, 0.42399361729621887, -0.049448005855083466, 0.23104694485664368, -0.2020796835422516, -0.22950223088264465, 0.2593306303024292, -0.052244286984205246, -0.08267257362604141, -0.015732280910015106, 0.4147844910621643, -0.1297042965888977, 0.3965553045272827, -0.1734231412410736, 0.10919779539108276, 0.21294787526130676, 0.24424012005329132, 0.15548650920391083, 0.09748884290456772, -0.3921149969100952, -0.0692485123872757, 0.0049073901027441025, -0.13128051161766052, -0.07686994969844818, 0.023062147200107574, -0.29079824686050415, 0.21027377247810364, 0.5114415884017944, 0.47735339403152466, -0.25804269313812256, 0.027386905625462532, 0.48514440655708313, 0.4225556254386902, 0.06716358661651611, -0.09250843524932861, 0.0421169176697731, 0.3392316997051239, -0.34082913398742676, 0.016438119113445282, -0.1495255082845688, -0.10896877944469452, -0.30691879987716675, -0.22758705914020538, -0.5530033707618713, 0.12222521007061005, -0.01936013251543045, 0.15949124097824097, 0.18055570125579834, 0.2993384003639221, -0.036926187574863434, 0.20538367331027985, 0.13201382756233215, 0.14566999673843384, -0.04178624227643013, 0.10990280658006668, 0.132608100771904, 0.1648932248353958, -0.056244026869535446, -0.13818980753421783, 0.1068742647767067, -0.2570233643054962, 0.036627091467380524, -0.04132019355893135, -0.2288857251405716, -0.11643486469984055, -0.23446324467658997, -0.0019206322031095624, -0.4587150514125824, -0.214040145277977, 0.0870097428560257, -0.04669125750660896, 0.26183196902275085, 0.26722362637519836, -0.11966503411531448, -0.12457017600536346, -0.0044945478439331055, 0.11523444950580597, 0.0027167864609509706, -0.35554856061935425, 0.04372221603989601, -0.1881127953529358, 0.3828122615814209, -0.038803961127996445, 0.3547714948654175, -0.29238879680633545, -0.13420432806015015, 0.04577912017703056, 0.12741734087467194, -0.1224018782377243, 0.15670469403266907, -0.08408962190151215, 0.11051448434591293, -0.4563654363155365, 0.05787660926580429, -0.03390905261039734, -0.41157910227775574, -0.5178021192550659, -0.1361708790063858, 0.05521119385957718, -0.012457315810024738, 0.006121006328612566, -0.09181400388479233, 0.022166365757584572, 0.12381913512945175, -0.002585434587672353, 0.23458944261074066, -0.28931865096092224, -0.21378716826438904, 0.3283578157424927, 0.15041275322437286, 0.18115626275539398, -0.08594515919685364, 0.12724417448043823, -0.03584964945912361, -0.23626582324504852, 0.08934175223112106, 0.10107149928808212, 0.2682177722454071, -0.4138011336326599, -0.05725564435124397, -0.2744762599468231, -0.061312198638916016, -0.2327292561531067, 0.27083852887153625, -0.031826578080654144, -0.0663381814956665, 0.02364354021847248, -0.04835043102502823, 0.05054868757724762, -0.2592155337333679, 0.10230375081300735, -0.03036123886704445, -0.06673538684844971, 0.05752474069595337, 0.039563603699207306, 0.00896115880459547, -0.09069125354290009, -0.14212673902511597, 0.25010615587234497, 0.5539062023162842, 0.0331583172082901, -0.2862437963485718, -0.17021021246910095, -0.11112207174301147, 0.4016649127006531, 0.28222036361694336, -0.09080558270215988, -0.31594470143318176, -0.039743002504110336, -0.2989825904369354, 0.291841983795166, -0.2548072040081024, 0.12087361514568329, 0.08249446004629135, 0.379043847322464, 0.04676363989710808, 0.1474916934967041, -0.22645185887813568, -0.46177926659584045, 0.3060254156589508, -0.12001346796751022, -0.008142944425344467, 0.17496059834957123, 0.2777249217033386, -0.4020270109176636, -0.36413896083831787, -0.24689647555351257, -0.08676525950431824, 0.06555518507957458, -0.1678411066532135, -0.12165256589651108, -0.10200516134500504, -0.15552961826324463, -0.23837397992610931, 0.29634180665016174, -0.32960355281829834, -0.09783466160297394, 0.17010994255542755, 0.2693624794483185, 0.2519293427467346, -0.21289443969726562, 0.06771363317966461, -0.09824085235595703, 0.1041753813624382, 0.029228173196315765, -0.2790766656398773, 0.13491617143154144, 0.1350858211517334, 0.17911683022975922, 0.02623489499092102, 0.07651693373918533, -0.05751509591937065, 0.014907865785062313, 0.049007222056388855, 0.42766571044921875, 0.018501395359635353, 0.1677570790052414, -0.11307497322559357, -0.42465999722480774, 0.06866799294948578, -0.09450479596853256, -0.1541096270084381, 0.09608053416013718, -0.10386807471513748, 0.12596359848976135, 0.5959838032722473, 0.10438644886016846, -0.12124365568161011, 0.10595052689313889, -0.013216852210462093, -0.02948775514960289, 0.003987779375165701, 0.09091394394636154, 0.2630581259727478, -0.41844677925109863, -0.08664698898792267, -0.14582189917564392, -0.19318272173404694, -0.20290416479110718, 0.08537851274013519, -0.2901509404182434, -0.23012375831604004, 0.07665622979402542, -0.34067022800445557, 0.021670853719115257, 0.04361356049776077, 0.035139814019203186, 0.3220725655555725, 0.11356526613235474, 0.12797501683235168, 0.09324733912944794, -0.42656999826431274, -0.06629040092229843, -0.13159731030464172, -0.010708757676184177, 0.34784573316574097, 0.11699530482292175, 0.307637482881546, 0.005334774032235146, 0.11200731992721558, 0.43168169260025024, -0.24036285281181335, 0.055196613073349, 0.14187970757484436, 0.10818883776664734, -0.2297753542661667, 0.10818096250295639, -0.33994802832603455, 0.14310669898986816, 0.12730972468852997, 0.1334974616765976, -0.007411282509565353, -0.10243184864521027, 0.21119055151939392, -0.36206483840942383, 0.05464770644903183, -0.16733504831790924, -0.464568167924881, 0.33908355236053467, 0.12294444441795349, 0.03354525938630104, -0.1198161244392395, 0.11926009505987167, -0.2433997392654419, 0.014045683667063713, -0.09763094037771225, 0.07893910259008408, -0.06705872714519501, -0.05982670933008194, 0.38599127531051636, -0.4216717779636383, 0.1523781269788742, 0.08692523092031479, -0.1965702772140503, -0.08151260018348694, -0.05700145289301872, -0.017368869855999947, -0.36394938826560974, -0.09018796682357788]"
        ]
       ],
       "shape": {
        "columns": 1,
        "rows": 14
       }
      },
      "text/plain": [
       "budget               4000000                                                                                                                                                                                                                                                                                                                                                                                                                                                                                                                                                                                                                                                                                                                                                                                                                                                                                                                                                                                                                                                                                                                                                                                                                                                                                                                                                                                                                                                                                                                                                                                                                                                                                                                                                                                                                                                                                                                                                                                                                                                                                                                                                                                                                   \n",
       "genres               [Crime, Comedy]                                                                                                                                                                                                                                                                                                                                                                                                                                                                                                                                                                                                                                                                                                                                                                                                                                                                                                                                                                                                                                                                                                                                                                                                                                                                                                                                                                                                                                                                                                                                                                                                                                                                                                                                                                                                                                                                                                                                                                                                                                                                                                                                                                                                           \n",
       "keywords             [hotel, new year's eve, witch, bet, hotel room, sperm, los angeles, hoodlum, woman director, episode film]                                                                                                                                                                                                                                                                                                                                                                                                                                                                                                                                                                                                                                                                                                                                                                                                                                                                                                                                                                                                                                                                                                                                                                                                                                                                                                                                                                                                                                                                                                                                                                                                                                                                                                                                                                                                                                                                                                                                                                                                                                                                                                                \n",
       "original_language    en                                                                                                                                                                                                                                                                                                                                                                                                                                                                                                                                                                                                                                                                                                                                                                                                                                                                                                                                                                                                                                                                                                                                                                                                                                                                                                                                                                                                                                                                                                                                                                                                                                                                                                                                                                                                                                                                                                                                                                                                                                                                                                                                                                                                                        \n",
       "overview             It's Ted the Bellhop's first night on the job...and the hotel's very unusual guests are about to place him in some outrageous predicaments. It seems that this evening's room service is serving up one unbelievable happening after another.                                                                                                                                                                                                                                                                                                                                                                                                                                                                                                                                                                                                                                                                                                                                                                                                                                                                                                                                                                                                                                                                                                                                                                                                                                                                                                                                                                                                                                                                                                                                                                                                                                                                                                                                                                                                                                                                                                                                                                             \n",
       "popularity           22.87623                                                                                                                                                                                                                                                                                                                                                                                                                                                                                                                                                                                                                                                                                                                                                                                                                                                                                                                                                                                                                                                                                                                                                                                                                                                                                                                                                                                                                                                                                                                                                                                                                                                                                                                                                                                                                                                                                                                                                                                                                                                                                                                                                                                                                  \n",
       "release_date         1995-12-09                                                                                                                                                                                                                                                                                                                                                                                                                                                                                                                                                                                                                                                                                                                                                                                                                                                                                                                                                                                                                                                                                                                                                                                                                                                                                                                                                                                                                                                                                                                                                                                                                                                                                                                                                                                                                                                                                                                                                                                                                                                                                                                                                                                                                \n",
       "revenue              4300000                                                                                                                                                                                                                                                                                                                                                                                                                                                                                                                                                                                                                                                                                                                                                                                                                                                                                                                                                                                                                                                                                                                                                                                                                                                                                                                                                                                                                                                                                                                                                                                                                                                                                                                                                                                                                                                                                                                                                                                                                                                                                                                                                                                                                   \n",
       "runtime              98.0                                                                                                                                                                                                                                                                                                                                                                                                                                                                                                                                                                                                                                                                                                                                                                                                                                                                                                                                                                                                                                                                                                                                                                                                                                                                                                                                                                                                                                                                                                                                                                                                                                                                                                                                                                                                                                                                                                                                                                                                                                                                                                                                                                                                                      \n",
       "spoken_languages     [English]                                                                                                                                                                                                                                                                                                                                                                                                                                                                                                                                                                                                                                                                                                                                                                                                                                                                                                                                                                                                                                                                                                                                                                                                                                                                                                                                                                                                                                                                                                                                                                                                                                                                                                                                                                                                                                                                                                                                                                                                                                                                                                                                                                                                                 \n",
       "title                Four Rooms                                                                                                                                                                                                                                                                                                                                                                                                                                                                                                                                                                                                                                                                                                                                                                                                                                                                                                                                                                                                                                                                                                                                                                                                                                                                                                                                                                                                                                                                                                                                                                                                                                                                                                                                                                                                                                                                                                                                                                                                                                                                                                                                                                                                                \n",
       "cast                 [{'character': 'Ted the Bellhop', 'name': 'Tim Roth'}, {'character': 'Man', 'name': 'Antonio Banderas'}, {'character': 'Angela', 'name': 'Jennifer Beals'}, {'character': 'Elspeth', 'name': 'Madonna'}, {'character': 'Margaret', 'name': 'Marisa Tomei'}, {'character': 'Leo', 'name': 'Bruce Willis'}, {'character': 'Chester Rush', 'name': 'Quentin Tarantino'}, {'character': 'Jezebel', 'name': 'Sammi Davis'}, {'character': 'Diana', 'name': 'Amanda de Cadenet'}, {'character': 'Athena', 'name': 'Valeria Golino'}, {'character': 'Raven', 'name': 'Lili Taylor'}, {'character': 'Long Hair Yuppy Scum', 'name': 'Lawrence Bender'}, {'character': 'Eva', 'name': 'Ione Skye'}, {'character': 'Kiva', 'name': 'Alicia Witt'}, {'character': 'Siegfried', 'name': 'David Proval'}, {'character': 'Sarah', 'name': 'Lana McKissack'}, {'character': 'Wife', 'name': 'Tamlyn Tomita'}, {'character': 'Betty', 'name': 'Kathy Griffin'}, {'character': 'Norman', 'name': 'Paul Calderon'}, {'character': 'TV Dancing Girl', 'name': 'Salma Hayek'}, {'character': 'Corpse', 'name': 'Patricia Vonne'}, {'character': 'Juancho', 'name': 'Danny Verduzco'}, {'character': 'Hooker', 'name': 'Kimberly Blair'}, {'character': 'Sam the Bellhop', 'name': 'Marc Lawrence'}]                                                                                                                                                                                                                                                                                                                                                                                                                                                                                                                                                                                                                                                                                                                                                                                                                                                                                                                                           \n",
       "release_year         1995                                                                                                                                                                                                                                                                                                                                                                                                                                                                                                                                                                                                                                                                                                                                                                                                                                                                                                                                                                                                                                                                                                                                                                                                                                                                                                                                                                                                                                                                                                                                                                                                                                                                                                                                                                                                                                                                                                                                                                                                                                                                                                                                                                                                                      \n",
       "vector               [0.07971882075071335, -0.22588534653186798, -0.08258646726608276, -0.06734924763441086, 0.07945840060710907, -0.0077929068356752396, 0.20818649232387543, -0.05983145907521248, 0.37639644742012024, 0.15994125604629517, -0.03390928730368614, 0.557076632976532, -0.2832843065261841, 0.07294664531946182, -0.06037349998950958, 0.035015787929296494, 0.04075496271252632, -0.14458410441875458, -0.06307351589202881, 0.484988272190094, -0.0035080518573522568, -0.1593170017004013, 0.024108877405524254, 0.39136818051338196, 0.12227243930101395, -0.10958606749773026, 0.3602820336818695, -0.14865131676197052, -0.3392030894756317, -0.3866499364376068, -0.3291855454444885, -0.004170011263340712, -0.02511667273938656, 0.10739908367395401, 0.22779464721679688, 0.07729756832122803, 0.19648334383964539, 0.09722363203763962, 0.06259569525718689, 0.19326594471931458, 0.15396787226200104, -0.11439710110425949, 0.0071198586374521255, 0.009638805873692036, -0.2516464293003082, 0.04700208082795143, -0.08753163367509842, 0.030516522005200386, -0.05551803857088089, 0.04095613211393356, 0.04564269632101059, 0.24446822702884674, -0.1134914979338646, -0.0849655345082283, -0.3540255129337311, -0.028869403526186943, 0.1769842803478241, 0.1587352156639099, -0.21263235807418823, 0.2724984586238861, 0.12742380797863007, 0.007504205219447613, -0.351890504360199, 0.204241544008255, -0.18355022370815277, 0.27082085609436035, -0.38788923621177673, -0.22341716289520264, -0.06142066791653633, 0.12052159756422043, 0.002140152733772993, -0.05371638759970665, -0.15430358052253723, -0.13308677077293396, 0.41069257259368896, -0.04140356555581093, -0.054771602153778076, -0.05415654554963112, 0.1254846155643463, -0.045016098767519, 0.03460722044110298, -0.2604438066482544, -0.174565851688385, 0.05583005025982857, -0.14313583076000214, 0.2041950821876526, 0.1683356612920761, -0.02496124990284443, 0.15503840148448944, -0.12457010895013809, -0.3307628035545349, -0.10738862305879593, 0.044761959463357925, 0.1525128334760666, 0.04114758223295212, -0.19631768763065338, 0.01345714833587408, 0.2304171323776245, -0.04921664670109749, 0.18146824836730957, ...]\n",
       "Name: 0, dtype: object"
      ]
     },
     "execution_count": 12,
     "metadata": {},
     "output_type": "execute_result"
    }
   ],
   "source": [
    "df = ds.to_pandas()\n",
    "df[\"vector\"] = overview_embeddings.tolist()\n",
    "df.iloc[0]"
   ]
  },
  {
   "cell_type": "code",
   "execution_count": 13,
   "id": "81baa734",
   "metadata": {},
   "outputs": [],
   "source": [
    "db = lancedb.connect(\"./data/lance_db\")"
   ]
  },
  {
   "cell_type": "code",
   "execution_count": 14,
   "id": "c62247de",
   "metadata": {},
   "outputs": [
    {
     "name": "stderr",
     "output_type": "stream",
     "text": [
      "\u001b[90m[\u001b[0m2025-05-21T01:39:20Z \u001b[33mWARN \u001b[0m lance::dataset::write::insert\u001b[90m]\u001b[0m No existing dataset at /home/richlian/github/genai4humanities-wk14/data/lance_db/movies.lance, it will be created\n"
     ]
    }
   ],
   "source": [
    "tbl = db.create_table(\"movies\", data=df, mode=\"overwrite\")"
   ]
  },
  {
   "cell_type": "markdown",
   "id": "33b827c2",
   "metadata": {},
   "source": [
    "#### Save results to Google Drive"
   ]
  },
  {
   "cell_type": "code",
   "execution_count": null,
   "id": "2d4bad0e",
   "metadata": {},
   "outputs": [],
   "source": [
    "from google.colab import drive\n",
    "\n",
    "drive.mount(\"/content/drive\")\n",
    "!mkdir -p \"/content/drive/My Drive/genai4h-wk14\"\n",
    "!cp -r \"./data/tmdb-5000-movies\" \"/content/drive/My Drive/genai4h-wk14/\""
   ]
  },
  {
   "cell_type": "markdown",
   "id": "8b9c6293",
   "metadata": {},
   "source": [
    "### OpenAI\n",
    "\n",
    "[Slow embeddings?](https://community.openai.com/t/embeddings-api-extremely-slow/1135044)"
   ]
  },
  {
   "cell_type": "code",
   "execution_count": 30,
   "id": "ac2d6e0c",
   "metadata": {},
   "outputs": [
    {
     "data": {
      "text/plain": [
       "(311562, 0.00623124)"
      ]
     },
     "execution_count": 30,
     "metadata": {},
     "output_type": "execute_result"
    }
   ],
   "source": [
    "overviews = ds[\"overview\"]\n",
    "get_token_count_and_price(overviews, model=\"text-embedding-3-small\")"
   ]
  },
  {
   "cell_type": "code",
   "execution_count": null,
   "id": "6ad0b508",
   "metadata": {},
   "outputs": [],
   "source": [
    "_overview_embeddings = await asyncio.gather(\n",
    "    *[\n",
    "        embedding_with_backoff(input=overview, model=\"text-embedding-3-small\")\n",
    "        # client.embeddings.create(input=overview, model=\"text-embedding-3-small\")\n",
    "        for overview in overviews\n",
    "    ]\n",
    ")\n",
    "overview_embeddings = [\n",
    "    embedding.data[0].embedding for embedding in _overview_embeddings\n",
    "]\n",
    "overview_embeddings[0][:5]"
   ]
  },
  {
   "cell_type": "code",
   "execution_count": null,
   "id": "6abc1ebf",
   "metadata": {},
   "outputs": [],
   "source": [
    "df = ds.to_pandas()\n",
    "df[\"vector\"] = overview_embeddings"
   ]
  },
  {
   "cell_type": "markdown",
   "id": "1407a00a",
   "metadata": {},
   "source": [
    "# Retrieval augmented generation (RAG)\n",
    "\n",
    "* [Vector search](https://lancedb.github.io/lancedb/search/)\n",
    "* [Hybrid search](https://lancedb.github.io/lancedb/hybrid_search/hybrid_search/)\n",
    "* [Keyword search](https://lancedb.github.io/lancedb/fts/)  (needs tokenization)\n",
    "\n",
    "Hybrid and keyword search may not work as well for cross lingual search."
   ]
  },
  {
   "cell_type": "markdown",
   "id": "45e9cfb6",
   "metadata": {},
   "source": [
    "## Load embedding model\n",
    "<div class=\"alert alert-block alert-warning\">\n",
    "⚠️ Must use the same model as the one used to create the embeddings\n",
    "</div>"
   ]
  },
  {
   "cell_type": "code",
   "execution_count": null,
   "id": "29394288",
   "metadata": {},
   "outputs": [],
   "source": [
    "embedder = SentenceTransformer(\n",
    "    \"sentence-transformers/paraphrase-multilingual-MiniLM-L12-v2\",\n",
    "    device=\"cpu\",\n",
    ")"
   ]
  },
  {
   "cell_type": "code",
   "execution_count": 15,
   "id": "db8465c0",
   "metadata": {},
   "outputs": [],
   "source": [
    "db = lancedb.connect(\"./data/lance_db/\")\n",
    "tbl = db.open_table(\"movies\")\n",
    "tbl.create_fts_index(\"overview\", replace=True)"
   ]
  },
  {
   "cell_type": "markdown",
   "id": "9bba6289",
   "metadata": {},
   "source": [
    "## Embed the query"
   ]
  },
  {
   "cell_type": "code",
   "execution_count": 13,
   "id": "e97347cd",
   "metadata": {},
   "outputs": [
    {
     "name": "stdout",
     "output_type": "stream",
     "text": [
      "384 384\n",
      "[-0.32662207 -0.63097787  0.14315039 -0.11667649  0.03020003] [-0.23116109 -0.4500395   0.09482061  0.01837618 -0.08190724]\n"
     ]
    }
   ],
   "source": [
    "q_en = \"I want to watch a romantic comedy\"\n",
    "q_zh = \"我想看一部浪漫喜劇\"\n",
    "\n",
    "q_en_embedding = embedder.encode(q_en)\n",
    "q_zh_embedding = embedder.encode(q_zh)\n",
    "print(len(q_en_embedding), len(q_zh_embedding))\n",
    "print(q_en_embedding[:5], q_zh_embedding[:5])"
   ]
  },
  {
   "cell_type": "markdown",
   "id": "28acf177",
   "metadata": {},
   "source": [
    "## Querying the database"
   ]
  },
  {
   "cell_type": "code",
   "execution_count": 16,
   "id": "d6636e8b",
   "metadata": {},
   "outputs": [
    {
     "data": {
      "text/plain": [
       "array([ 0.3624173 , -0.39165464,  0.6183053 ,  0.5983386 ,  1.8258102 ,\n",
       "        0.33074635,  1.4305156 , -0.64978415, -1.469294  ,  1.6759685 ],\n",
       "      dtype=float32)"
      ]
     },
     "execution_count": 16,
     "metadata": {},
     "output_type": "execute_result"
    }
   ],
   "source": [
    "random_vector = torch.randn(10).numpy()\n",
    "random_vector"
   ]
  },
  {
   "cell_type": "markdown",
   "id": "5a80c923",
   "metadata": {},
   "source": [
    "<div class=\"alert alert-block alert-warning\">\n",
    "⚠️ This will fail because the embedding dimension does not match 👇"
   ]
  },
  {
   "cell_type": "code",
   "execution_count": 18,
   "id": "900077a6",
   "metadata": {},
   "outputs": [
    {
     "ename": "RuntimeError",
     "evalue": "lance error: Invalid user input: query dim(10) doesn't match the column vector vector dim(384), /root/.cargo/registry/src/index.crates.io-6f17d22bba15001f/lance-0.26.0/src/dataset/scanner.rs:756:25",
     "output_type": "error",
     "traceback": [
      "\u001b[31m---------------------------------------------------------------------------\u001b[39m",
      "\u001b[31mRuntimeError\u001b[39m                              Traceback (most recent call last)",
      "\u001b[36mCell\u001b[39m\u001b[36m \u001b[39m\u001b[32mIn[18]\u001b[39m\u001b[32m, line 1\u001b[39m\n\u001b[32m----> \u001b[39m\u001b[32m1\u001b[39m \u001b[43mtbl\u001b[49m\u001b[43m.\u001b[49m\u001b[43msearch\u001b[49m\u001b[43m(\u001b[49m\u001b[43mrandom_vector\u001b[49m\u001b[43m)\u001b[49m\u001b[43m.\u001b[49m\u001b[43mlimit\u001b[49m\u001b[43m(\u001b[49m\u001b[32;43m5\u001b[39;49m\u001b[43m)\u001b[49m\u001b[43m.\u001b[49m\u001b[43mto_pandas\u001b[49m\u001b[43m(\u001b[49m\u001b[43m)\u001b[49m\n",
      "\u001b[36mFile \u001b[39m\u001b[32m~/github/genai4humanities-wk14/.venv/lib/python3.11/site-packages/lancedb/query.py:683\u001b[39m, in \u001b[36mLanceQueryBuilder.to_pandas\u001b[39m\u001b[34m(self, flatten, timeout)\u001b[39m\n\u001b[32m    660\u001b[39m \u001b[38;5;28;01mdef\u001b[39;00m\u001b[38;5;250m \u001b[39m\u001b[34mto_pandas\u001b[39m(\n\u001b[32m    661\u001b[39m     \u001b[38;5;28mself\u001b[39m,\n\u001b[32m    662\u001b[39m     flatten: Optional[Union[\u001b[38;5;28mint\u001b[39m, \u001b[38;5;28mbool\u001b[39m]] = \u001b[38;5;28;01mNone\u001b[39;00m,\n\u001b[32m    663\u001b[39m     *,\n\u001b[32m    664\u001b[39m     timeout: Optional[timedelta] = \u001b[38;5;28;01mNone\u001b[39;00m,\n\u001b[32m    665\u001b[39m ) -> \u001b[33m\"\u001b[39m\u001b[33mpd.DataFrame\u001b[39m\u001b[33m\"\u001b[39m:\n\u001b[32m    666\u001b[39m \u001b[38;5;250m    \u001b[39m\u001b[33;03m\"\"\"\u001b[39;00m\n\u001b[32m    667\u001b[39m \u001b[33;03m    Execute the query and return the results as a pandas DataFrame.\u001b[39;00m\n\u001b[32m    668\u001b[39m \u001b[33;03m    In addition to the selected columns, LanceDB also returns a vector\u001b[39;00m\n\u001b[32m   (...)\u001b[39m\u001b[32m    681\u001b[39m \u001b[33;03m        If None, wait indefinitely.\u001b[39;00m\n\u001b[32m    682\u001b[39m \u001b[33;03m    \"\"\"\u001b[39;00m\n\u001b[32m--> \u001b[39m\u001b[32m683\u001b[39m     tbl = flatten_columns(\u001b[38;5;28;43mself\u001b[39;49m\u001b[43m.\u001b[49m\u001b[43mto_arrow\u001b[49m\u001b[43m(\u001b[49m\u001b[43mtimeout\u001b[49m\u001b[43m=\u001b[49m\u001b[43mtimeout\u001b[49m\u001b[43m)\u001b[49m, flatten)\n\u001b[32m    684\u001b[39m     \u001b[38;5;28;01mreturn\u001b[39;00m tbl.to_pandas()\n",
      "\u001b[36mFile \u001b[39m\u001b[32m~/github/genai4humanities-wk14/.venv/lib/python3.11/site-packages/lancedb/query.py:1209\u001b[39m, in \u001b[36mLanceVectorQueryBuilder.to_arrow\u001b[39m\u001b[34m(self, timeout)\u001b[39m\n\u001b[32m   1194\u001b[39m \u001b[38;5;28;01mdef\u001b[39;00m\u001b[38;5;250m \u001b[39m\u001b[34mto_arrow\u001b[39m(\u001b[38;5;28mself\u001b[39m, *, timeout: Optional[timedelta] = \u001b[38;5;28;01mNone\u001b[39;00m) -> pa.Table:\n\u001b[32m   1195\u001b[39m \u001b[38;5;250m    \u001b[39m\u001b[33;03m\"\"\"\u001b[39;00m\n\u001b[32m   1196\u001b[39m \u001b[33;03m    Execute the query and return the results as an\u001b[39;00m\n\u001b[32m   1197\u001b[39m \u001b[33;03m    [Apache Arrow Table](https://arrow.apache.org/docs/python/generated/pyarrow.Table.html#pyarrow.Table).\u001b[39;00m\n\u001b[32m   (...)\u001b[39m\u001b[32m   1207\u001b[39m \u001b[33;03m        If None, wait indefinitely.\u001b[39;00m\n\u001b[32m   1208\u001b[39m \u001b[33;03m    \"\"\"\u001b[39;00m\n\u001b[32m-> \u001b[39m\u001b[32m1209\u001b[39m     \u001b[38;5;28;01mreturn\u001b[39;00m \u001b[38;5;28;43mself\u001b[39;49m\u001b[43m.\u001b[49m\u001b[43mto_batches\u001b[49m\u001b[43m(\u001b[49m\u001b[43mtimeout\u001b[49m\u001b[43m=\u001b[49m\u001b[43mtimeout\u001b[49m\u001b[43m)\u001b[49m.read_all()\n",
      "\u001b[36mFile \u001b[39m\u001b[32m~/github/genai4humanities-wk14/.venv/lib/python3.11/site-packages/lancedb/query.py:1265\u001b[39m, in \u001b[36mLanceVectorQueryBuilder.to_batches\u001b[39m\u001b[34m(self, batch_size, timeout)\u001b[39m\n\u001b[32m   1263\u001b[39m     vector = [v.tolist() \u001b[38;5;28;01mfor\u001b[39;00m v \u001b[38;5;129;01min\u001b[39;00m vector]\n\u001b[32m   1264\u001b[39m query = \u001b[38;5;28mself\u001b[39m.to_query_object()\n\u001b[32m-> \u001b[39m\u001b[32m1265\u001b[39m result_set = \u001b[38;5;28;43mself\u001b[39;49m\u001b[43m.\u001b[49m\u001b[43m_table\u001b[49m\u001b[43m.\u001b[49m\u001b[43m_execute_query\u001b[49m\u001b[43m(\u001b[49m\n\u001b[32m   1266\u001b[39m \u001b[43m    \u001b[49m\u001b[43mquery\u001b[49m\u001b[43m,\u001b[49m\u001b[43m \u001b[49m\u001b[43mbatch_size\u001b[49m\u001b[43m=\u001b[49m\u001b[43mbatch_size\u001b[49m\u001b[43m,\u001b[49m\u001b[43m \u001b[49m\u001b[43mtimeout\u001b[49m\u001b[43m=\u001b[49m\u001b[43mtimeout\u001b[49m\n\u001b[32m   1267\u001b[39m \u001b[43m\u001b[49m\u001b[43m)\u001b[49m\n\u001b[32m   1268\u001b[39m \u001b[38;5;28;01mif\u001b[39;00m \u001b[38;5;28mself\u001b[39m._reranker \u001b[38;5;129;01mis\u001b[39;00m \u001b[38;5;129;01mnot\u001b[39;00m \u001b[38;5;28;01mNone\u001b[39;00m:\n\u001b[32m   1269\u001b[39m     rs_table = result_set.read_all()\n",
      "\u001b[36mFile \u001b[39m\u001b[32m~/github/genai4humanities-wk14/.venv/lib/python3.11/site-packages/lancedb/table.py:2381\u001b[39m, in \u001b[36mLanceTable._execute_query\u001b[39m\u001b[34m(self, query, batch_size, timeout)\u001b[39m\n\u001b[32m   2374\u001b[39m \u001b[38;5;28;01mdef\u001b[39;00m\u001b[38;5;250m \u001b[39m\u001b[34m_execute_query\u001b[39m(\n\u001b[32m   2375\u001b[39m     \u001b[38;5;28mself\u001b[39m,\n\u001b[32m   2376\u001b[39m     query: Query,\n\u001b[32m   (...)\u001b[39m\u001b[32m   2379\u001b[39m     timeout: Optional[timedelta] = \u001b[38;5;28;01mNone\u001b[39;00m,\n\u001b[32m   2380\u001b[39m ) -> pa.RecordBatchReader:\n\u001b[32m-> \u001b[39m\u001b[32m2381\u001b[39m     async_iter = \u001b[43mLOOP\u001b[49m\u001b[43m.\u001b[49m\u001b[43mrun\u001b[49m\u001b[43m(\u001b[49m\n\u001b[32m   2382\u001b[39m \u001b[43m        \u001b[49m\u001b[38;5;28;43mself\u001b[39;49m\u001b[43m.\u001b[49m\u001b[43m_table\u001b[49m\u001b[43m.\u001b[49m\u001b[43m_execute_query\u001b[49m\u001b[43m(\u001b[49m\u001b[43mquery\u001b[49m\u001b[43m,\u001b[49m\u001b[43m \u001b[49m\u001b[43mbatch_size\u001b[49m\u001b[43m=\u001b[49m\u001b[43mbatch_size\u001b[49m\u001b[43m,\u001b[49m\u001b[43m \u001b[49m\u001b[43mtimeout\u001b[49m\u001b[43m=\u001b[49m\u001b[43mtimeout\u001b[49m\u001b[43m)\u001b[49m\n\u001b[32m   2383\u001b[39m \u001b[43m    \u001b[49m\u001b[43m)\u001b[49m\n\u001b[32m   2385\u001b[39m     \u001b[38;5;28;01mdef\u001b[39;00m\u001b[38;5;250m \u001b[39m\u001b[34miter_sync\u001b[39m():\n\u001b[32m   2386\u001b[39m         \u001b[38;5;28;01mtry\u001b[39;00m:\n",
      "\u001b[36mFile \u001b[39m\u001b[32m~/github/genai4humanities-wk14/.venv/lib/python3.11/site-packages/lancedb/background_loop.py:25\u001b[39m, in \u001b[36mBackgroundEventLoop.run\u001b[39m\u001b[34m(self, future)\u001b[39m\n\u001b[32m     24\u001b[39m \u001b[38;5;28;01mdef\u001b[39;00m\u001b[38;5;250m \u001b[39m\u001b[34mrun\u001b[39m(\u001b[38;5;28mself\u001b[39m, future):\n\u001b[32m---> \u001b[39m\u001b[32m25\u001b[39m     \u001b[38;5;28;01mreturn\u001b[39;00m \u001b[43masyncio\u001b[49m\u001b[43m.\u001b[49m\u001b[43mrun_coroutine_threadsafe\u001b[49m\u001b[43m(\u001b[49m\u001b[43mfuture\u001b[49m\u001b[43m,\u001b[49m\u001b[43m \u001b[49m\u001b[38;5;28;43mself\u001b[39;49m\u001b[43m.\u001b[49m\u001b[43mloop\u001b[49m\u001b[43m)\u001b[49m\u001b[43m.\u001b[49m\u001b[43mresult\u001b[49m\u001b[43m(\u001b[49m\u001b[43m)\u001b[49m\n",
      "\u001b[36mFile \u001b[39m\u001b[32m~/.local/share/uv/python/cpython-3.11.11-linux-x86_64-gnu/lib/python3.11/concurrent/futures/_base.py:456\u001b[39m, in \u001b[36mFuture.result\u001b[39m\u001b[34m(self, timeout)\u001b[39m\n\u001b[32m    454\u001b[39m     \u001b[38;5;28;01mraise\u001b[39;00m CancelledError()\n\u001b[32m    455\u001b[39m \u001b[38;5;28;01melif\u001b[39;00m \u001b[38;5;28mself\u001b[39m._state == FINISHED:\n\u001b[32m--> \u001b[39m\u001b[32m456\u001b[39m     \u001b[38;5;28;01mreturn\u001b[39;00m \u001b[38;5;28;43mself\u001b[39;49m\u001b[43m.\u001b[49m\u001b[43m__get_result\u001b[49m\u001b[43m(\u001b[49m\u001b[43m)\u001b[49m\n\u001b[32m    457\u001b[39m \u001b[38;5;28;01melse\u001b[39;00m:\n\u001b[32m    458\u001b[39m     \u001b[38;5;28;01mraise\u001b[39;00m \u001b[38;5;167;01mTimeoutError\u001b[39;00m()\n",
      "\u001b[36mFile \u001b[39m\u001b[32m~/.local/share/uv/python/cpython-3.11.11-linux-x86_64-gnu/lib/python3.11/concurrent/futures/_base.py:401\u001b[39m, in \u001b[36mFuture.__get_result\u001b[39m\u001b[34m(self)\u001b[39m\n\u001b[32m    399\u001b[39m \u001b[38;5;28;01mif\u001b[39;00m \u001b[38;5;28mself\u001b[39m._exception:\n\u001b[32m    400\u001b[39m     \u001b[38;5;28;01mtry\u001b[39;00m:\n\u001b[32m--> \u001b[39m\u001b[32m401\u001b[39m         \u001b[38;5;28;01mraise\u001b[39;00m \u001b[38;5;28mself\u001b[39m._exception\n\u001b[32m    402\u001b[39m     \u001b[38;5;28;01mfinally\u001b[39;00m:\n\u001b[32m    403\u001b[39m         \u001b[38;5;66;03m# Break a reference cycle with the exception in self._exception\u001b[39;00m\n\u001b[32m    404\u001b[39m         \u001b[38;5;28mself\u001b[39m = \u001b[38;5;28;01mNone\u001b[39;00m\n",
      "\u001b[36mFile \u001b[39m\u001b[32m~/github/genai4humanities-wk14/.venv/lib/python3.11/site-packages/lancedb/table.py:3512\u001b[39m, in \u001b[36mAsyncTable._execute_query\u001b[39m\u001b[34m(self, query, batch_size, timeout)\u001b[39m\n\u001b[32m   3499\u001b[39m \u001b[38;5;28;01masync\u001b[39;00m \u001b[38;5;28;01mdef\u001b[39;00m\u001b[38;5;250m \u001b[39m\u001b[34m_execute_query\u001b[39m(\n\u001b[32m   3500\u001b[39m     \u001b[38;5;28mself\u001b[39m,\n\u001b[32m   3501\u001b[39m     query: Query,\n\u001b[32m   (...)\u001b[39m\u001b[32m   3507\u001b[39m     \u001b[38;5;66;03m# query to the async version of the query and run that here. This is only\u001b[39;00m\n\u001b[32m   3508\u001b[39m     \u001b[38;5;66;03m# used for that code path right now.\u001b[39;00m\n\u001b[32m   3510\u001b[39m     async_query = \u001b[38;5;28mself\u001b[39m._sync_query_to_async(query)\n\u001b[32m-> \u001b[39m\u001b[32m3512\u001b[39m     \u001b[38;5;28;01mreturn\u001b[39;00m \u001b[38;5;28;01mawait\u001b[39;00m async_query.to_batches(\n\u001b[32m   3513\u001b[39m         max_batch_length=batch_size, timeout=timeout\n\u001b[32m   3514\u001b[39m     )\n",
      "\u001b[36mFile \u001b[39m\u001b[32m~/github/genai4humanities-wk14/.venv/lib/python3.11/site-packages/lancedb/query.py:2784\u001b[39m, in \u001b[36mAsyncVectorQuery.to_batches\u001b[39m\u001b[34m(self, max_batch_length, timeout)\u001b[39m\n\u001b[32m   2778\u001b[39m \u001b[38;5;28;01masync\u001b[39;00m \u001b[38;5;28;01mdef\u001b[39;00m\u001b[38;5;250m \u001b[39m\u001b[34mto_batches\u001b[39m(\n\u001b[32m   2779\u001b[39m     \u001b[38;5;28mself\u001b[39m,\n\u001b[32m   2780\u001b[39m     *,\n\u001b[32m   2781\u001b[39m     max_batch_length: Optional[\u001b[38;5;28mint\u001b[39m] = \u001b[38;5;28;01mNone\u001b[39;00m,\n\u001b[32m   2782\u001b[39m     timeout: Optional[timedelta] = \u001b[38;5;28;01mNone\u001b[39;00m,\n\u001b[32m   2783\u001b[39m ) -> AsyncRecordBatchReader:\n\u001b[32m-> \u001b[39m\u001b[32m2784\u001b[39m     reader = \u001b[38;5;28;01mawait\u001b[39;00m \u001b[38;5;28msuper\u001b[39m().to_batches(timeout=timeout)\n\u001b[32m   2785\u001b[39m     results = pa.Table.from_batches(\u001b[38;5;28;01mawait\u001b[39;00m reader.read_all(), reader.schema)\n\u001b[32m   2786\u001b[39m     \u001b[38;5;28;01mif\u001b[39;00m \u001b[38;5;28mself\u001b[39m._reranker:\n",
      "\u001b[36mFile \u001b[39m\u001b[32m~/github/genai4humanities-wk14/.venv/lib/python3.11/site-packages/lancedb/query.py:2164\u001b[39m, in \u001b[36mAsyncQueryBase.to_batches\u001b[39m\u001b[34m(self, max_batch_length, timeout)\u001b[39m\n\u001b[32m   2141\u001b[39m \u001b[38;5;28;01masync\u001b[39;00m \u001b[38;5;28;01mdef\u001b[39;00m\u001b[38;5;250m \u001b[39m\u001b[34mto_batches\u001b[39m(\n\u001b[32m   2142\u001b[39m     \u001b[38;5;28mself\u001b[39m,\n\u001b[32m   2143\u001b[39m     *,\n\u001b[32m   2144\u001b[39m     max_batch_length: Optional[\u001b[38;5;28mint\u001b[39m] = \u001b[38;5;28;01mNone\u001b[39;00m,\n\u001b[32m   2145\u001b[39m     timeout: Optional[timedelta] = \u001b[38;5;28;01mNone\u001b[39;00m,\n\u001b[32m   2146\u001b[39m ) -> AsyncRecordBatchReader:\n\u001b[32m   2147\u001b[39m \u001b[38;5;250m    \u001b[39m\u001b[33;03m\"\"\"\u001b[39;00m\n\u001b[32m   2148\u001b[39m \u001b[33;03m    Execute the query and return the results as an Apache Arrow RecordBatchReader.\u001b[39;00m\n\u001b[32m   2149\u001b[39m \n\u001b[32m   (...)\u001b[39m\u001b[32m   2161\u001b[39m \u001b[33;03m        complete within the specified time, an error will be raised.\u001b[39;00m\n\u001b[32m   2162\u001b[39m \u001b[33;03m    \"\"\"\u001b[39;00m\n\u001b[32m   2163\u001b[39m     \u001b[38;5;28;01mreturn\u001b[39;00m AsyncRecordBatchReader(\n\u001b[32m-> \u001b[39m\u001b[32m2164\u001b[39m         \u001b[38;5;28;01mawait\u001b[39;00m \u001b[38;5;28mself\u001b[39m._inner.execute(max_batch_length, timeout)\n\u001b[32m   2165\u001b[39m     )\n",
      "\u001b[31mRuntimeError\u001b[39m: lance error: Invalid user input: query dim(10) doesn't match the column vector vector dim(384), /root/.cargo/registry/src/index.crates.io-6f17d22bba15001f/lance-0.26.0/src/dataset/scanner.rs:756:25"
     ]
    }
   ],
   "source": [
    "tbl.search(random_vector).limit(5).to_pandas()"
   ]
  },
  {
   "cell_type": "code",
   "execution_count": 22,
   "id": "8a01640b",
   "metadata": {},
   "outputs": [
    {
     "data": {
      "text/html": [
       "<div>\n",
       "<style scoped>\n",
       "    .dataframe tbody tr th:only-of-type {\n",
       "        vertical-align: middle;\n",
       "    }\n",
       "\n",
       "    .dataframe tbody tr th {\n",
       "        vertical-align: top;\n",
       "    }\n",
       "\n",
       "    .dataframe thead th {\n",
       "        text-align: right;\n",
       "    }\n",
       "</style>\n",
       "<table border=\"1\" class=\"dataframe\">\n",
       "  <thead>\n",
       "    <tr style=\"text-align: right;\">\n",
       "      <th></th>\n",
       "      <th>overview</th>\n",
       "      <th>original_title</th>\n",
       "      <th>_distance</th>\n",
       "    </tr>\n",
       "  </thead>\n",
       "  <tbody>\n",
       "    <tr>\n",
       "      <th>0</th>\n",
       "      <td>A modern reimagining of the classic romantic comedy, this contemporary version closely follows new love for two couples as they journey from the bar to the bedroom and are eventually put to the test in the real world.</td>\n",
       "      <td>About Last Night</td>\n",
       "      <td>20.804733</td>\n",
       "    </tr>\n",
       "    <tr>\n",
       "      <th>1</th>\n",
       "      <td>Spoof of romantic comedies which focuses on a man (Campbell), his crush (Hannigan), his parents (Coolidge, Willard), and her father (Griffin).</td>\n",
       "      <td>Date Movie</td>\n",
       "      <td>21.273169</td>\n",
       "    </tr>\n",
       "    <tr>\n",
       "      <th>2</th>\n",
       "      <td>Romantic comedy. A small town teenager's angst about sexual inexperience drives a comic quest for love and understanding on a birthday to end all birthdays.</td>\n",
       "      <td>16 to Life</td>\n",
       "      <td>22.505936</td>\n",
       "    </tr>\n",
       "    <tr>\n",
       "      <th>3</th>\n",
       "      <td>Dramatic comedy about two unlikely people who find each other while looking for love. Judith Nelson (Holly Hunter) is suddenly single after discovering her husband of fifteen years, a successful doctor (Martin Donovan), has been having an affair with a younger woman. Judith stews, plans, plots and fantasizes, but she can't decide what to do with her life until she goes out to a night club to see singer Liz Bailey (Queen Latifah), who is full of advice on life and love. While out on the town, Judith is suddenly kissed by a total stranger, which opens her eyes to new possibilities ... which is when she notices Pat (Danny De Vito), the elevator operator in her building.</td>\n",
       "      <td>Living Out Loud</td>\n",
       "      <td>24.331312</td>\n",
       "    </tr>\n",
       "    <tr>\n",
       "      <th>4</th>\n",
       "      <td>A romantic comedy centered on Dexter and Emma, who first meet during their graduation in 1988 and proceed to keep in touch regularly. The film follows what they do on July 15 annually, usually doing something together.</td>\n",
       "      <td>One Day</td>\n",
       "      <td>24.688421</td>\n",
       "    </tr>\n",
       "  </tbody>\n",
       "</table>\n",
       "</div>"
      ],
      "text/plain": [
       "                                                                                                                                                                                                                                                                                                                                                                                                                                                                                                                                                                                                                                                                                              overview  \\\n",
       "0  A modern reimagining of the classic romantic comedy, this contemporary version closely follows new love for two couples as they journey from the bar to the bedroom and are eventually put to the test in the real world.                                                                                                                                                                                                                                                                                                                                                                                                                                                                             \n",
       "1  Spoof of romantic comedies which focuses on a man (Campbell), his crush (Hannigan), his parents (Coolidge, Willard), and her father (Griffin).                                                                                                                                                                                                                                                                                                                                                                                                                                                                                                                                                        \n",
       "2  Romantic comedy. A small town teenager's angst about sexual inexperience drives a comic quest for love and understanding on a birthday to end all birthdays.                                                                                                                                                                                                                                                                                                                                                                                                                                                                                                                                          \n",
       "3  Dramatic comedy about two unlikely people who find each other while looking for love. Judith Nelson (Holly Hunter) is suddenly single after discovering her husband of fifteen years, a successful doctor (Martin Donovan), has been having an affair with a younger woman. Judith stews, plans, plots and fantasizes, but she can't decide what to do with her life until she goes out to a night club to see singer Liz Bailey (Queen Latifah), who is full of advice on life and love. While out on the town, Judith is suddenly kissed by a total stranger, which opens her eyes to new possibilities ... which is when she notices Pat (Danny De Vito), the elevator operator in her building.   \n",
       "4  A romantic comedy centered on Dexter and Emma, who first meet during their graduation in 1988 and proceed to keep in touch regularly. The film follows what they do on July 15 annually, usually doing something together.                                                                                                                                                                                                                                                                                                                                                                                                                                                                            \n",
       "\n",
       "     original_title  _distance  \n",
       "0  About Last Night  20.804733  \n",
       "1  Date Movie        21.273169  \n",
       "2  16 to Life        22.505936  \n",
       "3  Living Out Loud   24.331312  \n",
       "4  One Day           24.688421  "
      ]
     },
     "execution_count": 22,
     "metadata": {},
     "output_type": "execute_result"
    }
   ],
   "source": [
    "tbl.search(q_en_embedding).select([\"overview\", \"original_title\"]).limit(5).to_pandas()"
   ]
  },
  {
   "cell_type": "code",
   "execution_count": 23,
   "id": "b9eec11e",
   "metadata": {},
   "outputs": [
    {
     "data": {
      "text/html": [
       "<div>\n",
       "<style scoped>\n",
       "    .dataframe tbody tr th:only-of-type {\n",
       "        vertical-align: middle;\n",
       "    }\n",
       "\n",
       "    .dataframe tbody tr th {\n",
       "        vertical-align: top;\n",
       "    }\n",
       "\n",
       "    .dataframe thead th {\n",
       "        text-align: right;\n",
       "    }\n",
       "</style>\n",
       "<table border=\"1\" class=\"dataframe\">\n",
       "  <thead>\n",
       "    <tr style=\"text-align: right;\">\n",
       "      <th></th>\n",
       "      <th>overview</th>\n",
       "      <th>original_title</th>\n",
       "      <th>_distance</th>\n",
       "    </tr>\n",
       "  </thead>\n",
       "  <tbody>\n",
       "    <tr>\n",
       "      <th>0</th>\n",
       "      <td>Spoof of romantic comedies which focuses on a man (Campbell), his crush (Hannigan), his parents (Coolidge, Willard), and her father (Griffin).</td>\n",
       "      <td>Date Movie</td>\n",
       "      <td>13.745854</td>\n",
       "    </tr>\n",
       "    <tr>\n",
       "      <th>1</th>\n",
       "      <td>A modern reimagining of the classic romantic comedy, this contemporary version closely follows new love for two couples as they journey from the bar to the bedroom and are eventually put to the test in the real world.</td>\n",
       "      <td>About Last Night</td>\n",
       "      <td>13.997502</td>\n",
       "    </tr>\n",
       "    <tr>\n",
       "      <th>2</th>\n",
       "      <td>Romantic comedy. A small town teenager's angst about sexual inexperience drives a comic quest for love and understanding on a birthday to end all birthdays.</td>\n",
       "      <td>16 to Life</td>\n",
       "      <td>15.334779</td>\n",
       "    </tr>\n",
       "    <tr>\n",
       "      <th>3</th>\n",
       "      <td>Dramatic comedy about two unlikely people who find each other while looking for love. Judith Nelson (Holly Hunter) is suddenly single after discovering her husband of fifteen years, a successful doctor (Martin Donovan), has been having an affair with a younger woman. Judith stews, plans, plots and fantasizes, but she can't decide what to do with her life until she goes out to a night club to see singer Liz Bailey (Queen Latifah), who is full of advice on life and love. While out on the town, Judith is suddenly kissed by a total stranger, which opens her eyes to new possibilities ... which is when she notices Pat (Danny De Vito), the elevator operator in her building.</td>\n",
       "      <td>Living Out Loud</td>\n",
       "      <td>16.062124</td>\n",
       "    </tr>\n",
       "    <tr>\n",
       "      <th>4</th>\n",
       "      <td>A sparkling comedic chronicle of a middle-class young man’s romantic misadventures among New York City’s debutante society. Stillman’s deft, literate dialogue and hilariously highbrow observations earned this debut film an Academy Award nomination for Best Original Screenplay. Alongside the wit and sophistication, though, lies a tender tale of adolescent anxiety.</td>\n",
       "      <td>Metropolitan</td>\n",
       "      <td>16.759302</td>\n",
       "    </tr>\n",
       "  </tbody>\n",
       "</table>\n",
       "</div>"
      ],
      "text/plain": [
       "                                                                                                                                                                                                                                                                                                                                                                                                                                                                                                                                                                                                                                                                                              overview  \\\n",
       "0  Spoof of romantic comedies which focuses on a man (Campbell), his crush (Hannigan), his parents (Coolidge, Willard), and her father (Griffin).                                                                                                                                                                                                                                                                                                                                                                                                                                                                                                                                                        \n",
       "1  A modern reimagining of the classic romantic comedy, this contemporary version closely follows new love for two couples as they journey from the bar to the bedroom and are eventually put to the test in the real world.                                                                                                                                                                                                                                                                                                                                                                                                                                                                             \n",
       "2  Romantic comedy. A small town teenager's angst about sexual inexperience drives a comic quest for love and understanding on a birthday to end all birthdays.                                                                                                                                                                                                                                                                                                                                                                                                                                                                                                                                          \n",
       "3  Dramatic comedy about two unlikely people who find each other while looking for love. Judith Nelson (Holly Hunter) is suddenly single after discovering her husband of fifteen years, a successful doctor (Martin Donovan), has been having an affair with a younger woman. Judith stews, plans, plots and fantasizes, but she can't decide what to do with her life until she goes out to a night club to see singer Liz Bailey (Queen Latifah), who is full of advice on life and love. While out on the town, Judith is suddenly kissed by a total stranger, which opens her eyes to new possibilities ... which is when she notices Pat (Danny De Vito), the elevator operator in her building.   \n",
       "4  A sparkling comedic chronicle of a middle-class young man’s romantic misadventures among New York City’s debutante society. Stillman’s deft, literate dialogue and hilariously highbrow observations earned this debut film an Academy Award nomination for Best Original Screenplay. Alongside the wit and sophistication, though, lies a tender tale of adolescent anxiety.                                                                                                                                                                                                                                                                                                                         \n",
       "\n",
       "     original_title  _distance  \n",
       "0  Date Movie        13.745854  \n",
       "1  About Last Night  13.997502  \n",
       "2  16 to Life        15.334779  \n",
       "3  Living Out Loud   16.062124  \n",
       "4  Metropolitan      16.759302  "
      ]
     },
     "execution_count": 23,
     "metadata": {},
     "output_type": "execute_result"
    }
   ],
   "source": [
    "tbl.search(q_zh_embedding).select([\"overview\", \"original_title\"]).limit(5).to_pandas()"
   ]
  }
 ],
 "metadata": {
  "kernelspec": {
   "display_name": ".venv",
   "language": "python",
   "name": "python3"
  },
  "language_info": {
   "codemirror_mode": {
    "name": "ipython",
    "version": 3
   },
   "file_extension": ".py",
   "mimetype": "text/x-python",
   "name": "python",
   "nbconvert_exporter": "python",
   "pygments_lexer": "ipython3",
   "version": "3.11.10"
  }
 },
 "nbformat": 4,
 "nbformat_minor": 5
}
