{
 "cells": [
  {
   "cell_type": "markdown",
   "id": "2ada87d6",
   "metadata": {},
   "source": [
    "# Imports"
   ]
  },
  {
   "cell_type": "code",
   "execution_count": 10,
   "id": "f9a6ada9",
   "metadata": {},
   "outputs": [],
   "source": [
    "from enum import StrEnum\n",
    "from typing import Annotated\n",
    "import lancedb\n",
    "from openai import AsyncOpenAI\n",
    "import pandas as pd\n",
    "from pydantic import BaseModel, Field\n",
    "from sentence_transformers import SentenceTransformer"
   ]
  },
  {
   "cell_type": "markdown",
   "id": "38f5b6c5",
   "metadata": {},
   "source": [
    "# Retrieval Augmented Generation (RAG)\n",
    "\n",
    "[Function Calling](https://platform.openai.com/docs/guides/function-calling?api-mode=chat)"
   ]
  },
  {
   "cell_type": "code",
   "execution_count": 9,
   "id": "c99b7068",
   "metadata": {},
   "outputs": [],
   "source": [
    "embedder = SentenceTransformer(\n",
    "    \"sentence-transformers/paraphrase-multilingual-MiniLM-L12-v2\",\n",
    "    device=\"cpu\",\n",
    ")\n",
    "db = lancedb.connect(\"./data/lance_db\")\n",
    "tbl = db.open_table(\"movies\")"
   ]
  },
  {
   "cell_type": "code",
   "execution_count": null,
   "id": "9cf359c4",
   "metadata": {},
   "outputs": [],
   "source": [
    "def query(text: str, limit: int = 10) -> pd.DataFrame:\n",
    "    q_emb = embedder.encode(text)\n",
    "    res = tbl.search(q_emb, limit=limit).to_pandas()"
   ]
  },
  {
   "cell_type": "markdown",
   "id": "c0158283",
   "metadata": {},
   "source": [
    "# Sentiment Analysis\n",
    "\n",
    "[Structured Output](https://platform.openai.com/docs/guides/structured-outputs?api-mode=chat)"
   ]
  },
  {
   "cell_type": "code",
   "execution_count": null,
   "id": "0fbe0bfb",
   "metadata": {},
   "outputs": [],
   "source": [
    "class Polarity(StrEnum):\n",
    "    POSITIVE = \"positive\"\n",
    "    NEGATIVE = \"negative\"\n",
    "    NEUTRAL = \"neutral\"\n",
    "\n",
    "\n",
    "class SentimentAnalysisOutput(BaseModel):\n",
    "    polarity: Annotated[Polarity, \"The sentiment polarity of the text\"]\n",
    "    confidence: Annotated[\n",
    "        float,\n",
    "        Field(\n",
    "            description=\"The confidence score of the sentiment polarity between 0 and 1\",\n",
    "            ge=0.0,\n",
    "            le=1.0,\n",
    "        ),\n",
    "    ]"
   ]
  },
  {
   "cell_type": "code",
   "execution_count": null,
   "id": "f934fa12",
   "metadata": {},
   "outputs": [
    {
     "ename": "ValidationError",
     "evalue": "1 validation error for SentimentAnalysisOutput\nconfidence\n  Input should be less than or equal to 1 [type=less_than_equal, input_value=1.1, input_type=float]\n    For further information visit https://errors.pydantic.dev/2.11/v/less_than_equal",
     "output_type": "error",
     "traceback": [
      "\u001b[31m---------------------------------------------------------------------------\u001b[39m",
      "\u001b[31mValidationError\u001b[39m                           Traceback (most recent call last)",
      "\u001b[36mCell\u001b[39m\u001b[36m \u001b[39m\u001b[32mIn[8]\u001b[39m\u001b[32m, line 1\u001b[39m\n\u001b[32m----> \u001b[39m\u001b[32m1\u001b[39m \u001b[43mSentimentAnalysisOutput\u001b[49m\u001b[43m(\u001b[49m\n\u001b[32m      2\u001b[39m \u001b[43m    \u001b[49m\u001b[43mpolarity\u001b[49m\u001b[43m=\u001b[49m\u001b[33;43m\"\u001b[39;49m\u001b[33;43mpositive\u001b[39;49m\u001b[33;43m\"\u001b[39;49m\u001b[43m,\u001b[49m\n\u001b[32m      3\u001b[39m \u001b[43m    \u001b[49m\u001b[43mconfidence\u001b[49m\u001b[43m=\u001b[49m\u001b[32;43m1.1\u001b[39;49m\n\u001b[32m      4\u001b[39m \u001b[43m)\u001b[49m\n",
      "\u001b[36mFile \u001b[39m\u001b[32m~/github/genai4humanities-wk14/.venv/lib/python3.11/site-packages/pydantic/main.py:253\u001b[39m, in \u001b[36mBaseModel.__init__\u001b[39m\u001b[34m(self, **data)\u001b[39m\n\u001b[32m    251\u001b[39m \u001b[38;5;66;03m# `__tracebackhide__` tells pytest and some other tools to omit this function from tracebacks\u001b[39;00m\n\u001b[32m    252\u001b[39m __tracebackhide__ = \u001b[38;5;28;01mTrue\u001b[39;00m\n\u001b[32m--> \u001b[39m\u001b[32m253\u001b[39m validated_self = \u001b[38;5;28;43mself\u001b[39;49m\u001b[43m.\u001b[49m\u001b[43m__pydantic_validator__\u001b[49m\u001b[43m.\u001b[49m\u001b[43mvalidate_python\u001b[49m\u001b[43m(\u001b[49m\u001b[43mdata\u001b[49m\u001b[43m,\u001b[49m\u001b[43m \u001b[49m\u001b[43mself_instance\u001b[49m\u001b[43m=\u001b[49m\u001b[38;5;28;43mself\u001b[39;49m\u001b[43m)\u001b[49m\n\u001b[32m    254\u001b[39m \u001b[38;5;28;01mif\u001b[39;00m \u001b[38;5;28mself\u001b[39m \u001b[38;5;129;01mis\u001b[39;00m \u001b[38;5;129;01mnot\u001b[39;00m validated_self:\n\u001b[32m    255\u001b[39m     warnings.warn(\n\u001b[32m    256\u001b[39m         \u001b[33m'\u001b[39m\u001b[33mA custom validator is returning a value other than `self`.\u001b[39m\u001b[38;5;130;01m\\n\u001b[39;00m\u001b[33m'\u001b[39m\n\u001b[32m    257\u001b[39m         \u001b[33m\"\u001b[39m\u001b[33mReturning anything other than `self` from a top level model validator isn\u001b[39m\u001b[33m'\u001b[39m\u001b[33mt supported when validating via `__init__`.\u001b[39m\u001b[38;5;130;01m\\n\u001b[39;00m\u001b[33m\"\u001b[39m\n\u001b[32m    258\u001b[39m         \u001b[33m'\u001b[39m\u001b[33mSee the `model_validator` docs (https://docs.pydantic.dev/latest/concepts/validators/#model-validators) for more details.\u001b[39m\u001b[33m'\u001b[39m,\n\u001b[32m    259\u001b[39m         stacklevel=\u001b[32m2\u001b[39m,\n\u001b[32m    260\u001b[39m     )\n",
      "\u001b[31mValidationError\u001b[39m: 1 validation error for SentimentAnalysisOutput\nconfidence\n  Input should be less than or equal to 1 [type=less_than_equal, input_value=1.1, input_type=float]\n    For further information visit https://errors.pydantic.dev/2.11/v/less_than_equal"
     ]
    }
   ],
   "source": [
    "SentimentAnalysisOutput(polarity=\"positive\", confidence=1.1)"
   ]
  },
  {
   "cell_type": "code",
   "execution_count": null,
   "id": "86ff4b53",
   "metadata": {},
   "outputs": [],
   "source": []
  }
 ],
 "metadata": {
  "kernelspec": {
   "display_name": ".venv",
   "language": "python",
   "name": "python3"
  },
  "language_info": {
   "codemirror_mode": {
    "name": "ipython",
    "version": 3
   },
   "file_extension": ".py",
   "mimetype": "text/x-python",
   "name": "python",
   "nbconvert_exporter": "python",
   "pygments_lexer": "ipython3",
   "version": "3.11.11"
  }
 },
 "nbformat": 4,
 "nbformat_minor": 5
}
