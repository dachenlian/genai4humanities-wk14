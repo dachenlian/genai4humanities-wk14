{
 "cells": [
  {
   "cell_type": "markdown",
   "id": "2ada87d6",
   "metadata": {},
   "source": [
    "# Imports"
   ]
  },
  {
   "cell_type": "code",
   "execution_count": 2,
   "id": "f9a6ada9",
   "metadata": {},
   "outputs": [
    {
     "data": {
      "text/plain": [
       "True"
      ]
     },
     "execution_count": 2,
     "metadata": {},
     "output_type": "execute_result"
    }
   ],
   "source": [
    "%load_ext autoreload\n",
    "%autoreload 2\n",
    "\n",
    "from enum import StrEnum\n",
    "import json\n",
    "import os\n",
    "from typing import Annotated\n",
    "\n",
    "from huggingface_hub import AsyncInferenceClient\n",
    "from huggingface_hub.inference._generated.types import ChatCompletionOutputToolCall\n",
    "import lancedb\n",
    "from openai import AsyncOpenAI\n",
    "from openai.types.chat.chat_completion_message_tool_call import (\n",
    "    ChatCompletionMessageToolCall,\n",
    ")\n",
    "import pandas as pd\n",
    "from pydantic import BaseModel, Field\n",
    "from sentence_transformers import SentenceTransformer\n",
    "from dotenv import load_dotenv\n",
    "\n",
    "from utils import create_tool_schema_for_function\n",
    "from tool_types import ToolCallResult\n",
    "\n",
    "load_dotenv()"
   ]
  },
  {
   "cell_type": "markdown",
   "id": "38f5b6c5",
   "metadata": {},
   "source": [
    "# Retrieval Augmented Generation (RAG)\n"
   ]
  },
  {
   "cell_type": "code",
   "execution_count": 8,
   "id": "c99b7068",
   "metadata": {},
   "outputs": [
    {
     "name": "stdout",
     "output_type": "stream",
     "text": [
      "['movies']\n"
     ]
    }
   ],
   "source": [
    "embedder = SentenceTransformer(\n",
    "    \"sentence-transformers/paraphrase-multilingual-MiniLM-L12-v2\",\n",
    "    device=\"cpu\",\n",
    ")\n",
    "db = lancedb.connect(\"./data/lance_db\")\n",
    "print(db.table_names())\n",
    "tbl = db.open_table(\"movies\")"
   ]
  },
  {
   "cell_type": "code",
   "execution_count": null,
   "id": "9cf359c4",
   "metadata": {},
   "outputs": [],
   "source": [
    "def query_movie_db(\n",
    "    text: str,\n",
    "    limit: int = 10,\n",
    ") -> ToolCallResult:\n",
    "    \"\"\"\n",
    "    Query the LanceDB movie database for movies with similar overviews to the input text.\n",
    "\n",
    "    Args:\n",
    "        text (str): The input text to query the database.\n",
    "        limit (int, optional): The number of results to return. Defaults to 10.\n",
    "\n",
    "    Returns:\n",
    "        ToolCallResult: The result of the tool call.\n",
    "    \"\"\"\n",
    "    q_emb = embedder.encode(text)\n",
    "    df = (\n",
    "        tbl.search(q_emb).limit(limit).to_pandas().drop(columns=[\"vector\", \"_distance\"])\n",
    "    )\n",
    "    return {\n",
    "        \"llm_consumable\": df.to_json(lines=True, orient=\"records\"),\n",
    "        \"ui_displayable\": df,\n",
    "        \"return_type\": \"dataframe\",\n",
    "    }\n"
   ]
  },
  {
   "cell_type": "code",
   "execution_count": 14,
   "id": "98c6828d",
   "metadata": {},
   "outputs": [
    {
     "name": "stdout",
     "output_type": "stream",
     "text": [
      "{\"budget\":3500000,\"genres\":[\"Comedy\"],\"keywords\":[\"chicago\",\"alcohol\",\"cataclysm\",\"guitar\",\"medicine\",\"taxi driver\",\"passenger\",\"saxophone\",\"stewardess\",\"pilot\",\"airplane\",\"fear of flying\",\"air controller\",\"landing\",\"autopilot\",\"kiss\",\"spoof\",\"los angeles\",\"alcohol abuse\",\"aftercreditsstinger\",\"anarchic comedy\"],\"original_language\":\"en\",\"overview\":\"Alcoholic pilot, Ted Striker has developed a fear of flying due to wartime trauma, but nevertheless boards a passenger jet in an attempt to woo back his stewardess girlfriend. Food poisoning decimates the passengers and crew, leaving it up to Striker to land the plane with the help of a glue-sniffing air traffic controller and Striker's vengeful former Air Force captain, who must both talk him down.\",\"popularity\":46.116885,\"release_date\":331344000000,\"revenue\":83453539,\"runtime\":88.0,\"spoken_languages\":[\"English\"],\"title\":\"Airplane!\",\"cast\":[{\"character\":\"Ted Striker\",\"name\":\"Robert Hays\"},{\"character\":\"Elaine\",\"name\":\"Julie Hagerty\"},{\"character\":\"Murdock\",\"name\":\"Kareem Abdul-Jabbar\"},{\"character\":\"McCroskey\",\"name\":\"Lloyd Bridges\"},{\"character\":\"Captain Oveur\",\"name\":\"Peter Graves\"},{\"character\":\"Dr. Rumack\",\"name\":\"Leslie Nielsen\"},{\"character\":\"Randy\",\"name\":\"Lorna Patterson\"},{\"character\":\"Rex Kramer\",\"name\":\"Robert Stack\"},{\"character\":\"Johnny\",\"name\":\"Stephen Stucker\"},{\"character\":\"Religious zealot #6\",\"name\":\"Jim Abrahams\"},{\"character\":\"Victor Basta\",\"name\":\"Frank Ashmore\"},{\"character\":\"Gunderson\",\"name\":\"Jonathan Banks\"},{\"character\":\"Paul Carey\",\"name\":\"Craig Berenson\"},{\"character\":\"Jive Lady\",\"name\":\"Barbara Billingsley\"},{\"character\":\"Mrs. Hammen\",\"name\":\"Lee Bryant\"},{\"character\":\"Mrs. Davis\",\"name\":\"Joyce Bulifant\"},{\"character\":\"Security Lady\",\"name\":\"Mae E. Campbell\"},{\"character\":\"Lieutenant Hurwitz\",\"name\":\"Ethel Merman\"},{\"character\":\"Windshield Wiper Man\",\"name\":\"Jimmie Walker\"},{\"character\":\"Lisa Davis\",\"name\":\"Jill Whelan\"},{\"character\":\"\",\"name\":\"Kitten Natividad\"},{\"character\":\"Cocaine Lady\",\"name\":\"Nora Meerbaum\"},{\"character\":\"Air Controller Neubauer\",\"name\":\"Kenneth Tobey\"}],\"release_year\":1980}\n",
      "{\"budget\":209000000,\"genres\":[\"Thriller\",\"Action\",\"Adventure\",\"Science Fiction\"],\"keywords\":[\"fight\",\"u.s. navy\",\"mind reading\",\"hong kong\",\"soccer\",\"scientist\",\"fictional war\",\"naval\",\"armada\",\"battleship\",\"naval combat\",\"jds myoko\",\"lost communication\",\"taser\",\"buoy\",\"communications expert\",\"joint chiefs of staff\",\"crash landing\",\"jet fighter pilot\",\"navy lieutenant\",\"permission to marry\",\"uss john paul jones\",\"based on board game\",\"aftercreditsstinger\",\"mighty mo\",\"uss missouri\"],\"original_language\":\"en\",\"overview\":\"When mankind beams a radio signal into space, a reply comes from \\u2018Planet G\\u2019, in the form of several alien crafts that splash down in the waters off Hawaii. Lieutenant Alex Hopper is a weapons officer assigned to the USS John Paul Jones, part of an international naval coalition which becomes the world's last hope for survival as they engage the hostile alien force of unimaginable strength. While taking on the invaders, Hopper must also try to live up to the potential his brother, and his fianc\\u00e9e's father, Admiral Shane, expect of him.\",\"popularity\":64.928382,\"release_date\":1334102400000,\"revenue\":303025485,\"runtime\":131.0,\"spoken_languages\":[\"English\",\"\\u0e20\\u0e32\\u0e29\\u0e32\\u0e44\\u0e17\\u0e22\"],\"title\":\"Battleship\",\"cast\":[{\"character\":\"Lieutenant Alex Hopper\",\"name\":\"Taylor Kitsch\"},{\"character\":\"Commander Stone Hopper\",\"name\":\"Alexander Skarsg\\u00e5rd\"},{\"character\":\"Petty Officer Cora 'Weps' Raikes\",\"name\":\"Rihanna\"},{\"character\":\"Sam\",\"name\":\"Brooklyn Decker\"},{\"character\":\"Captain Yugi Nagata\",\"name\":\"Tadanobu Asano\"},{\"character\":\"Admiral Shane\",\"name\":\"Liam Neeson\"},{\"character\":\"Lieutenant Colonel Mick Canales\",\"name\":\"Gregory D. Gadson\"},{\"character\":\"Cal Zapata\",\"name\":\"Hamish Linklater\"},{\"character\":\"Boatswain Mate Seaman Jimmy \\\"Ordy\\\" Ord\",\"name\":\"Jesse Plemons\"},{\"character\":\"Chief Petty Officer Walter \\\"The Beast\\\" Lynch\",\"name\":\"John Tui\"},{\"character\":\"Sampson JOOD Strodell\",\"name\":\"Jerry Ferrara\"},{\"character\":\"NASA Director\",\"name\":\"David Jensen\"},{\"character\":\"JPJ 2nd Gunner\",\"name\":\"Peter Berg\"},{\"character\":\"Dr. Nogrady\",\"name\":\"Adam Godley\"},{\"character\":\"Captain Browley\",\"name\":\"Rico McClinton\"},{\"character\":\"Chief Engineer Hiroki\",\"name\":\"Joji Yoshida\"},{\"character\":\"JPJ OOD\",\"name\":\"Stephen Bishop\"},{\"character\":\"JPJ Fireman\",\"name\":\"Austin Naulty\"},{\"character\":\"JPJ Scat\",\"name\":\"James Rawlings\"},{\"character\":\"Electronic Warfare Supervisor\",\"name\":\"Dustin J. Reno\"},{\"character\":\"Chairman, Joint Chiefs of Staff\",\"name\":\"Rick Hoffman\"},{\"character\":\"Air Force Chief of Staff\",\"name\":\"Gary Grubbs\"},{\"character\":\"Watch Officer\",\"name\":\"Rami Malek\"},{\"character\":\"Secretary of Defense\",\"name\":\"Peter MacNicol\"},{\"character\":\"Bartender\",\"name\":\"Louis Lombardi\"},{\"character\":\"JPJ Sailor\",\"name\":\"Jordan Kirkwood\"},{\"character\":\"CIC Watch Supervisor\",\"name\":\"Doug Penty\"},{\"character\":\"CIC Gunner\",\"name\":\"Carson Aune\"},{\"character\":\"Combat Systems Coordinator\",\"name\":\"Josh Pence\"},{\"character\":\"JPJ Port Gunner\",\"name\":\"Lloyd Pitts\"},{\"character\":\"British Newscaster\",\"name\":\"Michelle Arthur\"},{\"character\":\"Spanish Newscaster\",\"name\":\"Natalia Castellanos\"},{\"character\":\"Japanese Newscaster\",\"name\":\"Leni Ito\"},{\"character\":\"Jackie Johnson\",\"name\":\"Jackie Johnson\"},{\"character\":\"Cal's Female Colleague\",\"name\":\"Kerry Cahill\"},{\"character\":\"Old Salt\",\"name\":\"Norman Vincent McLafferty\"},{\"character\":\"JPJ XO Mullenaro\",\"name\":\"Dante Jimenez\"},{\"character\":\"JPJ Helmsman\",\"name\":\"Daven Arce\"},{\"character\":\"JPJ Starboard Gunner\",\"name\":\"Ralph Richardson\"},{\"character\":\"JPJ BMOW\",\"name\":\"Biunca Love\"},{\"character\":\"Regent Sea Commander\",\"name\":\"Kyle Russell Clements\"},{\"character\":\"Myoko XO\",\"name\":\"Yutaka Takeuchi\"},{\"character\":\"JPJ Sailor\",\"name\":\"John A Weaver\"},{\"character\":\"Sampson OOD\",\"name\":\"Dane Justman\"},{\"character\":\"Sampson XO\",\"name\":\"Drew Rausch\"},{\"character\":\"Marine Commandant\",\"name\":\"Bill Stinchcomb\"}],\"release_year\":2012}\n",
      "{\"budget\":0,\"genres\":[\"Comedy\"],\"keywords\":[\"independent film\"],\"original_language\":\"en\",\"overview\":\"\\u201cThe Living Wake\\u201d is a dark comedy set in a timeless storybook universe. Self-proclaimed artist and genius, K. Roth Binew, has one day to live. He has enlisted his best and only friend, Mills Joquin, to take him around on a bicycle powered rickshaw. In a final attempt to probe life\\u2019s deepest mysteries, Binew endures one ridiculous trial after the next. He concludes his day with a final performance, his living wake. On a makeshift stage in an open field, Binew\\u2019s friends and enemies gather to witness his madness one final time.\",\"popularity\":0.383442,\"release_date\":1167609600000,\"revenue\":0,\"runtime\":91.0,\"spoken_languages\":[],\"title\":\"The Living Wake\",\"cast\":[{\"character\":\"Mills\",\"name\":\"Jesse Eisenberg\"},{\"character\":\"K. Roth Binew\",\"name\":\"Mike O'Connell\"},{\"character\":\"Lampert Binew\",\"name\":\"Jim Gaffigan\"},{\"character\":\"Librarian\",\"name\":\"Ann Dowd\"},{\"character\":\"Prostitute\",\"name\":\"Colombe Jacobsen-Derstine\"},{\"character\":\"Reginald\",\"name\":\"Eddie Pepitone\"}],\"release_year\":2007}\n",
      "{\"budget\":2627000,\"genres\":[\"Drama\",\"Romance\",\"War\"],\"keywords\":[\"pilot\",\"airplane\",\"ghost\"],\"original_language\":\"en\",\"overview\":\"Pete Sandidge (Tracy), a daredevil bomber pilot, dies when he crashes his plane into a German aircraft carrier, leaving his devoted girlfriend, Dorinda (Irene Dunne), who is also a pilot, heartbroken. In heaven, Pete receives a new assignment: he is to become the guardian angel for Ted Randall (Van Johnson), a young Army flyer. Invisibly, Pete guides Ted through flight school and into combat, but the ectoplasmic mentor's tolerance is tested when Ted falls for Dorinda. Ultimately, however, Pete not only comes to terms with their relationship but also acts as Dorinda's copilot when she undertakes a dangerous bombing raid, so that Ted won't have to. Remade by Steven Speilberg in 1989 as ALWAYS\",\"popularity\":0.531444,\"release_date\":-815356800000,\"revenue\":5363000,\"runtime\":120.0,\"spoken_languages\":[\"English\"],\"title\":\"A Guy Named Joe\",\"cast\":[{\"character\":\"Pete Sandidge\",\"name\":\"Spencer Tracy\"},{\"character\":\"Dorinda Durston\",\"name\":\"Irene Dunne\"},{\"character\":\"Ted Randall\",\"name\":\"Van Johnson\"},{\"character\":\"Al Yackey\",\"name\":\"Ward Bond\"},{\"character\":\"'Nails' Kilpatrick\",\"name\":\"James Gleason\"},{\"character\":\"The General\",\"name\":\"Lionel Barrymore\"},{\"character\":\"Dick Rumney\",\"name\":\"Barry Nelson\"},{\"character\":\"Ellen Bright\",\"name\":\"Esther Williams\"},{\"character\":\"Col. Sykes\",\"name\":\"Henry O'Neill\"},{\"character\":\"James J. Rourke\",\"name\":\"Don DeFore\"},{\"character\":\"Sanderson\",\"name\":\"Charles Smith\"},{\"character\":\"Maj. Corbett\",\"name\":\"Addison Richards\"},{\"character\":\"Henderson\",\"name\":\"Irving Bacon\"},{\"character\":\"Girlfriend of Rourke\",\"name\":\"Eve Whitney\"}],\"release_year\":1944}\n",
      "{\"budget\":6500000,\"genres\":[\"Comedy\",\"Drama\"],\"keywords\":[\"father son relationship\",\"capitalism\",\"based on novel\",\"smoking\",\"lie\",\"cigarette\",\"research\",\"law\",\"health\",\"marketing\",\"politics\",\"politician\",\"tobacco\",\"liar\",\"dark comedy\",\"cancer\",\"independent film\",\"money\",\"morality\",\"social satire\",\"cigarette smoking\",\"business\",\"advertising\",\"guilt\",\"humiliation\",\"lobby\",\"bribe\",\"corporation\",\"lung cancer\",\"lobbyist\",\"tobacco industry\",\"nicotine\"],\"original_language\":\"en\",\"overview\":\"The chief spokesperson and lobbyist Nick Naylor is the Vice-President of the Academy of Tobacco Studies. He is talented in speaking and spins argument to defend the cigarette industry in the most difficult situations. His best friends are Polly Bailey that works in the Moderation Council in alcohol business, and Bobby Jay Bliss of the gun business own advisory group SAFETY. They frequently meet each other in a bar and they self-entitle the Mod Squad a.k.a. Merchants of Death, disputing which industry has killed more people. Nick's greatest enemy is Vermont's Senator Ortolan Finistirre, who defends in the Senate the use a skull and crossed bones in the cigarette packs. Nick's son Joey Naylor lives with his mother, and has the chance to know his father in a business trip. When the ambitious reporter Heather Holloway betrays Nick disclosing confidences he had in bed with her, his life turns upside-down. But Nick is good in what he does for the mortgage.\",\"popularity\":29.01153,\"release_date\":1125878400000,\"revenue\":24793509,\"runtime\":92.0,\"spoken_languages\":[\"English\"],\"title\":\"Thank You for Smoking\",\"cast\":[{\"character\":\"Nick Naylor\",\"name\":\"Aaron Eckhart\"},{\"character\":\"Polly Bailey\",\"name\":\"Maria Bello\"},{\"character\":\"Joey Naylor\",\"name\":\"Cameron Bright\"},{\"character\":\"Jack\",\"name\":\"Adam Brody\"},{\"character\":\"Lorne Lutch\",\"name\":\"Sam Elliott\"},{\"character\":\"Heather Holloway\",\"name\":\"Katie Holmes\"},{\"character\":\"Jeff Megall\",\"name\":\"Rob Lowe\"},{\"character\":\"Senator Ortolan Finistirre\",\"name\":\"William H. Macy\"},{\"character\":\"The Captain\",\"name\":\"Robert Duvall\"},{\"character\":\"Bobby Jay Bliss\",\"name\":\"David Koechner\"},{\"character\":\"BR\",\"name\":\"J.K. Simmons\"},{\"character\":\"Jill Naylor\",\"name\":\"Kim Dickens\"},{\"character\":\"Pearl\",\"name\":\"Connie Ray\"},{\"character\":\"Joan Lunden\",\"name\":\"Joan Lunden\"},{\"character\":\"Sue Maclean\",\"name\":\"Mary Jo Smith\"},{\"character\":\"Ron Goode\",\"name\":\"Todd Louiso\"},{\"character\":\"Kidnapper\",\"name\":\"Jeff Witzke\"},{\"character\":\"Teacher\",\"name\":\"Marianne Muellerleile\"},{\"character\":\"Kid #2\",\"name\":\"Jordan Garrett\"},{\"character\":\"Kid #3\",\"name\":\"Courtney Taylor Burness\"},{\"character\":\"Brad\",\"name\":\"Daniel Travis\"},{\"character\":\"Trainee\",\"name\":\"Richard Speight Jr.\"},{\"character\":\"Tiffany\",\"name\":\"Ren\\u00e9e Graham\"},{\"character\":\"EGO Assistant\",\"name\":\"Timothy Dowling\"},{\"character\":\"Dennis Miller\",\"name\":\"Dennis Miller\"},{\"character\":\"Ski Mask #1\",\"name\":\"Terry James\"},{\"character\":\"Ski Mask #2\",\"name\":\"Marc Scizak\"},{\"character\":\"Flighty Girl\",\"name\":\"Rachel Thorp\"},{\"character\":\"Doctor\",\"name\":\"Aaron Lustig\"},{\"character\":\"Interviewer\",\"name\":\"Melora Hardin\"},{\"character\":\"FBI Agent (voice)\",\"name\":\"Brian Palermo\"},{\"character\":\"Dr. Meisenbach\",\"name\":\"Michael Mantell\"},{\"character\":\"Senator Lothridge\",\"name\":\"Spencer Garrett\"},{\"character\":\"Senator Dupree\",\"name\":\"Earl Billings\"},{\"character\":\"Reporter #1\",\"name\":\"Catherine Reitman\"},{\"character\":\"Reporter #2\",\"name\":\"Sean Patrick Murphy\"},{\"character\":\"Oil Lobbyist\",\"name\":\"David O. Sacks\"},{\"character\":\"Nancy Humphries O'Dell\",\"name\":\"Nancy O'Dell\"},{\"character\":\"Debate Moderator\",\"name\":\"Roy Jenkins\"},{\"character\":\"Gentleman #2\",\"name\":\"Bruce French\"},{\"character\":\"Man at Metro Station (uncredited)\",\"name\":\"Christopher Buckley\"},{\"character\":\"Hotel Phone Operator (voice) (uncredited)\",\"name\":\"Dana E. Glauberman\"},{\"character\":\"Flight Attendant (uncredited)\",\"name\":\"Eva La Dare\"},{\"character\":\"Peter (uncredited)\",\"name\":\"Robert Malina\"},{\"character\":\"Gizelle (voice) (uncredited)\",\"name\":\"Aloma Wright\"}],\"release_year\":2005}\n",
      "{\"budget\":3000000,\"genres\":[\"Comedy\",\"Drama\",\"Romance\"],\"keywords\":[\"new york\",\"new year's eve\",\"lovesickness\",\"age difference\",\"suicide attempt\",\"office\",\"flat\",\"spaghetti\",\"christmas party\",\"winter\",\"clerk\",\"tennis racket\",\"romantic comedy\",\"extramarital affair\"],\"original_language\":\"en\",\"overview\":\"Bud Baxter is a minor clerk in a huge New York insurance company, until he discovers a quick way to climb the corporate ladder. He lends out his apartment to the executives as a place to take their mistresses. Although he often has to deal with the aftermath of their visits, one night he's left with a major problem to solve.\",\"popularity\":22.889294,\"release_date\":-301276800000,\"revenue\":25000000,\"runtime\":125.0,\"spoken_languages\":[\"English\"],\"title\":\"The Apartment\",\"cast\":[{\"character\":\"C.C. Baxter\",\"name\":\"Jack Lemmon\"},{\"character\":\"Fran Kubelik\",\"name\":\"Shirley MacLaine\"},{\"character\":\"Jeff D. Sheldrake\",\"name\":\"Fred MacMurray\"},{\"character\":\"Joe Dobisch\",\"name\":\"Ray Walston\"},{\"character\":\"Dr. Dreyfuss\",\"name\":\"Jack Kruschen\"},{\"character\":\"Mrs. Mildred Dreyfuss\",\"name\":\"Naomi Stevens\"},{\"character\":\"Mrs. Margie MacDougall\",\"name\":\"Hope Holiday\"},{\"character\":\"Miss Olsen\",\"name\":\"Edie Adams\"},{\"character\":\"Sylvia\",\"name\":\"Joan Shawlee\"},{\"character\":\"Karl Matuschka\",\"name\":\"Johnny Seven\"},{\"character\":\"Al Kirkeby\",\"name\":\"David Lewis\"},{\"character\":\"The Blonde\",\"name\":\"Joyce Jameson\"},{\"character\":\"Mr. Vanderhoff\",\"name\":\"Willard Waterman\"},{\"character\":\"Mr. Eichelberger\",\"name\":\"David White\"},{\"character\":\"Office Worker (uncredited)\",\"name\":\"Dorothy Abbott\"},{\"character\":\"Office Worker (uncredited)\",\"name\":\"Ralph Moratz\"},{\"character\":\"Office Maintenance Man (uncredited)\",\"name\":\"Joe Palma\"},{\"character\":\"TV Movie Host (uncredited)\",\"name\":\"Bill Baldwin\"},{\"character\":\"Charlie - Bartender (uncredited)\",\"name\":\"Benny Burt\"},{\"character\":\"Elevator Supervisor with Clicker (uncredited)\",\"name\":\"Lynn Cartwright\"},{\"character\":\"Bit Part (uncredited)\",\"name\":\"Mason Curry\"},{\"character\":\"Messenger (uncredited)\",\"name\":\"David Macklin\"},{\"character\":\"Man in Santa Claus Suit (uncredited)\",\"name\":\"Hal Smith\"}],\"release_year\":1960}\n",
      "{\"budget\":25000000,\"genres\":[\"Drama\"],\"keywords\":[\"baseball\",\"sport\",\"duringcreditsstinger\"],\"original_language\":\"en\",\"overview\":\"In a last-ditch effort to save his career, sports agent JB Bernstein (Jon Hamm) dreams up a wild game plan to find Major League Baseball\\u2019s next great pitcher from a pool of cricket players in India. He soon discovers two young men who can throw a fastball but know nothing about the game of baseball. Or America. It\\u2019s an incredible and touching journey that will change them all \\u2014 especially JB, who learns valuable lessons about teamwork, commitment and family.\",\"popularity\":17.312433,\"release_date\":1399593600000,\"revenue\":38307627,\"runtime\":124.0,\"spoken_languages\":[\"\\u0939\\u093f\\u0928\\u094d\\u0926\\u0940\",\"English\"],\"title\":\"Million Dollar Arm\",\"cast\":[{\"character\":\"J. B. Bernstein\",\"name\":\"Jon Hamm\"},{\"character\":\"Tom House\",\"name\":\"Bill Paxton\"},{\"character\":\"Brenda Paauwe\",\"name\":\"Lake Bell\"},{\"character\":\"Rinku\",\"name\":\"Suraj Sharma\"},{\"character\":\"Ash Vasudevan\",\"name\":\"Aasif Mandvi\"},{\"character\":\"Dinesh\",\"name\":\"Madhur Mittal\"},{\"character\":\"Amit\",\"name\":\"Pitobash\"},{\"character\":\"Ray Arkin\",\"name\":\"Alan Arkin\"},{\"character\":\"Lisette\",\"name\":\"Bar Paly\"},{\"character\":\"Pete\",\"name\":\"Al Sapienza\"},{\"character\":\"Chang\",\"name\":\"Tzi Ma\"},{\"character\":\"Theresa\",\"name\":\"Allyn Rachel\"},{\"character\":\"Indian Reporter\",\"name\":\"Ravi Naidu\"},{\"character\":\"Hot Girl\",\"name\":\"Gabriela Lopez\"}],\"release_year\":2014}\n",
      "{\"budget\":0,\"genres\":[\"Action\",\"Comedy\",\"Science Fiction\"],\"keywords\":[],\"original_language\":\"en\",\"overview\":\" \",\"popularity\":0.0206,\"release_date\":1104537600000,\"revenue\":0,\"runtime\":97.0,\"spoken_languages\":[\"English\"],\"title\":\"The Helix... Loaded\",\"cast\":[],\"release_year\":2005}\n",
      "{\"budget\":31000000,\"genres\":[\"Drama\"],\"keywords\":[\"confession\",\"airplane\",\"f word\",\"hangover\",\"airplane crash\",\"syringe\",\"denial\",\"porn actress\",\"jesus freak\",\"baseball stadium\",\"perjury\",\"national transportation safety board\",\"flying upside down\",\"narcissist\",\"relapse\",\"substance abuse\"],\"original_language\":\"en\",\"overview\":\"Commercial airline pilot Whip Whitaker has a problem with drugs and alcohol, though so far he's managed to complete his flights safely. His luck runs out when a disastrous mechanical malfunction sends his plane hurtling toward the ground. Whip pulls off a miraculous crash-landing that results in only six lives lost. Shaken to the core, Whip vows to get sober -- but when the crash investigation exposes his addiction, he finds himself in an even worse situation.\",\"popularity\":42.213765,\"release_date\":1351814400000,\"revenue\":161772375,\"runtime\":138.0,\"spoken_languages\":[\"English\"],\"title\":\"Flight\",\"cast\":[{\"character\":\"Whip Whitaker\",\"name\":\"Denzel Washington\"},{\"character\":\"Hugh Lang\",\"name\":\"Don Cheadle\"},{\"character\":\"Charlie Anderson\",\"name\":\"Bruce Greenwood\"},{\"character\":\"Nicole\",\"name\":\"Kelly Reilly\"},{\"character\":\"Harling Mays\",\"name\":\"John Goodman\"},{\"character\":\"Ken Evans\",\"name\":\"Brian Geraghty\"},{\"character\":\"Katerina Marquez\",\"name\":\"Nadine Velazquez\"},{\"character\":\"Margaret Thomason\",\"name\":\"Tamara Tunie\"},{\"character\":\"Ellen Block\",\"name\":\"Melissa Leo\"},{\"character\":\"Deana\",\"name\":\"Garcelle Beauvais\"},{\"character\":\"Will Whitaker Jr.\",\"name\":\"Justin Martin\"},{\"character\":\"Avington Carr\",\"name\":\"Peter Gerety\"},{\"character\":\"Man in Hallway\",\"name\":\"James Badge Dale\"},{\"character\":\"Peach Tree Employee\",\"name\":\"Sharon Blackwood\"},{\"character\":\"Son on Plane\",\"name\":\"Carter Cabassa\"},{\"character\":\"Field Reporter\",\"name\":\"John Crow\"},{\"character\":\"Derek Hogue\",\"name\":\"Dane Davenport\"},{\"character\":\"\",\"name\":\"Piers Morgan\"}],\"release_year\":2012}\n",
      "{\"budget\":35000000,\"genres\":[\"Animation\",\"Family\",\"Adventure\"],\"keywords\":[\"animation\",\"animal\",\"3d\"],\"original_language\":\"en\",\"overview\":\"The animated comedy tells the story of a lowly wood pigeon named Valiant, who overcomes his small size to become a hero in Great Britain's Royal Air Force Homing Pigeon Service during World War II. The RHPS advanced the Allied cause by flying vital messages about enemy movements across the English Channel, whilst evading brutal attacks by the enemy's Falcon Brigade.\",\"popularity\":14.051852,\"release_date\":1111708800000,\"revenue\":19478106,\"runtime\":76.0,\"spoken_languages\":[\"English\"],\"title\":\"Valiant\",\"cast\":[{\"character\":\"Valiant (voice)\",\"name\":\"Ewan McGregor\"},{\"character\":\"Bugsy (voice)\",\"name\":\"Ricky Gervais\"},{\"character\":\"Von Talon (voice)\",\"name\":\"Tim Curry\"},{\"character\":\"Sergeant (voice)\",\"name\":\"Jim Broadbent\"},{\"character\":\"Gutsy (voice)\",\"name\":\"Hugh Laurie\"},{\"character\":\"Mercury (voice)\",\"name\":\"John Cleese\"},{\"character\":\"Felix (voice)\",\"name\":\"John Hurt\"},{\"character\":\"Lofty (voice)\",\"name\":\"Pip Torrens\"},{\"character\":\"Cufflingk (voice)\",\"name\":\"Rik Mayall\"},{\"character\":\"Victoria (voice)\",\"name\":\"Olivia Williams\"},{\"character\":\"Big Thug (voice)\",\"name\":\"Jonathan Ross\"},{\"character\":\"Toughwood (voice)\",\"name\":\"Brian Lonsdale\"},{\"character\":\"Tailfeather (voice)\",\"name\":\"Dan Roberts\"},{\"character\":\"Underlingk (voice)\",\"name\":\"Michael Schlingmann\"},{\"character\":\"Charles De Girl\",\"name\":\"Sharon Horgan\"}],\"release_year\":2005}\n",
      "\n"
     ]
    }
   ],
   "source": [
    "res = query_movie_db(\"air bud\")\n",
    "print(res[\"llm_consumable\"])"
   ]
  },
  {
   "cell_type": "code",
   "execution_count": 15,
   "id": "8740ce74",
   "metadata": {},
   "outputs": [
    {
     "data": {
      "application/vnd.microsoft.datawrangler.viewer.v0+json": {
       "columns": [
        {
         "name": "index",
         "rawType": "int64",
         "type": "integer"
        },
        {
         "name": "budget",
         "rawType": "int64",
         "type": "integer"
        },
        {
         "name": "genres",
         "rawType": "object",
         "type": "unknown"
        },
        {
         "name": "keywords",
         "rawType": "object",
         "type": "unknown"
        },
        {
         "name": "original_language",
         "rawType": "object",
         "type": "string"
        },
        {
         "name": "overview",
         "rawType": "object",
         "type": "string"
        },
        {
         "name": "popularity",
         "rawType": "float64",
         "type": "float"
        },
        {
         "name": "release_date",
         "rawType": "object",
         "type": "unknown"
        },
        {
         "name": "revenue",
         "rawType": "int64",
         "type": "integer"
        },
        {
         "name": "runtime",
         "rawType": "float64",
         "type": "float"
        },
        {
         "name": "spoken_languages",
         "rawType": "object",
         "type": "unknown"
        },
        {
         "name": "title",
         "rawType": "object",
         "type": "string"
        },
        {
         "name": "cast",
         "rawType": "object",
         "type": "unknown"
        },
        {
         "name": "release_year",
         "rawType": "int64",
         "type": "integer"
        }
       ],
       "ref": "2b23b6e1-4bb9-41cd-875e-78107fb5810f",
       "rows": [
        [
         "0",
         "3500000",
         "['Comedy']",
         "['chicago' 'alcohol' 'cataclysm' 'guitar' 'medicine' 'taxi driver'\n 'passenger' 'saxophone' 'stewardess' 'pilot' 'airplane' 'fear of flying'\n 'air controller' 'landing' 'autopilot' 'kiss' 'spoof' 'los angeles'\n 'alcohol abuse' 'aftercreditsstinger' 'anarchic comedy']",
         "en",
         "Alcoholic pilot, Ted Striker has developed a fear of flying due to wartime trauma, but nevertheless boards a passenger jet in an attempt to woo back his stewardess girlfriend. Food poisoning decimates the passengers and crew, leaving it up to Striker to land the plane with the help of a glue-sniffing air traffic controller and Striker's vengeful former Air Force captain, who must both talk him down.",
         "46.116885",
         "1980-07-02",
         "83453539",
         "88.0",
         "['English']",
         "Airplane!",
         "[{'character': 'Ted Striker', 'name': 'Robert Hays'}\n {'character': 'Elaine', 'name': 'Julie Hagerty'}\n {'character': 'Murdock', 'name': 'Kareem Abdul-Jabbar'}\n {'character': 'McCroskey', 'name': 'Lloyd Bridges'}\n {'character': 'Captain Oveur', 'name': 'Peter Graves'}\n {'character': 'Dr. Rumack', 'name': 'Leslie Nielsen'}\n {'character': 'Randy', 'name': 'Lorna Patterson'}\n {'character': 'Rex Kramer', 'name': 'Robert Stack'}\n {'character': 'Johnny', 'name': 'Stephen Stucker'}\n {'character': 'Religious zealot #6', 'name': 'Jim Abrahams'}\n {'character': 'Victor Basta', 'name': 'Frank Ashmore'}\n {'character': 'Gunderson', 'name': 'Jonathan Banks'}\n {'character': 'Paul Carey', 'name': 'Craig Berenson'}\n {'character': 'Jive Lady', 'name': 'Barbara Billingsley'}\n {'character': 'Mrs. Hammen', 'name': 'Lee Bryant'}\n {'character': 'Mrs. Davis', 'name': 'Joyce Bulifant'}\n {'character': 'Security Lady', 'name': 'Mae E. Campbell'}\n {'character': 'Lieutenant Hurwitz', 'name': 'Ethel Merman'}\n {'character': 'Windshield Wiper Man', 'name': 'Jimmie Walker'}\n {'character': 'Lisa Davis', 'name': 'Jill Whelan'}\n {'character': '', 'name': 'Kitten Natividad'}\n {'character': 'Cocaine Lady', 'name': 'Nora Meerbaum'}\n {'character': 'Air Controller Neubauer', 'name': 'Kenneth Tobey'}]",
         "1980"
        ],
        [
         "1",
         "209000000",
         "['Thriller' 'Action' 'Adventure' 'Science Fiction']",
         "['fight' 'u.s. navy' 'mind reading' 'hong kong' 'soccer' 'scientist'\n 'fictional war' 'naval' 'armada' 'battleship' 'naval combat' 'jds myoko'\n 'lost communication' 'taser' 'buoy' 'communications expert'\n 'joint chiefs of staff' 'crash landing' 'jet fighter pilot'\n 'navy lieutenant' 'permission to marry' 'uss john paul jones'\n 'based on board game' 'aftercreditsstinger' 'mighty mo' 'uss missouri']",
         "en",
         "When mankind beams a radio signal into space, a reply comes from ‘Planet G’, in the form of several alien crafts that splash down in the waters off Hawaii. Lieutenant Alex Hopper is a weapons officer assigned to the USS John Paul Jones, part of an international naval coalition which becomes the world's last hope for survival as they engage the hostile alien force of unimaginable strength. While taking on the invaders, Hopper must also try to live up to the potential his brother, and his fiancée's father, Admiral Shane, expect of him.",
         "64.928382",
         "2012-04-11",
         "303025485",
         "131.0",
         "['English' 'ภาษาไทย']",
         "Battleship",
         "[{'character': 'Lieutenant Alex Hopper', 'name': 'Taylor Kitsch'}\n {'character': 'Commander Stone Hopper', 'name': 'Alexander Skarsgård'}\n {'character': \"Petty Officer Cora 'Weps' Raikes\", 'name': 'Rihanna'}\n {'character': 'Sam', 'name': 'Brooklyn Decker'}\n {'character': 'Captain Yugi Nagata', 'name': 'Tadanobu Asano'}\n {'character': 'Admiral Shane', 'name': 'Liam Neeson'}\n {'character': 'Lieutenant Colonel Mick Canales', 'name': 'Gregory D. Gadson'}\n {'character': 'Cal Zapata', 'name': 'Hamish Linklater'}\n {'character': 'Boatswain Mate Seaman Jimmy \"Ordy\" Ord', 'name': 'Jesse Plemons'}\n {'character': 'Chief Petty Officer Walter \"The Beast\" Lynch', 'name': 'John Tui'}\n {'character': 'Sampson JOOD Strodell', 'name': 'Jerry Ferrara'}\n {'character': 'NASA Director', 'name': 'David Jensen'}\n {'character': 'JPJ 2nd Gunner', 'name': 'Peter Berg'}\n {'character': 'Dr. Nogrady', 'name': 'Adam Godley'}\n {'character': 'Captain Browley', 'name': 'Rico McClinton'}\n {'character': 'Chief Engineer Hiroki', 'name': 'Joji Yoshida'}\n {'character': 'JPJ OOD', 'name': 'Stephen Bishop'}\n {'character': 'JPJ Fireman', 'name': 'Austin Naulty'}\n {'character': 'JPJ Scat', 'name': 'James Rawlings'}\n {'character': 'Electronic Warfare Supervisor', 'name': 'Dustin J. Reno'}\n {'character': 'Chairman, Joint Chiefs of Staff', 'name': 'Rick Hoffman'}\n {'character': 'Air Force Chief of Staff', 'name': 'Gary Grubbs'}\n {'character': 'Watch Officer', 'name': 'Rami Malek'}\n {'character': 'Secretary of Defense', 'name': 'Peter MacNicol'}\n {'character': 'Bartender', 'name': 'Louis Lombardi'}\n {'character': 'JPJ Sailor', 'name': 'Jordan Kirkwood'}\n {'character': 'CIC Watch Supervisor', 'name': 'Doug Penty'}\n {'character': 'CIC Gunner', 'name': 'Carson Aune'}\n {'character': 'Combat Systems Coordinator', 'name': 'Josh Pence'}\n {'character': 'JPJ Port Gunner', 'name': 'Lloyd Pitts'}\n {'character': 'British Newscaster', 'name': 'Michelle Arthur'}\n {'character': 'Spanish Newscaster', 'name': 'Natalia Castellanos'}\n {'character': 'Japanese Newscaster', 'name': 'Leni Ito'}\n {'character': 'Jackie Johnson', 'name': 'Jackie Johnson'}\n {'character': \"Cal's Female Colleague\", 'name': 'Kerry Cahill'}\n {'character': 'Old Salt', 'name': 'Norman Vincent McLafferty'}\n {'character': 'JPJ XO Mullenaro', 'name': 'Dante Jimenez'}\n {'character': 'JPJ Helmsman', 'name': 'Daven Arce'}\n {'character': 'JPJ Starboard Gunner', 'name': 'Ralph Richardson'}\n {'character': 'JPJ BMOW', 'name': 'Biunca Love'}\n {'character': 'Regent Sea Commander', 'name': 'Kyle Russell Clements'}\n {'character': 'Myoko XO', 'name': 'Yutaka Takeuchi'}\n {'character': 'JPJ Sailor', 'name': 'John A Weaver'}\n {'character': 'Sampson OOD', 'name': 'Dane Justman'}\n {'character': 'Sampson XO', 'name': 'Drew Rausch'}\n {'character': 'Marine Commandant', 'name': 'Bill Stinchcomb'}]",
         "2012"
        ],
        [
         "2",
         "0",
         "['Comedy']",
         "['independent film']",
         "en",
         "“The Living Wake” is a dark comedy set in a timeless storybook universe. Self-proclaimed artist and genius, K. Roth Binew, has one day to live. He has enlisted his best and only friend, Mills Joquin, to take him around on a bicycle powered rickshaw. In a final attempt to probe life’s deepest mysteries, Binew endures one ridiculous trial after the next. He concludes his day with a final performance, his living wake. On a makeshift stage in an open field, Binew’s friends and enemies gather to witness his madness one final time.",
         "0.383442",
         "2007-01-01",
         "0",
         "91.0",
         "[]",
         "The Living Wake",
         "[{'character': 'Mills', 'name': 'Jesse Eisenberg'}\n {'character': 'K. Roth Binew', 'name': \"Mike O'Connell\"}\n {'character': 'Lampert Binew', 'name': 'Jim Gaffigan'}\n {'character': 'Librarian', 'name': 'Ann Dowd'}\n {'character': 'Prostitute', 'name': 'Colombe Jacobsen-Derstine'}\n {'character': 'Reginald', 'name': 'Eddie Pepitone'}]",
         "2007"
        ],
        [
         "3",
         "2627000",
         "['Drama' 'Romance' 'War']",
         "['pilot' 'airplane' 'ghost']",
         "en",
         "Pete Sandidge (Tracy), a daredevil bomber pilot, dies when he crashes his plane into a German aircraft carrier, leaving his devoted girlfriend, Dorinda (Irene Dunne), who is also a pilot, heartbroken. In heaven, Pete receives a new assignment: he is to become the guardian angel for Ted Randall (Van Johnson), a young Army flyer. Invisibly, Pete guides Ted through flight school and into combat, but the ectoplasmic mentor's tolerance is tested when Ted falls for Dorinda. Ultimately, however, Pete not only comes to terms with their relationship but also acts as Dorinda's copilot when she undertakes a dangerous bombing raid, so that Ted won't have to. Remade by Steven Speilberg in 1989 as ALWAYS",
         "0.531444",
         "1944-03-01",
         "5363000",
         "120.0",
         "['English']",
         "A Guy Named Joe",
         "[{'character': 'Pete Sandidge', 'name': 'Spencer Tracy'}\n {'character': 'Dorinda Durston', 'name': 'Irene Dunne'}\n {'character': 'Ted Randall', 'name': 'Van Johnson'}\n {'character': 'Al Yackey', 'name': 'Ward Bond'}\n {'character': \"'Nails' Kilpatrick\", 'name': 'James Gleason'}\n {'character': 'The General', 'name': 'Lionel Barrymore'}\n {'character': 'Dick Rumney', 'name': 'Barry Nelson'}\n {'character': 'Ellen Bright', 'name': 'Esther Williams'}\n {'character': 'Col. Sykes', 'name': \"Henry O'Neill\"}\n {'character': 'James J. Rourke', 'name': 'Don DeFore'}\n {'character': 'Sanderson', 'name': 'Charles Smith'}\n {'character': 'Maj. Corbett', 'name': 'Addison Richards'}\n {'character': 'Henderson', 'name': 'Irving Bacon'}\n {'character': 'Girlfriend of Rourke', 'name': 'Eve Whitney'}]",
         "1944"
        ],
        [
         "4",
         "6500000",
         "['Comedy' 'Drama']",
         "['father son relationship' 'capitalism' 'based on novel' 'smoking' 'lie'\n 'cigarette' 'research' 'law' 'health' 'marketing' 'politics' 'politician'\n 'tobacco' 'liar' 'dark comedy' 'cancer' 'independent film' 'money'\n 'morality' 'social satire' 'cigarette smoking' 'business' 'advertising'\n 'guilt' 'humiliation' 'lobby' 'bribe' 'corporation' 'lung cancer'\n 'lobbyist' 'tobacco industry' 'nicotine']",
         "en",
         "The chief spokesperson and lobbyist Nick Naylor is the Vice-President of the Academy of Tobacco Studies. He is talented in speaking and spins argument to defend the cigarette industry in the most difficult situations. His best friends are Polly Bailey that works in the Moderation Council in alcohol business, and Bobby Jay Bliss of the gun business own advisory group SAFETY. They frequently meet each other in a bar and they self-entitle the Mod Squad a.k.a. Merchants of Death, disputing which industry has killed more people. Nick's greatest enemy is Vermont's Senator Ortolan Finistirre, who defends in the Senate the use a skull and crossed bones in the cigarette packs. Nick's son Joey Naylor lives with his mother, and has the chance to know his father in a business trip. When the ambitious reporter Heather Holloway betrays Nick disclosing confidences he had in bed with her, his life turns upside-down. But Nick is good in what he does for the mortgage.",
         "29.01153",
         "2005-09-05",
         "24793509",
         "92.0",
         "['English']",
         "Thank You for Smoking",
         "[{'character': 'Nick Naylor', 'name': 'Aaron Eckhart'}\n {'character': 'Polly Bailey', 'name': 'Maria Bello'}\n {'character': 'Joey Naylor', 'name': 'Cameron Bright'}\n {'character': 'Jack', 'name': 'Adam Brody'}\n {'character': 'Lorne Lutch', 'name': 'Sam Elliott'}\n {'character': 'Heather Holloway', 'name': 'Katie Holmes'}\n {'character': 'Jeff Megall', 'name': 'Rob Lowe'}\n {'character': 'Senator Ortolan Finistirre', 'name': 'William H. Macy'}\n {'character': 'The Captain', 'name': 'Robert Duvall'}\n {'character': 'Bobby Jay Bliss', 'name': 'David Koechner'}\n {'character': 'BR', 'name': 'J.K. Simmons'}\n {'character': 'Jill Naylor', 'name': 'Kim Dickens'}\n {'character': 'Pearl', 'name': 'Connie Ray'}\n {'character': 'Joan Lunden', 'name': 'Joan Lunden'}\n {'character': 'Sue Maclean', 'name': 'Mary Jo Smith'}\n {'character': 'Ron Goode', 'name': 'Todd Louiso'}\n {'character': 'Kidnapper', 'name': 'Jeff Witzke'}\n {'character': 'Teacher', 'name': 'Marianne Muellerleile'}\n {'character': 'Kid #2', 'name': 'Jordan Garrett'}\n {'character': 'Kid #3', 'name': 'Courtney Taylor Burness'}\n {'character': 'Brad', 'name': 'Daniel Travis'}\n {'character': 'Trainee', 'name': 'Richard Speight Jr.'}\n {'character': 'Tiffany', 'name': 'Renée Graham'}\n {'character': 'EGO Assistant', 'name': 'Timothy Dowling'}\n {'character': 'Dennis Miller', 'name': 'Dennis Miller'}\n {'character': 'Ski Mask #1', 'name': 'Terry James'}\n {'character': 'Ski Mask #2', 'name': 'Marc Scizak'}\n {'character': 'Flighty Girl', 'name': 'Rachel Thorp'}\n {'character': 'Doctor', 'name': 'Aaron Lustig'}\n {'character': 'Interviewer', 'name': 'Melora Hardin'}\n {'character': 'FBI Agent (voice)', 'name': 'Brian Palermo'}\n {'character': 'Dr. Meisenbach', 'name': 'Michael Mantell'}\n {'character': 'Senator Lothridge', 'name': 'Spencer Garrett'}\n {'character': 'Senator Dupree', 'name': 'Earl Billings'}\n {'character': 'Reporter #1', 'name': 'Catherine Reitman'}\n {'character': 'Reporter #2', 'name': 'Sean Patrick Murphy'}\n {'character': 'Oil Lobbyist', 'name': 'David O. Sacks'}\n {'character': \"Nancy Humphries O'Dell\", 'name': \"Nancy O'Dell\"}\n {'character': 'Debate Moderator', 'name': 'Roy Jenkins'}\n {'character': 'Gentleman #2', 'name': 'Bruce French'}\n {'character': 'Man at Metro Station (uncredited)', 'name': 'Christopher Buckley'}\n {'character': 'Hotel Phone Operator (voice) (uncredited)', 'name': 'Dana E. Glauberman'}\n {'character': 'Flight Attendant (uncredited)', 'name': 'Eva La Dare'}\n {'character': 'Peter (uncredited)', 'name': 'Robert Malina'}\n {'character': 'Gizelle (voice) (uncredited)', 'name': 'Aloma Wright'}]",
         "2005"
        ],
        [
         "5",
         "3000000",
         "['Comedy' 'Drama' 'Romance']",
         "['new york' \"new year's eve\" 'lovesickness' 'age difference'\n 'suicide attempt' 'office' 'flat' 'spaghetti' 'christmas party' 'winter'\n 'clerk' 'tennis racket' 'romantic comedy' 'extramarital affair']",
         "en",
         "Bud Baxter is a minor clerk in a huge New York insurance company, until he discovers a quick way to climb the corporate ladder. He lends out his apartment to the executives as a place to take their mistresses. Although he often has to deal with the aftermath of their visits, one night he's left with a major problem to solve.",
         "22.889294",
         "1960-06-15",
         "25000000",
         "125.0",
         "['English']",
         "The Apartment",
         "[{'character': 'C.C. Baxter', 'name': 'Jack Lemmon'}\n {'character': 'Fran Kubelik', 'name': 'Shirley MacLaine'}\n {'character': 'Jeff D. Sheldrake', 'name': 'Fred MacMurray'}\n {'character': 'Joe Dobisch', 'name': 'Ray Walston'}\n {'character': 'Dr. Dreyfuss', 'name': 'Jack Kruschen'}\n {'character': 'Mrs. Mildred Dreyfuss', 'name': 'Naomi Stevens'}\n {'character': 'Mrs. Margie MacDougall', 'name': 'Hope Holiday'}\n {'character': 'Miss Olsen', 'name': 'Edie Adams'}\n {'character': 'Sylvia', 'name': 'Joan Shawlee'}\n {'character': 'Karl Matuschka', 'name': 'Johnny Seven'}\n {'character': 'Al Kirkeby', 'name': 'David Lewis'}\n {'character': 'The Blonde', 'name': 'Joyce Jameson'}\n {'character': 'Mr. Vanderhoff', 'name': 'Willard Waterman'}\n {'character': 'Mr. Eichelberger', 'name': 'David White'}\n {'character': 'Office Worker (uncredited)', 'name': 'Dorothy Abbott'}\n {'character': 'Office Worker (uncredited)', 'name': 'Ralph Moratz'}\n {'character': 'Office Maintenance Man (uncredited)', 'name': 'Joe Palma'}\n {'character': 'TV Movie Host (uncredited)', 'name': 'Bill Baldwin'}\n {'character': 'Charlie - Bartender (uncredited)', 'name': 'Benny Burt'}\n {'character': 'Elevator Supervisor with Clicker (uncredited)', 'name': 'Lynn Cartwright'}\n {'character': 'Bit Part (uncredited)', 'name': 'Mason Curry'}\n {'character': 'Messenger (uncredited)', 'name': 'David Macklin'}\n {'character': 'Man in Santa Claus Suit (uncredited)', 'name': 'Hal Smith'}]",
         "1960"
        ],
        [
         "6",
         "25000000",
         "['Drama']",
         "['baseball' 'sport' 'duringcreditsstinger']",
         "en",
         "In a last-ditch effort to save his career, sports agent JB Bernstein (Jon Hamm) dreams up a wild game plan to find Major League Baseball’s next great pitcher from a pool of cricket players in India. He soon discovers two young men who can throw a fastball but know nothing about the game of baseball. Or America. It’s an incredible and touching journey that will change them all — especially JB, who learns valuable lessons about teamwork, commitment and family.",
         "17.312433",
         "2014-05-09",
         "38307627",
         "124.0",
         "['हिन्दी' 'English']",
         "Million Dollar Arm",
         "[{'character': 'J. B. Bernstein', 'name': 'Jon Hamm'}\n {'character': 'Tom House', 'name': 'Bill Paxton'}\n {'character': 'Brenda Paauwe', 'name': 'Lake Bell'}\n {'character': 'Rinku', 'name': 'Suraj Sharma'}\n {'character': 'Ash Vasudevan', 'name': 'Aasif Mandvi'}\n {'character': 'Dinesh', 'name': 'Madhur Mittal'}\n {'character': 'Amit', 'name': 'Pitobash'}\n {'character': 'Ray Arkin', 'name': 'Alan Arkin'}\n {'character': 'Lisette', 'name': 'Bar Paly'}\n {'character': 'Pete', 'name': 'Al Sapienza'}\n {'character': 'Chang', 'name': 'Tzi Ma'}\n {'character': 'Theresa', 'name': 'Allyn Rachel'}\n {'character': 'Indian Reporter', 'name': 'Ravi Naidu'}\n {'character': 'Hot Girl', 'name': 'Gabriela Lopez'}]",
         "2014"
        ],
        [
         "7",
         "0",
         "['Action' 'Comedy' 'Science Fiction']",
         "[]",
         "en",
         " ",
         "0.0206",
         "2005-01-01",
         "0",
         "97.0",
         "['English']",
         "The Helix... Loaded",
         "[]",
         "2005"
        ],
        [
         "8",
         "31000000",
         "['Drama']",
         "['confession' 'airplane' 'f word' 'hangover' 'airplane crash' 'syringe'\n 'denial' 'porn actress' 'jesus freak' 'baseball stadium' 'perjury'\n 'national transportation safety board' 'flying upside down' 'narcissist'\n 'relapse' 'substance abuse']",
         "en",
         "Commercial airline pilot Whip Whitaker has a problem with drugs and alcohol, though so far he's managed to complete his flights safely. His luck runs out when a disastrous mechanical malfunction sends his plane hurtling toward the ground. Whip pulls off a miraculous crash-landing that results in only six lives lost. Shaken to the core, Whip vows to get sober -- but when the crash investigation exposes his addiction, he finds himself in an even worse situation.",
         "42.213765",
         "2012-11-02",
         "161772375",
         "138.0",
         "['English']",
         "Flight",
         "[{'character': 'Whip Whitaker', 'name': 'Denzel Washington'}\n {'character': 'Hugh Lang', 'name': 'Don Cheadle'}\n {'character': 'Charlie Anderson', 'name': 'Bruce Greenwood'}\n {'character': 'Nicole', 'name': 'Kelly Reilly'}\n {'character': 'Harling Mays', 'name': 'John Goodman'}\n {'character': 'Ken Evans', 'name': 'Brian Geraghty'}\n {'character': 'Katerina Marquez', 'name': 'Nadine Velazquez'}\n {'character': 'Margaret Thomason', 'name': 'Tamara Tunie'}\n {'character': 'Ellen Block', 'name': 'Melissa Leo'}\n {'character': 'Deana', 'name': 'Garcelle Beauvais'}\n {'character': 'Will Whitaker Jr.', 'name': 'Justin Martin'}\n {'character': 'Avington Carr', 'name': 'Peter Gerety'}\n {'character': 'Man in Hallway', 'name': 'James Badge Dale'}\n {'character': 'Peach Tree Employee', 'name': 'Sharon Blackwood'}\n {'character': 'Son on Plane', 'name': 'Carter Cabassa'}\n {'character': 'Field Reporter', 'name': 'John Crow'}\n {'character': 'Derek Hogue', 'name': 'Dane Davenport'}\n {'character': '', 'name': 'Piers Morgan'}]",
         "2012"
        ],
        [
         "9",
         "35000000",
         "['Animation' 'Family' 'Adventure']",
         "['animation' 'animal' '3d']",
         "en",
         "The animated comedy tells the story of a lowly wood pigeon named Valiant, who overcomes his small size to become a hero in Great Britain's Royal Air Force Homing Pigeon Service during World War II. The RHPS advanced the Allied cause by flying vital messages about enemy movements across the English Channel, whilst evading brutal attacks by the enemy's Falcon Brigade.",
         "14.051852",
         "2005-03-25",
         "19478106",
         "76.0",
         "['English']",
         "Valiant",
         "[{'character': 'Valiant (voice)', 'name': 'Ewan McGregor'}\n {'character': 'Bugsy (voice)', 'name': 'Ricky Gervais'}\n {'character': 'Von Talon (voice)', 'name': 'Tim Curry'}\n {'character': 'Sergeant (voice)', 'name': 'Jim Broadbent'}\n {'character': 'Gutsy (voice)', 'name': 'Hugh Laurie'}\n {'character': 'Mercury (voice)', 'name': 'John Cleese'}\n {'character': 'Felix (voice)', 'name': 'John Hurt'}\n {'character': 'Lofty (voice)', 'name': 'Pip Torrens'}\n {'character': 'Cufflingk (voice)', 'name': 'Rik Mayall'}\n {'character': 'Victoria (voice)', 'name': 'Olivia Williams'}\n {'character': 'Big Thug (voice)', 'name': 'Jonathan Ross'}\n {'character': 'Toughwood (voice)', 'name': 'Brian Lonsdale'}\n {'character': 'Tailfeather (voice)', 'name': 'Dan Roberts'}\n {'character': 'Underlingk (voice)', 'name': 'Michael Schlingmann'}\n {'character': 'Charles De Girl', 'name': 'Sharon Horgan'}]",
         "2005"
        ]
       ],
       "shape": {
        "columns": 13,
        "rows": 10
       }
      },
      "text/html": [
       "<div>\n",
       "<style scoped>\n",
       "    .dataframe tbody tr th:only-of-type {\n",
       "        vertical-align: middle;\n",
       "    }\n",
       "\n",
       "    .dataframe tbody tr th {\n",
       "        vertical-align: top;\n",
       "    }\n",
       "\n",
       "    .dataframe thead th {\n",
       "        text-align: right;\n",
       "    }\n",
       "</style>\n",
       "<table border=\"1\" class=\"dataframe\">\n",
       "  <thead>\n",
       "    <tr style=\"text-align: right;\">\n",
       "      <th></th>\n",
       "      <th>budget</th>\n",
       "      <th>genres</th>\n",
       "      <th>keywords</th>\n",
       "      <th>original_language</th>\n",
       "      <th>overview</th>\n",
       "      <th>popularity</th>\n",
       "      <th>release_date</th>\n",
       "      <th>revenue</th>\n",
       "      <th>runtime</th>\n",
       "      <th>spoken_languages</th>\n",
       "      <th>title</th>\n",
       "      <th>cast</th>\n",
       "      <th>release_year</th>\n",
       "    </tr>\n",
       "  </thead>\n",
       "  <tbody>\n",
       "    <tr>\n",
       "      <th>0</th>\n",
       "      <td>3500000</td>\n",
       "      <td>[Comedy]</td>\n",
       "      <td>[chicago, alcohol, cataclysm, guitar, medicine...</td>\n",
       "      <td>en</td>\n",
       "      <td>Alcoholic pilot, Ted Striker has developed a f...</td>\n",
       "      <td>46.116885</td>\n",
       "      <td>1980-07-02</td>\n",
       "      <td>83453539</td>\n",
       "      <td>88.0</td>\n",
       "      <td>[English]</td>\n",
       "      <td>Airplane!</td>\n",
       "      <td>[{'character': 'Ted Striker', 'name': 'Robert ...</td>\n",
       "      <td>1980</td>\n",
       "    </tr>\n",
       "    <tr>\n",
       "      <th>1</th>\n",
       "      <td>209000000</td>\n",
       "      <td>[Thriller, Action, Adventure, Science Fiction]</td>\n",
       "      <td>[fight, u.s. navy, mind reading, hong kong, so...</td>\n",
       "      <td>en</td>\n",
       "      <td>When mankind beams a radio signal into space, ...</td>\n",
       "      <td>64.928382</td>\n",
       "      <td>2012-04-11</td>\n",
       "      <td>303025485</td>\n",
       "      <td>131.0</td>\n",
       "      <td>[English, ภาษาไทย]</td>\n",
       "      <td>Battleship</td>\n",
       "      <td>[{'character': 'Lieutenant Alex Hopper', 'name...</td>\n",
       "      <td>2012</td>\n",
       "    </tr>\n",
       "    <tr>\n",
       "      <th>2</th>\n",
       "      <td>0</td>\n",
       "      <td>[Comedy]</td>\n",
       "      <td>[independent film]</td>\n",
       "      <td>en</td>\n",
       "      <td>“The Living Wake” is a dark comedy set in a ti...</td>\n",
       "      <td>0.383442</td>\n",
       "      <td>2007-01-01</td>\n",
       "      <td>0</td>\n",
       "      <td>91.0</td>\n",
       "      <td>[]</td>\n",
       "      <td>The Living Wake</td>\n",
       "      <td>[{'character': 'Mills', 'name': 'Jesse Eisenbe...</td>\n",
       "      <td>2007</td>\n",
       "    </tr>\n",
       "    <tr>\n",
       "      <th>3</th>\n",
       "      <td>2627000</td>\n",
       "      <td>[Drama, Romance, War]</td>\n",
       "      <td>[pilot, airplane, ghost]</td>\n",
       "      <td>en</td>\n",
       "      <td>Pete Sandidge (Tracy), a daredevil bomber pilo...</td>\n",
       "      <td>0.531444</td>\n",
       "      <td>1944-03-01</td>\n",
       "      <td>5363000</td>\n",
       "      <td>120.0</td>\n",
       "      <td>[English]</td>\n",
       "      <td>A Guy Named Joe</td>\n",
       "      <td>[{'character': 'Pete Sandidge', 'name': 'Spenc...</td>\n",
       "      <td>1944</td>\n",
       "    </tr>\n",
       "    <tr>\n",
       "      <th>4</th>\n",
       "      <td>6500000</td>\n",
       "      <td>[Comedy, Drama]</td>\n",
       "      <td>[father son relationship, capitalism, based on...</td>\n",
       "      <td>en</td>\n",
       "      <td>The chief spokesperson and lobbyist Nick Naylo...</td>\n",
       "      <td>29.011530</td>\n",
       "      <td>2005-09-05</td>\n",
       "      <td>24793509</td>\n",
       "      <td>92.0</td>\n",
       "      <td>[English]</td>\n",
       "      <td>Thank You for Smoking</td>\n",
       "      <td>[{'character': 'Nick Naylor', 'name': 'Aaron E...</td>\n",
       "      <td>2005</td>\n",
       "    </tr>\n",
       "    <tr>\n",
       "      <th>5</th>\n",
       "      <td>3000000</td>\n",
       "      <td>[Comedy, Drama, Romance]</td>\n",
       "      <td>[new york, new year's eve, lovesickness, age d...</td>\n",
       "      <td>en</td>\n",
       "      <td>Bud Baxter is a minor clerk in a huge New York...</td>\n",
       "      <td>22.889294</td>\n",
       "      <td>1960-06-15</td>\n",
       "      <td>25000000</td>\n",
       "      <td>125.0</td>\n",
       "      <td>[English]</td>\n",
       "      <td>The Apartment</td>\n",
       "      <td>[{'character': 'C.C. Baxter', 'name': 'Jack Le...</td>\n",
       "      <td>1960</td>\n",
       "    </tr>\n",
       "    <tr>\n",
       "      <th>6</th>\n",
       "      <td>25000000</td>\n",
       "      <td>[Drama]</td>\n",
       "      <td>[baseball, sport, duringcreditsstinger]</td>\n",
       "      <td>en</td>\n",
       "      <td>In a last-ditch effort to save his career, spo...</td>\n",
       "      <td>17.312433</td>\n",
       "      <td>2014-05-09</td>\n",
       "      <td>38307627</td>\n",
       "      <td>124.0</td>\n",
       "      <td>[हिन्दी, English]</td>\n",
       "      <td>Million Dollar Arm</td>\n",
       "      <td>[{'character': 'J. B. Bernstein', 'name': 'Jon...</td>\n",
       "      <td>2014</td>\n",
       "    </tr>\n",
       "    <tr>\n",
       "      <th>7</th>\n",
       "      <td>0</td>\n",
       "      <td>[Action, Comedy, Science Fiction]</td>\n",
       "      <td>[]</td>\n",
       "      <td>en</td>\n",
       "      <td></td>\n",
       "      <td>0.020600</td>\n",
       "      <td>2005-01-01</td>\n",
       "      <td>0</td>\n",
       "      <td>97.0</td>\n",
       "      <td>[English]</td>\n",
       "      <td>The Helix... Loaded</td>\n",
       "      <td>[]</td>\n",
       "      <td>2005</td>\n",
       "    </tr>\n",
       "    <tr>\n",
       "      <th>8</th>\n",
       "      <td>31000000</td>\n",
       "      <td>[Drama]</td>\n",
       "      <td>[confession, airplane, f word, hangover, airpl...</td>\n",
       "      <td>en</td>\n",
       "      <td>Commercial airline pilot Whip Whitaker has a p...</td>\n",
       "      <td>42.213765</td>\n",
       "      <td>2012-11-02</td>\n",
       "      <td>161772375</td>\n",
       "      <td>138.0</td>\n",
       "      <td>[English]</td>\n",
       "      <td>Flight</td>\n",
       "      <td>[{'character': 'Whip Whitaker', 'name': 'Denze...</td>\n",
       "      <td>2012</td>\n",
       "    </tr>\n",
       "    <tr>\n",
       "      <th>9</th>\n",
       "      <td>35000000</td>\n",
       "      <td>[Animation, Family, Adventure]</td>\n",
       "      <td>[animation, animal, 3d]</td>\n",
       "      <td>en</td>\n",
       "      <td>The animated comedy tells the story of a lowly...</td>\n",
       "      <td>14.051852</td>\n",
       "      <td>2005-03-25</td>\n",
       "      <td>19478106</td>\n",
       "      <td>76.0</td>\n",
       "      <td>[English]</td>\n",
       "      <td>Valiant</td>\n",
       "      <td>[{'character': 'Valiant (voice)', 'name': 'Ewa...</td>\n",
       "      <td>2005</td>\n",
       "    </tr>\n",
       "  </tbody>\n",
       "</table>\n",
       "</div>"
      ],
      "text/plain": [
       "      budget                                          genres  \\\n",
       "0    3500000                                        [Comedy]   \n",
       "1  209000000  [Thriller, Action, Adventure, Science Fiction]   \n",
       "2          0                                        [Comedy]   \n",
       "3    2627000                           [Drama, Romance, War]   \n",
       "4    6500000                                 [Comedy, Drama]   \n",
       "5    3000000                        [Comedy, Drama, Romance]   \n",
       "6   25000000                                         [Drama]   \n",
       "7          0               [Action, Comedy, Science Fiction]   \n",
       "8   31000000                                         [Drama]   \n",
       "9   35000000                  [Animation, Family, Adventure]   \n",
       "\n",
       "                                            keywords original_language  \\\n",
       "0  [chicago, alcohol, cataclysm, guitar, medicine...                en   \n",
       "1  [fight, u.s. navy, mind reading, hong kong, so...                en   \n",
       "2                                 [independent film]                en   \n",
       "3                           [pilot, airplane, ghost]                en   \n",
       "4  [father son relationship, capitalism, based on...                en   \n",
       "5  [new york, new year's eve, lovesickness, age d...                en   \n",
       "6            [baseball, sport, duringcreditsstinger]                en   \n",
       "7                                                 []                en   \n",
       "8  [confession, airplane, f word, hangover, airpl...                en   \n",
       "9                            [animation, animal, 3d]                en   \n",
       "\n",
       "                                            overview  popularity release_date  \\\n",
       "0  Alcoholic pilot, Ted Striker has developed a f...   46.116885   1980-07-02   \n",
       "1  When mankind beams a radio signal into space, ...   64.928382   2012-04-11   \n",
       "2  “The Living Wake” is a dark comedy set in a ti...    0.383442   2007-01-01   \n",
       "3  Pete Sandidge (Tracy), a daredevil bomber pilo...    0.531444   1944-03-01   \n",
       "4  The chief spokesperson and lobbyist Nick Naylo...   29.011530   2005-09-05   \n",
       "5  Bud Baxter is a minor clerk in a huge New York...   22.889294   1960-06-15   \n",
       "6  In a last-ditch effort to save his career, spo...   17.312433   2014-05-09   \n",
       "7                                                       0.020600   2005-01-01   \n",
       "8  Commercial airline pilot Whip Whitaker has a p...   42.213765   2012-11-02   \n",
       "9  The animated comedy tells the story of a lowly...   14.051852   2005-03-25   \n",
       "\n",
       "     revenue  runtime    spoken_languages                  title  \\\n",
       "0   83453539     88.0           [English]              Airplane!   \n",
       "1  303025485    131.0  [English, ภาษาไทย]             Battleship   \n",
       "2          0     91.0                  []        The Living Wake   \n",
       "3    5363000    120.0           [English]        A Guy Named Joe   \n",
       "4   24793509     92.0           [English]  Thank You for Smoking   \n",
       "5   25000000    125.0           [English]          The Apartment   \n",
       "6   38307627    124.0   [हिन्दी, English]     Million Dollar Arm   \n",
       "7          0     97.0           [English]    The Helix... Loaded   \n",
       "8  161772375    138.0           [English]                 Flight   \n",
       "9   19478106     76.0           [English]                Valiant   \n",
       "\n",
       "                                                cast  release_year  \n",
       "0  [{'character': 'Ted Striker', 'name': 'Robert ...          1980  \n",
       "1  [{'character': 'Lieutenant Alex Hopper', 'name...          2012  \n",
       "2  [{'character': 'Mills', 'name': 'Jesse Eisenbe...          2007  \n",
       "3  [{'character': 'Pete Sandidge', 'name': 'Spenc...          1944  \n",
       "4  [{'character': 'Nick Naylor', 'name': 'Aaron E...          2005  \n",
       "5  [{'character': 'C.C. Baxter', 'name': 'Jack Le...          1960  \n",
       "6  [{'character': 'J. B. Bernstein', 'name': 'Jon...          2014  \n",
       "7                                                 []          2005  \n",
       "8  [{'character': 'Whip Whitaker', 'name': 'Denze...          2012  \n",
       "9  [{'character': 'Valiant (voice)', 'name': 'Ewa...          2005  "
      ]
     },
     "execution_count": 15,
     "metadata": {},
     "output_type": "execute_result"
    }
   ],
   "source": [
    "res[\"ui_displayable\"]"
   ]
  },
  {
   "cell_type": "markdown",
   "id": "e086ae94",
   "metadata": {},
   "source": [
    "## Creating a JSON schema\n",
    "\n",
    "We need to create a JSON schema for our tools so that the LLM knows what each tool does and how to use it."
   ]
  },
  {
   "cell_type": "code",
   "execution_count": 16,
   "id": "2eee39e8",
   "metadata": {},
   "outputs": [],
   "source": [
    "# We create a BaseModel for the arguments to our function to easily create a JSON schema\n",
    "class QueryMovieDB(BaseModel):\n",
    "    text: str = Field(\n",
    "        description=\"Query overviews of movies\",\n",
    "    )\n",
    "    limit: int = Field(\n",
    "        default=10,\n",
    "        description=\"Number of results to return\",\n",
    "    )"
   ]
  },
  {
   "cell_type": "code",
   "execution_count": 17,
   "id": "1cfb0b43",
   "metadata": {},
   "outputs": [
    {
     "data": {
      "text/plain": [
       "{'type': 'function',\n",
       " 'function': {'name': 'query_movie_db',\n",
       "  'description': 'Query the LanceDB movie database for movies with similar overviews to the input text.',\n",
       "  'parameters': {'properties': {'text': {'description': 'Query overviews of movies',\n",
       "     'title': 'Text',\n",
       "     'type': 'string'},\n",
       "    'limit': {'default': 10,\n",
       "     'description': 'Number of results to return',\n",
       "     'title': 'Limit',\n",
       "     'type': 'integer'}},\n",
       "   'required': ['text'],\n",
       "   'title': 'QueryMovieDB',\n",
       "   'type': 'object'}}}"
      ]
     },
     "execution_count": 17,
     "metadata": {},
     "output_type": "execute_result"
    }
   ],
   "source": [
    "schema = create_tool_schema_for_function(query_movie_db, QueryMovieDB)\n",
    "schema"
   ]
  },
  {
   "cell_type": "markdown",
   "id": "272c992e",
   "metadata": {},
   "source": [
    "## Hugging Face InferenceClient\n",
    "\n",
    "* [Hugging Face InferenceClient Function Calling](https://huggingface.co/docs/hugs/en/guides/function-calling)"
   ]
  },
  {
   "cell_type": "code",
   "execution_count": 8,
   "id": "147a0083",
   "metadata": {},
   "outputs": [],
   "source": [
    "hf_token = os.getenv(\"HF_TOKEN\")\n",
    "if hf_token is None:\n",
    "    raise ValueError(\"HF_TOKEN environment variable not set\")\n",
    "\n",
    "hf_client = AsyncInferenceClient(\n",
    "    provider=\"sambanova\",\n",
    "    api_key=hf_token,\n",
    ")\n",
    "# hf_client = AsyncOpenAI(\n",
    "#     base_url=\"https://router.huggingface.co/sambanova\",\n",
    "#     api_key=hf_token,\n",
    "# )"
   ]
  },
  {
   "cell_type": "code",
   "execution_count": null,
   "id": "19897a50",
   "metadata": {},
   "outputs": [
    {
     "name": "stdout",
     "output_type": "stream",
     "text": [
      "[ChatCompletionOutputToolCall(function=ChatCompletionOutputFunctionDefinition(arguments='{\"limit\":10,\"text\":\"a retired assassin who is forced back into the game\"}', name='query_movie_db', description=None), id='call_10af3fbbd04c4fa0b8', type='function')]\n"
     ]
    }
   ],
   "source": [
    "messages = [\n",
    "    {\n",
    "        \"role\": \"system\",\n",
    "        \"content\": \"Don't make assumptions about values. Ask for clarification if needed.\",\n",
    "    },\n",
    "    {\n",
    "        \"role\": \"user\",\n",
    "        \"content\": \"I'd like to watch a movie about a retired assassin who is forced back into the game.\",\n",
    "    },\n",
    "]\n",
    "\n",
    "response = await hf_client.chat_completion(\n",
    "    model=\"meta-llama/Llama-3.3-70B-Instruct\",\n",
    "    messages=messages,\n",
    "    tools=[schema],\n",
    "    tool_choice=\"auto\",  # allow the model to choose to call tool, if any; others options: \"required\": call one or more tools\n",
    ")  # type: ignore\n",
    "print(response.choices[0].message.tool_calls)"
   ]
  },
  {
   "cell_type": "code",
   "execution_count": 23,
   "id": "5b8c848c",
   "metadata": {},
   "outputs": [
    {
     "data": {
      "text/plain": [
       "ChatCompletionOutputMessage(role='assistant', content=None, tool_call_id=None, tool_calls=[ChatCompletionOutputToolCall(function=ChatCompletionOutputFunctionDefinition(arguments='{\"limit\":10,\"text\":\"a retired assassin who is forced back into the game\"}', name='query_movie_db', description=None), id='call_10af3fbbd04c4fa0b8', type='function')])"
      ]
     },
     "execution_count": 23,
     "metadata": {},
     "output_type": "execute_result"
    }
   ],
   "source": [
    "response.choices[0].message"
   ]
  },
  {
   "cell_type": "code",
   "execution_count": 15,
   "id": "555fcc93",
   "metadata": {},
   "outputs": [
    {
     "data": {
      "text/plain": [
       "ChatCompletionOutputFunctionDefinition(arguments='{\"limit\":10,\"text\":\"a retired assassin who is forced back into the game\"}', name='query_movie_db', description=None)"
      ]
     },
     "execution_count": 15,
     "metadata": {},
     "output_type": "execute_result"
    }
   ],
   "source": [
    "func = response.choices[0].message.tool_calls[0].function\n",
    "func"
   ]
  },
  {
   "cell_type": "code",
   "execution_count": 19,
   "id": "53fab8d2",
   "metadata": {},
   "outputs": [
    {
     "data": {
      "text/plain": [
       "'call_10af3fbbd04c4fa0b8'"
      ]
     },
     "execution_count": 19,
     "metadata": {},
     "output_type": "execute_result"
    }
   ],
   "source": [
    "response.choices[0].message.tool_calls[0].id"
   ]
  },
  {
   "cell_type": "markdown",
   "id": "02d0a9cb",
   "metadata": {},
   "source": [
    "## OpenAI\n",
    "\n",
    "* [OpenAI Function Calling](https://platform.openai.com/docs/guides/function-calling?api-mode=chat)\n",
    "* [Generous free tier](https://platform.openai.com/docs/models/gpt-4.1-nano)\n",
    "\n",
    "![](https://i.ibb.co/JwZtC9px/Screenshot-2025-05-20-235653.png \"GPT-4.1-nano\")"
   ]
  },
  {
   "cell_type": "code",
   "execution_count": 26,
   "id": "534946a0",
   "metadata": {},
   "outputs": [],
   "source": [
    "oai_api_key = os.getenv(\"OPENAI_API_KEY\")\n",
    "if oai_api_key is None:\n",
    "    raise ValueError(\"OPENAI_API_KEY environment variable not set\")\n",
    "oai_client = AsyncOpenAI(api_key=oai_api_key)"
   ]
  },
  {
   "cell_type": "code",
   "execution_count": 25,
   "id": "086c88ea",
   "metadata": {},
   "outputs": [
    {
     "name": "stdout",
     "output_type": "stream",
     "text": [
      "[ChatCompletionMessageToolCall(id='call_x0a8WGeqTzBEyvgoCfLQHf6F', function=Function(arguments='{\"text\":\"retired assassin forced back into the game\"}', name='query_movie_db'), type='function')]\n"
     ]
    }
   ],
   "source": [
    "messages = [\n",
    "    {\n",
    "        \"role\": \"system\",\n",
    "        \"content\": \"Don't make assumptions about values. Ask for clarification if needed.\",\n",
    "    },\n",
    "    {\n",
    "        \"role\": \"user\",\n",
    "        \"content\": \"I'd like to watch a movie about a retired assassin who is forced back into the game.\",\n",
    "    },\n",
    "]\n",
    "\n",
    "response = await oai_client.chat.completions.create(\n",
    "    model=\"gpt-4.1-nano\",\n",
    "    messages=messages,\n",
    "    tools=[schema],\n",
    "    tool_choice=\"auto\",\n",
    ")\n",
    "print(response.choices[0].message.tool_calls)"
   ]
  },
  {
   "cell_type": "code",
   "execution_count": 26,
   "id": "2cd7ffa2",
   "metadata": {},
   "outputs": [
    {
     "data": {
      "text/plain": [
       "ChatCompletionMessageToolCall(id='call_x0a8WGeqTzBEyvgoCfLQHf6F', function=Function(arguments='{\"text\":\"retired assassin forced back into the game\"}', name='query_movie_db'), type='function')"
      ]
     },
     "execution_count": 26,
     "metadata": {},
     "output_type": "execute_result"
    }
   ],
   "source": [
    "tool_call = response.choices[0].message.tool_calls[0]\n",
    "tool_call"
   ]
  },
  {
   "cell_type": "code",
   "execution_count": 29,
   "id": "4a12973c",
   "metadata": {},
   "outputs": [
    {
     "data": {
      "text/plain": [
       "'query_movie_db'"
      ]
     },
     "execution_count": 29,
     "metadata": {},
     "output_type": "execute_result"
    }
   ],
   "source": [
    "tool_call.function.name"
   ]
  },
  {
   "cell_type": "code",
   "execution_count": null,
   "id": "8e1d1347",
   "metadata": {},
   "outputs": [],
   "source": [
    "AVAILABLE_FUNCTIONS = {\n",
    "    \"query_movie_db\": query_movie_db,\n",
    "}\n",
    "\n",
    "\n",
    "def call_function(name, args) -> ToolCallResult:\n",
    "    func = AVAILABLE_FUNCTIONS.get(name)\n",
    "    if not func:\n",
    "        raise ValueError(f\"Unknown function: {name}\")\n",
    "    try:\n",
    "        # Call the function with the provided arguments\n",
    "        return func(**args)\n",
    "    except TypeError as e:  # Catches errors like missing/extra arguments\n",
    "        error_msg = f\"Error: Argument mismatch when calling tool '{name}' with arguments {args}. Details: {e}\"\n",
    "        print(error_msg)\n",
    "        return {\n",
    "            \"llm_consumable\": error_msg,\n",
    "            \"ui_displayable\": error_msg,\n",
    "            \"return_type\": \"error_message\",\n",
    "        }\n",
    "    except Exception as e:  # Catches other errors during tool execution\n",
    "        error_msg = f\"Error during execution of tool '{name}' with arguments {args}. Details: {e}\"\n",
    "        print(error_msg)\n",
    "        return {\n",
    "            \"llm_consumable\": error_msg,\n",
    "            \"ui_displayable\": error_msg,\n",
    "            \"return_type\": \"error_message\",\n",
    "        }\n",
    "\n",
    "\n",
    "def handle_tool_call(\n",
    "    tool_call: ChatCompletionMessageToolCall | ChatCompletionOutputToolCall,\n",
    ") -> ToolCallResult:\n",
    "    tool_call_id = tool_call.id\n",
    "    func = tool_call.function\n",
    "    function_name = func.name\n",
    "    arguments = json.loads(func.arguments)\n",
    "    result = call_function(function_name, arguments)\n",
    "    return"
   ]
  },
  {
   "cell_type": "markdown",
   "id": "15e0aa54",
   "metadata": {},
   "source": [
    "# Check for function calls in LLM response"
   ]
  },
  {
   "cell_type": "code",
   "execution_count": null,
   "id": "d57558df",
   "metadata": {},
   "outputs": [],
   "source": [
    "tool_calls = response.choices[0].message.tool_calls\n",
    "for tool_call in tool_calls:\n",
    "    func = tool_call.function\n",
    "    func_name = func.name\n",
    "    tool_call_id = tool_call.id\n",
    "    func_args = json.loads(func.arguments)\n",
    "    result = call_function(func_name, func_args)\n",
    "    messages.append(\n",
    "        {\n",
    "            \"role\": \"tool\",\n",
    "            \"tool_call_id\": tool_call_id,\n",
    "            \"content\": json.dumps(result),\n",
    "        }\n",
    "    )"
   ]
  },
  {
   "cell_type": "code",
   "execution_count": 46,
   "id": "32ef267f",
   "metadata": {},
   "outputs": [
    {
     "data": {
      "text/plain": [
       "'{\"limit\":10,\"text\":\"a retired assassin who is forced back into the game\"}'"
      ]
     },
     "execution_count": 46,
     "metadata": {},
     "output_type": "execute_result"
    }
   ],
   "source": [
    "response.choices[0].message.tool_calls[0].function.arguments"
   ]
  },
  {
   "cell_type": "markdown",
   "id": "c0158283",
   "metadata": {},
   "source": [
    "# Sentiment Analysis\n",
    "\n",
    "[Structured Output](https://platform.openai.com/docs/guides/structured-outputs?api-mode=chat)"
   ]
  },
  {
   "cell_type": "code",
   "execution_count": 5,
   "id": "0fbe0bfb",
   "metadata": {},
   "outputs": [
    {
     "name": "stdout",
     "output_type": "stream",
     "text": [
      "{\n",
      "  \"$defs\": {\n",
      "    \"Polarity\": {\n",
      "      \"enum\": [\n",
      "        \"positive\",\n",
      "        \"negative\",\n",
      "        \"neutral\"\n",
      "      ],\n",
      "      \"title\": \"Polarity\",\n",
      "      \"type\": \"string\"\n",
      "    }\n",
      "  },\n",
      "  \"properties\": {\n",
      "    \"polarity\": {\n",
      "      \"$ref\": \"#/$defs/Polarity\"\n",
      "    },\n",
      "    \"confidence\": {\n",
      "      \"description\": \"The confidence score of the sentiment polarity between 0 and 1\",\n",
      "      \"maximum\": 1.0,\n",
      "      \"minimum\": 0.0,\n",
      "      \"title\": \"Confidence\",\n",
      "      \"type\": \"number\"\n",
      "    }\n",
      "  },\n",
      "  \"required\": [\n",
      "    \"polarity\",\n",
      "    \"confidence\"\n",
      "  ],\n",
      "  \"title\": \"SentimentAnalysisOutput\",\n",
      "  \"type\": \"object\"\n",
      "}\n"
     ]
    }
   ],
   "source": [
    "class Polarity(StrEnum):\n",
    "    POSITIVE = \"positive\"\n",
    "    NEGATIVE = \"negative\"\n",
    "    NEUTRAL = \"neutral\"\n",
    "\n",
    "\n",
    "class SentimentAnalysisOutput(BaseModel):\n",
    "    polarity: Annotated[Polarity, \"The sentiment polarity of the text\"]\n",
    "    confidence: Annotated[\n",
    "        float,\n",
    "        Field(\n",
    "            description=\"The confidence score of the sentiment polarity between 0 and 1\",\n",
    "            ge=0.0,\n",
    "            le=1.0,\n",
    "        ),\n",
    "    ]\n",
    "\n",
    "\n",
    "print(json.dumps(SentimentAnalysisOutput.model_json_schema(), indent=2))"
   ]
  },
  {
   "cell_type": "code",
   "execution_count": null,
   "id": "f934fa12",
   "metadata": {},
   "outputs": [
    {
     "ename": "ValidationError",
     "evalue": "1 validation error for SentimentAnalysisOutput\nconfidence\n  Input should be less than or equal to 1 [type=less_than_equal, input_value=1.1, input_type=float]\n    For further information visit https://errors.pydantic.dev/2.11/v/less_than_equal",
     "output_type": "error",
     "traceback": [
      "\u001b[31m---------------------------------------------------------------------------\u001b[39m",
      "\u001b[31mValidationError\u001b[39m                           Traceback (most recent call last)",
      "\u001b[36mCell\u001b[39m\u001b[36m \u001b[39m\u001b[32mIn[8]\u001b[39m\u001b[32m, line 1\u001b[39m\n\u001b[32m----> \u001b[39m\u001b[32m1\u001b[39m \u001b[43mSentimentAnalysisOutput\u001b[49m\u001b[43m(\u001b[49m\n\u001b[32m      2\u001b[39m \u001b[43m    \u001b[49m\u001b[43mpolarity\u001b[49m\u001b[43m=\u001b[49m\u001b[33;43m\"\u001b[39;49m\u001b[33;43mpositive\u001b[39;49m\u001b[33;43m\"\u001b[39;49m\u001b[43m,\u001b[49m\n\u001b[32m      3\u001b[39m \u001b[43m    \u001b[49m\u001b[43mconfidence\u001b[49m\u001b[43m=\u001b[49m\u001b[32;43m1.1\u001b[39;49m\n\u001b[32m      4\u001b[39m \u001b[43m)\u001b[49m\n",
      "\u001b[36mFile \u001b[39m\u001b[32m~/github/genai4humanities-wk14/.venv/lib/python3.11/site-packages/pydantic/main.py:253\u001b[39m, in \u001b[36mBaseModel.__init__\u001b[39m\u001b[34m(self, **data)\u001b[39m\n\u001b[32m    251\u001b[39m \u001b[38;5;66;03m# `__tracebackhide__` tells pytest and some other tools to omit this function from tracebacks\u001b[39;00m\n\u001b[32m    252\u001b[39m __tracebackhide__ = \u001b[38;5;28;01mTrue\u001b[39;00m\n\u001b[32m--> \u001b[39m\u001b[32m253\u001b[39m validated_self = \u001b[38;5;28;43mself\u001b[39;49m\u001b[43m.\u001b[49m\u001b[43m__pydantic_validator__\u001b[49m\u001b[43m.\u001b[49m\u001b[43mvalidate_python\u001b[49m\u001b[43m(\u001b[49m\u001b[43mdata\u001b[49m\u001b[43m,\u001b[49m\u001b[43m \u001b[49m\u001b[43mself_instance\u001b[49m\u001b[43m=\u001b[49m\u001b[38;5;28;43mself\u001b[39;49m\u001b[43m)\u001b[49m\n\u001b[32m    254\u001b[39m \u001b[38;5;28;01mif\u001b[39;00m \u001b[38;5;28mself\u001b[39m \u001b[38;5;129;01mis\u001b[39;00m \u001b[38;5;129;01mnot\u001b[39;00m validated_self:\n\u001b[32m    255\u001b[39m     warnings.warn(\n\u001b[32m    256\u001b[39m         \u001b[33m'\u001b[39m\u001b[33mA custom validator is returning a value other than `self`.\u001b[39m\u001b[38;5;130;01m\\n\u001b[39;00m\u001b[33m'\u001b[39m\n\u001b[32m    257\u001b[39m         \u001b[33m\"\u001b[39m\u001b[33mReturning anything other than `self` from a top level model validator isn\u001b[39m\u001b[33m'\u001b[39m\u001b[33mt supported when validating via `__init__`.\u001b[39m\u001b[38;5;130;01m\\n\u001b[39;00m\u001b[33m\"\u001b[39m\n\u001b[32m    258\u001b[39m         \u001b[33m'\u001b[39m\u001b[33mSee the `model_validator` docs (https://docs.pydantic.dev/latest/concepts/validators/#model-validators) for more details.\u001b[39m\u001b[33m'\u001b[39m,\n\u001b[32m    259\u001b[39m         stacklevel=\u001b[32m2\u001b[39m,\n\u001b[32m    260\u001b[39m     )\n",
      "\u001b[31mValidationError\u001b[39m: 1 validation error for SentimentAnalysisOutput\nconfidence\n  Input should be less than or equal to 1 [type=less_than_equal, input_value=1.1, input_type=float]\n    For further information visit https://errors.pydantic.dev/2.11/v/less_than_equal"
     ]
    }
   ],
   "source": [
    "SentimentAnalysisOutput(polarity=\"positive\", confidence=1.1)"
   ]
  },
  {
   "cell_type": "markdown",
   "id": "d9860680",
   "metadata": {},
   "source": [
    "## Prepare prompt"
   ]
  },
  {
   "cell_type": "code",
   "execution_count": null,
   "id": "86ff4b53",
   "metadata": {},
   "outputs": [],
   "source": [
    "base_prompt = \"\"\"\\\n",
    "Please analyze the sentiment (positive, negative, or neutral) of the following text and return the result in JSON format. \\\n",
    "The JSON should contain the following fields:\n",
    "- polarity: The sentiment polarity of the text (positive, negative, or neutral)\n",
    "- confidence: The confidence score of the sentiment polarity between 0 (not confident) and 1 (very confident)\n",
    "The JSON should be formatted as follows:\n",
    "{{\n",
    "    \"polarity\": \"positive\",\n",
    "    \"confidence\": 0.95\n",
    "}}\n",
    "Text: {text}\n",
    "\"\"\"\n",
    "\n",
    "text_to_analyze = \"Cilantro is amazing on everything!\"\n",
    "\n",
    "messages = [\n",
    "    {\n",
    "        \"role\": \"user\",\n",
    "        \"content\": base_prompt.format(text=text_to_analyze),\n",
    "    }\n",
    "]"
   ]
  },
  {
   "cell_type": "markdown",
   "id": "bf325636",
   "metadata": {},
   "source": [
    "## Hugging Face InferenceClient\n",
    "\n",
    "We must create a JSON schema manually for the LLM to know how to format the output."
   ]
  },
  {
   "cell_type": "code",
   "execution_count": 16,
   "id": "534daefd",
   "metadata": {},
   "outputs": [
    {
     "data": {
      "text/plain": [
       "ChatCompletionOutput(choices=[ChatCompletionOutputComplete(finish_reason='stop', index=0, message=ChatCompletionOutputMessage(role='assistant', content='{\\n    \"polarity\": \"positive\",\\n    \"confidence\": 0.95\\n}', tool_call_id=None, tool_calls=None), logprobs=None)], created=1747796113.2638903, id='000a2db1-d55a-46ef-be65-4360a3b536f0', model='Meta-Llama-3.3-70B-Instruct', system_fingerprint='fastcoe', usage=ChatCompletionOutputUsage(completion_tokens=104, prompt_tokens=145, total_tokens=249, completion_tokens_after_first_per_sec=370.2208590744592, completion_tokens_after_first_per_sec_first_ten=374.14636985304816, completion_tokens_per_sec=316.8629934596221, end_time=1747796113.2638445, is_last_response=True, prompt_tokens_details={'cached_tokens': 0}, start_time=1747796112.9353807, stop_reason='stop', time_to_first_token=0.05025148391723633, total_latency=0.32821756452052436, total_tokens_per_sec=758.6431285715952), object='chat.completion')"
      ]
     },
     "execution_count": 16,
     "metadata": {},
     "output_type": "execute_result"
    }
   ],
   "source": [
    "response = await hf_client.chat_completion(\n",
    "    model=\"meta-llama/Llama-3.3-70B-Instruct\",\n",
    "    messages=messages,\n",
    "    response_format={\n",
    "        \"type\": \"json_object\",\n",
    "        \"value\": SentimentAnalysisOutput.model_json_schema(),  # type: ignore\n",
    "    }\n",
    ")  # type: ignore\n",
    "response"
   ]
  },
  {
   "cell_type": "code",
   "execution_count": 22,
   "id": "858b596c",
   "metadata": {},
   "outputs": [
    {
     "data": {
      "text/plain": [
       "'{\\n    \"polarity\": \"positive\",\\n    \"confidence\": 0.95\\n}'"
      ]
     },
     "execution_count": 22,
     "metadata": {},
     "output_type": "execute_result"
    }
   ],
   "source": [
    "# raw response\n",
    "response.choices[0].message.content"
   ]
  },
  {
   "cell_type": "code",
   "execution_count": 19,
   "id": "a29dee45",
   "metadata": {},
   "outputs": [
    {
     "data": {
      "text/plain": [
       "{'polarity': 'positive', 'confidence': 0.95}"
      ]
     },
     "execution_count": 19,
     "metadata": {},
     "output_type": "execute_result"
    }
   ],
   "source": [
    "# parse into dictionary\n",
    "response_dict = json.loads(response.choices[0].message.content)\n",
    "response_dict"
   ]
  },
  {
   "cell_type": "code",
   "execution_count": 20,
   "id": "84beaa19",
   "metadata": {},
   "outputs": [
    {
     "data": {
      "text/plain": [
       "SentimentAnalysisOutput(polarity=<Polarity.POSITIVE: 'positive'>, confidence=0.95)"
      ]
     },
     "execution_count": 20,
     "metadata": {},
     "output_type": "execute_result"
    }
   ],
   "source": [
    "# parse into SentimentAnalysisOutput\n",
    "sentiment_result = SentimentAnalysisOutput(**response_dict)\n",
    "sentiment_result"
   ]
  },
  {
   "cell_type": "code",
   "execution_count": null,
   "id": "edfa2dff",
   "metadata": {},
   "outputs": [
    {
     "data": {
      "text/plain": [
       "SentimentAnalysisOutput(polarity=<Polarity.POSITIVE: 'positive'>, confidence=0.95)"
      ]
     },
     "execution_count": 21,
     "metadata": {},
     "output_type": "execute_result"
    }
   ],
   "source": [
    "# parse from string directly into SentimentAnalysisOutput\n",
    "sentiment_result = SentimentAnalysisOutput.model_validate_json(\n",
    "    response.choices[0].message.content\n",
    ")\n",
    "sentiment_result"
   ]
  },
  {
   "cell_type": "code",
   "execution_count": 24,
   "id": "6285e768",
   "metadata": {},
   "outputs": [
    {
     "data": {
      "text/plain": [
       "'positive'"
      ]
     },
     "execution_count": 24,
     "metadata": {},
     "output_type": "execute_result"
    }
   ],
   "source": [
    "str(sentiment_result.polarity)"
   ]
  },
  {
   "cell_type": "markdown",
   "id": "775ae05a",
   "metadata": {},
   "source": [
    "## OpenAI\n",
    "\n",
    "We can directly pass in the Pydantic model to the function call. The client will do the work for us.\n",
    "\n",
    "<div class=\"alert alert-block alert-warning\">\n",
    "⚠️ we use `beta.chat.completions.parse` instead of `.chat.completions.create`\n",
    "</div>"
   ]
  },
  {
   "cell_type": "code",
   "execution_count": 28,
   "id": "5b93487d",
   "metadata": {},
   "outputs": [
    {
     "data": {
      "text/plain": [
       "ParsedChatCompletion[SentimentAnalysisOutput](id='chatcmpl-BZU3P7ColjzsCANXqjNkGqh6nEdd7', choices=[ParsedChoice[SentimentAnalysisOutput](finish_reason='stop', index=0, logprobs=None, message=ParsedChatCompletionMessage[SentimentAnalysisOutput](content='{\"polarity\":\"positive\",\"confidence\":0.98}', refusal=None, role='assistant', annotations=[], audio=None, function_call=None, tool_calls=None, parsed=SentimentAnalysisOutput(polarity=<Polarity.POSITIVE: 'positive'>, confidence=0.98)))], created=1747796707, model='gpt-4.1-nano-2025-04-14', object='chat.completion', service_tier='default', system_fingerprint='fp_8fd43718b3', usage=CompletionUsage(completion_tokens=12, prompt_tokens=216, total_tokens=228, completion_tokens_details=CompletionTokensDetails(accepted_prediction_tokens=0, audio_tokens=0, reasoning_tokens=0, rejected_prediction_tokens=0), prompt_tokens_details=PromptTokensDetails(audio_tokens=0, cached_tokens=0)))"
      ]
     },
     "execution_count": 28,
     "metadata": {},
     "output_type": "execute_result"
    }
   ],
   "source": [
    "response = await oai_client.beta.chat.completions.parse(\n",
    "    messages=messages,\n",
    "    model=\"gpt-4.1-nano\",\n",
    "    response_format=SentimentAnalysisOutput\n",
    ")\n",
    "response"
   ]
  },
  {
   "cell_type": "code",
   "execution_count": 31,
   "id": "4ba77ca2",
   "metadata": {},
   "outputs": [
    {
     "data": {
      "text/plain": [
       "'{\"polarity\":\"positive\",\"confidence\":0.98}'"
      ]
     },
     "execution_count": 31,
     "metadata": {},
     "output_type": "execute_result"
    }
   ],
   "source": [
    "# raw response\n",
    "response.choices[0].message.content"
   ]
  },
  {
   "cell_type": "code",
   "execution_count": 32,
   "id": "7298f79e",
   "metadata": {},
   "outputs": [
    {
     "data": {
      "text/plain": [
       "{'polarity': 'positive', 'confidence': 0.98}"
      ]
     },
     "execution_count": 32,
     "metadata": {},
     "output_type": "execute_result"
    }
   ],
   "source": [
    "# parse into dictionary\n",
    "response_dict = json.loads(response.choices[0].message.content)\n",
    "response_dict"
   ]
  },
  {
   "cell_type": "code",
   "execution_count": 33,
   "id": "af41a52f",
   "metadata": {},
   "outputs": [
    {
     "data": {
      "text/plain": [
       "SentimentAnalysisOutput(polarity=<Polarity.POSITIVE: 'positive'>, confidence=0.98)"
      ]
     },
     "execution_count": 33,
     "metadata": {},
     "output_type": "execute_result"
    }
   ],
   "source": [
    "# parse into SentimentAnalysisOutput\n",
    "sentiment_result = SentimentAnalysisOutput(**response_dict)\n",
    "sentiment_result"
   ]
  },
  {
   "cell_type": "code",
   "execution_count": 34,
   "id": "62c173a4",
   "metadata": {},
   "outputs": [
    {
     "data": {
      "text/plain": [
       "SentimentAnalysisOutput(polarity=<Polarity.POSITIVE: 'positive'>, confidence=0.98)"
      ]
     },
     "execution_count": 34,
     "metadata": {},
     "output_type": "execute_result"
    }
   ],
   "source": [
    "# parse from string directly into SentimentAnalysisOutput\n",
    "sentiment_result = SentimentAnalysisOutput.model_validate_json(\n",
    "    response.choices[0].message.content\n",
    ")\n",
    "sentiment_result"
   ]
  },
  {
   "cell_type": "code",
   "execution_count": null,
   "id": "b3184cc5",
   "metadata": {},
   "outputs": [
    {
     "data": {
      "text/plain": [
       "SentimentAnalysisOutput(polarity=<Polarity.POSITIVE: 'positive'>, confidence=0.98)"
      ]
     },
     "execution_count": 38,
     "metadata": {},
     "output_type": "execute_result"
    }
   ],
   "source": [
    "# access the parsed response directly\n",
    "response.choices[0].message.parsed"
   ]
  }
 ],
 "metadata": {
  "kernelspec": {
   "display_name": ".venv",
   "language": "python",
   "name": "python3"
  },
  "language_info": {
   "codemirror_mode": {
    "name": "ipython",
    "version": 3
   },
   "file_extension": ".py",
   "mimetype": "text/x-python",
   "name": "python",
   "nbconvert_exporter": "python",
   "pygments_lexer": "ipython3",
   "version": "3.11.10"
  }
 },
 "nbformat": 4,
 "nbformat_minor": 5
}
