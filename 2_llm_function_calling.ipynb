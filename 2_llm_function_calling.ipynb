{
 "cells": [
  {
   "cell_type": "markdown",
   "id": "2ada87d6",
   "metadata": {},
   "source": [
    "# Imports"
   ]
  },
  {
   "cell_type": "code",
   "execution_count": null,
   "id": "f9a6ada9",
   "metadata": {},
   "outputs": [
    {
     "data": {
      "text/plain": [
       "True"
      ]
     },
     "execution_count": 52,
     "metadata": {},
     "output_type": "execute_result"
    }
   ],
   "source": [
    "from enum import StrEnum\n",
    "import json\n",
    "import os\n",
    "from typing import Annotated\n",
    "\n",
    "from huggingface_hub import AsyncInferenceClient\n",
    "from huggingface_hub.inference._generated.types import ChatCompletionOutputToolCall\n",
    "import lancedb\n",
    "from openai import AsyncOpenAI, pydantic_function_tool\n",
    "from openai.types.chat.chat_completion_message_tool_call import (\n",
    "    ChatCompletionMessageToolCall,\n",
    ")\n",
    "import pandas as pd\n",
    "from pydantic import BaseModel, Field\n",
    "from sentence_transformers import SentenceTransformer\n",
    "from dotenv import load_dotenv\n",
    "\n",
    "from utils import create_tool_schema_for_function\n",
    "\n",
    "load_dotenv()"
   ]
  },
  {
   "cell_type": "markdown",
   "id": "38f5b6c5",
   "metadata": {},
   "source": [
    "# Retrieval Augmented Generation (RAG)\n"
   ]
  },
  {
   "cell_type": "code",
   "execution_count": 37,
   "id": "c99b7068",
   "metadata": {},
   "outputs": [],
   "source": [
    "embedder = SentenceTransformer(\n",
    "    \"sentence-transformers/paraphrase-multilingual-MiniLM-L12-v2\",\n",
    "    device=\"cpu\",\n",
    ")\n",
    "db = lancedb.connect(\"./data/lance_db\")\n",
    "tbl = db.open_table(\"movies\")"
   ]
  },
  {
   "cell_type": "code",
   "execution_count": null,
   "id": "9cf359c4",
   "metadata": {},
   "outputs": [],
   "source": [
    "# We create a BaseModel for the arguments to our function to easily create a JSON schema\n",
    "class QueryMovieDB(BaseModel):\n",
    "    text: str = Field(\n",
    "        description=\"Query overviews of movies\",\n",
    "    )\n",
    "    limit: int = Field(\n",
    "        default=10,\n",
    "        description=\"Number of results to return\",\n",
    "    )\n",
    "\n",
    "\n",
    "def query_movie_db(\n",
    "    text: str,\n",
    "    limit: int = 5,\n",
    ") -> pd.DataFrame:\n",
    "    \"\"\"\n",
    "    Query the LanceDB movie database for movies with similar overviews to the input text.\n",
    "    Args:\n",
    "        text (str): The input text to query the database.\n",
    "        limit (int): The number of results to return.\n",
    "    Returns:\n",
    "        pd.DataFrame: A DataFrame containing the results of the query.\n",
    "    \"\"\"\n",
    "    q_emb = embedder.encode(text)\n",
    "    # res = tbl.search(q_emb).limit(limit).select([\"genres\", \"overview\", \"keywords\", \"original_title\", \"spoken_languages\", \"\"]).to_pandas().drop(columns=[\"id\", \"vector\", \"_distance\"])\n",
    "    res = (\n",
    "        tbl.search(q_emb).limit(limit).to_pandas().drop(columns=[\"vector\", \"_distance\"])\n",
    "    )\n",
    "    return res\n"
   ]
  },
  {
   "cell_type": "code",
   "execution_count": 51,
   "id": "98c6828d",
   "metadata": {},
   "outputs": [
    {
     "name": "stdout",
     "output_type": "stream",
     "text": [
      "[{'budget': 3500000, 'genres': array(['Comedy'], dtype=object), 'keywords': array(['chicago', 'alcohol', 'cataclysm', 'guitar', 'medicine',\n",
      "       'taxi driver', 'passenger', 'saxophone', 'stewardess', 'pilot',\n",
      "       'airplane', 'fear of flying', 'air controller', 'landing',\n",
      "       'autopilot', 'kiss', 'spoof', 'los angeles', 'alcohol abuse',\n",
      "       'aftercreditsstinger', 'anarchic comedy'], dtype=object), 'original_language': 'en', 'overview': \"Alcoholic pilot, Ted Striker has developed a fear of flying due to wartime trauma, but nevertheless boards a passenger jet in an attempt to woo back his stewardess girlfriend. Food poisoning decimates the passengers and crew, leaving it up to Striker to land the plane with the help of a glue-sniffing air traffic controller and Striker's vengeful former Air Force captain, who must both talk him down.\", 'popularity': 46.116885, 'release_date': datetime.date(1980, 7, 2), 'revenue': 83453539, 'runtime': 88.0, 'spoken_languages': array(['English'], dtype=object), 'title': 'Airplane!', 'cast': array([{'character': 'Ted Striker', 'name': 'Robert Hays'},\n",
      "       {'character': 'Elaine', 'name': 'Julie Hagerty'},\n",
      "       {'character': 'Murdock', 'name': 'Kareem Abdul-Jabbar'},\n",
      "       {'character': 'McCroskey', 'name': 'Lloyd Bridges'},\n",
      "       {'character': 'Captain Oveur', 'name': 'Peter Graves'},\n",
      "       {'character': 'Dr. Rumack', 'name': 'Leslie Nielsen'},\n",
      "       {'character': 'Randy', 'name': 'Lorna Patterson'},\n",
      "       {'character': 'Rex Kramer', 'name': 'Robert Stack'},\n",
      "       {'character': 'Johnny', 'name': 'Stephen Stucker'},\n",
      "       {'character': 'Religious zealot #6', 'name': 'Jim Abrahams'},\n",
      "       {'character': 'Victor Basta', 'name': 'Frank Ashmore'},\n",
      "       {'character': 'Gunderson', 'name': 'Jonathan Banks'},\n",
      "       {'character': 'Paul Carey', 'name': 'Craig Berenson'},\n",
      "       {'character': 'Jive Lady', 'name': 'Barbara Billingsley'},\n",
      "       {'character': 'Mrs. Hammen', 'name': 'Lee Bryant'},\n",
      "       {'character': 'Mrs. Davis', 'name': 'Joyce Bulifant'},\n",
      "       {'character': 'Security Lady', 'name': 'Mae E. Campbell'},\n",
      "       {'character': 'Lieutenant Hurwitz', 'name': 'Ethel Merman'},\n",
      "       {'character': 'Windshield Wiper Man', 'name': 'Jimmie Walker'},\n",
      "       {'character': 'Lisa Davis', 'name': 'Jill Whelan'},\n",
      "       {'character': '', 'name': 'Kitten Natividad'},\n",
      "       {'character': 'Cocaine Lady', 'name': 'Nora Meerbaum'},\n",
      "       {'character': 'Air Controller Neubauer', 'name': 'Kenneth Tobey'}],\n",
      "      dtype=object), 'release_year': 1980}, {'budget': 209000000, 'genres': array(['Thriller', 'Action', 'Adventure', 'Science Fiction'], dtype=object), 'keywords': array(['fight', 'u.s. navy', 'mind reading', 'hong kong', 'soccer',\n",
      "       'scientist', 'fictional war', 'naval', 'armada', 'battleship',\n",
      "       'naval combat', 'jds myoko', 'lost communication', 'taser', 'buoy',\n",
      "       'communications expert', 'joint chiefs of staff', 'crash landing',\n",
      "       'jet fighter pilot', 'navy lieutenant', 'permission to marry',\n",
      "       'uss john paul jones', 'based on board game',\n",
      "       'aftercreditsstinger', 'mighty mo', 'uss missouri'], dtype=object), 'original_language': 'en', 'overview': \"When mankind beams a radio signal into space, a reply comes from ‘Planet G’, in the form of several alien crafts that splash down in the waters off Hawaii. Lieutenant Alex Hopper is a weapons officer assigned to the USS John Paul Jones, part of an international naval coalition which becomes the world's last hope for survival as they engage the hostile alien force of unimaginable strength. While taking on the invaders, Hopper must also try to live up to the potential his brother, and his fiancée's father, Admiral Shane, expect of him.\", 'popularity': 64.928382, 'release_date': datetime.date(2012, 4, 11), 'revenue': 303025485, 'runtime': 131.0, 'spoken_languages': array(['English', 'ภาษาไทย'], dtype=object), 'title': 'Battleship', 'cast': array([{'character': 'Lieutenant Alex Hopper', 'name': 'Taylor Kitsch'},\n",
      "       {'character': 'Commander Stone Hopper', 'name': 'Alexander Skarsgård'},\n",
      "       {'character': \"Petty Officer Cora 'Weps' Raikes\", 'name': 'Rihanna'},\n",
      "       {'character': 'Sam', 'name': 'Brooklyn Decker'},\n",
      "       {'character': 'Captain Yugi Nagata', 'name': 'Tadanobu Asano'},\n",
      "       {'character': 'Admiral Shane', 'name': 'Liam Neeson'},\n",
      "       {'character': 'Lieutenant Colonel Mick Canales', 'name': 'Gregory D. Gadson'},\n",
      "       {'character': 'Cal Zapata', 'name': 'Hamish Linklater'},\n",
      "       {'character': 'Boatswain Mate Seaman Jimmy \"Ordy\" Ord', 'name': 'Jesse Plemons'},\n",
      "       {'character': 'Chief Petty Officer Walter \"The Beast\" Lynch', 'name': 'John Tui'},\n",
      "       {'character': 'Sampson JOOD Strodell', 'name': 'Jerry Ferrara'},\n",
      "       {'character': 'NASA Director', 'name': 'David Jensen'},\n",
      "       {'character': 'JPJ 2nd Gunner', 'name': 'Peter Berg'},\n",
      "       {'character': 'Dr. Nogrady', 'name': 'Adam Godley'},\n",
      "       {'character': 'Captain Browley', 'name': 'Rico McClinton'},\n",
      "       {'character': 'Chief Engineer Hiroki', 'name': 'Joji Yoshida'},\n",
      "       {'character': 'JPJ OOD', 'name': 'Stephen Bishop'},\n",
      "       {'character': 'JPJ Fireman', 'name': 'Austin Naulty'},\n",
      "       {'character': 'JPJ Scat', 'name': 'James Rawlings'},\n",
      "       {'character': 'Electronic Warfare Supervisor', 'name': 'Dustin J. Reno'},\n",
      "       {'character': 'Chairman, Joint Chiefs of Staff', 'name': 'Rick Hoffman'},\n",
      "       {'character': 'Air Force Chief of Staff', 'name': 'Gary Grubbs'},\n",
      "       {'character': 'Watch Officer', 'name': 'Rami Malek'},\n",
      "       {'character': 'Secretary of Defense', 'name': 'Peter MacNicol'},\n",
      "       {'character': 'Bartender', 'name': 'Louis Lombardi'},\n",
      "       {'character': 'JPJ Sailor', 'name': 'Jordan Kirkwood'},\n",
      "       {'character': 'CIC Watch Supervisor', 'name': 'Doug Penty'},\n",
      "       {'character': 'CIC Gunner', 'name': 'Carson Aune'},\n",
      "       {'character': 'Combat Systems Coordinator', 'name': 'Josh Pence'},\n",
      "       {'character': 'JPJ Port Gunner', 'name': 'Lloyd Pitts'},\n",
      "       {'character': 'British Newscaster', 'name': 'Michelle Arthur'},\n",
      "       {'character': 'Spanish Newscaster', 'name': 'Natalia Castellanos'},\n",
      "       {'character': 'Japanese Newscaster', 'name': 'Leni Ito'},\n",
      "       {'character': 'Jackie Johnson', 'name': 'Jackie Johnson'},\n",
      "       {'character': \"Cal's Female Colleague\", 'name': 'Kerry Cahill'},\n",
      "       {'character': 'Old Salt', 'name': 'Norman Vincent McLafferty'},\n",
      "       {'character': 'JPJ XO Mullenaro', 'name': 'Dante Jimenez'},\n",
      "       {'character': 'JPJ Helmsman', 'name': 'Daven Arce'},\n",
      "       {'character': 'JPJ Starboard Gunner', 'name': 'Ralph Richardson'},\n",
      "       {'character': 'JPJ BMOW', 'name': 'Biunca Love'},\n",
      "       {'character': 'Regent Sea Commander', 'name': 'Kyle Russell Clements'},\n",
      "       {'character': 'Myoko XO', 'name': 'Yutaka Takeuchi'},\n",
      "       {'character': 'JPJ Sailor', 'name': 'John A Weaver'},\n",
      "       {'character': 'Sampson OOD', 'name': 'Dane Justman'},\n",
      "       {'character': 'Sampson XO', 'name': 'Drew Rausch'},\n",
      "       {'character': 'Marine Commandant', 'name': 'Bill Stinchcomb'}],\n",
      "      dtype=object), 'release_year': 2012}, {'budget': 0, 'genres': array(['Comedy'], dtype=object), 'keywords': array(['independent film'], dtype=object), 'original_language': 'en', 'overview': '“The Living Wake” is a dark comedy set in a timeless storybook universe. Self-proclaimed artist and genius, K. Roth Binew, has one day to live. He has enlisted his best and only friend, Mills Joquin, to take him around on a bicycle powered rickshaw. In a final attempt to probe life’s deepest mysteries, Binew endures one ridiculous trial after the next. He concludes his day with a final performance, his living wake. On a makeshift stage in an open field, Binew’s friends and enemies gather to witness his madness one final time.', 'popularity': 0.383442, 'release_date': datetime.date(2007, 1, 1), 'revenue': 0, 'runtime': 91.0, 'spoken_languages': array([], dtype=object), 'title': 'The Living Wake', 'cast': array([{'character': 'Mills', 'name': 'Jesse Eisenberg'},\n",
      "       {'character': 'K. Roth Binew', 'name': \"Mike O'Connell\"},\n",
      "       {'character': 'Lampert Binew', 'name': 'Jim Gaffigan'},\n",
      "       {'character': 'Librarian', 'name': 'Ann Dowd'},\n",
      "       {'character': 'Prostitute', 'name': 'Colombe Jacobsen-Derstine'},\n",
      "       {'character': 'Reginald', 'name': 'Eddie Pepitone'}], dtype=object), 'release_year': 2007}, {'budget': 2627000, 'genres': array(['Drama', 'Romance', 'War'], dtype=object), 'keywords': array(['pilot', 'airplane', 'ghost'], dtype=object), 'original_language': 'en', 'overview': \"Pete Sandidge (Tracy), a daredevil bomber pilot, dies when he crashes his plane into a German aircraft carrier, leaving his devoted girlfriend, Dorinda (Irene Dunne), who is also a pilot, heartbroken. In heaven, Pete receives a new assignment: he is to become the guardian angel for Ted Randall (Van Johnson), a young Army flyer. Invisibly, Pete guides Ted through flight school and into combat, but the ectoplasmic mentor's tolerance is tested when Ted falls for Dorinda. Ultimately, however, Pete not only comes to terms with their relationship but also acts as Dorinda's copilot when she undertakes a dangerous bombing raid, so that Ted won't have to. Remade by Steven Speilberg in 1989 as ALWAYS\", 'popularity': 0.531444, 'release_date': datetime.date(1944, 3, 1), 'revenue': 5363000, 'runtime': 120.0, 'spoken_languages': array(['English'], dtype=object), 'title': 'A Guy Named Joe', 'cast': array([{'character': 'Pete Sandidge', 'name': 'Spencer Tracy'},\n",
      "       {'character': 'Dorinda Durston', 'name': 'Irene Dunne'},\n",
      "       {'character': 'Ted Randall', 'name': 'Van Johnson'},\n",
      "       {'character': 'Al Yackey', 'name': 'Ward Bond'},\n",
      "       {'character': \"'Nails' Kilpatrick\", 'name': 'James Gleason'},\n",
      "       {'character': 'The General', 'name': 'Lionel Barrymore'},\n",
      "       {'character': 'Dick Rumney', 'name': 'Barry Nelson'},\n",
      "       {'character': 'Ellen Bright', 'name': 'Esther Williams'},\n",
      "       {'character': 'Col. Sykes', 'name': \"Henry O'Neill\"},\n",
      "       {'character': 'James J. Rourke', 'name': 'Don DeFore'},\n",
      "       {'character': 'Sanderson', 'name': 'Charles Smith'},\n",
      "       {'character': 'Maj. Corbett', 'name': 'Addison Richards'},\n",
      "       {'character': 'Henderson', 'name': 'Irving Bacon'},\n",
      "       {'character': 'Girlfriend of Rourke', 'name': 'Eve Whitney'}],\n",
      "      dtype=object), 'release_year': 1944}, {'budget': 6500000, 'genres': array(['Comedy', 'Drama'], dtype=object), 'keywords': array(['father son relationship', 'capitalism', 'based on novel',\n",
      "       'smoking', 'lie', 'cigarette', 'research', 'law', 'health',\n",
      "       'marketing', 'politics', 'politician', 'tobacco', 'liar',\n",
      "       'dark comedy', 'cancer', 'independent film', 'money', 'morality',\n",
      "       'social satire', 'cigarette smoking', 'business', 'advertising',\n",
      "       'guilt', 'humiliation', 'lobby', 'bribe', 'corporation',\n",
      "       'lung cancer', 'lobbyist', 'tobacco industry', 'nicotine'],\n",
      "      dtype=object), 'original_language': 'en', 'overview': \"The chief spokesperson and lobbyist Nick Naylor is the Vice-President of the Academy of Tobacco Studies. He is talented in speaking and spins argument to defend the cigarette industry in the most difficult situations. His best friends are Polly Bailey that works in the Moderation Council in alcohol business, and Bobby Jay Bliss of the gun business own advisory group SAFETY. They frequently meet each other in a bar and they self-entitle the Mod Squad a.k.a. Merchants of Death, disputing which industry has killed more people. Nick's greatest enemy is Vermont's Senator Ortolan Finistirre, who defends in the Senate the use a skull and crossed bones in the cigarette packs. Nick's son Joey Naylor lives with his mother, and has the chance to know his father in a business trip. When the ambitious reporter Heather Holloway betrays Nick disclosing confidences he had in bed with her, his life turns upside-down. But Nick is good in what he does for the mortgage.\", 'popularity': 29.01153, 'release_date': datetime.date(2005, 9, 5), 'revenue': 24793509, 'runtime': 92.0, 'spoken_languages': array(['English'], dtype=object), 'title': 'Thank You for Smoking', 'cast': array([{'character': 'Nick Naylor', 'name': 'Aaron Eckhart'},\n",
      "       {'character': 'Polly Bailey', 'name': 'Maria Bello'},\n",
      "       {'character': 'Joey Naylor', 'name': 'Cameron Bright'},\n",
      "       {'character': 'Jack', 'name': 'Adam Brody'},\n",
      "       {'character': 'Lorne Lutch', 'name': 'Sam Elliott'},\n",
      "       {'character': 'Heather Holloway', 'name': 'Katie Holmes'},\n",
      "       {'character': 'Jeff Megall', 'name': 'Rob Lowe'},\n",
      "       {'character': 'Senator Ortolan Finistirre', 'name': 'William H. Macy'},\n",
      "       {'character': 'The Captain', 'name': 'Robert Duvall'},\n",
      "       {'character': 'Bobby Jay Bliss', 'name': 'David Koechner'},\n",
      "       {'character': 'BR', 'name': 'J.K. Simmons'},\n",
      "       {'character': 'Jill Naylor', 'name': 'Kim Dickens'},\n",
      "       {'character': 'Pearl', 'name': 'Connie Ray'},\n",
      "       {'character': 'Joan Lunden', 'name': 'Joan Lunden'},\n",
      "       {'character': 'Sue Maclean', 'name': 'Mary Jo Smith'},\n",
      "       {'character': 'Ron Goode', 'name': 'Todd Louiso'},\n",
      "       {'character': 'Kidnapper', 'name': 'Jeff Witzke'},\n",
      "       {'character': 'Teacher', 'name': 'Marianne Muellerleile'},\n",
      "       {'character': 'Kid #2', 'name': 'Jordan Garrett'},\n",
      "       {'character': 'Kid #3', 'name': 'Courtney Taylor Burness'},\n",
      "       {'character': 'Brad', 'name': 'Daniel Travis'},\n",
      "       {'character': 'Trainee', 'name': 'Richard Speight Jr.'},\n",
      "       {'character': 'Tiffany', 'name': 'Renée Graham'},\n",
      "       {'character': 'EGO Assistant', 'name': 'Timothy Dowling'},\n",
      "       {'character': 'Dennis Miller', 'name': 'Dennis Miller'},\n",
      "       {'character': 'Ski Mask #1', 'name': 'Terry James'},\n",
      "       {'character': 'Ski Mask #2', 'name': 'Marc Scizak'},\n",
      "       {'character': 'Flighty Girl', 'name': 'Rachel Thorp'},\n",
      "       {'character': 'Doctor', 'name': 'Aaron Lustig'},\n",
      "       {'character': 'Interviewer', 'name': 'Melora Hardin'},\n",
      "       {'character': 'FBI Agent (voice)', 'name': 'Brian Palermo'},\n",
      "       {'character': 'Dr. Meisenbach', 'name': 'Michael Mantell'},\n",
      "       {'character': 'Senator Lothridge', 'name': 'Spencer Garrett'},\n",
      "       {'character': 'Senator Dupree', 'name': 'Earl Billings'},\n",
      "       {'character': 'Reporter #1', 'name': 'Catherine Reitman'},\n",
      "       {'character': 'Reporter #2', 'name': 'Sean Patrick Murphy'},\n",
      "       {'character': 'Oil Lobbyist', 'name': 'David O. Sacks'},\n",
      "       {'character': \"Nancy Humphries O'Dell\", 'name': \"Nancy O'Dell\"},\n",
      "       {'character': 'Debate Moderator', 'name': 'Roy Jenkins'},\n",
      "       {'character': 'Gentleman #2', 'name': 'Bruce French'},\n",
      "       {'character': 'Man at Metro Station (uncredited)', 'name': 'Christopher Buckley'},\n",
      "       {'character': 'Hotel Phone Operator (voice) (uncredited)', 'name': 'Dana E. Glauberman'},\n",
      "       {'character': 'Flight Attendant (uncredited)', 'name': 'Eva La Dare'},\n",
      "       {'character': 'Peter (uncredited)', 'name': 'Robert Malina'},\n",
      "       {'character': 'Gizelle (voice) (uncredited)', 'name': 'Aloma Wright'}],\n",
      "      dtype=object), 'release_year': 2005}]\n"
     ]
    }
   ],
   "source": [
    "res = query_movie_db(\"air bud\")\n",
    "print(res.to_dict(orient=\"records\"))"
   ]
  },
  {
   "cell_type": "code",
   "execution_count": 6,
   "id": "099cfd35",
   "metadata": {},
   "outputs": [
    {
     "data": {
      "text/plain": [
       "{'type': 'function',\n",
       " 'function': {'name': 'QueryMovieDB',\n",
       "  'strict': True,\n",
       "  'parameters': {'properties': {'text': {'description': 'Query overviews of movies',\n",
       "     'title': 'Text',\n",
       "     'type': 'string'},\n",
       "    'limit': {'default': 10,\n",
       "     'description': 'Number of results to return',\n",
       "     'title': 'Limit',\n",
       "     'type': 'integer'}},\n",
       "   'required': ['text', 'limit'],\n",
       "   'title': 'QueryMovieDB',\n",
       "   'type': 'object',\n",
       "   'additionalProperties': False}}}"
      ]
     },
     "execution_count": 6,
     "metadata": {},
     "output_type": "execute_result"
    }
   ],
   "source": [
    "pydantic_function_tool(QueryMovieDB)"
   ]
  },
  {
   "cell_type": "code",
   "execution_count": null,
   "id": "1cfb0b43",
   "metadata": {},
   "outputs": [
    {
     "data": {
      "text/plain": [
       "{'type': 'function',\n",
       " 'function': {'name': 'query_movie_db',\n",
       "  'description': 'Query the LanceDB movie database for movies with similar overviews to the input text.',\n",
       "  'parameters': {'properties': {'text': {'description': 'Query overviews of movies',\n",
       "     'title': 'Text',\n",
       "     'type': 'string'},\n",
       "    'limit': {'default': 10,\n",
       "     'description': 'Number of results to return',\n",
       "     'title': 'Limit',\n",
       "     'type': 'integer'}},\n",
       "   'required': ['text'],\n",
       "   'title': 'QueryMovieDB',\n",
       "   'type': 'object'}}}"
      ]
     },
     "execution_count": 7,
     "metadata": {},
     "output_type": "execute_result"
    }
   ],
   "source": [
    "schema = create_tool_schema_for_function(query_movie_db, QueryMovieDB)\n",
    "schema"
   ]
  },
  {
   "cell_type": "markdown",
   "id": "272c992e",
   "metadata": {},
   "source": [
    "## Hugging Face InferenceClient\n",
    "\n",
    "* [Hugging Face InferenceClient Function Calling](https://huggingface.co/docs/hugs/en/guides/function-calling)"
   ]
  },
  {
   "cell_type": "code",
   "execution_count": 43,
   "id": "147a0083",
   "metadata": {},
   "outputs": [],
   "source": [
    "hf_token = os.getenv(\"HF_TOKEN\")\n",
    "if hf_token is None:\n",
    "    raise ValueError(\"HF_TOKEN environment variable not set\")\n",
    "\n",
    "hf_client = AsyncInferenceClient(\n",
    "    provider=\"sambanova\",\n",
    "    api_key=hf_token,\n",
    ")\n",
    "# hf_client = AsyncOpenAI(\n",
    "#     base_url=\"https://router.huggingface.co/sambanova\",\n",
    "#     api_key=hf_token,\n",
    "# )"
   ]
  },
  {
   "cell_type": "code",
   "execution_count": 47,
   "id": "19897a50",
   "metadata": {},
   "outputs": [
    {
     "name": "stdout",
     "output_type": "stream",
     "text": [
      "[ChatCompletionOutputToolCall(function=ChatCompletionOutputFunctionDefinition(arguments='{\"limit\":10,\"text\":\"a retired assassin who is forced back into the game\"}', name='query_movie_db', description=None), id='call_21ffa06783614af48d', type='function')]\n"
     ]
    }
   ],
   "source": [
    "messages = [\n",
    "    {\n",
    "        \"role\": \"system\",\n",
    "        \"content\": \"Don't make assumptions about values. Ask for clarification if needed.\",\n",
    "    },\n",
    "    {\n",
    "        \"role\": \"user\",\n",
    "        \"content\": \"I'd like to watch a movie about a retired assassin who is forced back into the game.\",\n",
    "    },\n",
    "]\n",
    "\n",
    "response = await hf_client.chat_completion(\n",
    "    model=\"meta-llama/Llama-3.3-70B-Instruct\",\n",
    "    messages=messages,\n",
    "    tools=[schema],\n",
    "    tool_choice=\"auto\",  # allow the model to choose to call tool, if any; others options: \"required\": call one or more tools\n",
    ")\n",
    "print(response.choices[0].message.tool_calls)"
   ]
  },
  {
   "cell_type": "markdown",
   "id": "02d0a9cb",
   "metadata": {},
   "source": [
    "## OpenAI\n",
    "\n",
    "* [OpenAI Function Calling](https://platform.openai.com/docs/guides/function-calling?api-mode=chat)\n",
    "* [Generous free tier](https://platform.openai.com/docs/models/gpt-4.1-nano)\n",
    "\n",
    "![](https://i.ibb.co/JwZtC9px/Screenshot-2025-05-20-235653.png \"GPT-4.1-nano\")"
   ]
  },
  {
   "cell_type": "code",
   "execution_count": null,
   "id": "534946a0",
   "metadata": {},
   "outputs": [],
   "source": [
    "oai_api_key = os.getenv(\"OPENAI_API_KEY\")\n",
    "if oai_api_key is None:\n",
    "    raise ValueError(\"OPENAI_API_KEY environment variable not set\")\n",
    "oai_client = AsyncOpenAI(api_key=oai_api_key)"
   ]
  },
  {
   "cell_type": "code",
   "execution_count": null,
   "id": "086c88ea",
   "metadata": {},
   "outputs": [
    {
     "name": "stdout",
     "output_type": "stream",
     "text": [
      "[ChatCompletionMessageToolCall(id='call_OzpdNcnpEV5AddmPbzF95FS9', function=Function(arguments='{\"text\":\"retired assassin forced back into the game\"}', name='query_movie_db'), type='function')]\n"
     ]
    }
   ],
   "source": [
    "messages = [\n",
    "    {\n",
    "        \"role\": \"system\",\n",
    "        \"content\": \"Don't make assumptions about values. Ask for clarification if needed.\",\n",
    "    },\n",
    "    {\n",
    "        \"role\": \"user\",\n",
    "        \"content\": \"I'd like to watch a movie about a retired assassin who is forced back into the game.\",\n",
    "    },\n",
    "]\n",
    "\n",
    "response = await oai_client.chat.completions.create(\n",
    "    model=\"gpt-4.1-nano\",\n",
    "    messages=messages,\n",
    "    tools=[schema],\n",
    "    tool_choice=\"auto\",\n",
    ")\n",
    "print(response.choices[0].message.tool_calls)"
   ]
  },
  {
   "cell_type": "code",
   "execution_count": null,
   "id": "8e1d1347",
   "metadata": {},
   "outputs": [],
   "source": [
    "def call_function(name, args):\n",
    "    if name == \"query_movie_db\":\n",
    "        func = query_movie_db\n",
    "    else:\n",
    "        raise ValueError(f\"Unknown function: {name}\")\n",
    "    try:\n",
    "        # Call the function with the provided arguments\n",
    "        result = func(**args)\n",
    "    except Exception as e:\n",
    "        # Handle any exceptions that occur during the function call\n",
    "        print(f\"Error calling function {name}: {e}\")\n",
    "        return None\n",
    "    return result\n",
    "\n",
    "def handle_tool_calls(tool_calls: list[ChatCompletionMessageToolCall] | list[ChatCompletionOutputToolCall], messages: list[dict]) -> list[dict]:\n",
    "    if not tool_calls:\n",
    "        return messages\n",
    "    for tool_call in tool_calls:\n",
    "        if isinstance(tool_call, ChatCompletionMessageToolCall):\n",
    "            # Handle the tool call\n",
    "            function_name = tool_call.function_call.name\n",
    "            arguments = json.loads(tool_call.function_call.arguments)\n",
    "            result = call_function(function_name, arguments)\n",
    "            # Send the result back to the model\n",
    "            response = oai_client.chat.completions.create(\n",
    "                model=\"gpt-4.1-nano\",\n",
    "                messages=[\n",
    "                    {\n",
    "                        \"role\": \"function\",\n",
    "                        \"name\": function_name,\n",
    "                        \"content\": json.dumps(result),\n",
    "                    }\n",
    "                ],\n",
    "            )\n",
    "            print(response.choices[0].message.content)"
   ]
  },
  {
   "cell_type": "markdown",
   "id": "15e0aa54",
   "metadata": {},
   "source": [
    "# Check for function calls in LLM response"
   ]
  },
  {
   "cell_type": "code",
   "execution_count": null,
   "id": "d57558df",
   "metadata": {},
   "outputs": [],
   "source": [
    "tool_calls = response.choices[0].message.tool_calls\n",
    "for tool_call in tool_calls:\n",
    "    func = tool_call.function\n",
    "    func_name = func.name\n",
    "    tool_call_id = tool_call.id\n",
    "    func_args = json.loads(func.arguments)\n",
    "    result = call_function(func_name, func_args)\n",
    "    messages.append(\n",
    "        {\n",
    "            \"role\": \"tool\",\n",
    "            \"tool_call_id\": tool_call_id,\n",
    "            \"content\": json.dumps(result),\n",
    "        }\n",
    "    )"
   ]
  },
  {
   "cell_type": "code",
   "execution_count": 46,
   "id": "32ef267f",
   "metadata": {},
   "outputs": [
    {
     "data": {
      "text/plain": [
       "'{\"limit\":10,\"text\":\"a retired assassin who is forced back into the game\"}'"
      ]
     },
     "execution_count": 46,
     "metadata": {},
     "output_type": "execute_result"
    }
   ],
   "source": [
    "response.choices[0].message.tool_calls[0].function.arguments"
   ]
  },
  {
   "cell_type": "markdown",
   "id": "c0158283",
   "metadata": {},
   "source": [
    "# Sentiment Analysis\n",
    "\n",
    "[Structured Output](https://platform.openai.com/docs/guides/structured-outputs?api-mode=chat)"
   ]
  },
  {
   "cell_type": "code",
   "execution_count": null,
   "id": "0fbe0bfb",
   "metadata": {},
   "outputs": [],
   "source": [
    "class Polarity(StrEnum):\n",
    "    POSITIVE = \"positive\"\n",
    "    NEGATIVE = \"negative\"\n",
    "    NEUTRAL = \"neutral\"\n",
    "\n",
    "\n",
    "class SentimentAnalysisOutput(BaseModel):\n",
    "    polarity: Annotated[Polarity, \"The sentiment polarity of the text\"]\n",
    "    confidence: Annotated[\n",
    "        float,\n",
    "        Field(\n",
    "            description=\"The confidence score of the sentiment polarity between 0 and 1\",\n",
    "            ge=0.0,\n",
    "            le=1.0,\n",
    "        ),\n",
    "    ]"
   ]
  },
  {
   "cell_type": "code",
   "execution_count": null,
   "id": "f934fa12",
   "metadata": {},
   "outputs": [
    {
     "ename": "ValidationError",
     "evalue": "1 validation error for SentimentAnalysisOutput\nconfidence\n  Input should be less than or equal to 1 [type=less_than_equal, input_value=1.1, input_type=float]\n    For further information visit https://errors.pydantic.dev/2.11/v/less_than_equal",
     "output_type": "error",
     "traceback": [
      "\u001b[31m---------------------------------------------------------------------------\u001b[39m",
      "\u001b[31mValidationError\u001b[39m                           Traceback (most recent call last)",
      "\u001b[36mCell\u001b[39m\u001b[36m \u001b[39m\u001b[32mIn[8]\u001b[39m\u001b[32m, line 1\u001b[39m\n\u001b[32m----> \u001b[39m\u001b[32m1\u001b[39m \u001b[43mSentimentAnalysisOutput\u001b[49m\u001b[43m(\u001b[49m\n\u001b[32m      2\u001b[39m \u001b[43m    \u001b[49m\u001b[43mpolarity\u001b[49m\u001b[43m=\u001b[49m\u001b[33;43m\"\u001b[39;49m\u001b[33;43mpositive\u001b[39;49m\u001b[33;43m\"\u001b[39;49m\u001b[43m,\u001b[49m\n\u001b[32m      3\u001b[39m \u001b[43m    \u001b[49m\u001b[43mconfidence\u001b[49m\u001b[43m=\u001b[49m\u001b[32;43m1.1\u001b[39;49m\n\u001b[32m      4\u001b[39m \u001b[43m)\u001b[49m\n",
      "\u001b[36mFile \u001b[39m\u001b[32m~/github/genai4humanities-wk14/.venv/lib/python3.11/site-packages/pydantic/main.py:253\u001b[39m, in \u001b[36mBaseModel.__init__\u001b[39m\u001b[34m(self, **data)\u001b[39m\n\u001b[32m    251\u001b[39m \u001b[38;5;66;03m# `__tracebackhide__` tells pytest and some other tools to omit this function from tracebacks\u001b[39;00m\n\u001b[32m    252\u001b[39m __tracebackhide__ = \u001b[38;5;28;01mTrue\u001b[39;00m\n\u001b[32m--> \u001b[39m\u001b[32m253\u001b[39m validated_self = \u001b[38;5;28;43mself\u001b[39;49m\u001b[43m.\u001b[49m\u001b[43m__pydantic_validator__\u001b[49m\u001b[43m.\u001b[49m\u001b[43mvalidate_python\u001b[49m\u001b[43m(\u001b[49m\u001b[43mdata\u001b[49m\u001b[43m,\u001b[49m\u001b[43m \u001b[49m\u001b[43mself_instance\u001b[49m\u001b[43m=\u001b[49m\u001b[38;5;28;43mself\u001b[39;49m\u001b[43m)\u001b[49m\n\u001b[32m    254\u001b[39m \u001b[38;5;28;01mif\u001b[39;00m \u001b[38;5;28mself\u001b[39m \u001b[38;5;129;01mis\u001b[39;00m \u001b[38;5;129;01mnot\u001b[39;00m validated_self:\n\u001b[32m    255\u001b[39m     warnings.warn(\n\u001b[32m    256\u001b[39m         \u001b[33m'\u001b[39m\u001b[33mA custom validator is returning a value other than `self`.\u001b[39m\u001b[38;5;130;01m\\n\u001b[39;00m\u001b[33m'\u001b[39m\n\u001b[32m    257\u001b[39m         \u001b[33m\"\u001b[39m\u001b[33mReturning anything other than `self` from a top level model validator isn\u001b[39m\u001b[33m'\u001b[39m\u001b[33mt supported when validating via `__init__`.\u001b[39m\u001b[38;5;130;01m\\n\u001b[39;00m\u001b[33m\"\u001b[39m\n\u001b[32m    258\u001b[39m         \u001b[33m'\u001b[39m\u001b[33mSee the `model_validator` docs (https://docs.pydantic.dev/latest/concepts/validators/#model-validators) for more details.\u001b[39m\u001b[33m'\u001b[39m,\n\u001b[32m    259\u001b[39m         stacklevel=\u001b[32m2\u001b[39m,\n\u001b[32m    260\u001b[39m     )\n",
      "\u001b[31mValidationError\u001b[39m: 1 validation error for SentimentAnalysisOutput\nconfidence\n  Input should be less than or equal to 1 [type=less_than_equal, input_value=1.1, input_type=float]\n    For further information visit https://errors.pydantic.dev/2.11/v/less_than_equal"
     ]
    }
   ],
   "source": [
    "SentimentAnalysisOutput(polarity=\"positive\", confidence=1.1)"
   ]
  },
  {
   "cell_type": "code",
   "execution_count": null,
   "id": "86ff4b53",
   "metadata": {},
   "outputs": [],
   "source": []
  }
 ],
 "metadata": {
  "kernelspec": {
   "display_name": ".venv",
   "language": "python",
   "name": "python3"
  },
  "language_info": {
   "codemirror_mode": {
    "name": "ipython",
    "version": 3
   },
   "file_extension": ".py",
   "mimetype": "text/x-python",
   "name": "python",
   "nbconvert_exporter": "python",
   "pygments_lexer": "ipython3",
   "version": "3.11.11"
  }
 },
 "nbformat": 4,
 "nbformat_minor": 5
}
