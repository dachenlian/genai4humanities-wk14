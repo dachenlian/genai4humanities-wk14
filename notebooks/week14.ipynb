{
 "cells": [
  {
   "cell_type": "code",
   "execution_count": 189,
   "id": "8133fb97",
   "metadata": {},
   "outputs": [
    {
     "data": {
      "text/plain": [
       "True"
      ]
     },
     "execution_count": 189,
     "metadata": {},
     "output_type": "execute_result"
    }
   ],
   "source": [
    "import asyncio\n",
    "import datetime\n",
    "import json\n",
    "import os\n",
    "\n",
    "import lancedb\n",
    "import tiktoken\n",
    "import torch\n",
    "import torch.nn.functional as F\n",
    "from datasets import load_dataset\n",
    "from dotenv import load_dotenv\n",
    "from loguru import logger\n",
    "from openai import OpenAI, AsyncOpenAI\n",
    "from sentence_transformers import SentenceTransformer\n",
    "from tenacity import (\n",
    "    RetryCallState,\n",
    "    retry,\n",
    "    stop_after_attempt,\n",
    "    wait_random_exponential,\n",
    ")  # for exponential backoff\n",
    "\n",
    "try:\n",
    "    from google.colab import userdata  # type: ignore\n",
    "except ImportError:\n",
    "    userdata = None\n",
    "\n",
    "load_dotenv(override=True)"
   ]
  },
  {
   "cell_type": "code",
   "execution_count": 96,
   "id": "3b0bc263",
   "metadata": {},
   "outputs": [
    {
     "data": {
      "application/vnd.jupyter.widget-view+json": {
       "model_id": "ade39bce894a48d3917af47ce44362fc",
       "version_major": 2,
       "version_minor": 0
      },
      "text/plain": [
       "README.md:   0%|          | 0.00/1.62k [00:00<?, ?B/s]"
      ]
     },
     "metadata": {},
     "output_type": "display_data"
    },
    {
     "data": {
      "application/vnd.jupyter.widget-view+json": {
       "model_id": "a220b2e23153497181f873e40f968dc8",
       "version_major": 2,
       "version_minor": 0
      },
      "text/plain": [
       "(…)-00000-of-00001-6db04ab1c75d6817.parquet:   0%|          | 0.00/13.9M [00:00<?, ?B/s]"
      ]
     },
     "metadata": {},
     "output_type": "display_data"
    },
    {
     "data": {
      "application/vnd.jupyter.widget-view+json": {
       "model_id": "250cce38d3dd494a8f56ab9d980fae88",
       "version_major": 2,
       "version_minor": 0
      },
      "text/plain": [
       "Generating train split:   0%|          | 0/4803 [00:00<?, ? examples/s]"
      ]
     },
     "metadata": {},
     "output_type": "display_data"
    },
    {
     "data": {
      "text/plain": [
       "Dataset({\n",
       "    features: ['id', 'budget', 'genres', 'homepage', 'keywords', 'original_language', 'original_title', 'overview', 'popularity', 'production_companies', 'production_countries', 'release_date', 'revenue', 'runtime', 'spoken_languages', 'status', 'tagline', 'title', 'vote_average', 'vote_count', 'cast', 'crew'],\n",
       "    num_rows: 4803\n",
       "})"
      ]
     },
     "execution_count": 96,
     "metadata": {},
     "output_type": "execute_result"
    }
   ],
   "source": [
    "ds = load_dataset(\"AiresPucrs/tmdb-5000-movies\", split=\"train\")\n",
    "ds"
   ]
  },
  {
   "cell_type": "code",
   "execution_count": null,
   "id": "d67d408b",
   "metadata": {},
   "outputs": [],
   "source": [
    "def preprocess(example: dict) -> dict:\n",
    "    example[\"genres\"] = [g[\"name\"] for g in json.loads(example[\"genres\"])]\n",
    "    example[\"keywords\"] = [k[\"name\"] for k in json.loads(example[\"keywords\"])]\n",
    "    example[\"production_companies\"] = [\n",
    "        pc[\"name\"] for pc in json.loads(example[\"production_companies\"])\n",
    "    ]\n",
    "    example[\"production_countries\"] = [\n",
    "        pc[\"name\"] for pc in json.loads(example[\"production_countries\"])\n",
    "    ]\n",
    "    example[\"release_date\"] = datetime.datetime.strptime(\n",
    "        d if (d := example[\"release_date\"]) else \"1970-01-01\", \"%Y-%m-%d\"\n",
    "    ).date()\n",
    "    example[\"release_year\"] = example[\"release_date\"].year\n",
    "    example[\"spoken_languages\"] = [\n",
    "        sl[\"name\"] for sl in json.loads(example[\"spoken_languages\"])\n",
    "    ]\n",
    "    example[\"cast\"] = [\n",
    "        {\n",
    "            \"name\": c[\"name\"],\n",
    "            \"character\": c[\"character\"],\n",
    "        }\n",
    "        for c in json.loads(example[\"cast\"])\n",
    "    ]\n",
    "    example[\"crew\"] = [\n",
    "        {\n",
    "            \"name\": c[\"name\"],\n",
    "            \"job\": c[\"job\"],\n",
    "        }\n",
    "        for c in json.loads(example[\"crew\"])\n",
    "    ]\n",
    "    return example\n"
   ]
  },
  {
   "cell_type": "code",
   "execution_count": 105,
   "id": "5de6f690",
   "metadata": {},
   "outputs": [
    {
     "data": {
      "application/vnd.jupyter.widget-view+json": {
       "model_id": "28967e790d1345a5abab4ad90d4b5420",
       "version_major": 2,
       "version_minor": 0
      },
      "text/plain": [
       "Map (num_proc=4):   0%|          | 0/4803 [00:00<?, ? examples/s]"
      ]
     },
     "metadata": {},
     "output_type": "display_data"
    }
   ],
   "source": [
    "ds = ds.map(preprocess, remove_columns=[\"homepage\"], num_proc=4)"
   ]
  },
  {
   "cell_type": "code",
   "execution_count": 109,
   "id": "b4d5af42",
   "metadata": {},
   "outputs": [],
   "source": [
    "ds = ds.shuffle(seed=42)\n",
    "ds_sample = ds.select(range(1000))"
   ]
  },
  {
   "cell_type": "code",
   "execution_count": 111,
   "id": "29a58b07",
   "metadata": {},
   "outputs": [
    {
     "data": {
      "text/plain": [
       "{'id': 2649,\n",
       " 'budget': 50000000,\n",
       " 'genres': ['Drama', 'Thriller', 'Mystery'],\n",
       " 'keywords': ['brother brother relationship',\n",
       "  'birthday',\n",
       "  'danger of life',\n",
       "  'birthday party',\n",
       "  'surprising'],\n",
       " 'original_language': 'en',\n",
       " 'original_title': 'The Game',\n",
       " 'overview': 'In honor of his birthday, San Francisco banker Nicholas Van Orton, a financial genius and a coldhearted loner, receives an unusual present from his younger brother, Conrad -- a gift certificate to play a unique kind of game. In nearly a nanosecond, Nicholas finds himself consumed by a dangerous set of ever-changing rules, unable to distinguish where the charade ends and reality begins.',\n",
       " 'popularity': 62.925175,\n",
       " 'production_companies': ['PolyGram Filmed Entertainment',\n",
       "  'A&B Producoes',\n",
       "  'Popaganda Films'],\n",
       " 'production_countries': ['United States of America'],\n",
       " 'release_date': datetime.date(1997, 9, 12),\n",
       " 'revenue': 109423648,\n",
       " 'runtime': 129.0,\n",
       " 'spoken_languages': ['广州话 / 廣州話', 'Deutsch', 'English'],\n",
       " 'status': 'Released',\n",
       " 'tagline': 'What do you get for the man who has everything?',\n",
       " 'title': 'The Game',\n",
       " 'vote_average': 7.5,\n",
       " 'vote_count': 1506,\n",
       " 'cast': [{'character': 'Nicholas Van Orton', 'name': 'Michael Douglas'},\n",
       "  {'character': 'Conrad Van Orton', 'name': 'Sean Penn'},\n",
       "  {'character': 'Christine', 'name': 'Deborah Kara Unger'},\n",
       "  {'character': 'Jim Feingold', 'name': 'James Rebhorn'},\n",
       "  {'character': 'Airbag EMT Beltran', 'name': 'Spike Jonze'},\n",
       "  {'character': 'Elizabeth', 'name': 'Anna Katarina'},\n",
       "  {'character': 'Anson Baer', 'name': 'Armin Mueller-Stahl'},\n",
       "  {'character': 'Ilsa', 'name': 'Carroll Baker'},\n",
       "  {'character': 'Young Nicholas', 'name': 'Scott Hunter McGuire'},\n",
       "  {'character': 'Maria', 'name': 'Elizabeth Dennehy'},\n",
       "  {'character': 'Himself', 'name': 'Daniel Schorr'},\n",
       "  {'character': 'Power Executive', 'name': 'John Aprea'},\n",
       "  {'character': \"Nicholas' Father\", 'name': 'Charles Martinet'},\n",
       "  {'character': 'Maggie', 'name': 'Caroline Barclay'},\n",
       "  {'character': 'Samuel Sutherland', 'name': 'Peter Donat'},\n",
       "  {'character': \"Nicholas' Mother\", 'name': 'Florentine Mocanu'},\n",
       "  {'character': 'Cynthia, CRS Receptionist', 'name': 'Kimberly Russell'},\n",
       "  {'character': 'New Member Ted', 'name': 'Gerry Becker'},\n",
       "  {'character': 'New Member Victor', 'name': 'Jarion Monroe'},\n",
       "  {'character': 'CRS Data Collating Technician', 'name': 'Joe Frank'},\n",
       "  {'character': 'Obsequious Executive', 'name': 'Harrison Young'},\n",
       "  {'character': 'Solicitor / Taxi Driver', 'name': 'Tommy Flanagan'},\n",
       "  {'character': 'Rattle Gatherer', 'name': 'Kat Kilkenny'},\n",
       "  {'character': 'Man in Airport', 'name': 'John Cassini'},\n",
       "  {'character': 'Ankles', 'name': 'Harris Savides'},\n",
       "  {'character': \"City Club Maitre D'\", 'name': 'Victor Talmadge'},\n",
       "  {'character': 'Officer Hicks', 'name': 'Keena Turner'},\n",
       "  {'character': 'Pickpocket', 'name': 'Owen Masterson'},\n",
       "  {'character': 'Nikko Hotel Manager', 'name': 'Yuji Okumoto'},\n",
       "  {'character': 'Nikko Hotel Bellhop', 'name': 'Hideo Kimura'},\n",
       "  {'character': 'Nikko Hotel Maid', 'name': 'Rachel Flanagan'},\n",
       "  {'character': 'Shady Private Investigator', 'name': 'Mark Boone Junior'},\n",
       "  {'character': 'Kaleigh Baer', 'name': 'Joy Ann Ryan'},\n",
       "  {'character': 'Lieutenant Sullivan', 'name': 'Jack Kehoe'},\n",
       "  {'character': 'Detective Boyle', 'name': 'Christopher John Fields'},\n",
       "  {'character': \"Christine's Roomate Amy\", 'name': 'Linda Manz'},\n",
       "  {'character': 'Assassin Brodi', 'name': 'Duffy Gaver'},\n",
       "  {'character': 'Assassin Kartmann', 'name': 'Bob Stephenson'},\n",
       "  {'character': 'U.S. Embassy Counselor', 'name': 'John Hammil'},\n",
       "  {'character': 'Sheraton Desk Clerk', 'name': 'Rachel Steinberg'},\n",
       "  {'character': 'Sheraton Manager', 'name': 'George Maguire'},\n",
       "  {'character': 'Hot Waitress', 'name': 'Trish Summerville'},\n",
       "  {'character': 'Teen Thug', 'name': 'Jason Kristofer'},\n",
       "  {'character': 'New Moon Cafe Manager', 'name': 'Lily Soh Froehlich'},\n",
       "  {'character': 'CRS Guard', 'name': 'Charles Branklyn'},\n",
       "  {'character': 'Airbag EMT Galliano', 'name': 'Michael Massee'}],\n",
       " 'crew': [{'job': 'Producer', 'name': 'Steve Golin'},\n",
       "  {'job': 'Original Music Composer', 'name': 'Howard Shore'},\n",
       "  {'job': 'Executive Producer', 'name': 'Jonathan Mostow'},\n",
       "  {'job': 'Writer', 'name': 'John D. Brancato'},\n",
       "  {'job': 'Writer', 'name': 'Michael Ferris'},\n",
       "  {'job': 'Director', 'name': 'David Fincher'},\n",
       "  {'job': 'Producer', 'name': 'Ceán Chaffin'},\n",
       "  {'job': 'Editor', 'name': 'James Haygood'},\n",
       "  {'job': 'Production Design', 'name': 'Jeffrey Beecroft'},\n",
       "  {'job': 'Director of Photography', 'name': 'Harris Savides'},\n",
       "  {'job': 'Casting', 'name': 'Don Phillips'}],\n",
       " 'release_year': 1997}"
      ]
     },
     "execution_count": 111,
     "metadata": {},
     "output_type": "execute_result"
    }
   ],
   "source": [
    "ds_sample[0]"
   ]
  },
  {
   "cell_type": "markdown",
   "id": "3108a74a",
   "metadata": {},
   "source": [
    "# RAG"
   ]
  },
  {
   "cell_type": "markdown",
   "id": "e343d419",
   "metadata": {},
   "source": [
    "## Embeddings"
   ]
  },
  {
   "cell_type": "code",
   "execution_count": 126,
   "id": "4e3ff444",
   "metadata": {},
   "outputs": [],
   "source": [
    "query = [\"I want to watch an exciting superhero movie\"]\n",
    "movies = [\n",
    "    \"A movie about a group of friends who go on a road trip\",\n",
    "    \"A romantic comedy about a couple who meet at a wedding\",\n",
    "    \"An autobiography of George Washington, the first president of the United States\",\n",
    "    \"Spider-Man is fighting against the Green Goblin in another universe\",\n",
    "]"
   ]
  },
  {
   "cell_type": "markdown",
   "id": "e57dd154",
   "metadata": {},
   "source": [
    "### sentence-transformers\n"
   ]
  },
  {
   "cell_type": "code",
   "execution_count": 117,
   "id": "921bbc08",
   "metadata": {},
   "outputs": [
    {
     "data": {
      "application/vnd.jupyter.widget-view+json": {
       "model_id": "ebde4efedf30454f89a28aa51f616428",
       "version_major": 2,
       "version_minor": 0
      },
      "text/plain": [
       "modules.json:   0%|          | 0.00/229 [00:00<?, ?B/s]"
      ]
     },
     "metadata": {},
     "output_type": "display_data"
    },
    {
     "data": {
      "application/vnd.jupyter.widget-view+json": {
       "model_id": "cdbc6ff2a4ac4ac8b17377972005fbb2",
       "version_major": 2,
       "version_minor": 0
      },
      "text/plain": [
       "config_sentence_transformers.json:   0%|          | 0.00/122 [00:00<?, ?B/s]"
      ]
     },
     "metadata": {},
     "output_type": "display_data"
    },
    {
     "data": {
      "application/vnd.jupyter.widget-view+json": {
       "model_id": "26179e94bb6945ccba4b104840bfab38",
       "version_major": 2,
       "version_minor": 0
      },
      "text/plain": [
       "README.md:   0%|          | 0.00/3.89k [00:00<?, ?B/s]"
      ]
     },
     "metadata": {},
     "output_type": "display_data"
    },
    {
     "data": {
      "application/vnd.jupyter.widget-view+json": {
       "model_id": "1b14ff0cbe814b6abe644be407449bbe",
       "version_major": 2,
       "version_minor": 0
      },
      "text/plain": [
       "sentence_bert_config.json:   0%|          | 0.00/53.0 [00:00<?, ?B/s]"
      ]
     },
     "metadata": {},
     "output_type": "display_data"
    },
    {
     "data": {
      "application/vnd.jupyter.widget-view+json": {
       "model_id": "20c1ca5417564dd6b9a146d08eac3994",
       "version_major": 2,
       "version_minor": 0
      },
      "text/plain": [
       "config.json:   0%|          | 0.00/645 [00:00<?, ?B/s]"
      ]
     },
     "metadata": {},
     "output_type": "display_data"
    },
    {
     "name": "stderr",
     "output_type": "stream",
     "text": [
      "Xet Storage is enabled for this repo, but the 'hf_xet' package is not installed. Falling back to regular HTTP download. For better performance, install the package with: `pip install huggingface_hub[hf_xet]` or `pip install hf_xet`\n"
     ]
    },
    {
     "data": {
      "application/vnd.jupyter.widget-view+json": {
       "model_id": "0d5f2d75680c43eb90610503b2a1bcbc",
       "version_major": 2,
       "version_minor": 0
      },
      "text/plain": [
       "model.safetensors:   0%|          | 0.00/471M [00:00<?, ?B/s]"
      ]
     },
     "metadata": {},
     "output_type": "display_data"
    },
    {
     "data": {
      "application/vnd.jupyter.widget-view+json": {
       "model_id": "b7971bd88d8743ddb24e6fb4b6a04409",
       "version_major": 2,
       "version_minor": 0
      },
      "text/plain": [
       "tokenizer_config.json:   0%|          | 0.00/480 [00:00<?, ?B/s]"
      ]
     },
     "metadata": {},
     "output_type": "display_data"
    },
    {
     "name": "stderr",
     "output_type": "stream",
     "text": [
      "Xet Storage is enabled for this repo, but the 'hf_xet' package is not installed. Falling back to regular HTTP download. For better performance, install the package with: `pip install huggingface_hub[hf_xet]` or `pip install hf_xet`\n"
     ]
    },
    {
     "data": {
      "application/vnd.jupyter.widget-view+json": {
       "model_id": "bf2e80bcd61c42658e942984f383709e",
       "version_major": 2,
       "version_minor": 0
      },
      "text/plain": [
       "tokenizer.json:   0%|          | 0.00/9.08M [00:00<?, ?B/s]"
      ]
     },
     "metadata": {},
     "output_type": "display_data"
    },
    {
     "data": {
      "application/vnd.jupyter.widget-view+json": {
       "model_id": "b7583590b58b4f058a0e9f66559479e3",
       "version_major": 2,
       "version_minor": 0
      },
      "text/plain": [
       "special_tokens_map.json:   0%|          | 0.00/239 [00:00<?, ?B/s]"
      ]
     },
     "metadata": {},
     "output_type": "display_data"
    },
    {
     "data": {
      "application/vnd.jupyter.widget-view+json": {
       "model_id": "323e13cc76bd40d683e7cb7f448f16c2",
       "version_major": 2,
       "version_minor": 0
      },
      "text/plain": [
       "config.json:   0%|          | 0.00/190 [00:00<?, ?B/s]"
      ]
     },
     "metadata": {},
     "output_type": "display_data"
    }
   ],
   "source": [
    "model = SentenceTransformer(\n",
    "    \"sentence-transformers/paraphrase-multilingual-MiniLM-L12-v2\", device=\"cpu\"\n",
    ")"
   ]
  },
  {
   "cell_type": "markdown",
   "id": "fb11faf2",
   "metadata": {},
   "source": [
    "#### Compute embeddings"
   ]
  },
  {
   "cell_type": "code",
   "execution_count": 137,
   "id": "e4d94b2b",
   "metadata": {},
   "outputs": [
    {
     "name": "stdout",
     "output_type": "stream",
     "text": [
      "(1, 384) (4, 384)\n",
      "Query: [-0.40846434 -0.24543124 -0.6005591  -0.11258559  0.19218627]\n",
      "Movie: [ 0.30984214 -0.12824544 -0.33090717 -0.2385715   0.33415732]\n"
     ]
    }
   ],
   "source": [
    "query_embedding = model.encode(query)\n",
    "movie_embeddings = model.encode(movies)\n",
    "print(query_embedding.shape, movie_embeddings.shape)\n",
    "print(f\"Query: {query_embedding[0][:5]}\")\n",
    "print(f\"Movie: {movie_embeddings[0][:5]}\")"
   ]
  },
  {
   "cell_type": "markdown",
   "id": "2596c7ff",
   "metadata": {},
   "source": [
    "#### Computing similarity + retrieving top k"
   ]
  },
  {
   "cell_type": "code",
   "execution_count": 132,
   "id": "a1293584",
   "metadata": {},
   "outputs": [
    {
     "data": {
      "text/plain": [
       "tensor([[ 0.2611,  0.1753, -0.0321,  0.3556]])"
      ]
     },
     "execution_count": 132,
     "metadata": {},
     "output_type": "execute_result"
    }
   ],
   "source": [
    "# Compute cosine similarities\n",
    "similarities = model.similarity(query_embedding, movie_embeddings)\n",
    "similarities"
   ]
  },
  {
   "cell_type": "code",
   "execution_count": 144,
   "id": "e5e50169",
   "metadata": {},
   "outputs": [
    {
     "name": "stdout",
     "output_type": "stream",
     "text": [
      "I want to watch an exciting superhero movie\n",
      " - A movie about a group of friends who go on a road trip: \u001b[33m0.2611\u001b[0m\n",
      " - A romantic comedy about a couple who meet at a wedding: \u001b[33m0.1753\u001b[0m\n",
      " - An autobiography of George Washington, the first president of the United States: \u001b[33m-0.0321\u001b[0m\n",
      " - Spider-Man is fighting against the Green Goblin in another universe: \u001b[33m0.3556\u001b[0m\n"
     ]
    }
   ],
   "source": [
    "YELLOW = \"\\033[33m\"\n",
    "END = \"\\033[0m\"\n",
    "# Output the pairs with their score\n",
    "print(query[0])\n",
    "for idx_j, sentence2 in enumerate(movies):\n",
    "    print(f\" - {sentence2: <30}: {YELLOW}{similarities[0][idx_j]:.4f}{END}\")"
   ]
  },
  {
   "cell_type": "code",
   "execution_count": 141,
   "id": "55494610",
   "metadata": {},
   "outputs": [
    {
     "data": {
      "text/plain": [
       "torch.return_types.topk(\n",
       "values=tensor([ 0.3556,  0.2611,  0.1753, -0.0321]),\n",
       "indices=tensor([3, 0, 1, 2]))"
      ]
     },
     "execution_count": 141,
     "metadata": {},
     "output_type": "execute_result"
    }
   ],
   "source": [
    "torch.topk(similarities[0], k=4)"
   ]
  },
  {
   "cell_type": "code",
   "execution_count": 145,
   "id": "f1d2dc21",
   "metadata": {},
   "outputs": [
    {
     "name": "stdout",
     "output_type": "stream",
     "text": [
      "I want to watch an exciting superhero movie\n",
      " - Spider-Man is fighting against the Green Goblin in another universe: \u001b[33m0.3556\u001b[0m\n",
      " - A movie about a group of friends who go on a road trip: \u001b[33m0.2611\u001b[0m\n",
      " - A romantic comedy about a couple who meet at a wedding: \u001b[33m0.1753\u001b[0m\n",
      " - An autobiography of George Washington, the first president of the United States: \u001b[33m-0.0321\u001b[0m\n"
     ]
    }
   ],
   "source": [
    "print(query[0])\n",
    "for idx in torch.topk(similarities[0], k=4).indices:\n",
    "    print(f\" - {movies[idx]: <30}: {YELLOW}{similarities[0][idx]:.4f}{END}\")"
   ]
  },
  {
   "cell_type": "markdown",
   "id": "a408f6c2",
   "metadata": {},
   "source": [
    "### OpenAI\n",
    "\n",
    "[Documentation](https://platform.openai.com/docs/guides/embeddings?lang=python)"
   ]
  },
  {
   "cell_type": "code",
   "execution_count": 186,
   "id": "1b45bfd8",
   "metadata": {},
   "outputs": [],
   "source": [
    "api_key = os.getenv(\"OPENAI_API_KEY\")\n",
    "if not api_key and userdata:\n",
    "    # If running in Google Colab, try to get the API key from userdata\n",
    "    api_key = userdata.get(\"OPENAI_API_KEY\")\n",
    "if not api_key:\n",
    "    raise ValueError(\"OPENAI_API_KEY environment variable is not set\")\n",
    "\n",
    "client = AsyncOpenAI(api_key=api_key)"
   ]
  },
  {
   "cell_type": "markdown",
   "id": "9535512f",
   "metadata": {},
   "source": [
    "#### Compute embeddings|"
   ]
  },
  {
   "cell_type": "code",
   "execution_count": 187,
   "id": "ecb09082",
   "metadata": {},
   "outputs": [
    {
     "name": "stdout",
     "output_type": "stream",
     "text": [
      "1536\n",
      "[-0.010025657713413239, 0.007190898526459932, -0.08766952902078629, 0.010150458663702011, -0.025221630930900574]\n"
     ]
    }
   ],
   "source": [
    "res = await client.embeddings.create(input=query[0], model=\"text-embedding-3-small\")\n",
    "embedding = res.data[0].embedding\n",
    "print(len(embedding))\n",
    "print(embedding[:5])"
   ]
  },
  {
   "cell_type": "code",
   "execution_count": 169,
   "id": "24c4d2f0",
   "metadata": {},
   "outputs": [
    {
     "name": "stdout",
     "output_type": "stream",
     "text": [
      "Total tokens: 8\n"
     ]
    }
   ],
   "source": [
    "print(f\"Total tokens: {res.usage.total_tokens}\")"
   ]
  },
  {
   "cell_type": "code",
   "execution_count": 193,
   "id": "c7f42920",
   "metadata": {},
   "outputs": [],
   "source": [
    "# Convert to torch.Tensor for cosine similarity\n",
    "query_embedding = torch.Tensor(\n",
    "    (await client.embeddings.create(input=query[0], model=\"text-embedding-3-small\"))\n",
    "    .data[0]\n",
    "    .embedding\n",
    ").unsqueeze(0)\n",
    "_movie_embeddings = await asyncio.gather(\n",
    "    *[\n",
    "        client.embeddings.create(input=movie, model=\"text-embedding-3-small\")\n",
    "        for movie in movies\n",
    "    ]\n",
    ")\n",
    "movie_embeddings = torch.Tensor(\n",
    "    [embedding.data[0].embedding for embedding in _movie_embeddings]\n",
    ")"
   ]
  },
  {
   "cell_type": "code",
   "execution_count": 191,
   "id": "9afcaf1d",
   "metadata": {},
   "outputs": [
    {
     "data": {
      "text/plain": [
       "tensor([[ 0.0125,  0.0218, -0.0479,  ...,  0.0026, -0.0386,  0.0079],\n",
       "        [-0.0325,  0.0204, -0.0673,  ...,  0.0057, -0.0081, -0.0111],\n",
       "        [ 0.0083, -0.0117,  0.0179,  ...,  0.0175, -0.0041, -0.0108],\n",
       "        [-0.0362, -0.0462,  0.0150,  ..., -0.0224,  0.0127,  0.0131]])"
      ]
     },
     "execution_count": 191,
     "metadata": {},
     "output_type": "execute_result"
    }
   ],
   "source": [
    "torch.Tensor(movie_embeddings)"
   ]
  },
  {
   "cell_type": "markdown",
   "id": "b3cbdbca",
   "metadata": {},
   "source": [
    "#### Computing similarity + retrieving top k"
   ]
  },
  {
   "cell_type": "code",
   "execution_count": 195,
   "id": "e5ed078e",
   "metadata": {},
   "outputs": [
    {
     "data": {
      "text/plain": [
       "tensor([0.2881, 0.2119, 0.0502, 0.3344])"
      ]
     },
     "execution_count": 195,
     "metadata": {},
     "output_type": "execute_result"
    }
   ],
   "source": [
    "similarities = F.cosine_similarity(\n",
    "    query_embedding, movie_embeddings, dim=1\n",
    ")\n",
    "similarities"
   ]
  },
  {
   "cell_type": "code",
   "execution_count": 198,
   "id": "56e48176",
   "metadata": {},
   "outputs": [
    {
     "name": "stdout",
     "output_type": "stream",
     "text": [
      "I want to watch an exciting superhero movie\n",
      " - Spider-Man is fighting against the Green Goblin in another universe: \u001b[33m0.3344\u001b[0m\n",
      " - A movie about a group of friends who go on a road trip: \u001b[33m0.2881\u001b[0m\n",
      " - A romantic comedy about a couple who meet at a wedding: \u001b[33m0.2119\u001b[0m\n",
      " - An autobiography of George Washington, the first president of the United States: \u001b[33m0.0502\u001b[0m\n"
     ]
    }
   ],
   "source": [
    "YELLOW = \"\\033[33m\"\n",
    "END = \"\\033[0m\"\n",
    "print(query[0])\n",
    "for idx in torch.topk(similarities, k=4).indices:\n",
    "    print(f\" - {movies[idx]: <30}: {YELLOW}{similarities[idx]:.4f}{END}\")"
   ]
  },
  {
   "cell_type": "markdown",
   "id": "79d81fd6",
   "metadata": {},
   "source": [
    "#### Calculate tokens and price\n",
    "\n",
    "[OpenAI pricing](https://platform.openai.com/docs/pricing)"
   ]
  },
  {
   "cell_type": "code",
   "execution_count": null,
   "id": "30951b8d",
   "metadata": {},
   "outputs": [
    {
     "data": {
      "text/plain": [
       "<Encoding 'cl100k_base'>"
      ]
     },
     "execution_count": 157,
     "metadata": {},
     "output_type": "execute_result"
    }
   ],
   "source": [
    "enc = tiktoken.encoding_for_model(\"text-embedding-3-small\")"
   ]
  },
  {
   "cell_type": "code",
   "execution_count": 170,
   "id": "8216e6d8",
   "metadata": {},
   "outputs": [
    {
     "name": "stdout",
     "output_type": "stream",
     "text": [
      "Total tokens: 8\n",
      "[40, 1390, 311, 3821, 459, 13548, 46244, 5818]\n"
     ]
    }
   ],
   "source": [
    "encoded = enc.encode(query[0])\n",
    "print(f\"Total tokens: {len(encoded)}\")\n",
    "print(encoded)"
   ]
  },
  {
   "cell_type": "code",
   "execution_count": null,
   "id": "4a0a529b",
   "metadata": {},
   "outputs": [],
   "source": [
    "# price per 1M tokens\n",
    "model_to_price = {\n",
    "    \"text-embedding-3-small\": 0.02,\n",
    "    \"text-embedding-3-large\": 0.13,\n",
    "}"
   ]
  },
  {
   "cell_type": "code",
   "execution_count": null,
   "id": "c7b57982",
   "metadata": {},
   "outputs": [],
   "source": [
    "def get_token_count_and_price(\n",
    "    texts: list[str], model: str = \"text-embedding-3-small\"\n",
    ") -> tuple[int, float]:\n",
    "    if model not in model_to_price:\n",
    "        raise ValueError(f\"Model {model} not supported\")\n",
    "    enc = tiktoken.encoding_for_model(model)\n",
    "    token_count = sum(len(e) for e in enc.encode_batch(texts))\n",
    "    price_per_1m_tokens = model_to_price[model]\n",
    "    price = (token_count / 1_000_000) * price_per_1m_tokens\n",
    "    return token_count, price"
   ]
  },
  {
   "cell_type": "code",
   "execution_count": 177,
   "id": "27304088",
   "metadata": {},
   "outputs": [
    {
     "data": {
      "text/plain": [
       "(480, 9.600000000000001e-06)"
      ]
     },
     "execution_count": 177,
     "metadata": {},
     "output_type": "execute_result"
    }
   ],
   "source": [
    "get_token_count_and_price(movies * 10, model=\"text-embedding-3-small\")"
   ]
  },
  {
   "cell_type": "markdown",
   "id": "de99a2af",
   "metadata": {},
   "source": [
    "#### Handling rate limits"
   ]
  },
  {
   "cell_type": "code",
   "execution_count": null,
   "id": "ee5c15ca",
   "metadata": {},
   "outputs": [],
   "source": [
    "def log_backoff_attempt(retry_state: RetryCallState) -> None:\n",
    "    \"\"\"\n",
    "    Logs a message before a retry attempt, detailing the attempt number,\n",
    "    the exception, and the wait time.\n",
    "    \"\"\"\n",
    "    attempt_num = retry_state.attempt_number\n",
    "    exception = retry_state.outcome.exception() if retry_state.outcome else \"N/A\"\n",
    "    wait_time = retry_state.next_action.sleep if retry_state.next_action else 0.0\n",
    "    func_name = retry_state.fn.__name__ if retry_state.fn else \"N/A\"\n",
    "\n",
    "    logger.info(\n",
    "        f\"Backing off for function '{func_name}': \"\n",
    "        f\"Attempt {attempt_num} failed due to '{exception.__class__.__name__}: {exception}'. \"\n",
    "        f\"Waiting {wait_time:.2f} seconds before next attempt.\"\n",
    "    )\n",
    "\n",
    "\n",
    "@retry(\n",
    "    wait=wait_random_exponential(min=1, max=60),\n",
    "    stop=stop_after_attempt(6),\n",
    "    before_sleep=log_backoff_attempt,\n",
    ")\n",
    "async def embedding_with_backoff(**kwargs):\n",
    "    return client.embeddings.create(**kwargs)"
   ]
  },
  {
   "cell_type": "markdown",
   "id": "77b75512",
   "metadata": {},
   "source": [
    "# Setting up a vector database"
   ]
  },
  {
   "cell_type": "code",
   "execution_count": null,
   "id": "81baa734",
   "metadata": {},
   "outputs": [],
   "source": [
    "db = lancedb.connect(\"../data/tmdb-5000-movies-sentence-transformers\")"
   ]
  }
 ],
 "metadata": {
  "kernelspec": {
   "display_name": ".venv",
   "language": "python",
   "name": "python3"
  },
  "language_info": {
   "codemirror_mode": {
    "name": "ipython",
    "version": 3
   },
   "file_extension": ".py",
   "mimetype": "text/x-python",
   "name": "python",
   "nbconvert_exporter": "python",
   "pygments_lexer": "ipython3",
   "version": "3.11.11"
  }
 },
 "nbformat": 4,
 "nbformat_minor": 5
}
