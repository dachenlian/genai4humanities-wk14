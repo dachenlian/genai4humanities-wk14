{
 "cells": [
  {
   "cell_type": "markdown",
   "id": "b77a10bc",
   "metadata": {},
   "source": [
    "# Imports"
   ]
  },
  {
   "cell_type": "code",
   "execution_count": null,
   "id": "8133fb97",
   "metadata": {},
   "outputs": [
    {
     "data": {
      "text/plain": [
       "True"
      ]
     },
     "execution_count": 1,
     "metadata": {},
     "output_type": "execute_result"
    }
   ],
   "source": [
    "import asyncio\n",
    "import datetime\n",
    "import json\n",
    "import os\n",
    "\n",
    "import lancedb\n",
    "from lancedb.pydantic import LanceModel, Vector\n",
    "from lancedb.embeddings import get_registry\n",
    "import tiktoken\n",
    "import torch\n",
    "import torch.nn.functional as F\n",
    "from datasets import load_dataset\n",
    "from dotenv import load_dotenv\n",
    "from loguru import logger\n",
    "from openai import OpenAI, AsyncOpenAI\n",
    "from sentence_transformers import SentenceTransformer\n",
    "from tenacity import (\n",
    "    RetryCallState,\n",
    "    retry,\n",
    "    stop_after_attempt,\n",
    "    wait_random_exponential,\n",
    ")  # for exponential backoff\n",
    "\n",
    "try:\n",
    "    from google.colab import userdata  # type: ignore\n",
    "except ImportError:\n",
    "    userdata = None\n",
    "\n",
    "load_dotenv(override=True)"
   ]
  },
  {
   "cell_type": "markdown",
   "id": "4f7c4e35",
   "metadata": {},
   "source": [
    "# Preparing dataset"
   ]
  },
  {
   "cell_type": "code",
   "execution_count": 2,
   "id": "3b0bc263",
   "metadata": {},
   "outputs": [
    {
     "data": {
      "text/plain": [
       "Dataset({\n",
       "    features: ['id', 'budget', 'genres', 'homepage', 'keywords', 'original_language', 'original_title', 'overview', 'popularity', 'production_companies', 'production_countries', 'release_date', 'revenue', 'runtime', 'spoken_languages', 'status', 'tagline', 'title', 'vote_average', 'vote_count', 'cast', 'crew'],\n",
       "    num_rows: 4803\n",
       "})"
      ]
     },
     "execution_count": 2,
     "metadata": {},
     "output_type": "execute_result"
    }
   ],
   "source": [
    "ds = load_dataset(\"AiresPucrs/tmdb-5000-movies\", split=\"train\")\n",
    "ds"
   ]
  },
  {
   "cell_type": "code",
   "execution_count": 3,
   "id": "cee9a86b",
   "metadata": {},
   "outputs": [
    {
     "data": {
      "text/plain": [
       "Dataset({\n",
       "    features: ['id', 'budget', 'genres', 'homepage', 'keywords', 'original_language', 'original_title', 'overview', 'popularity', 'production_companies', 'production_countries', 'release_date', 'revenue', 'runtime', 'spoken_languages', 'status', 'tagline', 'title', 'vote_average', 'vote_count', 'cast', 'crew'],\n",
       "    num_rows: 4800\n",
       "})"
      ]
     },
     "execution_count": 3,
     "metadata": {},
     "output_type": "execute_result"
    }
   ],
   "source": [
    "# Remove missing overview\n",
    "ds = ds.filter(lambda x: bool(x[\"overview\"]))\n",
    "ds"
   ]
  },
  {
   "cell_type": "code",
   "execution_count": 4,
   "id": "d67d408b",
   "metadata": {},
   "outputs": [],
   "source": [
    "def preprocess(example: dict) -> dict:\n",
    "    example[\"genres\"] = [g[\"name\"] for g in json.loads(example[\"genres\"])]\n",
    "    example[\"keywords\"] = [k[\"name\"] for k in json.loads(example[\"keywords\"])]\n",
    "    example[\"production_companies\"] = [\n",
    "        pc[\"name\"] for pc in json.loads(example[\"production_companies\"])\n",
    "    ]\n",
    "    example[\"production_countries\"] = [\n",
    "        pc[\"name\"] for pc in json.loads(example[\"production_countries\"])\n",
    "    ]\n",
    "    example[\"release_date\"] = datetime.datetime.strptime(\n",
    "        d if (d := example[\"release_date\"]) else \"1970-01-01\", \"%Y-%m-%d\"\n",
    "    ).date()\n",
    "    example[\"release_year\"] = example[\"release_date\"].year\n",
    "    example[\"spoken_languages\"] = [\n",
    "        sl[\"name\"] for sl in json.loads(example[\"spoken_languages\"])\n",
    "    ]\n",
    "    example[\"cast\"] = [\n",
    "        {\n",
    "            \"name\": c[\"name\"],\n",
    "            \"character\": c[\"character\"],\n",
    "        }\n",
    "        for c in json.loads(example[\"cast\"])\n",
    "    ]\n",
    "    example[\"crew\"] = [\n",
    "        {\n",
    "            \"name\": c[\"name\"],\n",
    "            \"job\": c[\"job\"],\n",
    "        }\n",
    "        for c in json.loads(example[\"crew\"])\n",
    "    ]\n",
    "    return example\n"
   ]
  },
  {
   "cell_type": "code",
   "execution_count": 5,
   "id": "5de6f690",
   "metadata": {},
   "outputs": [],
   "source": [
    "ds = ds.map(preprocess, remove_columns=[\"homepage\"], num_proc=4)"
   ]
  },
  {
   "cell_type": "markdown",
   "id": "e343d419",
   "metadata": {},
   "source": [
    "# Embeddings"
   ]
  },
  {
   "cell_type": "code",
   "execution_count": 6,
   "id": "4e3ff444",
   "metadata": {},
   "outputs": [],
   "source": [
    "queries = [\n",
    "    \"I want to watch an exciting superhero movie\",\n",
    "    \"我想看一部超級英雄電影\",\n",
    "]\n",
    "\n",
    "movies = [\n",
    "    \"A movie about a group of friends who go on a road trip\",\n",
    "    \"A romantic comedy about a couple who meet at a wedding\",\n",
    "    \"An autobiography of George Washington, the first president of the United States\",\n",
    "    \"Spider-Man is fighting against the Green Goblin in another universe\",\n",
    "]"
   ]
  },
  {
   "cell_type": "markdown",
   "id": "e57dd154",
   "metadata": {},
   "source": [
    "## sentence-transformers\n",
    "\n",
    "* [Official Documentation](https://sbert.net/)\n",
    "* Models supporting `sentence-transformers`: https://huggingface.co/models?library=sentence-transformers\n",
    "* Models for `sentence-similarity`: https://huggingface.co/models?pipeline_tag=sentence-similarity\n"
   ]
  },
  {
   "cell_type": "code",
   "execution_count": 7,
   "id": "921bbc08",
   "metadata": {},
   "outputs": [],
   "source": [
    "model = SentenceTransformer(\n",
    "    \"sentence-transformers/paraphrase-multilingual-MiniLM-L12-v2\", device=\"cpu\"\n",
    ")"
   ]
  },
  {
   "cell_type": "markdown",
   "id": "fb11faf2",
   "metadata": {},
   "source": [
    "### Compute embeddings"
   ]
  },
  {
   "cell_type": "code",
   "execution_count": 8,
   "id": "e4d94b2b",
   "metadata": {},
   "outputs": [
    {
     "name": "stdout",
     "output_type": "stream",
     "text": [
      "(2, 384) (4, 384)\n",
      "Query: [-0.4084644  -0.24543129 -0.600559   -0.11258549  0.19218642]\n",
      "Movie: [ 0.30984214 -0.12824544 -0.33090717 -0.2385715   0.33415732]\n"
     ]
    }
   ],
   "source": [
    "query_embeddings = model.encode(queries)\n",
    "movie_embeddings = model.encode(movies)\n",
    "print(query_embeddings.shape, movie_embeddings.shape)\n",
    "print(f\"Query: {query_embeddings[0][:5]}\")\n",
    "print(f\"Movie: {movie_embeddings[0][:5]}\")"
   ]
  },
  {
   "cell_type": "markdown",
   "id": "2596c7ff",
   "metadata": {},
   "source": [
    "### Computing similarity + retrieving top k"
   ]
  },
  {
   "cell_type": "code",
   "execution_count": 9,
   "id": "a1293584",
   "metadata": {},
   "outputs": [
    {
     "data": {
      "text/plain": [
       "tensor([[ 0.2611,  0.1753, -0.0321,  0.3556],\n",
       "        [ 0.2784,  0.1435,  0.0242,  0.3834]])"
      ]
     },
     "execution_count": 9,
     "metadata": {},
     "output_type": "execute_result"
    }
   ],
   "source": [
    "# Compute cosine similarities\n",
    "similarities = model.similarity(query_embeddings, movie_embeddings)\n",
    "similarities"
   ]
  },
  {
   "cell_type": "code",
   "execution_count": 12,
   "id": "e5e50169",
   "metadata": {},
   "outputs": [
    {
     "name": "stdout",
     "output_type": "stream",
     "text": [
      "I want to watch an exciting superhero movie\n",
      " - A movie about a group of friends who go on a road trip: \u001b[33m0.2611\u001b[0m\n",
      " - A romantic comedy about a couple who meet at a wedding: \u001b[33m0.1753\u001b[0m\n",
      " - An autobiography of George Washington, the first president of the United States: \u001b[33m-0.0321\u001b[0m\n",
      " - Spider-Man is fighting against the Green Goblin in another universe: \u001b[33m0.3556\u001b[0m\n",
      "我想看一部超級英雄電影\n",
      " - A movie about a group of friends who go on a road trip: \u001b[33m0.2784\u001b[0m\n",
      " - A romantic comedy about a couple who meet at a wedding: \u001b[33m0.1435\u001b[0m\n",
      " - An autobiography of George Washington, the first president of the United States: \u001b[33m0.0242\u001b[0m\n",
      " - Spider-Man is fighting against the Green Goblin in another universe: \u001b[33m0.3834\u001b[0m\n"
     ]
    }
   ],
   "source": [
    "YELLOW = \"\\033[33m\"\n",
    "END = \"\\033[0m\"\n",
    "# Output the pairs with their score\n",
    "for idx_i, sentence1 in enumerate(queries):\n",
    "    print(sentence1)\n",
    "    for idx_j, sentence2 in enumerate(movies):\n",
    "        print(f\" - {sentence2: <30}: {YELLOW}{similarities[idx_i][idx_j]:.4f}{END}\")"
   ]
  },
  {
   "cell_type": "code",
   "execution_count": 141,
   "id": "55494610",
   "metadata": {},
   "outputs": [
    {
     "data": {
      "text/plain": [
       "torch.return_types.topk(\n",
       "values=tensor([ 0.3556,  0.2611,  0.1753, -0.0321]),\n",
       "indices=tensor([3, 0, 1, 2]))"
      ]
     },
     "execution_count": 141,
     "metadata": {},
     "output_type": "execute_result"
    }
   ],
   "source": [
    "torch.topk(similarities[0], k=4)"
   ]
  },
  {
   "cell_type": "code",
   "execution_count": 13,
   "id": "f1d2dc21",
   "metadata": {},
   "outputs": [
    {
     "name": "stdout",
     "output_type": "stream",
     "text": [
      "I want to watch an exciting superhero movie\n",
      " - Spider-Man is fighting against the Green Goblin in another universe: \u001b[33m0.3556\u001b[0m\n",
      " - A movie about a group of friends who go on a road trip: \u001b[33m0.2611\u001b[0m\n",
      " - A romantic comedy about a couple who meet at a wedding: \u001b[33m0.1753\u001b[0m\n",
      " - An autobiography of George Washington, the first president of the United States: \u001b[33m-0.0321\u001b[0m\n",
      "我想看一部超級英雄電影\n",
      " - Spider-Man is fighting against the Green Goblin in another universe: \u001b[33m0.3834\u001b[0m\n",
      " - A movie about a group of friends who go on a road trip: \u001b[33m0.2784\u001b[0m\n",
      " - A romantic comedy about a couple who meet at a wedding: \u001b[33m0.1435\u001b[0m\n",
      " - An autobiography of George Washington, the first president of the United States: \u001b[33m0.0242\u001b[0m\n"
     ]
    }
   ],
   "source": [
    "for idx_i, sentence1 in enumerate(queries):\n",
    "    print(sentence1)\n",
    "    for idx_j in torch.topk(similarities[idx_i], k=4).indices:\n",
    "        print(f\" - {movies[idx_j]: <30}: {YELLOW}{similarities[idx_i][idx_j]:.4f}{END}\")"
   ]
  },
  {
   "cell_type": "markdown",
   "id": "a408f6c2",
   "metadata": {},
   "source": [
    "## OpenAI\n",
    "\n",
    "[Documentation](https://platform.openai.com/docs/guides/embeddings?lang=python)"
   ]
  },
  {
   "cell_type": "markdown",
   "id": "afb4c287",
   "metadata": {},
   "source": [
    "![](https://i.redd.it/lpf0u9nbj7w41.jpg)"
   ]
  },
  {
   "cell_type": "code",
   "execution_count": 32,
   "id": "1b45bfd8",
   "metadata": {},
   "outputs": [],
   "source": [
    "api_key = os.getenv(\"OPENAI_API_KEY\")\n",
    "if not api_key and userdata:\n",
    "    # If running in Google Colab, try to get the API key from userdata\n",
    "    api_key = userdata.get(\"OPENAI_API_KEY\")\n",
    "if not api_key:\n",
    "    raise ValueError(\"OPENAI_API_KEY environment variable is not set\")\n",
    "\n",
    "client = AsyncOpenAI(api_key=api_key, max_retries=5)"
   ]
  },
  {
   "cell_type": "markdown",
   "id": "9535512f",
   "metadata": {},
   "source": [
    "### Compute embeddings"
   ]
  },
  {
   "cell_type": "code",
   "execution_count": 15,
   "id": "ecb09082",
   "metadata": {},
   "outputs": [
    {
     "name": "stdout",
     "output_type": "stream",
     "text": [
      "1536\n",
      "[-0.010025657713413239, 0.007190898526459932, -0.08766952902078629, 0.010150458663702011, -0.025221630930900574]\n"
     ]
    }
   ],
   "source": [
    "res = await client.embeddings.create(input=queries[0], model=\"text-embedding-3-small\")\n",
    "embedding = res.data[0].embedding\n",
    "print(len(embedding))\n",
    "print(embedding[:5])"
   ]
  },
  {
   "cell_type": "code",
   "execution_count": 16,
   "id": "24c4d2f0",
   "metadata": {},
   "outputs": [
    {
     "name": "stdout",
     "output_type": "stream",
     "text": [
      "Total tokens: 8\n"
     ]
    }
   ],
   "source": [
    "print(f\"Total tokens: {res.usage.total_tokens}\")"
   ]
  },
  {
   "cell_type": "code",
   "execution_count": 17,
   "id": "c7f42920",
   "metadata": {},
   "outputs": [],
   "source": [
    "# Convert to torch.Tensor for cosine similarity\n",
    "_query_embeddings = await asyncio.gather(\n",
    "    *[\n",
    "        client.embeddings.create(input=query, model=\"text-embedding-3-small\")\n",
    "        for query in queries\n",
    "    ]\n",
    ")\n",
    "query_embeddings = torch.Tensor(\n",
    "    [embedding.data[0].embedding for embedding in _query_embeddings]\n",
    ")\n",
    "_movie_embeddings = await asyncio.gather(\n",
    "    *[\n",
    "        client.embeddings.create(input=movie, model=\"text-embedding-3-small\")\n",
    "        for movie in movies\n",
    "    ]\n",
    ")\n",
    "movie_embeddings = torch.Tensor(\n",
    "    [embedding.data[0].embedding for embedding in _movie_embeddings]\n",
    ")"
   ]
  },
  {
   "cell_type": "code",
   "execution_count": 18,
   "id": "9afcaf1d",
   "metadata": {},
   "outputs": [
    {
     "data": {
      "text/plain": [
       "tensor([[ 0.0125,  0.0218, -0.0479,  ...,  0.0026, -0.0386,  0.0079],\n",
       "        [-0.0326,  0.0203, -0.0673,  ...,  0.0057, -0.0081, -0.0111],\n",
       "        [ 0.0083, -0.0117,  0.0179,  ...,  0.0175, -0.0041, -0.0108],\n",
       "        [-0.0362, -0.0462,  0.0150,  ..., -0.0224,  0.0127,  0.0131]])"
      ]
     },
     "execution_count": 18,
     "metadata": {},
     "output_type": "execute_result"
    }
   ],
   "source": [
    "torch.Tensor(movie_embeddings)"
   ]
  },
  {
   "cell_type": "markdown",
   "id": "b3cbdbca",
   "metadata": {},
   "source": [
    "### Computing similarity + retrieving top k"
   ]
  },
  {
   "cell_type": "code",
   "execution_count": 20,
   "id": "e5ed078e",
   "metadata": {},
   "outputs": [
    {
     "data": {
      "text/plain": [
       "tensor([[0.2881, 0.2119, 0.0501, 0.3344],\n",
       "        [0.2241, 0.1764, 0.0754, 0.2568]])"
      ]
     },
     "execution_count": 20,
     "metadata": {},
     "output_type": "execute_result"
    }
   ],
   "source": [
    "similarities = F.cosine_similarity(query_embeddings.unsqueeze(1), movie_embeddings.unsqueeze(0), dim=2)\n",
    "similarities"
   ]
  },
  {
   "cell_type": "code",
   "execution_count": 21,
   "id": "56e48176",
   "metadata": {},
   "outputs": [
    {
     "name": "stdout",
     "output_type": "stream",
     "text": [
      "I want to watch an exciting superhero movie\n",
      " - Spider-Man is fighting against the Green Goblin in another universe: \u001b[33m0.3344\u001b[0m\n",
      " - A movie about a group of friends who go on a road trip: \u001b[33m0.2881\u001b[0m\n",
      " - A romantic comedy about a couple who meet at a wedding: \u001b[33m0.2119\u001b[0m\n",
      " - An autobiography of George Washington, the first president of the United States: \u001b[33m0.0501\u001b[0m\n",
      "我想看一部超級英雄電影\n",
      " - Spider-Man is fighting against the Green Goblin in another universe: \u001b[33m0.2568\u001b[0m\n",
      " - A movie about a group of friends who go on a road trip: \u001b[33m0.2241\u001b[0m\n",
      " - A romantic comedy about a couple who meet at a wedding: \u001b[33m0.1764\u001b[0m\n",
      " - An autobiography of George Washington, the first president of the United States: \u001b[33m0.0754\u001b[0m\n"
     ]
    }
   ],
   "source": [
    "YELLOW = \"\\033[33m\"\n",
    "END = \"\\033[0m\"\n",
    "for idx_i, sentence1 in enumerate(queries):\n",
    "    print(sentence1)\n",
    "    for idx_j in torch.topk(similarities[idx_i], k=4).indices:\n",
    "        print(f\" - {movies[idx_j]: <30}: {YELLOW}{similarities[idx_i][idx_j]:.4f}{END}\")"
   ]
  },
  {
   "cell_type": "markdown",
   "id": "79d81fd6",
   "metadata": {},
   "source": [
    "### Calculate tokens and price\n",
    "\n",
    "[OpenAI pricing](https://platform.openai.com/docs/pricing)"
   ]
  },
  {
   "cell_type": "code",
   "execution_count": 24,
   "id": "30951b8d",
   "metadata": {},
   "outputs": [],
   "source": [
    "enc = tiktoken.encoding_for_model(\"text-embedding-3-small\")"
   ]
  },
  {
   "cell_type": "code",
   "execution_count": 27,
   "id": "8216e6d8",
   "metadata": {},
   "outputs": [
    {
     "name": "stdout",
     "output_type": "stream",
     "text": [
      "Total tokens: 8\n",
      "[40, 1390, 311, 3821, 459, 13548, 46244, 5818]\n"
     ]
    }
   ],
   "source": [
    "encoded = enc.encode(queries[0])\n",
    "print(f\"Total tokens: {len(encoded)}\")\n",
    "print(encoded)"
   ]
  },
  {
   "cell_type": "code",
   "execution_count": 28,
   "id": "c7b57982",
   "metadata": {},
   "outputs": [],
   "source": [
    "# price per 1M tokens\n",
    "model_to_price = {\n",
    "    \"text-embedding-3-small\": 0.02,\n",
    "    \"text-embedding-3-large\": 0.13,\n",
    "}\n",
    "\n",
    "\n",
    "def get_token_count_and_price(\n",
    "    texts: list[str], model: str = \"text-embedding-3-small\"\n",
    ") -> tuple[int, float]:\n",
    "    if model not in model_to_price:\n",
    "        raise ValueError(f\"Model {model} not supported\")\n",
    "    enc = tiktoken.encoding_for_model(model)\n",
    "    token_count = sum(len(e) for e in enc.encode_batch(texts))\n",
    "    price_per_1m_tokens = model_to_price[model]\n",
    "    price = (token_count / 1_000_000) * price_per_1m_tokens\n",
    "    return token_count, price"
   ]
  },
  {
   "cell_type": "code",
   "execution_count": 29,
   "id": "27304088",
   "metadata": {},
   "outputs": [
    {
     "data": {
      "text/plain": [
       "(480, 9.600000000000001e-06)"
      ]
     },
     "execution_count": 29,
     "metadata": {},
     "output_type": "execute_result"
    }
   ],
   "source": [
    "get_token_count_and_price(movies * 10, model=\"text-embedding-3-small\")"
   ]
  },
  {
   "cell_type": "markdown",
   "id": "de99a2af",
   "metadata": {},
   "source": [
    "### Handling rate limits"
   ]
  },
  {
   "cell_type": "code",
   "execution_count": null,
   "id": "ee5c15ca",
   "metadata": {},
   "outputs": [],
   "source": [
    "# def log_backoff_attempt(retry_state: RetryCallState) -> None:\n",
    "#     \"\"\"\n",
    "#     Logs a message before a retry attempt, detailing the attempt number,\n",
    "#     the exception, and the wait time.\n",
    "#     \"\"\"\n",
    "#     attempt_num = retry_state.attempt_number\n",
    "#     exception = retry_state.outcome.exception() if retry_state.outcome else \"N/A\"\n",
    "#     wait_time = retry_state.next_action.sleep if retry_state.next_action else 0.0\n",
    "#     func_name = retry_state.fn.__name__ if retry_state.fn else \"N/A\"\n",
    "\n",
    "#     logger.info(\n",
    "#         f\"Backing off for function '{func_name}': \"\n",
    "#         f\"Attempt {attempt_num} failed due to '{exception.__class__.__name__}: {exception}'. \"\n",
    "#         f\"Waiting {wait_time:.2f} seconds before next attempt.\"\n",
    "#     )\n",
    "\n",
    "\n",
    "# @retry(\n",
    "#     wait=wait_random_exponential(min=1, max=60),\n",
    "#     stop=stop_after_attempt(6),\n",
    "#     before_sleep=log_backoff_attempt,\n",
    "# )\n",
    "# async def embedding_with_backoff(**kwargs):\n",
    "#     return await client.embeddings.create(**kwargs)"
   ]
  },
  {
   "cell_type": "markdown",
   "id": "77b75512",
   "metadata": {},
   "source": [
    "# Setting up a vector database\n",
    "\n",
    "[LanceDB documentation](https://lancedb.github.io/lancedb/basic/)"
   ]
  },
  {
   "cell_type": "code",
   "execution_count": 216,
   "id": "5a56860a",
   "metadata": {},
   "outputs": [
    {
     "data": {
      "text/plain": [
       "{'id': 5,\n",
       " 'budget': 4000000,\n",
       " 'genres': ['Crime', 'Comedy'],\n",
       " 'keywords': ['hotel',\n",
       "  \"new year's eve\",\n",
       "  'witch',\n",
       "  'bet',\n",
       "  'hotel room',\n",
       "  'sperm',\n",
       "  'los angeles',\n",
       "  'hoodlum',\n",
       "  'woman director',\n",
       "  'episode film'],\n",
       " 'original_language': 'en',\n",
       " 'original_title': 'Four Rooms',\n",
       " 'overview': \"It's Ted the Bellhop's first night on the job...and the hotel's very unusual guests are about to place him in some outrageous predicaments. It seems that this evening's room service is serving up one unbelievable happening after another.\",\n",
       " 'popularity': 22.87623,\n",
       " 'production_companies': ['Miramax Films', 'A Band Apart'],\n",
       " 'production_countries': ['United States of America'],\n",
       " 'release_date': datetime.date(1995, 12, 9),\n",
       " 'revenue': 4300000,\n",
       " 'runtime': 98.0,\n",
       " 'spoken_languages': ['English'],\n",
       " 'status': 'Released',\n",
       " 'tagline': \"Twelve outrageous guests. Four scandalous requests. And one lone bellhop, in his first day on the job, who's in for the wildest New year's Eve of his life.\",\n",
       " 'title': 'Four Rooms',\n",
       " 'vote_average': 6.5,\n",
       " 'vote_count': 530,\n",
       " 'cast': [{'character': 'Ted the Bellhop', 'name': 'Tim Roth'},\n",
       "  {'character': 'Man', 'name': 'Antonio Banderas'},\n",
       "  {'character': 'Angela', 'name': 'Jennifer Beals'},\n",
       "  {'character': 'Elspeth', 'name': 'Madonna'},\n",
       "  {'character': 'Margaret', 'name': 'Marisa Tomei'},\n",
       "  {'character': 'Leo', 'name': 'Bruce Willis'},\n",
       "  {'character': 'Chester Rush', 'name': 'Quentin Tarantino'},\n",
       "  {'character': 'Jezebel', 'name': 'Sammi Davis'},\n",
       "  {'character': 'Diana', 'name': 'Amanda de Cadenet'},\n",
       "  {'character': 'Athena', 'name': 'Valeria Golino'},\n",
       "  {'character': 'Raven', 'name': 'Lili Taylor'},\n",
       "  {'character': 'Long Hair Yuppy Scum', 'name': 'Lawrence Bender'},\n",
       "  {'character': 'Eva', 'name': 'Ione Skye'},\n",
       "  {'character': 'Kiva', 'name': 'Alicia Witt'},\n",
       "  {'character': 'Siegfried', 'name': 'David Proval'},\n",
       "  {'character': 'Sarah', 'name': 'Lana McKissack'},\n",
       "  {'character': 'Wife', 'name': 'Tamlyn Tomita'},\n",
       "  {'character': 'Betty', 'name': 'Kathy Griffin'},\n",
       "  {'character': 'Norman', 'name': 'Paul Calderon'},\n",
       "  {'character': 'TV Dancing Girl', 'name': 'Salma Hayek'},\n",
       "  {'character': 'Corpse', 'name': 'Patricia Vonne'},\n",
       "  {'character': 'Juancho', 'name': 'Danny Verduzco'},\n",
       "  {'character': 'Hooker', 'name': 'Kimberly Blair'},\n",
       "  {'character': 'Sam the Bellhop', 'name': 'Marc Lawrence'}],\n",
       " 'crew': [{'job': 'Director', 'name': 'Allison Anders'},\n",
       "  {'job': 'Writer', 'name': 'Allison Anders'},\n",
       "  {'job': 'Director', 'name': 'Alexandre Rockwell'},\n",
       "  {'job': 'Executive Producer', 'name': 'Alexandre Rockwell'},\n",
       "  {'job': 'Writer', 'name': 'Alexandre Rockwell'},\n",
       "  {'job': 'Director', 'name': 'Robert Rodriguez'},\n",
       "  {'job': 'Writer', 'name': 'Robert Rodriguez'},\n",
       "  {'job': 'Editor', 'name': 'Robert Rodriguez'},\n",
       "  {'job': 'Director', 'name': 'Quentin Tarantino'},\n",
       "  {'job': 'Executive Producer', 'name': 'Quentin Tarantino'},\n",
       "  {'job': 'Writer', 'name': 'Quentin Tarantino'},\n",
       "  {'job': 'Original Music Composer', 'name': 'Combustible Edison'},\n",
       "  {'job': 'Production Design', 'name': 'Gary Frutkoff'},\n",
       "  {'job': 'Sound Designer', 'name': 'Lance Brown'},\n",
       "  {'job': 'Producer', 'name': 'Lawrence Bender'},\n",
       "  {'job': 'Co-Producer', 'name': 'Heidi Vogel'},\n",
       "  {'job': 'Co-Producer', 'name': 'Paul Hellerman'},\n",
       "  {'job': 'Production Manager', 'name': 'Paul Hellerman'},\n",
       "  {'job': 'Co-Producer', 'name': 'Scott Lambert'},\n",
       "  {'job': 'Casting', 'name': 'Russell Gray'},\n",
       "  {'job': 'Art Direction', 'name': 'Mayne Berke'},\n",
       "  {'job': 'Set Decoration', 'name': 'Sara Andrews'},\n",
       "  {'job': 'Editor', 'name': 'Sally Menke'},\n",
       "  {'job': 'Director of Photography', 'name': 'Guillermo Navarro'},\n",
       "  {'job': 'Director of Photography', 'name': 'Andrzej Sekula'},\n",
       "  {'job': 'Music Supervisor', 'name': 'Karyn Rachtman'},\n",
       "  {'job': 'Editor', 'name': 'Elena Maganini'},\n",
       "  {'job': 'Director of Photography', 'name': 'Phil Parmet'},\n",
       "  {'job': 'Casting Associate', 'name': 'Randi Hiller'},\n",
       "  {'job': 'Costume Design', 'name': 'Mary Claire Hannan'},\n",
       "  {'job': 'Steadicam Operator', 'name': 'Jonathan Brown'},\n",
       "  {'job': 'Costume Design', 'name': 'Susan L. Bertram'},\n",
       "  {'job': 'First Assistant Editor', 'name': 'Erik C. Andersen'},\n",
       "  {'job': 'Unit Production Manager', 'name': 'Debbie Hayn-Cass'},\n",
       "  {'job': 'Production Supervisor', 'name': 'Debbie Hayn-Cass'},\n",
       "  {'job': 'First Assistant Director', 'name': 'Douglas Aarniokoski'},\n",
       "  {'job': 'Director of Photography', 'name': 'Rodrigo García'},\n",
       "  {'job': 'Sound Editor', 'name': 'Jay Nierenberg'},\n",
       "  {'job': 'Creative Consultant', 'name': 'Chuck Jones'},\n",
       "  {'job': 'Key Hair Stylist', 'name': 'Ermahn Ospina'},\n",
       "  {'job': 'First Assistant Camera', 'name': 'Ziad Doueiri'},\n",
       "  {'job': 'Editor', 'name': 'Margaret Goodspeed'},\n",
       "  {'job': 'First Assistant Director', 'name': 'Fernando Altschul'},\n",
       "  {'job': 'Script Supervisor', 'name': 'Jayne-Ann Tenggren'},\n",
       "  {'job': 'First Assistant Sound Editor', 'name': 'Tim Tuchrello'},\n",
       "  {'job': 'Construction Coordinator', 'name': 'Brian Markey'},\n",
       "  {'job': 'Location Manager', 'name': 'Robert Earl Craft'},\n",
       "  {'job': 'Production Coordinator', 'name': 'Dawn Todd Curfman'},\n",
       "  {'job': 'Production Sound Mixer', 'name': 'Pawel Wdowczak'},\n",
       "  {'job': 'Sound Effects Editor', 'name': 'Glenn Hoskinson'},\n",
       "  {'job': 'Dolby Consultant', 'name': \"Thom 'Coach' Ehle\"},\n",
       "  {'job': 'Music Editor', 'name': 'Denise Okimoto'},\n",
       "  {'job': 'Transportation Coordinator', 'name': 'P. Gerald Knight'},\n",
       "  {'job': 'Supervising Sound Editor', 'name': 'Bruce Fortune'},\n",
       "  {'job': 'Costume Supervisor', 'name': 'Jacqueline Aronson'},\n",
       "  {'job': 'Construction Foreman', 'name': 'Ray Maxwell'},\n",
       "  {'job': 'Property Master', 'name': 'Lynda Reiss'},\n",
       "  {'job': 'Special Sound Effects', 'name': 'Victor Iorillo'},\n",
       "  {'job': 'Art Department Coordinator', 'name': 'Marisol Jiménez'},\n",
       "  {'job': 'Color Timer', 'name': 'Mike Stanwick'},\n",
       "  {'job': 'Best Boy Electric', 'name': 'Edgar Arellano'},\n",
       "  {'job': 'Special Effects Coordinator', 'name': 'Paul Taglianetti'},\n",
       "  {'job': 'Unit Publicist', 'name': 'Nancy Willen'},\n",
       "  {'job': 'Driver', 'name': 'Darrell Dubovsky'},\n",
       "  {'job': 'Boom Operator', 'name': 'Paul Koronkiewicz'},\n",
       "  {'job': 'Key Grip', 'name': 'Rick Stribling'},\n",
       "  {'job': 'Hairstylist', 'name': 'Orlando'},\n",
       "  {'job': 'Carpenter', 'name': 'James C. Beeson'},\n",
       "  {'job': 'Painter', 'name': 'Carlos A. Chavez'},\n",
       "  {'job': 'Lead Painter', 'name': 'Marc Gillson'},\n",
       "  {'job': 'Standby Painter', 'name': 'T.D. Donnelly'},\n",
       "  {'job': 'Grip', 'name': 'Elizabeth Bolden'},\n",
       "  {'job': 'Costume Supervisor', 'name': 'Thomas G. Marquez'},\n",
       "  {'job': 'Makeup Artist', 'name': 'Paul Starr'},\n",
       "  {'job': 'Choreographer', 'name': 'Sissy Boyd'},\n",
       "  {'job': 'Craft Service', 'name': 'Derek Hurd'},\n",
       "  {'job': 'Post Production Assistant', 'name': 'Ben Parker'},\n",
       "  {'job': 'Set Production Assistant', 'name': 'Ben Parker'},\n",
       "  {'job': 'Security', 'name': 'Nick Roberts'},\n",
       "  {'job': 'Set Medic', 'name': 'Patrice Carbaugh'},\n",
       "  {'job': 'Stand In', 'name': 'Michael Boyce Harris'},\n",
       "  {'job': 'Transportation Captain', 'name': 'Dotti Thompson'},\n",
       "  {'job': 'First Assistant Editor', 'name': 'Bob Allen'},\n",
       "  {'job': 'Electrician', 'name': 'Marcel DeJure'},\n",
       "  {'job': 'Gaffer', 'name': 'Chuck Smith'},\n",
       "  {'job': 'Production Accountant', 'name': 'Deborah Hebert'},\n",
       "  {'job': 'Foley', 'name': 'David Gertz'},\n",
       "  {'job': 'Studio Teachers', 'name': 'Jan D. Tys'}],\n",
       " 'release_year': 1995}"
      ]
     },
     "execution_count": 216,
     "metadata": {},
     "output_type": "execute_result"
    }
   ],
   "source": [
    "# We'll use the \"overview\" column as the text to embed\n",
    "ds[0]"
   ]
  },
  {
   "cell_type": "code",
   "execution_count": 217,
   "id": "bf1efe30",
   "metadata": {},
   "outputs": [
    {
     "name": "stdout",
     "output_type": "stream",
     "text": [
      "4800\n"
     ]
    },
    {
     "data": {
      "text/plain": [
       "[\"It's Ted the Bellhop's first night on the job...and the hotel's very unusual guests are about to place him in some outrageous predicaments. It seems that this evening's room service is serving up one unbelievable happening after another.\",\n",
       " 'Princess Leia is captured and held hostage by the evil Imperial forces in their effort to take over the galactic Empire. Venturesome Luke Skywalker and dashing captain Han Solo team together with the loveable robot duo R2-D2 and C-3PO to rescue the beautiful princess and restore peace and justice in the Empire.',\n",
       " \"Nemo, an adventurous young clownfish, is unexpectedly taken from his Great Barrier Reef home to a dentist's office aquarium. It's up to his worrisome father Marlin and a friendly but forgetful fish Dory to bring Nemo home -- meeting vegetarian sharks, surfer dude turtles, hypnotic jellyfish, hungry seagulls, and more along the way.\",\n",
       " \"A man with a low IQ has accomplished great things in his life and been present during significant historic events - in each case, far exceeding what anyone imagined he could do. Yet, despite all the things he has attained, his one true love eludes him. 'Forrest Gump' is the story of a man who rose above his challenges, and who proved that determination, courage, and love are more important than ability.\",\n",
       " \"Lester Burnham, a depressed suburban father in a mid-life crisis, decides to turn his hectic life around after developing an infatuation with his daughter's attractive friend.\"]"
      ]
     },
     "execution_count": 217,
     "metadata": {},
     "output_type": "execute_result"
    }
   ],
   "source": [
    "overviews = ds[\"overview\"]\n",
    "print(len(overviews))\n",
    "overviews[:5]"
   ]
  },
  {
   "cell_type": "markdown",
   "id": "18a04fca",
   "metadata": {},
   "source": [
    "## sentence-transformers"
   ]
  },
  {
   "cell_type": "code",
   "execution_count": 220,
   "id": "22fe5039",
   "metadata": {},
   "outputs": [
    {
     "data": {
      "text/plain": [
       "array([ 0.0797189 , -0.22588545, -0.08258644, -0.06734926,  0.07945839],\n",
       "      dtype=float32)"
      ]
     },
     "execution_count": 220,
     "metadata": {},
     "output_type": "execute_result"
    }
   ],
   "source": [
    "overview_embeddings = model.encode(overviews)\n",
    "overview_embeddings[0][:5]"
   ]
  },
  {
   "cell_type": "code",
   "execution_count": 227,
   "id": "24ccd446",
   "metadata": {},
   "outputs": [
    {
     "data": {
      "text/plain": [
       "id                                                                      5\n",
       "budget                                                            4000000\n",
       "genres                                                    [Crime, Comedy]\n",
       "keywords                [hotel, new year's eve, witch, bet, hotel room...\n",
       "original_language                                                      en\n",
       "original_title                                                 Four Rooms\n",
       "overview                It's Ted the Bellhop's first night on the job....\n",
       "popularity                                                       22.87623\n",
       "production_companies                        [Miramax Films, A Band Apart]\n",
       "production_countries                           [United States of America]\n",
       "release_date                                                   1995-12-09\n",
       "revenue                                                           4300000\n",
       "runtime                                                              98.0\n",
       "spoken_languages                                                [English]\n",
       "status                                                           Released\n",
       "tagline                 Twelve outrageous guests. Four scandalous requ...\n",
       "title                                                          Four Rooms\n",
       "vote_average                                                          6.5\n",
       "vote_count                                                            530\n",
       "cast                    [{'character': 'Ted the Bellhop', 'name': 'Tim...\n",
       "crew                    [{'job': 'Director', 'name': 'Allison Anders'}...\n",
       "release_year                                                         1995\n",
       "vector                  [0.07971889525651932, -0.22588545083999634, -0...\n",
       "Name: 0, dtype: object"
      ]
     },
     "execution_count": 227,
     "metadata": {},
     "output_type": "execute_result"
    }
   ],
   "source": [
    "df = ds.to_pandas()\n",
    "df[\"vector\"] = overview_embeddings.tolist()\n",
    "df.iloc[0]"
   ]
  },
  {
   "cell_type": "code",
   "execution_count": 208,
   "id": "81baa734",
   "metadata": {},
   "outputs": [],
   "source": [
    "db = lancedb.connect(\"../data/tmdb-5000-movies-sentence-transformers\")"
   ]
  },
  {
   "cell_type": "code",
   "execution_count": 228,
   "id": "c62247de",
   "metadata": {},
   "outputs": [],
   "source": [
    "tbl = db.create_table(\"movies\", data=df)"
   ]
  },
  {
   "cell_type": "markdown",
   "id": "8b9c6293",
   "metadata": {},
   "source": [
    "## OpenAI"
   ]
  },
  {
   "cell_type": "code",
   "execution_count": 30,
   "id": "ac2d6e0c",
   "metadata": {},
   "outputs": [
    {
     "data": {
      "text/plain": [
       "(311562, 0.00623124)"
      ]
     },
     "execution_count": 30,
     "metadata": {},
     "output_type": "execute_result"
    }
   ],
   "source": [
    "overviews = ds[\"overview\"]\n",
    "get_token_count_and_price(overviews, model=\"text-embedding-3-small\")"
   ]
  },
  {
   "cell_type": "code",
   "execution_count": null,
   "id": "6ad0b508",
   "metadata": {},
   "outputs": [],
   "source": [
    "_overview_embeddings = await asyncio.gather(\n",
    "    *[\n",
    "        # embedding_with_backoff(input=overview, model=\"text-embedding-3-small\")\n",
    "        client.embeddings.create(input=overview, model=\"text-embedding-3-small\")\n",
    "        for overview in overviews\n",
    "    ]\n",
    ")\n",
    "overview_embeddings = [\n",
    "    embedding.data[0].embedding for embedding in _overview_embeddings\n",
    "]\n",
    "overview_embeddings[0][:5]"
   ]
  },
  {
   "cell_type": "code",
   "execution_count": null,
   "id": "6abc1ebf",
   "metadata": {},
   "outputs": [],
   "source": [
    "df = ds.to_pandas()\n",
    "df[\"vector\"] = overview_embeddings"
   ]
  },
  {
   "cell_type": "code",
   "execution_count": null,
   "id": "ba3c5e3e",
   "metadata": {},
   "outputs": [],
   "source": [
    "db = lancedb.connect(\"../data/tmdb-5000-movies-openai\")\n",
    "tbl = db.create_table(\"movies\", data=df)"
   ]
  }
 ],
 "metadata": {
  "kernelspec": {
   "display_name": ".venv",
   "language": "python",
   "name": "python3"
  },
  "language_info": {
   "codemirror_mode": {
    "name": "ipython",
    "version": 3
   },
   "file_extension": ".py",
   "mimetype": "text/x-python",
   "name": "python",
   "nbconvert_exporter": "python",
   "pygments_lexer": "ipython3",
   "version": "3.11.11"
  }
 },
 "nbformat": 4,
 "nbformat_minor": 5
}
