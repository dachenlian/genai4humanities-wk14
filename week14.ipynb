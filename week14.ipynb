{
 "cells": [
  {
   "cell_type": "markdown",
   "id": "b77a10bc",
   "metadata": {},
   "source": [
    "# Imports"
   ]
  },
  {
   "cell_type": "code",
   "execution_count": 4,
   "id": "8133fb97",
   "metadata": {},
   "outputs": [],
   "source": [
    "%load_ext autoreload\n",
    "%autoreload 2\n",
    "\n",
    "import asyncio\n",
    "import datetime\n",
    "import json\n",
    "import os\n",
    "from enum import StrEnum\n",
    "from typing import Annotated\n",
    "\n",
    "import lancedb\n",
    "import pandas as pd\n",
    "import tiktoken\n",
    "import torch\n",
    "import torch.nn.functional as F\n",
    "from datasets import load_dataset, load_from_disk\n",
    "from dotenv import load_dotenv\n",
    "from huggingface_hub import AsyncInferenceClient\n",
    "from huggingface_hub.inference._generated.types import ChatCompletionOutputToolCall\n",
    "from loguru import logger\n",
    "from pydantic import BaseModel, Field\n",
    "from openai import OpenAI, AsyncOpenAI\n",
    "from openai.types.chat.chat_completion_message_tool_call import (\n",
    "    ChatCompletionMessageToolCall,\n",
    ")\n",
    "from sentence_transformers import SentenceTransformer\n",
    "from tenacity import (\n",
    "    RetryCallState,\n",
    "    retry,\n",
    "    stop_after_attempt,\n",
    "    wait_random_exponential,\n",
    ")  # for exponential backoff\n",
    "\n",
    "from utils import create_tool_schema_for_function\n",
    "from tool_types import ToolCallResult\n",
    "\n",
    "load_dotenv()\n",
    "\n",
    "try:\n",
    "    from google.colab import userdata  # type: ignore\n",
    "except ImportError:\n",
    "    userdata = None\n",
    "\n",
    "load_dotenv(override=True)\n",
    "pd.set_option(\"display.max_colwidth\", 0)"
   ]
  },
  {
   "cell_type": "markdown",
   "id": "4f7c4e35",
   "metadata": {},
   "source": [
    "# Preparing dataset"
   ]
  },
  {
   "cell_type": "code",
   "execution_count": 4,
   "id": "3b0bc263",
   "metadata": {},
   "outputs": [
    {
     "data": {
      "application/vnd.jupyter.widget-view+json": {
       "model_id": "d1c0a9e842e64dc6b5c1a1b76b0ca322",
       "version_major": 2,
       "version_minor": 0
      },
      "text/plain": [
       "README.md:   0%|          | 0.00/1.62k [00:00<?, ?B/s]"
      ]
     },
     "metadata": {},
     "output_type": "display_data"
    },
    {
     "data": {
      "application/vnd.jupyter.widget-view+json": {
       "model_id": "44b698845b264425869f1c9642967c50",
       "version_major": 2,
       "version_minor": 0
      },
      "text/plain": [
       "(…)-00000-of-00001-6db04ab1c75d6817.parquet:   0%|          | 0.00/13.9M [00:00<?, ?B/s]"
      ]
     },
     "metadata": {},
     "output_type": "display_data"
    },
    {
     "data": {
      "application/vnd.jupyter.widget-view+json": {
       "model_id": "4da6c36dd51d49ed8c4330f1d0aa9933",
       "version_major": 2,
       "version_minor": 0
      },
      "text/plain": [
       "Generating train split:   0%|          | 0/4803 [00:00<?, ? examples/s]"
      ]
     },
     "metadata": {},
     "output_type": "display_data"
    },
    {
     "data": {
      "text/plain": [
       "Dataset({\n",
       "    features: ['id', 'budget', 'genres', 'homepage', 'keywords', 'original_language', 'original_title', 'overview', 'popularity', 'production_companies', 'production_countries', 'release_date', 'revenue', 'runtime', 'spoken_languages', 'status', 'tagline', 'title', 'vote_average', 'vote_count', 'cast', 'crew'],\n",
       "    num_rows: 4803\n",
       "})"
      ]
     },
     "execution_count": 4,
     "metadata": {},
     "output_type": "execute_result"
    }
   ],
   "source": [
    "# https://huggingface.co/datasets/AiresPucrs/tmdb-5000-movies\n",
    "ds = load_dataset(\"AiresPucrs/tmdb-5000-movies\", split=\"train\")\n",
    "ds"
   ]
  },
  {
   "cell_type": "code",
   "execution_count": 5,
   "id": "cee9a86b",
   "metadata": {},
   "outputs": [
    {
     "data": {
      "application/vnd.jupyter.widget-view+json": {
       "model_id": "9a450c9a172b47059f939717bfb0f114",
       "version_major": 2,
       "version_minor": 0
      },
      "text/plain": [
       "Filter:   0%|          | 0/4803 [00:00<?, ? examples/s]"
      ]
     },
     "metadata": {},
     "output_type": "display_data"
    },
    {
     "data": {
      "text/plain": [
       "Dataset({\n",
       "    features: ['id', 'budget', 'genres', 'homepage', 'keywords', 'original_language', 'original_title', 'overview', 'popularity', 'production_companies', 'production_countries', 'release_date', 'revenue', 'runtime', 'spoken_languages', 'status', 'tagline', 'title', 'vote_average', 'vote_count', 'cast', 'crew'],\n",
       "    num_rows: 4800\n",
       "})"
      ]
     },
     "execution_count": 5,
     "metadata": {},
     "output_type": "execute_result"
    }
   ],
   "source": [
    "# Remove missing overview\n",
    "ds = ds.filter(lambda x: bool(x[\"overview\"]))\n",
    "ds"
   ]
  },
  {
   "cell_type": "code",
   "execution_count": 6,
   "id": "d67d408b",
   "metadata": {},
   "outputs": [],
   "source": [
    "def preprocess(example: dict) -> dict:\n",
    "    example[\"genres\"] = [g[\"name\"] for g in json.loads(example[\"genres\"])]\n",
    "    example[\"keywords\"] = [k[\"name\"] for k in json.loads(example[\"keywords\"])]\n",
    "    example[\"release_date\"] = datetime.datetime.strptime(\n",
    "        d if (d := example[\"release_date\"]) else \"1970-01-01\", \"%Y-%m-%d\"\n",
    "    ).date()\n",
    "    example[\"release_year\"] = example[\"release_date\"].year\n",
    "    example[\"spoken_languages\"] = [\n",
    "        sl[\"name\"] for sl in json.loads(example[\"spoken_languages\"])\n",
    "    ]\n",
    "    example[\"cast\"] = [\n",
    "        {\n",
    "            \"name\": c[\"name\"],\n",
    "            \"character\": c[\"character\"],\n",
    "        }\n",
    "        for c in json.loads(example[\"cast\"])\n",
    "    ]\n",
    "    # example[\"production_companies\"] = [\n",
    "    #     pc[\"name\"] for pc in json.loads(example[\"production_companies\"])\n",
    "    # ]\n",
    "    # example[\"production_countries\"] = [\n",
    "    #     pc[\"name\"] for pc in json.loads(example[\"production_countries\"])\n",
    "    # ]\n",
    "    # example[\"crew\"] = [\n",
    "    #     {\n",
    "    #         \"name\": c[\"name\"],\n",
    "    #         \"job\": c[\"job\"],\n",
    "    #     }\n",
    "    #     for c in json.loads(example[\"crew\"])\n",
    "    # ]\n",
    "    return example\n"
   ]
  },
  {
   "cell_type": "code",
   "execution_count": 7,
   "id": "5de6f690",
   "metadata": {},
   "outputs": [
    {
     "name": "stderr",
     "output_type": "stream",
     "text": [
      "/home/richard/github/genai4humanities-wk14/.venv/lib/python3.11/site-packages/lancedb/__init__.py:220: UserWarning: lance is not fork-safe. If you are using multiprocessing, use spawn instead.\n",
      "  warnings.warn(\n"
     ]
    },
    {
     "data": {
      "application/vnd.jupyter.widget-view+json": {
       "model_id": "13677c9c0561433db2747dc7001886e3",
       "version_major": 2,
       "version_minor": 0
      },
      "text/plain": [
       "Map (num_proc=4):   0%|          | 0/4800 [00:00<?, ? examples/s]"
      ]
     },
     "metadata": {},
     "output_type": "display_data"
    },
    {
     "name": "stderr",
     "output_type": "stream",
     "text": [
      "/home/richard/github/genai4humanities-wk14/.venv/lib/python3.11/site-packages/lancedb/__init__.py:220: UserWarning: lance is not fork-safe. If you are using multiprocessing, use spawn instead.\n",
      "  warnings.warn(\n"
     ]
    },
    {
     "data": {
      "text/plain": [
       "{'budget': 4000000,\n",
       " 'genres': ['Crime', 'Comedy'],\n",
       " 'keywords': ['hotel',\n",
       "  \"new year's eve\",\n",
       "  'witch',\n",
       "  'bet',\n",
       "  'hotel room',\n",
       "  'sperm',\n",
       "  'los angeles',\n",
       "  'hoodlum',\n",
       "  'woman director',\n",
       "  'episode film'],\n",
       " 'original_language': 'en',\n",
       " 'overview': \"It's Ted the Bellhop's first night on the job...and the hotel's very unusual guests are about to place him in some outrageous predicaments. It seems that this evening's room service is serving up one unbelievable happening after another.\",\n",
       " 'popularity': 22.87623,\n",
       " 'release_date': datetime.date(1995, 12, 9),\n",
       " 'revenue': 4300000,\n",
       " 'runtime': 98.0,\n",
       " 'spoken_languages': ['English'],\n",
       " 'title': 'Four Rooms',\n",
       " 'cast': [{'character': 'Ted the Bellhop', 'name': 'Tim Roth'},\n",
       "  {'character': 'Man', 'name': 'Antonio Banderas'},\n",
       "  {'character': 'Angela', 'name': 'Jennifer Beals'},\n",
       "  {'character': 'Elspeth', 'name': 'Madonna'},\n",
       "  {'character': 'Margaret', 'name': 'Marisa Tomei'},\n",
       "  {'character': 'Leo', 'name': 'Bruce Willis'},\n",
       "  {'character': 'Chester Rush', 'name': 'Quentin Tarantino'},\n",
       "  {'character': 'Jezebel', 'name': 'Sammi Davis'},\n",
       "  {'character': 'Diana', 'name': 'Amanda de Cadenet'},\n",
       "  {'character': 'Athena', 'name': 'Valeria Golino'},\n",
       "  {'character': 'Raven', 'name': 'Lili Taylor'},\n",
       "  {'character': 'Long Hair Yuppy Scum', 'name': 'Lawrence Bender'},\n",
       "  {'character': 'Eva', 'name': 'Ione Skye'},\n",
       "  {'character': 'Kiva', 'name': 'Alicia Witt'},\n",
       "  {'character': 'Siegfried', 'name': 'David Proval'},\n",
       "  {'character': 'Sarah', 'name': 'Lana McKissack'},\n",
       "  {'character': 'Wife', 'name': 'Tamlyn Tomita'},\n",
       "  {'character': 'Betty', 'name': 'Kathy Griffin'},\n",
       "  {'character': 'Norman', 'name': 'Paul Calderon'},\n",
       "  {'character': 'TV Dancing Girl', 'name': 'Salma Hayek'},\n",
       "  {'character': 'Corpse', 'name': 'Patricia Vonne'},\n",
       "  {'character': 'Juancho', 'name': 'Danny Verduzco'},\n",
       "  {'character': 'Hooker', 'name': 'Kimberly Blair'},\n",
       "  {'character': 'Sam the Bellhop', 'name': 'Marc Lawrence'}],\n",
       " 'release_year': 1995}"
      ]
     },
     "execution_count": 7,
     "metadata": {},
     "output_type": "execute_result"
    }
   ],
   "source": [
    "ds = ds.map(\n",
    "    preprocess,\n",
    "    remove_columns=[\n",
    "        \"id\",\n",
    "        \"homepage\",\n",
    "        \"production_companies\",\n",
    "        \"production_countries\",\n",
    "        \"status\",\n",
    "        \"tagline\",\n",
    "        \"vote_count\",\n",
    "        \"vote_average\",\n",
    "        \"crew\",\n",
    "        \"original_title\",\n",
    "    ],\n",
    "    num_proc=4,\n",
    ")\n",
    "ds[0]"
   ]
  },
  {
   "cell_type": "markdown",
   "id": "e343d419",
   "metadata": {},
   "source": [
    "# Embeddings"
   ]
  },
  {
   "cell_type": "code",
   "execution_count": 6,
   "id": "4e3ff444",
   "metadata": {},
   "outputs": [],
   "source": [
    "queries = [\n",
    "    \"I want to watch an exciting superhero movie\",\n",
    "    \"我想看一部超級英雄電影\",\n",
    "]\n",
    "\n",
    "movies = [\n",
    "    \"A movie about a group of friends who go on a road trip\",\n",
    "    \"A romantic comedy about a couple who meet at a wedding\",\n",
    "    \"An autobiography of George Washington, the first president of the United States\",\n",
    "    \"Spider-Man is fighting against the Green Goblin in another universe\",\n",
    "]"
   ]
  },
  {
   "cell_type": "markdown",
   "id": "e57dd154",
   "metadata": {},
   "source": [
    "## sentence-transformers\n",
    "\n",
    "* [Official Documentation](https://sbert.net/)\n",
    "* Models supporting `sentence-transformers`: https://huggingface.co/models?library=sentence-transformers\n",
    "* Models for `sentence-similarity`: https://huggingface.co/models?pipeline_tag=sentence-similarity\n"
   ]
  },
  {
   "cell_type": "code",
   "execution_count": 8,
   "id": "921bbc08",
   "metadata": {},
   "outputs": [],
   "source": [
    "embedder = SentenceTransformer(\n",
    "    \"sentence-transformers/paraphrase-multilingual-MiniLM-L12-v2\",\n",
    "    device=\"cpu\",\n",
    ")"
   ]
  },
  {
   "cell_type": "markdown",
   "id": "fb11faf2",
   "metadata": {},
   "source": [
    "### Compute embeddings"
   ]
  },
  {
   "cell_type": "code",
   "execution_count": null,
   "id": "e4d94b2b",
   "metadata": {},
   "outputs": [
    {
     "name": "stdout",
     "output_type": "stream",
     "text": [
      "(2, 384) (4, 384)\n",
      "Query: [-0.4084644  -0.24543129 -0.600559   -0.11258549  0.19218642]\n",
      "Movie: [ 0.30984214 -0.12824544 -0.33090717 -0.2385715   0.33415732]\n"
     ]
    }
   ],
   "source": [
    "query_embeddings = embedder.encode(queries)\n",
    "movie_embeddings = embedder.encode(movies)\n",
    "print(query_embeddings.shape, movie_embeddings.shape)\n",
    "print(f\"Query: {query_embeddings[0][:5]}\")\n",
    "print(f\"Movie: {movie_embeddings[0][:5]}\")"
   ]
  },
  {
   "cell_type": "markdown",
   "id": "2596c7ff",
   "metadata": {},
   "source": [
    "### Computing similarity + retrieving top k"
   ]
  },
  {
   "cell_type": "code",
   "execution_count": null,
   "id": "a1293584",
   "metadata": {},
   "outputs": [
    {
     "data": {
      "text/plain": [
       "tensor([[ 0.2611,  0.1753, -0.0321,  0.3556],\n",
       "        [ 0.2784,  0.1435,  0.0242,  0.3834]])"
      ]
     },
     "execution_count": 9,
     "metadata": {},
     "output_type": "execute_result"
    }
   ],
   "source": [
    "# Compute cosine similarities\n",
    "similarities = embedder.similarity(query_embeddings, movie_embeddings)\n",
    "similarities"
   ]
  },
  {
   "cell_type": "code",
   "execution_count": 12,
   "id": "e5e50169",
   "metadata": {},
   "outputs": [
    {
     "name": "stdout",
     "output_type": "stream",
     "text": [
      "I want to watch an exciting superhero movie\n",
      " - A movie about a group of friends who go on a road trip: \u001b[33m0.2611\u001b[0m\n",
      " - A romantic comedy about a couple who meet at a wedding: \u001b[33m0.1753\u001b[0m\n",
      " - An autobiography of George Washington, the first president of the United States: \u001b[33m-0.0321\u001b[0m\n",
      " - Spider-Man is fighting against the Green Goblin in another universe: \u001b[33m0.3556\u001b[0m\n",
      "我想看一部超級英雄電影\n",
      " - A movie about a group of friends who go on a road trip: \u001b[33m0.2784\u001b[0m\n",
      " - A romantic comedy about a couple who meet at a wedding: \u001b[33m0.1435\u001b[0m\n",
      " - An autobiography of George Washington, the first president of the United States: \u001b[33m0.0242\u001b[0m\n",
      " - Spider-Man is fighting against the Green Goblin in another universe: \u001b[33m0.3834\u001b[0m\n"
     ]
    }
   ],
   "source": [
    "YELLOW = \"\\033[33m\"\n",
    "END = \"\\033[0m\"\n",
    "# Output the pairs with their score\n",
    "for idx_i, sentence1 in enumerate(queries):\n",
    "    print(sentence1)\n",
    "    for idx_j, sentence2 in enumerate(movies):\n",
    "        print(f\" - {sentence2: <30}: {YELLOW}{similarities[idx_i][idx_j]:.4f}{END}\")"
   ]
  },
  {
   "cell_type": "code",
   "execution_count": 141,
   "id": "55494610",
   "metadata": {},
   "outputs": [
    {
     "data": {
      "text/plain": [
       "torch.return_types.topk(\n",
       "values=tensor([ 0.3556,  0.2611,  0.1753, -0.0321]),\n",
       "indices=tensor([3, 0, 1, 2]))"
      ]
     },
     "execution_count": 141,
     "metadata": {},
     "output_type": "execute_result"
    }
   ],
   "source": [
    "torch.topk(similarities[0], k=4)"
   ]
  },
  {
   "cell_type": "code",
   "execution_count": 13,
   "id": "f1d2dc21",
   "metadata": {},
   "outputs": [
    {
     "name": "stdout",
     "output_type": "stream",
     "text": [
      "I want to watch an exciting superhero movie\n",
      " - Spider-Man is fighting against the Green Goblin in another universe: \u001b[33m0.3556\u001b[0m\n",
      " - A movie about a group of friends who go on a road trip: \u001b[33m0.2611\u001b[0m\n",
      " - A romantic comedy about a couple who meet at a wedding: \u001b[33m0.1753\u001b[0m\n",
      " - An autobiography of George Washington, the first president of the United States: \u001b[33m-0.0321\u001b[0m\n",
      "我想看一部超級英雄電影\n",
      " - Spider-Man is fighting against the Green Goblin in another universe: \u001b[33m0.3834\u001b[0m\n",
      " - A movie about a group of friends who go on a road trip: \u001b[33m0.2784\u001b[0m\n",
      " - A romantic comedy about a couple who meet at a wedding: \u001b[33m0.1435\u001b[0m\n",
      " - An autobiography of George Washington, the first president of the United States: \u001b[33m0.0242\u001b[0m\n"
     ]
    }
   ],
   "source": [
    "for idx_i, sentence1 in enumerate(queries):\n",
    "    print(sentence1)\n",
    "    for idx_j in torch.topk(similarities[idx_i], k=4).indices:\n",
    "        print(f\" - {movies[idx_j]: <30}: {YELLOW}{similarities[idx_i][idx_j]:.4f}{END}\")"
   ]
  },
  {
   "cell_type": "markdown",
   "id": "a408f6c2",
   "metadata": {},
   "source": [
    "## OpenAI\n",
    "\n",
    "[Documentation](https://platform.openai.com/docs/guides/embeddings?lang=python)"
   ]
  },
  {
   "cell_type": "markdown",
   "id": "afb4c287",
   "metadata": {},
   "source": [
    "![](https://i.redd.it/lpf0u9nbj7w41.jpg)"
   ]
  },
  {
   "cell_type": "code",
   "execution_count": null,
   "id": "1b45bfd8",
   "metadata": {},
   "outputs": [],
   "source": [
    "api_key = os.getenv(\"OPENAI_API_KEY\")\n",
    "if not api_key and userdata:\n",
    "    # If running in Google Colab, try to get the API key from userdata\n",
    "    api_key = userdata.get(\"OPENAI_API_KEY\")\n",
    "if not api_key:\n",
    "    raise ValueError(\"OPENAI_API_KEY environment variable is not set\")\n",
    "\n",
    "client = AsyncOpenAI(api_key=api_key, max_retries=5)  # async instead of sync"
   ]
  },
  {
   "cell_type": "markdown",
   "id": "9535512f",
   "metadata": {},
   "source": [
    "### Compute embeddings"
   ]
  },
  {
   "cell_type": "code",
   "execution_count": 15,
   "id": "ecb09082",
   "metadata": {},
   "outputs": [
    {
     "name": "stdout",
     "output_type": "stream",
     "text": [
      "1536\n",
      "[-0.010025657713413239, 0.007190898526459932, -0.08766952902078629, 0.010150458663702011, -0.025221630930900574]\n"
     ]
    }
   ],
   "source": [
    "res = await client.embeddings.create(input=queries[0], model=\"text-embedding-3-small\")\n",
    "embedding = res.data[0].embedding\n",
    "print(len(embedding))\n",
    "print(embedding[:5])"
   ]
  },
  {
   "cell_type": "code",
   "execution_count": 16,
   "id": "24c4d2f0",
   "metadata": {},
   "outputs": [
    {
     "name": "stdout",
     "output_type": "stream",
     "text": [
      "Total tokens: 8\n"
     ]
    }
   ],
   "source": [
    "print(f\"Total tokens: {res.usage.total_tokens}\")"
   ]
  },
  {
   "cell_type": "code",
   "execution_count": 17,
   "id": "c7f42920",
   "metadata": {},
   "outputs": [],
   "source": [
    "# Convert to torch.Tensor for cosine similarity\n",
    "_query_embeddings = await asyncio.gather(\n",
    "    *[\n",
    "        client.embeddings.create(input=query, model=\"text-embedding-3-small\")\n",
    "        for query in queries\n",
    "    ]\n",
    ")\n",
    "query_embeddings = torch.Tensor(\n",
    "    [embedding.data[0].embedding for embedding in _query_embeddings]\n",
    ")\n",
    "_movie_embeddings = await asyncio.gather(\n",
    "    *[\n",
    "        client.embeddings.create(input=movie, model=\"text-embedding-3-small\")\n",
    "        for movie in movies\n",
    "    ]\n",
    ")\n",
    "movie_embeddings = torch.Tensor(\n",
    "    [embedding.data[0].embedding for embedding in _movie_embeddings]\n",
    ")"
   ]
  },
  {
   "cell_type": "code",
   "execution_count": 18,
   "id": "9afcaf1d",
   "metadata": {},
   "outputs": [
    {
     "data": {
      "text/plain": [
       "tensor([[ 0.0125,  0.0218, -0.0479,  ...,  0.0026, -0.0386,  0.0079],\n",
       "        [-0.0326,  0.0203, -0.0673,  ...,  0.0057, -0.0081, -0.0111],\n",
       "        [ 0.0083, -0.0117,  0.0179,  ...,  0.0175, -0.0041, -0.0108],\n",
       "        [-0.0362, -0.0462,  0.0150,  ..., -0.0224,  0.0127,  0.0131]])"
      ]
     },
     "execution_count": 18,
     "metadata": {},
     "output_type": "execute_result"
    }
   ],
   "source": [
    "torch.Tensor(movie_embeddings)"
   ]
  },
  {
   "cell_type": "markdown",
   "id": "b3cbdbca",
   "metadata": {},
   "source": [
    "### Computing similarity + retrieving top k"
   ]
  },
  {
   "cell_type": "code",
   "execution_count": null,
   "id": "e5ed078e",
   "metadata": {},
   "outputs": [
    {
     "data": {
      "text/plain": [
       "tensor([[0.2881, 0.2119, 0.0501, 0.3344],\n",
       "        [0.2241, 0.1764, 0.0754, 0.2568]])"
      ]
     },
     "execution_count": 20,
     "metadata": {},
     "output_type": "execute_result"
    }
   ],
   "source": [
    "similarities = F.cosine_similarity(\n",
    "    query_embeddings.unsqueeze(1), movie_embeddings.unsqueeze(0), dim=2\n",
    ")\n",
    "similarities"
   ]
  },
  {
   "cell_type": "code",
   "execution_count": 21,
   "id": "56e48176",
   "metadata": {},
   "outputs": [
    {
     "name": "stdout",
     "output_type": "stream",
     "text": [
      "I want to watch an exciting superhero movie\n",
      " - Spider-Man is fighting against the Green Goblin in another universe: \u001b[33m0.3344\u001b[0m\n",
      " - A movie about a group of friends who go on a road trip: \u001b[33m0.2881\u001b[0m\n",
      " - A romantic comedy about a couple who meet at a wedding: \u001b[33m0.2119\u001b[0m\n",
      " - An autobiography of George Washington, the first president of the United States: \u001b[33m0.0501\u001b[0m\n",
      "我想看一部超級英雄電影\n",
      " - Spider-Man is fighting against the Green Goblin in another universe: \u001b[33m0.2568\u001b[0m\n",
      " - A movie about a group of friends who go on a road trip: \u001b[33m0.2241\u001b[0m\n",
      " - A romantic comedy about a couple who meet at a wedding: \u001b[33m0.1764\u001b[0m\n",
      " - An autobiography of George Washington, the first president of the United States: \u001b[33m0.0754\u001b[0m\n"
     ]
    }
   ],
   "source": [
    "YELLOW = \"\\033[33m\"\n",
    "END = \"\\033[0m\"\n",
    "for idx_i, sentence1 in enumerate(queries):\n",
    "    print(sentence1)\n",
    "    for idx_j in torch.topk(similarities[idx_i], k=4).indices:\n",
    "        print(f\" - {movies[idx_j]: <30}: {YELLOW}{similarities[idx_i][idx_j]:.4f}{END}\")"
   ]
  },
  {
   "cell_type": "markdown",
   "id": "79d81fd6",
   "metadata": {},
   "source": [
    "### Calculate tokens and price\n",
    "\n",
    "[OpenAI pricing](https://platform.openai.com/docs/pricing)"
   ]
  },
  {
   "cell_type": "code",
   "execution_count": 24,
   "id": "30951b8d",
   "metadata": {},
   "outputs": [],
   "source": [
    "enc = tiktoken.encoding_for_model(\"text-embedding-3-small\")"
   ]
  },
  {
   "cell_type": "code",
   "execution_count": 27,
   "id": "8216e6d8",
   "metadata": {},
   "outputs": [
    {
     "name": "stdout",
     "output_type": "stream",
     "text": [
      "Total tokens: 8\n",
      "[40, 1390, 311, 3821, 459, 13548, 46244, 5818]\n"
     ]
    }
   ],
   "source": [
    "encoded = enc.encode(queries[0])\n",
    "print(f\"Total tokens: {len(encoded)}\")\n",
    "print(encoded)"
   ]
  },
  {
   "cell_type": "code",
   "execution_count": 28,
   "id": "c7b57982",
   "metadata": {},
   "outputs": [],
   "source": [
    "# price per 1M tokens\n",
    "model_to_price = {\n",
    "    \"text-embedding-3-small\": 0.02,\n",
    "    \"text-embedding-3-large\": 0.13,\n",
    "}\n",
    "\n",
    "\n",
    "def get_token_count_and_price(\n",
    "    texts: list[str], model: str = \"text-embedding-3-small\"\n",
    ") -> tuple[int, float]:\n",
    "    if model not in model_to_price:\n",
    "        raise ValueError(f\"Model {model} not supported\")\n",
    "    enc = tiktoken.encoding_for_model(model)\n",
    "    token_count = sum(len(e) for e in enc.encode_batch(texts))\n",
    "    price_per_1m_tokens = model_to_price[model]\n",
    "    price = (token_count / 1_000_000) * price_per_1m_tokens\n",
    "    return token_count, price"
   ]
  },
  {
   "cell_type": "code",
   "execution_count": 29,
   "id": "27304088",
   "metadata": {},
   "outputs": [
    {
     "data": {
      "text/plain": [
       "(480, 9.600000000000001e-06)"
      ]
     },
     "execution_count": 29,
     "metadata": {},
     "output_type": "execute_result"
    }
   ],
   "source": [
    "get_token_count_and_price(movies * 10, model=\"text-embedding-3-small\")"
   ]
  },
  {
   "cell_type": "markdown",
   "id": "de99a2af",
   "metadata": {},
   "source": [
    "### Handling rate limits"
   ]
  },
  {
   "cell_type": "code",
   "execution_count": null,
   "id": "ee5c15ca",
   "metadata": {},
   "outputs": [],
   "source": [
    "def log_backoff_attempt(retry_state: RetryCallState) -> None:\n",
    "    \"\"\"\n",
    "    Logs a message before a retry attempt, detailing the attempt number,\n",
    "    the exception, and the wait time.\n",
    "    \"\"\"\n",
    "    attempt_num = retry_state.attempt_number\n",
    "    exception = retry_state.outcome.exception() if retry_state.outcome else \"N/A\"\n",
    "    wait_time = retry_state.next_action.sleep if retry_state.next_action else 0.0\n",
    "    func_name = retry_state.fn.__name__ if retry_state.fn else \"N/A\"\n",
    "\n",
    "    logger.info(\n",
    "        f\"Backing off for function '{func_name}': \"\n",
    "        f\"Attempt {attempt_num} failed due to '{exception.__class__.__name__}: {exception}'. \"\n",
    "        f\"Waiting {wait_time:.2f} seconds before next attempt.\"\n",
    "    )\n",
    "\n",
    "\n",
    "@retry(\n",
    "    wait=wait_random_exponential(min=1, max=60),\n",
    "    stop=stop_after_attempt(6),\n",
    "    before_sleep=log_backoff_attempt,\n",
    ")\n",
    "async def embedding_with_backoff(**kwargs):\n",
    "    return await client.embeddings.create(**kwargs)"
   ]
  },
  {
   "cell_type": "markdown",
   "id": "77b75512",
   "metadata": {},
   "source": [
    "# Setting up a vector database\n",
    "\n",
    "[LanceDB documentation](https://lancedb.github.io/lancedb/basic/)"
   ]
  },
  {
   "cell_type": "markdown",
   "id": "0bd42b39",
   "metadata": {},
   "source": [
    "## Creating a LanceDB table"
   ]
  },
  {
   "cell_type": "code",
   "execution_count": 9,
   "id": "5a56860a",
   "metadata": {},
   "outputs": [
    {
     "data": {
      "text/plain": [
       "{'budget': 4000000,\n",
       " 'genres': ['Crime', 'Comedy'],\n",
       " 'keywords': ['hotel',\n",
       "  \"new year's eve\",\n",
       "  'witch',\n",
       "  'bet',\n",
       "  'hotel room',\n",
       "  'sperm',\n",
       "  'los angeles',\n",
       "  'hoodlum',\n",
       "  'woman director',\n",
       "  'episode film'],\n",
       " 'original_language': 'en',\n",
       " 'overview': \"It's Ted the Bellhop's first night on the job...and the hotel's very unusual guests are about to place him in some outrageous predicaments. It seems that this evening's room service is serving up one unbelievable happening after another.\",\n",
       " 'popularity': 22.87623,\n",
       " 'release_date': datetime.date(1995, 12, 9),\n",
       " 'revenue': 4300000,\n",
       " 'runtime': 98.0,\n",
       " 'spoken_languages': ['English'],\n",
       " 'title': 'Four Rooms',\n",
       " 'cast': [{'character': 'Ted the Bellhop', 'name': 'Tim Roth'},\n",
       "  {'character': 'Man', 'name': 'Antonio Banderas'},\n",
       "  {'character': 'Angela', 'name': 'Jennifer Beals'},\n",
       "  {'character': 'Elspeth', 'name': 'Madonna'},\n",
       "  {'character': 'Margaret', 'name': 'Marisa Tomei'},\n",
       "  {'character': 'Leo', 'name': 'Bruce Willis'},\n",
       "  {'character': 'Chester Rush', 'name': 'Quentin Tarantino'},\n",
       "  {'character': 'Jezebel', 'name': 'Sammi Davis'},\n",
       "  {'character': 'Diana', 'name': 'Amanda de Cadenet'},\n",
       "  {'character': 'Athena', 'name': 'Valeria Golino'},\n",
       "  {'character': 'Raven', 'name': 'Lili Taylor'},\n",
       "  {'character': 'Long Hair Yuppy Scum', 'name': 'Lawrence Bender'},\n",
       "  {'character': 'Eva', 'name': 'Ione Skye'},\n",
       "  {'character': 'Kiva', 'name': 'Alicia Witt'},\n",
       "  {'character': 'Siegfried', 'name': 'David Proval'},\n",
       "  {'character': 'Sarah', 'name': 'Lana McKissack'},\n",
       "  {'character': 'Wife', 'name': 'Tamlyn Tomita'},\n",
       "  {'character': 'Betty', 'name': 'Kathy Griffin'},\n",
       "  {'character': 'Norman', 'name': 'Paul Calderon'},\n",
       "  {'character': 'TV Dancing Girl', 'name': 'Salma Hayek'},\n",
       "  {'character': 'Corpse', 'name': 'Patricia Vonne'},\n",
       "  {'character': 'Juancho', 'name': 'Danny Verduzco'},\n",
       "  {'character': 'Hooker', 'name': 'Kimberly Blair'},\n",
       "  {'character': 'Sam the Bellhop', 'name': 'Marc Lawrence'}],\n",
       " 'release_year': 1995}"
      ]
     },
     "execution_count": 9,
     "metadata": {},
     "output_type": "execute_result"
    }
   ],
   "source": [
    "# We'll use the \"overview\" column as the text to embed\n",
    "ds[0]"
   ]
  },
  {
   "cell_type": "code",
   "execution_count": 10,
   "id": "bf1efe30",
   "metadata": {},
   "outputs": [
    {
     "name": "stdout",
     "output_type": "stream",
     "text": [
      "4800\n"
     ]
    },
    {
     "data": {
      "text/plain": [
       "[\"It's Ted the Bellhop's first night on the job...and the hotel's very unusual guests are about to place him in some outrageous predicaments. It seems that this evening's room service is serving up one unbelievable happening after another.\",\n",
       " 'Princess Leia is captured and held hostage by the evil Imperial forces in their effort to take over the galactic Empire. Venturesome Luke Skywalker and dashing captain Han Solo team together with the loveable robot duo R2-D2 and C-3PO to rescue the beautiful princess and restore peace and justice in the Empire.',\n",
       " \"Nemo, an adventurous young clownfish, is unexpectedly taken from his Great Barrier Reef home to a dentist's office aquarium. It's up to his worrisome father Marlin and a friendly but forgetful fish Dory to bring Nemo home -- meeting vegetarian sharks, surfer dude turtles, hypnotic jellyfish, hungry seagulls, and more along the way.\",\n",
       " \"A man with a low IQ has accomplished great things in his life and been present during significant historic events - in each case, far exceeding what anyone imagined he could do. Yet, despite all the things he has attained, his one true love eludes him. 'Forrest Gump' is the story of a man who rose above his challenges, and who proved that determination, courage, and love are more important than ability.\",\n",
       " \"Lester Burnham, a depressed suburban father in a mid-life crisis, decides to turn his hectic life around after developing an infatuation with his daughter's attractive friend.\"]"
      ]
     },
     "execution_count": 10,
     "metadata": {},
     "output_type": "execute_result"
    }
   ],
   "source": [
    "overviews = ds[\"overview\"]\n",
    "print(len(overviews))\n",
    "overviews[:5]"
   ]
  },
  {
   "cell_type": "code",
   "execution_count": 11,
   "id": "003b2d90",
   "metadata": {},
   "outputs": [
    {
     "data": {
      "text/plain": [
       "{'budget': Value(dtype='int64', id=None),\n",
       " 'genres': Sequence(feature=Value(dtype='string', id=None), length=-1, id=None),\n",
       " 'keywords': Sequence(feature=Value(dtype='string', id=None), length=-1, id=None),\n",
       " 'original_language': Value(dtype='string', id=None),\n",
       " 'overview': Value(dtype='string', id=None),\n",
       " 'popularity': Value(dtype='float64', id=None),\n",
       " 'release_date': Value(dtype='date32', id=None),\n",
       " 'revenue': Value(dtype='int64', id=None),\n",
       " 'runtime': Value(dtype='float64', id=None),\n",
       " 'spoken_languages': Sequence(feature=Value(dtype='string', id=None), length=-1, id=None),\n",
       " 'title': Value(dtype='string', id=None),\n",
       " 'cast': [{'character': Value(dtype='string', id=None),\n",
       "   'name': Value(dtype='string', id=None)}],\n",
       " 'release_year': Value(dtype='int64', id=None)}"
      ]
     },
     "execution_count": 11,
     "metadata": {},
     "output_type": "execute_result"
    }
   ],
   "source": [
    "ds.features"
   ]
  },
  {
   "cell_type": "markdown",
   "id": "18a04fca",
   "metadata": {},
   "source": [
    "## sentence-transformers"
   ]
  },
  {
   "cell_type": "code",
   "execution_count": 12,
   "id": "22fe5039",
   "metadata": {},
   "outputs": [
    {
     "data": {
      "text/plain": [
       "array([ 0.07971882, -0.22588535, -0.08258647, -0.06734925,  0.0794584 ],\n",
       "      dtype=float32)"
      ]
     },
     "execution_count": 12,
     "metadata": {},
     "output_type": "execute_result"
    }
   ],
   "source": [
    "overview_embeddings = embedder.encode(overviews)\n",
    "overview_embeddings[0][:5]"
   ]
  },
  {
   "cell_type": "code",
   "execution_count": 14,
   "id": "f0dd2294",
   "metadata": {},
   "outputs": [
    {
     "data": {
      "text/plain": [
       "(4800, 384)"
      ]
     },
     "execution_count": 14,
     "metadata": {},
     "output_type": "execute_result"
    }
   ],
   "source": [
    "overview_embeddings.shape"
   ]
  },
  {
   "cell_type": "code",
   "execution_count": 36,
   "id": "416cc65b",
   "metadata": {},
   "outputs": [],
   "source": [
    "ds = ds.add_column(name=\"vector\", column=overview_embeddings.tolist())"
   ]
  },
  {
   "cell_type": "markdown",
   "id": "d686a957",
   "metadata": {},
   "source": [
    "### Save results to disk"
   ]
  },
  {
   "cell_type": "code",
   "execution_count": 38,
   "id": "684eeab9",
   "metadata": {},
   "outputs": [
    {
     "data": {
      "application/vnd.jupyter.widget-view+json": {
       "model_id": "cf3527678b7d4f4ab985889c0d83696b",
       "version_major": 2,
       "version_minor": 0
      },
      "text/plain": [
       "Saving the dataset (0/1 shards):   0%|          | 0/4800 [00:00<?, ? examples/s]"
      ]
     },
     "metadata": {},
     "output_type": "display_data"
    }
   ],
   "source": [
    "ds.save_to_disk(\"./data/dataset_processed_1\")"
   ]
  },
  {
   "cell_type": "markdown",
   "id": "33b827c2",
   "metadata": {},
   "source": [
    "#### Save results to Google Drive"
   ]
  },
  {
   "cell_type": "code",
   "execution_count": null,
   "id": "9e19ddd7",
   "metadata": {},
   "outputs": [],
   "source": [
    "from google.colab import drive\n",
    "\n",
    "drive.mount(\"/content/drive\")\n",
    "!mkdir -p \"/content/drive/My Drive/genai4h-wk14\"\n",
    "!cp -r \"./data/dataset_processed\" \"/content/drive/My Drive/genai4h-wk14/\""
   ]
  },
  {
   "cell_type": "markdown",
   "id": "557ebf6f",
   "metadata": {},
   "source": [
    "### Load results from disk"
   ]
  },
  {
   "cell_type": "code",
   "execution_count": 39,
   "id": "86e5e563",
   "metadata": {},
   "outputs": [
    {
     "data": {
      "text/plain": [
       "{'budget': 4000000,\n",
       " 'genres': ['Crime', 'Comedy'],\n",
       " 'keywords': ['hotel',\n",
       "  \"new year's eve\",\n",
       "  'witch',\n",
       "  'bet',\n",
       "  'hotel room',\n",
       "  'sperm',\n",
       "  'los angeles',\n",
       "  'hoodlum',\n",
       "  'woman director',\n",
       "  'episode film'],\n",
       " 'original_language': 'en',\n",
       " 'overview': \"It's Ted the Bellhop's first night on the job...and the hotel's very unusual guests are about to place him in some outrageous predicaments. It seems that this evening's room service is serving up one unbelievable happening after another.\",\n",
       " 'popularity': 22.87623,\n",
       " 'release_date': datetime.date(1995, 12, 9),\n",
       " 'revenue': 4300000,\n",
       " 'runtime': 98.0,\n",
       " 'spoken_languages': ['English'],\n",
       " 'title': 'Four Rooms',\n",
       " 'cast': [{'character': 'Ted the Bellhop', 'name': 'Tim Roth'},\n",
       "  {'character': 'Man', 'name': 'Antonio Banderas'},\n",
       "  {'character': 'Angela', 'name': 'Jennifer Beals'},\n",
       "  {'character': 'Elspeth', 'name': 'Madonna'},\n",
       "  {'character': 'Margaret', 'name': 'Marisa Tomei'},\n",
       "  {'character': 'Leo', 'name': 'Bruce Willis'},\n",
       "  {'character': 'Chester Rush', 'name': 'Quentin Tarantino'},\n",
       "  {'character': 'Jezebel', 'name': 'Sammi Davis'},\n",
       "  {'character': 'Diana', 'name': 'Amanda de Cadenet'},\n",
       "  {'character': 'Athena', 'name': 'Valeria Golino'},\n",
       "  {'character': 'Raven', 'name': 'Lili Taylor'},\n",
       "  {'character': 'Long Hair Yuppy Scum', 'name': 'Lawrence Bender'},\n",
       "  {'character': 'Eva', 'name': 'Ione Skye'},\n",
       "  {'character': 'Kiva', 'name': 'Alicia Witt'},\n",
       "  {'character': 'Siegfried', 'name': 'David Proval'},\n",
       "  {'character': 'Sarah', 'name': 'Lana McKissack'},\n",
       "  {'character': 'Wife', 'name': 'Tamlyn Tomita'},\n",
       "  {'character': 'Betty', 'name': 'Kathy Griffin'},\n",
       "  {'character': 'Norman', 'name': 'Paul Calderon'},\n",
       "  {'character': 'TV Dancing Girl', 'name': 'Salma Hayek'},\n",
       "  {'character': 'Corpse', 'name': 'Patricia Vonne'},\n",
       "  {'character': 'Juancho', 'name': 'Danny Verduzco'},\n",
       "  {'character': 'Hooker', 'name': 'Kimberly Blair'},\n",
       "  {'character': 'Sam the Bellhop', 'name': 'Marc Lawrence'}],\n",
       " 'release_year': 1995,\n",
       " 'vector': [0.07971882075071335,\n",
       "  -0.22588534653186798,\n",
       "  -0.08258646726608276,\n",
       "  -0.06734924763441086,\n",
       "  0.07945840060710907,\n",
       "  -0.0077929068356752396,\n",
       "  0.20818649232387543,\n",
       "  -0.05983145907521248,\n",
       "  0.37639644742012024,\n",
       "  0.15994125604629517,\n",
       "  -0.03390928730368614,\n",
       "  0.557076632976532,\n",
       "  -0.2832843065261841,\n",
       "  0.07294664531946182,\n",
       "  -0.06037349998950958,\n",
       "  0.035015787929296494,\n",
       "  0.04075496271252632,\n",
       "  -0.14458410441875458,\n",
       "  -0.06307351589202881,\n",
       "  0.484988272190094,\n",
       "  -0.0035080518573522568,\n",
       "  -0.1593170017004013,\n",
       "  0.024108877405524254,\n",
       "  0.39136818051338196,\n",
       "  0.12227243930101395,\n",
       "  -0.10958606749773026,\n",
       "  0.3602820336818695,\n",
       "  -0.14865131676197052,\n",
       "  -0.3392030894756317,\n",
       "  -0.3866499364376068,\n",
       "  -0.3291855454444885,\n",
       "  -0.004170011263340712,\n",
       "  -0.02511667273938656,\n",
       "  0.10739908367395401,\n",
       "  0.22779464721679688,\n",
       "  0.07729756832122803,\n",
       "  0.19648334383964539,\n",
       "  0.09722363203763962,\n",
       "  0.06259569525718689,\n",
       "  0.19326594471931458,\n",
       "  0.15396787226200104,\n",
       "  -0.11439710110425949,\n",
       "  0.0071198586374521255,\n",
       "  0.009638805873692036,\n",
       "  -0.2516464293003082,\n",
       "  0.04700208082795143,\n",
       "  -0.08753163367509842,\n",
       "  0.030516522005200386,\n",
       "  -0.05551803857088089,\n",
       "  0.04095613211393356,\n",
       "  0.04564269632101059,\n",
       "  0.24446822702884674,\n",
       "  -0.1134914979338646,\n",
       "  -0.0849655345082283,\n",
       "  -0.3540255129337311,\n",
       "  -0.028869403526186943,\n",
       "  0.1769842803478241,\n",
       "  0.1587352156639099,\n",
       "  -0.21263235807418823,\n",
       "  0.2724984586238861,\n",
       "  0.12742380797863007,\n",
       "  0.007504205219447613,\n",
       "  -0.351890504360199,\n",
       "  0.204241544008255,\n",
       "  -0.18355022370815277,\n",
       "  0.27082085609436035,\n",
       "  -0.38788923621177673,\n",
       "  -0.22341716289520264,\n",
       "  -0.06142066791653633,\n",
       "  0.12052159756422043,\n",
       "  0.002140152733772993,\n",
       "  -0.05371638759970665,\n",
       "  -0.15430358052253723,\n",
       "  -0.13308677077293396,\n",
       "  0.41069257259368896,\n",
       "  -0.04140356555581093,\n",
       "  -0.054771602153778076,\n",
       "  -0.05415654554963112,\n",
       "  0.1254846155643463,\n",
       "  -0.045016098767519,\n",
       "  0.03460722044110298,\n",
       "  -0.2604438066482544,\n",
       "  -0.174565851688385,\n",
       "  0.05583005025982857,\n",
       "  -0.14313583076000214,\n",
       "  0.2041950821876526,\n",
       "  0.1683356612920761,\n",
       "  -0.02496124990284443,\n",
       "  0.15503840148448944,\n",
       "  -0.12457010895013809,\n",
       "  -0.3307628035545349,\n",
       "  -0.10738862305879593,\n",
       "  0.044761959463357925,\n",
       "  0.1525128334760666,\n",
       "  0.04114758223295212,\n",
       "  -0.19631768763065338,\n",
       "  0.01345714833587408,\n",
       "  0.2304171323776245,\n",
       "  -0.04921664670109749,\n",
       "  0.18146824836730957,\n",
       "  0.24550098180770874,\n",
       "  0.2352083921432495,\n",
       "  0.21234968304634094,\n",
       "  -0.006722653284668922,\n",
       "  0.3789942264556885,\n",
       "  -0.1989675760269165,\n",
       "  0.42399361729621887,\n",
       "  -0.049448005855083466,\n",
       "  0.23104694485664368,\n",
       "  -0.2020796835422516,\n",
       "  -0.22950223088264465,\n",
       "  0.2593306303024292,\n",
       "  -0.052244286984205246,\n",
       "  -0.08267257362604141,\n",
       "  -0.015732280910015106,\n",
       "  0.4147844910621643,\n",
       "  -0.1297042965888977,\n",
       "  0.3965553045272827,\n",
       "  -0.1734231412410736,\n",
       "  0.10919779539108276,\n",
       "  0.21294787526130676,\n",
       "  0.24424012005329132,\n",
       "  0.15548650920391083,\n",
       "  0.09748884290456772,\n",
       "  -0.3921149969100952,\n",
       "  -0.0692485123872757,\n",
       "  0.0049073901027441025,\n",
       "  -0.13128051161766052,\n",
       "  -0.07686994969844818,\n",
       "  0.023062147200107574,\n",
       "  -0.29079824686050415,\n",
       "  0.21027377247810364,\n",
       "  0.5114415884017944,\n",
       "  0.47735339403152466,\n",
       "  -0.25804269313812256,\n",
       "  0.027386905625462532,\n",
       "  0.48514440655708313,\n",
       "  0.4225556254386902,\n",
       "  0.06716358661651611,\n",
       "  -0.09250843524932861,\n",
       "  0.0421169176697731,\n",
       "  0.3392316997051239,\n",
       "  -0.34082913398742676,\n",
       "  0.016438119113445282,\n",
       "  -0.1495255082845688,\n",
       "  -0.10896877944469452,\n",
       "  -0.30691879987716675,\n",
       "  -0.22758705914020538,\n",
       "  -0.5530033707618713,\n",
       "  0.12222521007061005,\n",
       "  -0.01936013251543045,\n",
       "  0.15949124097824097,\n",
       "  0.18055570125579834,\n",
       "  0.2993384003639221,\n",
       "  -0.036926187574863434,\n",
       "  0.20538367331027985,\n",
       "  0.13201382756233215,\n",
       "  0.14566999673843384,\n",
       "  -0.04178624227643013,\n",
       "  0.10990280658006668,\n",
       "  0.132608100771904,\n",
       "  0.1648932248353958,\n",
       "  -0.056244026869535446,\n",
       "  -0.13818980753421783,\n",
       "  0.1068742647767067,\n",
       "  -0.2570233643054962,\n",
       "  0.036627091467380524,\n",
       "  -0.04132019355893135,\n",
       "  -0.2288857251405716,\n",
       "  -0.11643486469984055,\n",
       "  -0.23446324467658997,\n",
       "  -0.0019206322031095624,\n",
       "  -0.4587150514125824,\n",
       "  -0.214040145277977,\n",
       "  0.0870097428560257,\n",
       "  -0.04669125750660896,\n",
       "  0.26183196902275085,\n",
       "  0.26722362637519836,\n",
       "  -0.11966503411531448,\n",
       "  -0.12457017600536346,\n",
       "  -0.0044945478439331055,\n",
       "  0.11523444950580597,\n",
       "  0.0027167864609509706,\n",
       "  -0.35554856061935425,\n",
       "  0.04372221603989601,\n",
       "  -0.1881127953529358,\n",
       "  0.3828122615814209,\n",
       "  -0.038803961127996445,\n",
       "  0.3547714948654175,\n",
       "  -0.29238879680633545,\n",
       "  -0.13420432806015015,\n",
       "  0.04577912017703056,\n",
       "  0.12741734087467194,\n",
       "  -0.1224018782377243,\n",
       "  0.15670469403266907,\n",
       "  -0.08408962190151215,\n",
       "  0.11051448434591293,\n",
       "  -0.4563654363155365,\n",
       "  0.05787660926580429,\n",
       "  -0.03390905261039734,\n",
       "  -0.41157910227775574,\n",
       "  -0.5178021192550659,\n",
       "  -0.1361708790063858,\n",
       "  0.05521119385957718,\n",
       "  -0.012457315810024738,\n",
       "  0.006121006328612566,\n",
       "  -0.09181400388479233,\n",
       "  0.022166365757584572,\n",
       "  0.12381913512945175,\n",
       "  -0.002585434587672353,\n",
       "  0.23458944261074066,\n",
       "  -0.28931865096092224,\n",
       "  -0.21378716826438904,\n",
       "  0.3283578157424927,\n",
       "  0.15041275322437286,\n",
       "  0.18115626275539398,\n",
       "  -0.08594515919685364,\n",
       "  0.12724417448043823,\n",
       "  -0.03584964945912361,\n",
       "  -0.23626582324504852,\n",
       "  0.08934175223112106,\n",
       "  0.10107149928808212,\n",
       "  0.2682177722454071,\n",
       "  -0.4138011336326599,\n",
       "  -0.05725564435124397,\n",
       "  -0.2744762599468231,\n",
       "  -0.061312198638916016,\n",
       "  -0.2327292561531067,\n",
       "  0.27083852887153625,\n",
       "  -0.031826578080654144,\n",
       "  -0.0663381814956665,\n",
       "  0.02364354021847248,\n",
       "  -0.04835043102502823,\n",
       "  0.05054868757724762,\n",
       "  -0.2592155337333679,\n",
       "  0.10230375081300735,\n",
       "  -0.03036123886704445,\n",
       "  -0.06673538684844971,\n",
       "  0.05752474069595337,\n",
       "  0.039563603699207306,\n",
       "  0.00896115880459547,\n",
       "  -0.09069125354290009,\n",
       "  -0.14212673902511597,\n",
       "  0.25010615587234497,\n",
       "  0.5539062023162842,\n",
       "  0.0331583172082901,\n",
       "  -0.2862437963485718,\n",
       "  -0.17021021246910095,\n",
       "  -0.11112207174301147,\n",
       "  0.4016649127006531,\n",
       "  0.28222036361694336,\n",
       "  -0.09080558270215988,\n",
       "  -0.31594470143318176,\n",
       "  -0.039743002504110336,\n",
       "  -0.2989825904369354,\n",
       "  0.291841983795166,\n",
       "  -0.2548072040081024,\n",
       "  0.12087361514568329,\n",
       "  0.08249446004629135,\n",
       "  0.379043847322464,\n",
       "  0.04676363989710808,\n",
       "  0.1474916934967041,\n",
       "  -0.22645185887813568,\n",
       "  -0.46177926659584045,\n",
       "  0.3060254156589508,\n",
       "  -0.12001346796751022,\n",
       "  -0.008142944425344467,\n",
       "  0.17496059834957123,\n",
       "  0.2777249217033386,\n",
       "  -0.4020270109176636,\n",
       "  -0.36413896083831787,\n",
       "  -0.24689647555351257,\n",
       "  -0.08676525950431824,\n",
       "  0.06555518507957458,\n",
       "  -0.1678411066532135,\n",
       "  -0.12165256589651108,\n",
       "  -0.10200516134500504,\n",
       "  -0.15552961826324463,\n",
       "  -0.23837397992610931,\n",
       "  0.29634180665016174,\n",
       "  -0.32960355281829834,\n",
       "  -0.09783466160297394,\n",
       "  0.17010994255542755,\n",
       "  0.2693624794483185,\n",
       "  0.2519293427467346,\n",
       "  -0.21289443969726562,\n",
       "  0.06771363317966461,\n",
       "  -0.09824085235595703,\n",
       "  0.1041753813624382,\n",
       "  0.029228173196315765,\n",
       "  -0.2790766656398773,\n",
       "  0.13491617143154144,\n",
       "  0.1350858211517334,\n",
       "  0.17911683022975922,\n",
       "  0.02623489499092102,\n",
       "  0.07651693373918533,\n",
       "  -0.05751509591937065,\n",
       "  0.014907865785062313,\n",
       "  0.049007222056388855,\n",
       "  0.42766571044921875,\n",
       "  0.018501395359635353,\n",
       "  0.1677570790052414,\n",
       "  -0.11307497322559357,\n",
       "  -0.42465999722480774,\n",
       "  0.06866799294948578,\n",
       "  -0.09450479596853256,\n",
       "  -0.1541096270084381,\n",
       "  0.09608053416013718,\n",
       "  -0.10386807471513748,\n",
       "  0.12596359848976135,\n",
       "  0.5959838032722473,\n",
       "  0.10438644886016846,\n",
       "  -0.12124365568161011,\n",
       "  0.10595052689313889,\n",
       "  -0.013216852210462093,\n",
       "  -0.02948775514960289,\n",
       "  0.003987779375165701,\n",
       "  0.09091394394636154,\n",
       "  0.2630581259727478,\n",
       "  -0.41844677925109863,\n",
       "  -0.08664698898792267,\n",
       "  -0.14582189917564392,\n",
       "  -0.19318272173404694,\n",
       "  -0.20290416479110718,\n",
       "  0.08537851274013519,\n",
       "  -0.2901509404182434,\n",
       "  -0.23012375831604004,\n",
       "  0.07665622979402542,\n",
       "  -0.34067022800445557,\n",
       "  0.021670853719115257,\n",
       "  0.04361356049776077,\n",
       "  0.035139814019203186,\n",
       "  0.3220725655555725,\n",
       "  0.11356526613235474,\n",
       "  0.12797501683235168,\n",
       "  0.09324733912944794,\n",
       "  -0.42656999826431274,\n",
       "  -0.06629040092229843,\n",
       "  -0.13159731030464172,\n",
       "  -0.010708757676184177,\n",
       "  0.34784573316574097,\n",
       "  0.11699530482292175,\n",
       "  0.307637482881546,\n",
       "  0.005334774032235146,\n",
       "  0.11200731992721558,\n",
       "  0.43168169260025024,\n",
       "  -0.24036285281181335,\n",
       "  0.055196613073349,\n",
       "  0.14187970757484436,\n",
       "  0.10818883776664734,\n",
       "  -0.2297753542661667,\n",
       "  0.10818096250295639,\n",
       "  -0.33994802832603455,\n",
       "  0.14310669898986816,\n",
       "  0.12730972468852997,\n",
       "  0.1334974616765976,\n",
       "  -0.007411282509565353,\n",
       "  -0.10243184864521027,\n",
       "  0.21119055151939392,\n",
       "  -0.36206483840942383,\n",
       "  0.05464770644903183,\n",
       "  -0.16733504831790924,\n",
       "  -0.464568167924881,\n",
       "  0.33908355236053467,\n",
       "  0.12294444441795349,\n",
       "  0.03354525938630104,\n",
       "  -0.1198161244392395,\n",
       "  0.11926009505987167,\n",
       "  -0.2433997392654419,\n",
       "  0.014045683667063713,\n",
       "  -0.09763094037771225,\n",
       "  0.07893910259008408,\n",
       "  -0.06705872714519501,\n",
       "  -0.05982670933008194,\n",
       "  0.38599127531051636,\n",
       "  -0.4216717779636383,\n",
       "  0.1523781269788742,\n",
       "  0.08692523092031479,\n",
       "  -0.1965702772140503,\n",
       "  -0.08151260018348694,\n",
       "  -0.05700145289301872,\n",
       "  -0.017368869855999947,\n",
       "  -0.36394938826560974,\n",
       "  -0.09018796682357788]}"
      ]
     },
     "execution_count": 39,
     "metadata": {},
     "output_type": "execute_result"
    }
   ],
   "source": [
    "ds = load_from_disk(\"./data/dataset_processed\")\n",
    "ds[0]"
   ]
  },
  {
   "cell_type": "code",
   "execution_count": 40,
   "id": "24ccd446",
   "metadata": {},
   "outputs": [
    {
     "data": {
      "text/plain": [
       "budget               4000000                                                                                                                                                                                                                                                                                                                                                                                                                                                                                                                                                                                                                                                                                                                                                                                                                                                                                                                                                                                                                                                                                                                                                                                                                                                                                                                                                                                                                                                                                                                                                                                                                                                                                                                                                                                                                                                                                                                                                                                                                                                                                                                                                                                                                   \n",
       "genres               [Crime, Comedy]                                                                                                                                                                                                                                                                                                                                                                                                                                                                                                                                                                                                                                                                                                                                                                                                                                                                                                                                                                                                                                                                                                                                                                                                                                                                                                                                                                                                                                                                                                                                                                                                                                                                                                                                                                                                                                                                                                                                                                                                                                                                                                                                                                                                           \n",
       "keywords             [hotel, new year's eve, witch, bet, hotel room, sperm, los angeles, hoodlum, woman director, episode film]                                                                                                                                                                                                                                                                                                                                                                                                                                                                                                                                                                                                                                                                                                                                                                                                                                                                                                                                                                                                                                                                                                                                                                                                                                                                                                                                                                                                                                                                                                                                                                                                                                                                                                                                                                                                                                                                                                                                                                                                                                                                                                                \n",
       "original_language    en                                                                                                                                                                                                                                                                                                                                                                                                                                                                                                                                                                                                                                                                                                                                                                                                                                                                                                                                                                                                                                                                                                                                                                                                                                                                                                                                                                                                                                                                                                                                                                                                                                                                                                                                                                                                                                                                                                                                                                                                                                                                                                                                                                                                                        \n",
       "overview             It's Ted the Bellhop's first night on the job...and the hotel's very unusual guests are about to place him in some outrageous predicaments. It seems that this evening's room service is serving up one unbelievable happening after another.                                                                                                                                                                                                                                                                                                                                                                                                                                                                                                                                                                                                                                                                                                                                                                                                                                                                                                                                                                                                                                                                                                                                                                                                                                                                                                                                                                                                                                                                                                                                                                                                                                                                                                                                                                                                                                                                                                                                                                             \n",
       "popularity           22.87623                                                                                                                                                                                                                                                                                                                                                                                                                                                                                                                                                                                                                                                                                                                                                                                                                                                                                                                                                                                                                                                                                                                                                                                                                                                                                                                                                                                                                                                                                                                                                                                                                                                                                                                                                                                                                                                                                                                                                                                                                                                                                                                                                                                                                  \n",
       "release_date         1995-12-09                                                                                                                                                                                                                                                                                                                                                                                                                                                                                                                                                                                                                                                                                                                                                                                                                                                                                                                                                                                                                                                                                                                                                                                                                                                                                                                                                                                                                                                                                                                                                                                                                                                                                                                                                                                                                                                                                                                                                                                                                                                                                                                                                                                                                \n",
       "revenue              4300000                                                                                                                                                                                                                                                                                                                                                                                                                                                                                                                                                                                                                                                                                                                                                                                                                                                                                                                                                                                                                                                                                                                                                                                                                                                                                                                                                                                                                                                                                                                                                                                                                                                                                                                                                                                                                                                                                                                                                                                                                                                                                                                                                                                                                   \n",
       "runtime              98.0                                                                                                                                                                                                                                                                                                                                                                                                                                                                                                                                                                                                                                                                                                                                                                                                                                                                                                                                                                                                                                                                                                                                                                                                                                                                                                                                                                                                                                                                                                                                                                                                                                                                                                                                                                                                                                                                                                                                                                                                                                                                                                                                                                                                                      \n",
       "spoken_languages     [English]                                                                                                                                                                                                                                                                                                                                                                                                                                                                                                                                                                                                                                                                                                                                                                                                                                                                                                                                                                                                                                                                                                                                                                                                                                                                                                                                                                                                                                                                                                                                                                                                                                                                                                                                                                                                                                                                                                                                                                                                                                                                                                                                                                                                                 \n",
       "title                Four Rooms                                                                                                                                                                                                                                                                                                                                                                                                                                                                                                                                                                                                                                                                                                                                                                                                                                                                                                                                                                                                                                                                                                                                                                                                                                                                                                                                                                                                                                                                                                                                                                                                                                                                                                                                                                                                                                                                                                                                                                                                                                                                                                                                                                                                                \n",
       "cast                 [{'character': 'Ted the Bellhop', 'name': 'Tim Roth'}, {'character': 'Man', 'name': 'Antonio Banderas'}, {'character': 'Angela', 'name': 'Jennifer Beals'}, {'character': 'Elspeth', 'name': 'Madonna'}, {'character': 'Margaret', 'name': 'Marisa Tomei'}, {'character': 'Leo', 'name': 'Bruce Willis'}, {'character': 'Chester Rush', 'name': 'Quentin Tarantino'}, {'character': 'Jezebel', 'name': 'Sammi Davis'}, {'character': 'Diana', 'name': 'Amanda de Cadenet'}, {'character': 'Athena', 'name': 'Valeria Golino'}, {'character': 'Raven', 'name': 'Lili Taylor'}, {'character': 'Long Hair Yuppy Scum', 'name': 'Lawrence Bender'}, {'character': 'Eva', 'name': 'Ione Skye'}, {'character': 'Kiva', 'name': 'Alicia Witt'}, {'character': 'Siegfried', 'name': 'David Proval'}, {'character': 'Sarah', 'name': 'Lana McKissack'}, {'character': 'Wife', 'name': 'Tamlyn Tomita'}, {'character': 'Betty', 'name': 'Kathy Griffin'}, {'character': 'Norman', 'name': 'Paul Calderon'}, {'character': 'TV Dancing Girl', 'name': 'Salma Hayek'}, {'character': 'Corpse', 'name': 'Patricia Vonne'}, {'character': 'Juancho', 'name': 'Danny Verduzco'}, {'character': 'Hooker', 'name': 'Kimberly Blair'}, {'character': 'Sam the Bellhop', 'name': 'Marc Lawrence'}]                                                                                                                                                                                                                                                                                                                                                                                                                                                                                                                                                                                                                                                                                                                                                                                                                                                                                                                                           \n",
       "release_year         1995                                                                                                                                                                                                                                                                                                                                                                                                                                                                                                                                                                                                                                                                                                                                                                                                                                                                                                                                                                                                                                                                                                                                                                                                                                                                                                                                                                                                                                                                                                                                                                                                                                                                                                                                                                                                                                                                                                                                                                                                                                                                                                                                                                                                                      \n",
       "vector               [0.07971882075071335, -0.22588534653186798, -0.08258646726608276, -0.06734924763441086, 0.07945840060710907, -0.0077929068356752396, 0.20818649232387543, -0.05983145907521248, 0.37639644742012024, 0.15994125604629517, -0.03390928730368614, 0.557076632976532, -0.2832843065261841, 0.07294664531946182, -0.06037349998950958, 0.035015787929296494, 0.04075496271252632, -0.14458410441875458, -0.06307351589202881, 0.484988272190094, -0.0035080518573522568, -0.1593170017004013, 0.024108877405524254, 0.39136818051338196, 0.12227243930101395, -0.10958606749773026, 0.3602820336818695, -0.14865131676197052, -0.3392030894756317, -0.3866499364376068, -0.3291855454444885, -0.004170011263340712, -0.02511667273938656, 0.10739908367395401, 0.22779464721679688, 0.07729756832122803, 0.19648334383964539, 0.09722363203763962, 0.06259569525718689, 0.19326594471931458, 0.15396787226200104, -0.11439710110425949, 0.0071198586374521255, 0.009638805873692036, -0.2516464293003082, 0.04700208082795143, -0.08753163367509842, 0.030516522005200386, -0.05551803857088089, 0.04095613211393356, 0.04564269632101059, 0.24446822702884674, -0.1134914979338646, -0.0849655345082283, -0.3540255129337311, -0.028869403526186943, 0.1769842803478241, 0.1587352156639099, -0.21263235807418823, 0.2724984586238861, 0.12742380797863007, 0.007504205219447613, -0.351890504360199, 0.204241544008255, -0.18355022370815277, 0.27082085609436035, -0.38788923621177673, -0.22341716289520264, -0.06142066791653633, 0.12052159756422043, 0.002140152733772993, -0.05371638759970665, -0.15430358052253723, -0.13308677077293396, 0.41069257259368896, -0.04140356555581093, -0.054771602153778076, -0.05415654554963112, 0.1254846155643463, -0.045016098767519, 0.03460722044110298, -0.2604438066482544, -0.174565851688385, 0.05583005025982857, -0.14313583076000214, 0.2041950821876526, 0.1683356612920761, -0.02496124990284443, 0.15503840148448944, -0.12457010895013809, -0.3307628035545349, -0.10738862305879593, 0.044761959463357925, 0.1525128334760666, 0.04114758223295212, -0.19631768763065338, 0.01345714833587408, 0.2304171323776245, -0.04921664670109749, 0.18146824836730957, ...]\n",
       "Name: 0, dtype: object"
      ]
     },
     "execution_count": 40,
     "metadata": {},
     "output_type": "execute_result"
    }
   ],
   "source": [
    "df = ds.to_pandas()\n",
    "df.iloc[0]"
   ]
  },
  {
   "cell_type": "code",
   "execution_count": 41,
   "id": "81baa734",
   "metadata": {},
   "outputs": [],
   "source": [
    "db = lancedb.connect(\"./data/lance_db\")"
   ]
  },
  {
   "cell_type": "code",
   "execution_count": 42,
   "id": "c62247de",
   "metadata": {},
   "outputs": [],
   "source": [
    "tbl = db.create_table(\"movies\", data=df, mode=\"overwrite\")\n",
    "tbl.create_fts_index(\"overview\", replace=True)"
   ]
  },
  {
   "cell_type": "markdown",
   "id": "8b9c6293",
   "metadata": {},
   "source": [
    "### OpenAI\n",
    "\n",
    "[Slow embeddings?](https://community.openai.com/t/embeddings-api-extremely-slow/1135044)"
   ]
  },
  {
   "cell_type": "code",
   "execution_count": 30,
   "id": "ac2d6e0c",
   "metadata": {},
   "outputs": [
    {
     "data": {
      "text/plain": [
       "(311562, 0.00623124)"
      ]
     },
     "execution_count": 30,
     "metadata": {},
     "output_type": "execute_result"
    }
   ],
   "source": [
    "overviews = ds[\"overview\"]\n",
    "get_token_count_and_price(overviews, model=\"text-embedding-3-small\")"
   ]
  },
  {
   "cell_type": "code",
   "execution_count": null,
   "id": "6ad0b508",
   "metadata": {},
   "outputs": [],
   "source": [
    "_overview_embeddings = await asyncio.gather(\n",
    "    *[\n",
    "        embedding_with_backoff(input=overview, model=\"text-embedding-3-small\")\n",
    "        # client.embeddings.create(input=overview, model=\"text-embedding-3-small\")\n",
    "        for overview in overviews\n",
    "    ]\n",
    ")\n",
    "overview_embeddings = [\n",
    "    embedding.data[0].embedding for embedding in _overview_embeddings\n",
    "]\n",
    "overview_embeddings[0][:5]"
   ]
  },
  {
   "cell_type": "code",
   "execution_count": null,
   "id": "6abc1ebf",
   "metadata": {},
   "outputs": [],
   "source": [
    "df = ds.to_pandas()\n",
    "df[\"vector\"] = overview_embeddings"
   ]
  },
  {
   "cell_type": "markdown",
   "id": "1407a00a",
   "metadata": {},
   "source": [
    "# Vector search\n",
    "\n",
    "* [Vector search](https://lancedb.github.io/lancedb/search/)\n",
    "* [Hybrid search](https://lancedb.github.io/lancedb/hybrid_search/hybrid_search/)\n",
    "* [Keyword search](https://lancedb.github.io/lancedb/fts/)  (needs tokenization)\n",
    "\n",
    "Hybrid and keyword search may not work as well for cross lingual search."
   ]
  },
  {
   "cell_type": "markdown",
   "id": "45e9cfb6",
   "metadata": {},
   "source": [
    "## Load embedding model\n",
    "<div class=\"alert alert-block alert-warning\">\n",
    "⚠️ Must use the same model as the one used to create the embeddings\n",
    "</div>"
   ]
  },
  {
   "cell_type": "code",
   "execution_count": 25,
   "id": "29394288",
   "metadata": {},
   "outputs": [],
   "source": [
    "embedder = SentenceTransformer(\n",
    "    \"sentence-transformers/paraphrase-multilingual-MiniLM-L12-v2\",\n",
    "    device=\"cpu\",\n",
    ")"
   ]
  },
  {
   "cell_type": "code",
   "execution_count": 46,
   "id": "db8465c0",
   "metadata": {},
   "outputs": [],
   "source": [
    "db = lancedb.connect(\"./data/lance_db/\")\n",
    "tbl = db.open_table(\"movies\")\n",
    "tbl.create_fts_index(\"overview\", replace=True)"
   ]
  },
  {
   "cell_type": "markdown",
   "id": "9bba6289",
   "metadata": {},
   "source": [
    "## Embed the query"
   ]
  },
  {
   "cell_type": "code",
   "execution_count": 47,
   "id": "e97347cd",
   "metadata": {},
   "outputs": [
    {
     "name": "stdout",
     "output_type": "stream",
     "text": [
      "384 384\n",
      "[-0.3266221  -0.6309779   0.14315045 -0.11667657  0.0302001 ] [-0.23116109 -0.4500395   0.09482071  0.01837625 -0.08190719]\n"
     ]
    }
   ],
   "source": [
    "q_en = \"I want to watch a romantic comedy\"\n",
    "q_zh = \"我想看一部浪漫喜劇\"\n",
    "\n",
    "q_en_embedding = embedder.encode(q_en)\n",
    "q_zh_embedding = embedder.encode(q_zh)\n",
    "print(len(q_en_embedding), len(q_zh_embedding))\n",
    "print(q_en_embedding[:5], q_zh_embedding[:5])"
   ]
  },
  {
   "cell_type": "markdown",
   "id": "28acf177",
   "metadata": {},
   "source": [
    "## Querying the database"
   ]
  },
  {
   "cell_type": "code",
   "execution_count": 16,
   "id": "d6636e8b",
   "metadata": {},
   "outputs": [
    {
     "data": {
      "text/plain": [
       "array([ 0.3624173 , -0.39165464,  0.6183053 ,  0.5983386 ,  1.8258102 ,\n",
       "        0.33074635,  1.4305156 , -0.64978415, -1.469294  ,  1.6759685 ],\n",
       "      dtype=float32)"
      ]
     },
     "execution_count": 16,
     "metadata": {},
     "output_type": "execute_result"
    }
   ],
   "source": [
    "random_vector = torch.randn(10).numpy()\n",
    "random_vector"
   ]
  },
  {
   "cell_type": "markdown",
   "id": "5a80c923",
   "metadata": {},
   "source": [
    "<div class=\"alert alert-block alert-warning\">\n",
    "⚠️ This will fail because the embedding dimension does not match 👇"
   ]
  },
  {
   "cell_type": "code",
   "execution_count": 18,
   "id": "900077a6",
   "metadata": {},
   "outputs": [
    {
     "ename": "RuntimeError",
     "evalue": "lance error: Invalid user input: query dim(10) doesn't match the column vector vector dim(384), /root/.cargo/registry/src/index.crates.io-6f17d22bba15001f/lance-0.26.0/src/dataset/scanner.rs:756:25",
     "output_type": "error",
     "traceback": [
      "\u001b[31m---------------------------------------------------------------------------\u001b[39m",
      "\u001b[31mRuntimeError\u001b[39m                              Traceback (most recent call last)",
      "\u001b[36mCell\u001b[39m\u001b[36m \u001b[39m\u001b[32mIn[18]\u001b[39m\u001b[32m, line 1\u001b[39m\n\u001b[32m----> \u001b[39m\u001b[32m1\u001b[39m \u001b[43mtbl\u001b[49m\u001b[43m.\u001b[49m\u001b[43msearch\u001b[49m\u001b[43m(\u001b[49m\u001b[43mrandom_vector\u001b[49m\u001b[43m)\u001b[49m\u001b[43m.\u001b[49m\u001b[43mlimit\u001b[49m\u001b[43m(\u001b[49m\u001b[32;43m5\u001b[39;49m\u001b[43m)\u001b[49m\u001b[43m.\u001b[49m\u001b[43mto_pandas\u001b[49m\u001b[43m(\u001b[49m\u001b[43m)\u001b[49m\n",
      "\u001b[36mFile \u001b[39m\u001b[32m~/github/genai4humanities-wk14/.venv/lib/python3.11/site-packages/lancedb/query.py:683\u001b[39m, in \u001b[36mLanceQueryBuilder.to_pandas\u001b[39m\u001b[34m(self, flatten, timeout)\u001b[39m\n\u001b[32m    660\u001b[39m \u001b[38;5;28;01mdef\u001b[39;00m\u001b[38;5;250m \u001b[39m\u001b[34mto_pandas\u001b[39m(\n\u001b[32m    661\u001b[39m     \u001b[38;5;28mself\u001b[39m,\n\u001b[32m    662\u001b[39m     flatten: Optional[Union[\u001b[38;5;28mint\u001b[39m, \u001b[38;5;28mbool\u001b[39m]] = \u001b[38;5;28;01mNone\u001b[39;00m,\n\u001b[32m    663\u001b[39m     *,\n\u001b[32m    664\u001b[39m     timeout: Optional[timedelta] = \u001b[38;5;28;01mNone\u001b[39;00m,\n\u001b[32m    665\u001b[39m ) -> \u001b[33m\"\u001b[39m\u001b[33mpd.DataFrame\u001b[39m\u001b[33m\"\u001b[39m:\n\u001b[32m    666\u001b[39m \u001b[38;5;250m    \u001b[39m\u001b[33;03m\"\"\"\u001b[39;00m\n\u001b[32m    667\u001b[39m \u001b[33;03m    Execute the query and return the results as a pandas DataFrame.\u001b[39;00m\n\u001b[32m    668\u001b[39m \u001b[33;03m    In addition to the selected columns, LanceDB also returns a vector\u001b[39;00m\n\u001b[32m   (...)\u001b[39m\u001b[32m    681\u001b[39m \u001b[33;03m        If None, wait indefinitely.\u001b[39;00m\n\u001b[32m    682\u001b[39m \u001b[33;03m    \"\"\"\u001b[39;00m\n\u001b[32m--> \u001b[39m\u001b[32m683\u001b[39m     tbl = flatten_columns(\u001b[38;5;28;43mself\u001b[39;49m\u001b[43m.\u001b[49m\u001b[43mto_arrow\u001b[49m\u001b[43m(\u001b[49m\u001b[43mtimeout\u001b[49m\u001b[43m=\u001b[49m\u001b[43mtimeout\u001b[49m\u001b[43m)\u001b[49m, flatten)\n\u001b[32m    684\u001b[39m     \u001b[38;5;28;01mreturn\u001b[39;00m tbl.to_pandas()\n",
      "\u001b[36mFile \u001b[39m\u001b[32m~/github/genai4humanities-wk14/.venv/lib/python3.11/site-packages/lancedb/query.py:1209\u001b[39m, in \u001b[36mLanceVectorQueryBuilder.to_arrow\u001b[39m\u001b[34m(self, timeout)\u001b[39m\n\u001b[32m   1194\u001b[39m \u001b[38;5;28;01mdef\u001b[39;00m\u001b[38;5;250m \u001b[39m\u001b[34mto_arrow\u001b[39m(\u001b[38;5;28mself\u001b[39m, *, timeout: Optional[timedelta] = \u001b[38;5;28;01mNone\u001b[39;00m) -> pa.Table:\n\u001b[32m   1195\u001b[39m \u001b[38;5;250m    \u001b[39m\u001b[33;03m\"\"\"\u001b[39;00m\n\u001b[32m   1196\u001b[39m \u001b[33;03m    Execute the query and return the results as an\u001b[39;00m\n\u001b[32m   1197\u001b[39m \u001b[33;03m    [Apache Arrow Table](https://arrow.apache.org/docs/python/generated/pyarrow.Table.html#pyarrow.Table).\u001b[39;00m\n\u001b[32m   (...)\u001b[39m\u001b[32m   1207\u001b[39m \u001b[33;03m        If None, wait indefinitely.\u001b[39;00m\n\u001b[32m   1208\u001b[39m \u001b[33;03m    \"\"\"\u001b[39;00m\n\u001b[32m-> \u001b[39m\u001b[32m1209\u001b[39m     \u001b[38;5;28;01mreturn\u001b[39;00m \u001b[38;5;28;43mself\u001b[39;49m\u001b[43m.\u001b[49m\u001b[43mto_batches\u001b[49m\u001b[43m(\u001b[49m\u001b[43mtimeout\u001b[49m\u001b[43m=\u001b[49m\u001b[43mtimeout\u001b[49m\u001b[43m)\u001b[49m.read_all()\n",
      "\u001b[36mFile \u001b[39m\u001b[32m~/github/genai4humanities-wk14/.venv/lib/python3.11/site-packages/lancedb/query.py:1265\u001b[39m, in \u001b[36mLanceVectorQueryBuilder.to_batches\u001b[39m\u001b[34m(self, batch_size, timeout)\u001b[39m\n\u001b[32m   1263\u001b[39m     vector = [v.tolist() \u001b[38;5;28;01mfor\u001b[39;00m v \u001b[38;5;129;01min\u001b[39;00m vector]\n\u001b[32m   1264\u001b[39m query = \u001b[38;5;28mself\u001b[39m.to_query_object()\n\u001b[32m-> \u001b[39m\u001b[32m1265\u001b[39m result_set = \u001b[38;5;28;43mself\u001b[39;49m\u001b[43m.\u001b[49m\u001b[43m_table\u001b[49m\u001b[43m.\u001b[49m\u001b[43m_execute_query\u001b[49m\u001b[43m(\u001b[49m\n\u001b[32m   1266\u001b[39m \u001b[43m    \u001b[49m\u001b[43mquery\u001b[49m\u001b[43m,\u001b[49m\u001b[43m \u001b[49m\u001b[43mbatch_size\u001b[49m\u001b[43m=\u001b[49m\u001b[43mbatch_size\u001b[49m\u001b[43m,\u001b[49m\u001b[43m \u001b[49m\u001b[43mtimeout\u001b[49m\u001b[43m=\u001b[49m\u001b[43mtimeout\u001b[49m\n\u001b[32m   1267\u001b[39m \u001b[43m\u001b[49m\u001b[43m)\u001b[49m\n\u001b[32m   1268\u001b[39m \u001b[38;5;28;01mif\u001b[39;00m \u001b[38;5;28mself\u001b[39m._reranker \u001b[38;5;129;01mis\u001b[39;00m \u001b[38;5;129;01mnot\u001b[39;00m \u001b[38;5;28;01mNone\u001b[39;00m:\n\u001b[32m   1269\u001b[39m     rs_table = result_set.read_all()\n",
      "\u001b[36mFile \u001b[39m\u001b[32m~/github/genai4humanities-wk14/.venv/lib/python3.11/site-packages/lancedb/table.py:2381\u001b[39m, in \u001b[36mLanceTable._execute_query\u001b[39m\u001b[34m(self, query, batch_size, timeout)\u001b[39m\n\u001b[32m   2374\u001b[39m \u001b[38;5;28;01mdef\u001b[39;00m\u001b[38;5;250m \u001b[39m\u001b[34m_execute_query\u001b[39m(\n\u001b[32m   2375\u001b[39m     \u001b[38;5;28mself\u001b[39m,\n\u001b[32m   2376\u001b[39m     query: Query,\n\u001b[32m   (...)\u001b[39m\u001b[32m   2379\u001b[39m     timeout: Optional[timedelta] = \u001b[38;5;28;01mNone\u001b[39;00m,\n\u001b[32m   2380\u001b[39m ) -> pa.RecordBatchReader:\n\u001b[32m-> \u001b[39m\u001b[32m2381\u001b[39m     async_iter = \u001b[43mLOOP\u001b[49m\u001b[43m.\u001b[49m\u001b[43mrun\u001b[49m\u001b[43m(\u001b[49m\n\u001b[32m   2382\u001b[39m \u001b[43m        \u001b[49m\u001b[38;5;28;43mself\u001b[39;49m\u001b[43m.\u001b[49m\u001b[43m_table\u001b[49m\u001b[43m.\u001b[49m\u001b[43m_execute_query\u001b[49m\u001b[43m(\u001b[49m\u001b[43mquery\u001b[49m\u001b[43m,\u001b[49m\u001b[43m \u001b[49m\u001b[43mbatch_size\u001b[49m\u001b[43m=\u001b[49m\u001b[43mbatch_size\u001b[49m\u001b[43m,\u001b[49m\u001b[43m \u001b[49m\u001b[43mtimeout\u001b[49m\u001b[43m=\u001b[49m\u001b[43mtimeout\u001b[49m\u001b[43m)\u001b[49m\n\u001b[32m   2383\u001b[39m \u001b[43m    \u001b[49m\u001b[43m)\u001b[49m\n\u001b[32m   2385\u001b[39m     \u001b[38;5;28;01mdef\u001b[39;00m\u001b[38;5;250m \u001b[39m\u001b[34miter_sync\u001b[39m():\n\u001b[32m   2386\u001b[39m         \u001b[38;5;28;01mtry\u001b[39;00m:\n",
      "\u001b[36mFile \u001b[39m\u001b[32m~/github/genai4humanities-wk14/.venv/lib/python3.11/site-packages/lancedb/background_loop.py:25\u001b[39m, in \u001b[36mBackgroundEventLoop.run\u001b[39m\u001b[34m(self, future)\u001b[39m\n\u001b[32m     24\u001b[39m \u001b[38;5;28;01mdef\u001b[39;00m\u001b[38;5;250m \u001b[39m\u001b[34mrun\u001b[39m(\u001b[38;5;28mself\u001b[39m, future):\n\u001b[32m---> \u001b[39m\u001b[32m25\u001b[39m     \u001b[38;5;28;01mreturn\u001b[39;00m \u001b[43masyncio\u001b[49m\u001b[43m.\u001b[49m\u001b[43mrun_coroutine_threadsafe\u001b[49m\u001b[43m(\u001b[49m\u001b[43mfuture\u001b[49m\u001b[43m,\u001b[49m\u001b[43m \u001b[49m\u001b[38;5;28;43mself\u001b[39;49m\u001b[43m.\u001b[49m\u001b[43mloop\u001b[49m\u001b[43m)\u001b[49m\u001b[43m.\u001b[49m\u001b[43mresult\u001b[49m\u001b[43m(\u001b[49m\u001b[43m)\u001b[49m\n",
      "\u001b[36mFile \u001b[39m\u001b[32m~/.local/share/uv/python/cpython-3.11.11-linux-x86_64-gnu/lib/python3.11/concurrent/futures/_base.py:456\u001b[39m, in \u001b[36mFuture.result\u001b[39m\u001b[34m(self, timeout)\u001b[39m\n\u001b[32m    454\u001b[39m     \u001b[38;5;28;01mraise\u001b[39;00m CancelledError()\n\u001b[32m    455\u001b[39m \u001b[38;5;28;01melif\u001b[39;00m \u001b[38;5;28mself\u001b[39m._state == FINISHED:\n\u001b[32m--> \u001b[39m\u001b[32m456\u001b[39m     \u001b[38;5;28;01mreturn\u001b[39;00m \u001b[38;5;28;43mself\u001b[39;49m\u001b[43m.\u001b[49m\u001b[43m__get_result\u001b[49m\u001b[43m(\u001b[49m\u001b[43m)\u001b[49m\n\u001b[32m    457\u001b[39m \u001b[38;5;28;01melse\u001b[39;00m:\n\u001b[32m    458\u001b[39m     \u001b[38;5;28;01mraise\u001b[39;00m \u001b[38;5;167;01mTimeoutError\u001b[39;00m()\n",
      "\u001b[36mFile \u001b[39m\u001b[32m~/.local/share/uv/python/cpython-3.11.11-linux-x86_64-gnu/lib/python3.11/concurrent/futures/_base.py:401\u001b[39m, in \u001b[36mFuture.__get_result\u001b[39m\u001b[34m(self)\u001b[39m\n\u001b[32m    399\u001b[39m \u001b[38;5;28;01mif\u001b[39;00m \u001b[38;5;28mself\u001b[39m._exception:\n\u001b[32m    400\u001b[39m     \u001b[38;5;28;01mtry\u001b[39;00m:\n\u001b[32m--> \u001b[39m\u001b[32m401\u001b[39m         \u001b[38;5;28;01mraise\u001b[39;00m \u001b[38;5;28mself\u001b[39m._exception\n\u001b[32m    402\u001b[39m     \u001b[38;5;28;01mfinally\u001b[39;00m:\n\u001b[32m    403\u001b[39m         \u001b[38;5;66;03m# Break a reference cycle with the exception in self._exception\u001b[39;00m\n\u001b[32m    404\u001b[39m         \u001b[38;5;28mself\u001b[39m = \u001b[38;5;28;01mNone\u001b[39;00m\n",
      "\u001b[36mFile \u001b[39m\u001b[32m~/github/genai4humanities-wk14/.venv/lib/python3.11/site-packages/lancedb/table.py:3512\u001b[39m, in \u001b[36mAsyncTable._execute_query\u001b[39m\u001b[34m(self, query, batch_size, timeout)\u001b[39m\n\u001b[32m   3499\u001b[39m \u001b[38;5;28;01masync\u001b[39;00m \u001b[38;5;28;01mdef\u001b[39;00m\u001b[38;5;250m \u001b[39m\u001b[34m_execute_query\u001b[39m(\n\u001b[32m   3500\u001b[39m     \u001b[38;5;28mself\u001b[39m,\n\u001b[32m   3501\u001b[39m     query: Query,\n\u001b[32m   (...)\u001b[39m\u001b[32m   3507\u001b[39m     \u001b[38;5;66;03m# query to the async version of the query and run that here. This is only\u001b[39;00m\n\u001b[32m   3508\u001b[39m     \u001b[38;5;66;03m# used for that code path right now.\u001b[39;00m\n\u001b[32m   3510\u001b[39m     async_query = \u001b[38;5;28mself\u001b[39m._sync_query_to_async(query)\n\u001b[32m-> \u001b[39m\u001b[32m3512\u001b[39m     \u001b[38;5;28;01mreturn\u001b[39;00m \u001b[38;5;28;01mawait\u001b[39;00m async_query.to_batches(\n\u001b[32m   3513\u001b[39m         max_batch_length=batch_size, timeout=timeout\n\u001b[32m   3514\u001b[39m     )\n",
      "\u001b[36mFile \u001b[39m\u001b[32m~/github/genai4humanities-wk14/.venv/lib/python3.11/site-packages/lancedb/query.py:2784\u001b[39m, in \u001b[36mAsyncVectorQuery.to_batches\u001b[39m\u001b[34m(self, max_batch_length, timeout)\u001b[39m\n\u001b[32m   2778\u001b[39m \u001b[38;5;28;01masync\u001b[39;00m \u001b[38;5;28;01mdef\u001b[39;00m\u001b[38;5;250m \u001b[39m\u001b[34mto_batches\u001b[39m(\n\u001b[32m   2779\u001b[39m     \u001b[38;5;28mself\u001b[39m,\n\u001b[32m   2780\u001b[39m     *,\n\u001b[32m   2781\u001b[39m     max_batch_length: Optional[\u001b[38;5;28mint\u001b[39m] = \u001b[38;5;28;01mNone\u001b[39;00m,\n\u001b[32m   2782\u001b[39m     timeout: Optional[timedelta] = \u001b[38;5;28;01mNone\u001b[39;00m,\n\u001b[32m   2783\u001b[39m ) -> AsyncRecordBatchReader:\n\u001b[32m-> \u001b[39m\u001b[32m2784\u001b[39m     reader = \u001b[38;5;28;01mawait\u001b[39;00m \u001b[38;5;28msuper\u001b[39m().to_batches(timeout=timeout)\n\u001b[32m   2785\u001b[39m     results = pa.Table.from_batches(\u001b[38;5;28;01mawait\u001b[39;00m reader.read_all(), reader.schema)\n\u001b[32m   2786\u001b[39m     \u001b[38;5;28;01mif\u001b[39;00m \u001b[38;5;28mself\u001b[39m._reranker:\n",
      "\u001b[36mFile \u001b[39m\u001b[32m~/github/genai4humanities-wk14/.venv/lib/python3.11/site-packages/lancedb/query.py:2164\u001b[39m, in \u001b[36mAsyncQueryBase.to_batches\u001b[39m\u001b[34m(self, max_batch_length, timeout)\u001b[39m\n\u001b[32m   2141\u001b[39m \u001b[38;5;28;01masync\u001b[39;00m \u001b[38;5;28;01mdef\u001b[39;00m\u001b[38;5;250m \u001b[39m\u001b[34mto_batches\u001b[39m(\n\u001b[32m   2142\u001b[39m     \u001b[38;5;28mself\u001b[39m,\n\u001b[32m   2143\u001b[39m     *,\n\u001b[32m   2144\u001b[39m     max_batch_length: Optional[\u001b[38;5;28mint\u001b[39m] = \u001b[38;5;28;01mNone\u001b[39;00m,\n\u001b[32m   2145\u001b[39m     timeout: Optional[timedelta] = \u001b[38;5;28;01mNone\u001b[39;00m,\n\u001b[32m   2146\u001b[39m ) -> AsyncRecordBatchReader:\n\u001b[32m   2147\u001b[39m \u001b[38;5;250m    \u001b[39m\u001b[33;03m\"\"\"\u001b[39;00m\n\u001b[32m   2148\u001b[39m \u001b[33;03m    Execute the query and return the results as an Apache Arrow RecordBatchReader.\u001b[39;00m\n\u001b[32m   2149\u001b[39m \n\u001b[32m   (...)\u001b[39m\u001b[32m   2161\u001b[39m \u001b[33;03m        complete within the specified time, an error will be raised.\u001b[39;00m\n\u001b[32m   2162\u001b[39m \u001b[33;03m    \"\"\"\u001b[39;00m\n\u001b[32m   2163\u001b[39m     \u001b[38;5;28;01mreturn\u001b[39;00m AsyncRecordBatchReader(\n\u001b[32m-> \u001b[39m\u001b[32m2164\u001b[39m         \u001b[38;5;28;01mawait\u001b[39;00m \u001b[38;5;28mself\u001b[39m._inner.execute(max_batch_length, timeout)\n\u001b[32m   2165\u001b[39m     )\n",
      "\u001b[31mRuntimeError\u001b[39m: lance error: Invalid user input: query dim(10) doesn't match the column vector vector dim(384), /root/.cargo/registry/src/index.crates.io-6f17d22bba15001f/lance-0.26.0/src/dataset/scanner.rs:756:25"
     ]
    }
   ],
   "source": [
    "tbl.search(random_vector).limit(5).to_pandas()"
   ]
  },
  {
   "cell_type": "code",
   "execution_count": 48,
   "id": "8a01640b",
   "metadata": {},
   "outputs": [
    {
     "data": {
      "text/html": [
       "<div>\n",
       "<style scoped>\n",
       "    .dataframe tbody tr th:only-of-type {\n",
       "        vertical-align: middle;\n",
       "    }\n",
       "\n",
       "    .dataframe tbody tr th {\n",
       "        vertical-align: top;\n",
       "    }\n",
       "\n",
       "    .dataframe thead th {\n",
       "        text-align: right;\n",
       "    }\n",
       "</style>\n",
       "<table border=\"1\" class=\"dataframe\">\n",
       "  <thead>\n",
       "    <tr style=\"text-align: right;\">\n",
       "      <th></th>\n",
       "      <th>overview</th>\n",
       "      <th>_distance</th>\n",
       "    </tr>\n",
       "  </thead>\n",
       "  <tbody>\n",
       "    <tr>\n",
       "      <th>0</th>\n",
       "      <td>A modern reimagining of the classic romantic comedy, this contemporary version closely follows new love for two couples as they journey from the bar to the bedroom and are eventually put to the test in the real world.</td>\n",
       "      <td>20.804733</td>\n",
       "    </tr>\n",
       "    <tr>\n",
       "      <th>1</th>\n",
       "      <td>Spoof of romantic comedies which focuses on a man (Campbell), his crush (Hannigan), his parents (Coolidge, Willard), and her father (Griffin).</td>\n",
       "      <td>21.273169</td>\n",
       "    </tr>\n",
       "    <tr>\n",
       "      <th>2</th>\n",
       "      <td>Romantic comedy. A small town teenager's angst about sexual inexperience drives a comic quest for love and understanding on a birthday to end all birthdays.</td>\n",
       "      <td>22.505938</td>\n",
       "    </tr>\n",
       "    <tr>\n",
       "      <th>3</th>\n",
       "      <td>Dramatic comedy about two unlikely people who find each other while looking for love. Judith Nelson (Holly Hunter) is suddenly single after discovering her husband of fifteen years, a successful doctor (Martin Donovan), has been having an affair with a younger woman. Judith stews, plans, plots and fantasizes, but she can't decide what to do with her life until she goes out to a night club to see singer Liz Bailey (Queen Latifah), who is full of advice on life and love. While out on the town, Judith is suddenly kissed by a total stranger, which opens her eyes to new possibilities ... which is when she notices Pat (Danny De Vito), the elevator operator in her building.</td>\n",
       "      <td>24.331314</td>\n",
       "    </tr>\n",
       "    <tr>\n",
       "      <th>4</th>\n",
       "      <td>A romantic comedy centered on Dexter and Emma, who first meet during their graduation in 1988 and proceed to keep in touch regularly. The film follows what they do on July 15 annually, usually doing something together.</td>\n",
       "      <td>24.688421</td>\n",
       "    </tr>\n",
       "  </tbody>\n",
       "</table>\n",
       "</div>"
      ],
      "text/plain": [
       "                                                                                                                                                                                                                                                                                                                                                                                                                                                                                                                                                                                                                                                                                              overview  \\\n",
       "0  A modern reimagining of the classic romantic comedy, this contemporary version closely follows new love for two couples as they journey from the bar to the bedroom and are eventually put to the test in the real world.                                                                                                                                                                                                                                                                                                                                                                                                                                                                             \n",
       "1  Spoof of romantic comedies which focuses on a man (Campbell), his crush (Hannigan), his parents (Coolidge, Willard), and her father (Griffin).                                                                                                                                                                                                                                                                                                                                                                                                                                                                                                                                                        \n",
       "2  Romantic comedy. A small town teenager's angst about sexual inexperience drives a comic quest for love and understanding on a birthday to end all birthdays.                                                                                                                                                                                                                                                                                                                                                                                                                                                                                                                                          \n",
       "3  Dramatic comedy about two unlikely people who find each other while looking for love. Judith Nelson (Holly Hunter) is suddenly single after discovering her husband of fifteen years, a successful doctor (Martin Donovan), has been having an affair with a younger woman. Judith stews, plans, plots and fantasizes, but she can't decide what to do with her life until she goes out to a night club to see singer Liz Bailey (Queen Latifah), who is full of advice on life and love. While out on the town, Judith is suddenly kissed by a total stranger, which opens her eyes to new possibilities ... which is when she notices Pat (Danny De Vito), the elevator operator in her building.   \n",
       "4  A romantic comedy centered on Dexter and Emma, who first meet during their graduation in 1988 and proceed to keep in touch regularly. The film follows what they do on July 15 annually, usually doing something together.                                                                                                                                                                                                                                                                                                                                                                                                                                                                            \n",
       "\n",
       "   _distance  \n",
       "0  20.804733  \n",
       "1  21.273169  \n",
       "2  22.505938  \n",
       "3  24.331314  \n",
       "4  24.688421  "
      ]
     },
     "execution_count": 48,
     "metadata": {},
     "output_type": "execute_result"
    }
   ],
   "source": [
    "tbl.search(q_en_embedding).select([\"overview\"]).limit(5).to_pandas()"
   ]
  },
  {
   "cell_type": "code",
   "execution_count": 23,
   "id": "b9eec11e",
   "metadata": {},
   "outputs": [
    {
     "data": {
      "text/html": [
       "<div>\n",
       "<style scoped>\n",
       "    .dataframe tbody tr th:only-of-type {\n",
       "        vertical-align: middle;\n",
       "    }\n",
       "\n",
       "    .dataframe tbody tr th {\n",
       "        vertical-align: top;\n",
       "    }\n",
       "\n",
       "    .dataframe thead th {\n",
       "        text-align: right;\n",
       "    }\n",
       "</style>\n",
       "<table border=\"1\" class=\"dataframe\">\n",
       "  <thead>\n",
       "    <tr style=\"text-align: right;\">\n",
       "      <th></th>\n",
       "      <th>overview</th>\n",
       "      <th>original_title</th>\n",
       "      <th>_distance</th>\n",
       "    </tr>\n",
       "  </thead>\n",
       "  <tbody>\n",
       "    <tr>\n",
       "      <th>0</th>\n",
       "      <td>Spoof of romantic comedies which focuses on a man (Campbell), his crush (Hannigan), his parents (Coolidge, Willard), and her father (Griffin).</td>\n",
       "      <td>Date Movie</td>\n",
       "      <td>13.745854</td>\n",
       "    </tr>\n",
       "    <tr>\n",
       "      <th>1</th>\n",
       "      <td>A modern reimagining of the classic romantic comedy, this contemporary version closely follows new love for two couples as they journey from the bar to the bedroom and are eventually put to the test in the real world.</td>\n",
       "      <td>About Last Night</td>\n",
       "      <td>13.997502</td>\n",
       "    </tr>\n",
       "    <tr>\n",
       "      <th>2</th>\n",
       "      <td>Romantic comedy. A small town teenager's angst about sexual inexperience drives a comic quest for love and understanding on a birthday to end all birthdays.</td>\n",
       "      <td>16 to Life</td>\n",
       "      <td>15.334779</td>\n",
       "    </tr>\n",
       "    <tr>\n",
       "      <th>3</th>\n",
       "      <td>Dramatic comedy about two unlikely people who find each other while looking for love. Judith Nelson (Holly Hunter) is suddenly single after discovering her husband of fifteen years, a successful doctor (Martin Donovan), has been having an affair with a younger woman. Judith stews, plans, plots and fantasizes, but she can't decide what to do with her life until she goes out to a night club to see singer Liz Bailey (Queen Latifah), who is full of advice on life and love. While out on the town, Judith is suddenly kissed by a total stranger, which opens her eyes to new possibilities ... which is when she notices Pat (Danny De Vito), the elevator operator in her building.</td>\n",
       "      <td>Living Out Loud</td>\n",
       "      <td>16.062124</td>\n",
       "    </tr>\n",
       "    <tr>\n",
       "      <th>4</th>\n",
       "      <td>A sparkling comedic chronicle of a middle-class young man’s romantic misadventures among New York City’s debutante society. Stillman’s deft, literate dialogue and hilariously highbrow observations earned this debut film an Academy Award nomination for Best Original Screenplay. Alongside the wit and sophistication, though, lies a tender tale of adolescent anxiety.</td>\n",
       "      <td>Metropolitan</td>\n",
       "      <td>16.759302</td>\n",
       "    </tr>\n",
       "  </tbody>\n",
       "</table>\n",
       "</div>"
      ],
      "text/plain": [
       "                                                                                                                                                                                                                                                                                                                                                                                                                                                                                                                                                                                                                                                                                              overview  \\\n",
       "0  Spoof of romantic comedies which focuses on a man (Campbell), his crush (Hannigan), his parents (Coolidge, Willard), and her father (Griffin).                                                                                                                                                                                                                                                                                                                                                                                                                                                                                                                                                        \n",
       "1  A modern reimagining of the classic romantic comedy, this contemporary version closely follows new love for two couples as they journey from the bar to the bedroom and are eventually put to the test in the real world.                                                                                                                                                                                                                                                                                                                                                                                                                                                                             \n",
       "2  Romantic comedy. A small town teenager's angst about sexual inexperience drives a comic quest for love and understanding on a birthday to end all birthdays.                                                                                                                                                                                                                                                                                                                                                                                                                                                                                                                                          \n",
       "3  Dramatic comedy about two unlikely people who find each other while looking for love. Judith Nelson (Holly Hunter) is suddenly single after discovering her husband of fifteen years, a successful doctor (Martin Donovan), has been having an affair with a younger woman. Judith stews, plans, plots and fantasizes, but she can't decide what to do with her life until she goes out to a night club to see singer Liz Bailey (Queen Latifah), who is full of advice on life and love. While out on the town, Judith is suddenly kissed by a total stranger, which opens her eyes to new possibilities ... which is when she notices Pat (Danny De Vito), the elevator operator in her building.   \n",
       "4  A sparkling comedic chronicle of a middle-class young man’s romantic misadventures among New York City’s debutante society. Stillman’s deft, literate dialogue and hilariously highbrow observations earned this debut film an Academy Award nomination for Best Original Screenplay. Alongside the wit and sophistication, though, lies a tender tale of adolescent anxiety.                                                                                                                                                                                                                                                                                                                         \n",
       "\n",
       "     original_title  _distance  \n",
       "0  Date Movie        13.745854  \n",
       "1  About Last Night  13.997502  \n",
       "2  16 to Life        15.334779  \n",
       "3  Living Out Loud   16.062124  \n",
       "4  Metropolitan      16.759302  "
      ]
     },
     "execution_count": 23,
     "metadata": {},
     "output_type": "execute_result"
    }
   ],
   "source": [
    "tbl.search(q_zh_embedding).select([\"overview\", \"original_title\"]).limit(5).to_pandas()"
   ]
  },
  {
   "cell_type": "markdown",
   "id": "bb34833f",
   "metadata": {},
   "source": [
    "# Function calling\n",
    "\n",
    "We'll use RAG to demonstrate LLM function calling."
   ]
  },
  {
   "cell_type": "code",
   "execution_count": 5,
   "id": "5b5d22e3",
   "metadata": {},
   "outputs": [
    {
     "name": "stdout",
     "output_type": "stream",
     "text": [
      "['movies']\n"
     ]
    }
   ],
   "source": [
    "embedder = SentenceTransformer(\n",
    "    \"sentence-transformers/paraphrase-multilingual-MiniLM-L12-v2\",\n",
    "    device=\"cpu\",\n",
    ")\n",
    "db = lancedb.connect(\"./data/lance_db\")\n",
    "print(db.table_names())\n",
    "tbl = db.open_table(\"movies\")"
   ]
  },
  {
   "cell_type": "code",
   "execution_count": 6,
   "id": "0c3b3044",
   "metadata": {},
   "outputs": [],
   "source": [
    "def query_movie_db(\n",
    "    text: str,\n",
    "    limit: int = 10,\n",
    ") -> ToolCallResult:\n",
    "    \"\"\"\n",
    "    Query the LanceDB movie database for movies with similar overviews to the input text.\n",
    "\n",
    "    Args:\n",
    "        text (str): The input text to query the database.\n",
    "        limit (int, optional): The number of results to return. Defaults to 10.\n",
    "\n",
    "    Returns:\n",
    "        ToolCallResult: The result of the tool call.\n",
    "    \"\"\"\n",
    "    q_emb = embedder.encode(text)\n",
    "    df = (\n",
    "        tbl.search(q_emb).limit(limit).to_pandas().drop(columns=[\"vector\", \"_distance\"])\n",
    "    )\n",
    "    return {\n",
    "        \"llm_consumable\": df.to_json(lines=True, orient=\"records\"),\n",
    "        \"ui_displayable\": df,\n",
    "        \"return_type\": \"dataframe\",\n",
    "    }\n"
   ]
  },
  {
   "cell_type": "code",
   "execution_count": 7,
   "id": "55c14be0",
   "metadata": {},
   "outputs": [
    {
     "name": "stdout",
     "output_type": "stream",
     "text": [
      "{\"budget\":3500000,\"genres\":[\"Comedy\"],\"keywords\":[\"chicago\",\"alcohol\",\"cataclysm\",\"guitar\",\"medicine\",\"taxi driver\",\"passenger\",\"saxophone\",\"stewardess\",\"pilot\",\"airplane\",\"fear of flying\",\"air controller\",\"landing\",\"autopilot\",\"kiss\",\"spoof\",\"los angeles\",\"alcohol abuse\",\"aftercreditsstinger\",\"anarchic comedy\"],\"original_language\":\"en\",\"overview\":\"Alcoholic pilot, Ted Striker has developed a fear of flying due to wartime trauma, but nevertheless boards a passenger jet in an attempt to woo back his stewardess girlfriend. Food poisoning decimates the passengers and crew, leaving it up to Striker to land the plane with the help of a glue-sniffing air traffic controller and Striker's vengeful former Air Force captain, who must both talk him down.\",\"popularity\":46.116885,\"release_date\":331344000000,\"revenue\":83453539,\"runtime\":88.0,\"spoken_languages\":[\"English\"],\"title\":\"Airplane!\",\"cast\":[{\"character\":\"Ted Striker\",\"name\":\"Robert Hays\"},{\"character\":\"Elaine\",\"name\":\"Julie Hagerty\"},{\"character\":\"Murdock\",\"name\":\"Kareem Abdul-Jabbar\"},{\"character\":\"McCroskey\",\"name\":\"Lloyd Bridges\"},{\"character\":\"Captain Oveur\",\"name\":\"Peter Graves\"},{\"character\":\"Dr. Rumack\",\"name\":\"Leslie Nielsen\"},{\"character\":\"Randy\",\"name\":\"Lorna Patterson\"},{\"character\":\"Rex Kramer\",\"name\":\"Robert Stack\"},{\"character\":\"Johnny\",\"name\":\"Stephen Stucker\"},{\"character\":\"Religious zealot #6\",\"name\":\"Jim Abrahams\"},{\"character\":\"Victor Basta\",\"name\":\"Frank Ashmore\"},{\"character\":\"Gunderson\",\"name\":\"Jonathan Banks\"},{\"character\":\"Paul Carey\",\"name\":\"Craig Berenson\"},{\"character\":\"Jive Lady\",\"name\":\"Barbara Billingsley\"},{\"character\":\"Mrs. Hammen\",\"name\":\"Lee Bryant\"},{\"character\":\"Mrs. Davis\",\"name\":\"Joyce Bulifant\"},{\"character\":\"Security Lady\",\"name\":\"Mae E. Campbell\"},{\"character\":\"Lieutenant Hurwitz\",\"name\":\"Ethel Merman\"},{\"character\":\"Windshield Wiper Man\",\"name\":\"Jimmie Walker\"},{\"character\":\"Lisa Davis\",\"name\":\"Jill Whelan\"},{\"character\":\"\",\"name\":\"Kitten Natividad\"},{\"character\":\"Cocaine Lady\",\"name\":\"Nora Meerbaum\"},{\"character\":\"Air Controller Neubauer\",\"name\":\"Kenneth Tobey\"}],\"release_year\":1980}\n",
      "{\"budget\":209000000,\"genres\":[\"Thriller\",\"Action\",\"Adventure\",\"Science Fiction\"],\"keywords\":[\"fight\",\"u.s. navy\",\"mind reading\",\"hong kong\",\"soccer\",\"scientist\",\"fictional war\",\"naval\",\"armada\",\"battleship\",\"naval combat\",\"jds myoko\",\"lost communication\",\"taser\",\"buoy\",\"communications expert\",\"joint chiefs of staff\",\"crash landing\",\"jet fighter pilot\",\"navy lieutenant\",\"permission to marry\",\"uss john paul jones\",\"based on board game\",\"aftercreditsstinger\",\"mighty mo\",\"uss missouri\"],\"original_language\":\"en\",\"overview\":\"When mankind beams a radio signal into space, a reply comes from \\u2018Planet G\\u2019, in the form of several alien crafts that splash down in the waters off Hawaii. Lieutenant Alex Hopper is a weapons officer assigned to the USS John Paul Jones, part of an international naval coalition which becomes the world's last hope for survival as they engage the hostile alien force of unimaginable strength. While taking on the invaders, Hopper must also try to live up to the potential his brother, and his fianc\\u00e9e's father, Admiral Shane, expect of him.\",\"popularity\":64.928382,\"release_date\":1334102400000,\"revenue\":303025485,\"runtime\":131.0,\"spoken_languages\":[\"English\",\"\\u0e20\\u0e32\\u0e29\\u0e32\\u0e44\\u0e17\\u0e22\"],\"title\":\"Battleship\",\"cast\":[{\"character\":\"Lieutenant Alex Hopper\",\"name\":\"Taylor Kitsch\"},{\"character\":\"Commander Stone Hopper\",\"name\":\"Alexander Skarsg\\u00e5rd\"},{\"character\":\"Petty Officer Cora 'Weps' Raikes\",\"name\":\"Rihanna\"},{\"character\":\"Sam\",\"name\":\"Brooklyn Decker\"},{\"character\":\"Captain Yugi Nagata\",\"name\":\"Tadanobu Asano\"},{\"character\":\"Admiral Shane\",\"name\":\"Liam Neeson\"},{\"character\":\"Lieutenant Colonel Mick Canales\",\"name\":\"Gregory D. Gadson\"},{\"character\":\"Cal Zapata\",\"name\":\"Hamish Linklater\"},{\"character\":\"Boatswain Mate Seaman Jimmy \\\"Ordy\\\" Ord\",\"name\":\"Jesse Plemons\"},{\"character\":\"Chief Petty Officer Walter \\\"The Beast\\\" Lynch\",\"name\":\"John Tui\"},{\"character\":\"Sampson JOOD Strodell\",\"name\":\"Jerry Ferrara\"},{\"character\":\"NASA Director\",\"name\":\"David Jensen\"},{\"character\":\"JPJ 2nd Gunner\",\"name\":\"Peter Berg\"},{\"character\":\"Dr. Nogrady\",\"name\":\"Adam Godley\"},{\"character\":\"Captain Browley\",\"name\":\"Rico McClinton\"},{\"character\":\"Chief Engineer Hiroki\",\"name\":\"Joji Yoshida\"},{\"character\":\"JPJ OOD\",\"name\":\"Stephen Bishop\"},{\"character\":\"JPJ Fireman\",\"name\":\"Austin Naulty\"},{\"character\":\"JPJ Scat\",\"name\":\"James Rawlings\"},{\"character\":\"Electronic Warfare Supervisor\",\"name\":\"Dustin J. Reno\"},{\"character\":\"Chairman, Joint Chiefs of Staff\",\"name\":\"Rick Hoffman\"},{\"character\":\"Air Force Chief of Staff\",\"name\":\"Gary Grubbs\"},{\"character\":\"Watch Officer\",\"name\":\"Rami Malek\"},{\"character\":\"Secretary of Defense\",\"name\":\"Peter MacNicol\"},{\"character\":\"Bartender\",\"name\":\"Louis Lombardi\"},{\"character\":\"JPJ Sailor\",\"name\":\"Jordan Kirkwood\"},{\"character\":\"CIC Watch Supervisor\",\"name\":\"Doug Penty\"},{\"character\":\"CIC Gunner\",\"name\":\"Carson Aune\"},{\"character\":\"Combat Systems Coordinator\",\"name\":\"Josh Pence\"},{\"character\":\"JPJ Port Gunner\",\"name\":\"Lloyd Pitts\"},{\"character\":\"British Newscaster\",\"name\":\"Michelle Arthur\"},{\"character\":\"Spanish Newscaster\",\"name\":\"Natalia Castellanos\"},{\"character\":\"Japanese Newscaster\",\"name\":\"Leni Ito\"},{\"character\":\"Jackie Johnson\",\"name\":\"Jackie Johnson\"},{\"character\":\"Cal's Female Colleague\",\"name\":\"Kerry Cahill\"},{\"character\":\"Old Salt\",\"name\":\"Norman Vincent McLafferty\"},{\"character\":\"JPJ XO Mullenaro\",\"name\":\"Dante Jimenez\"},{\"character\":\"JPJ Helmsman\",\"name\":\"Daven Arce\"},{\"character\":\"JPJ Starboard Gunner\",\"name\":\"Ralph Richardson\"},{\"character\":\"JPJ BMOW\",\"name\":\"Biunca Love\"},{\"character\":\"Regent Sea Commander\",\"name\":\"Kyle Russell Clements\"},{\"character\":\"Myoko XO\",\"name\":\"Yutaka Takeuchi\"},{\"character\":\"JPJ Sailor\",\"name\":\"John A Weaver\"},{\"character\":\"Sampson OOD\",\"name\":\"Dane Justman\"},{\"character\":\"Sampson XO\",\"name\":\"Drew Rausch\"},{\"character\":\"Marine Commandant\",\"name\":\"Bill Stinchcomb\"}],\"release_year\":2012}\n",
      "{\"budget\":0,\"genres\":[\"Comedy\"],\"keywords\":[\"independent film\"],\"original_language\":\"en\",\"overview\":\"\\u201cThe Living Wake\\u201d is a dark comedy set in a timeless storybook universe. Self-proclaimed artist and genius, K. Roth Binew, has one day to live. He has enlisted his best and only friend, Mills Joquin, to take him around on a bicycle powered rickshaw. In a final attempt to probe life\\u2019s deepest mysteries, Binew endures one ridiculous trial after the next. He concludes his day with a final performance, his living wake. On a makeshift stage in an open field, Binew\\u2019s friends and enemies gather to witness his madness one final time.\",\"popularity\":0.383442,\"release_date\":1167609600000,\"revenue\":0,\"runtime\":91.0,\"spoken_languages\":[],\"title\":\"The Living Wake\",\"cast\":[{\"character\":\"Mills\",\"name\":\"Jesse Eisenberg\"},{\"character\":\"K. Roth Binew\",\"name\":\"Mike O'Connell\"},{\"character\":\"Lampert Binew\",\"name\":\"Jim Gaffigan\"},{\"character\":\"Librarian\",\"name\":\"Ann Dowd\"},{\"character\":\"Prostitute\",\"name\":\"Colombe Jacobsen-Derstine\"},{\"character\":\"Reginald\",\"name\":\"Eddie Pepitone\"}],\"release_year\":2007}\n",
      "{\"budget\":2627000,\"genres\":[\"Drama\",\"Romance\",\"War\"],\"keywords\":[\"pilot\",\"airplane\",\"ghost\"],\"original_language\":\"en\",\"overview\":\"Pete Sandidge (Tracy), a daredevil bomber pilot, dies when he crashes his plane into a German aircraft carrier, leaving his devoted girlfriend, Dorinda (Irene Dunne), who is also a pilot, heartbroken. In heaven, Pete receives a new assignment: he is to become the guardian angel for Ted Randall (Van Johnson), a young Army flyer. Invisibly, Pete guides Ted through flight school and into combat, but the ectoplasmic mentor's tolerance is tested when Ted falls for Dorinda. Ultimately, however, Pete not only comes to terms with their relationship but also acts as Dorinda's copilot when she undertakes a dangerous bombing raid, so that Ted won't have to. Remade by Steven Speilberg in 1989 as ALWAYS\",\"popularity\":0.531444,\"release_date\":-815356800000,\"revenue\":5363000,\"runtime\":120.0,\"spoken_languages\":[\"English\"],\"title\":\"A Guy Named Joe\",\"cast\":[{\"character\":\"Pete Sandidge\",\"name\":\"Spencer Tracy\"},{\"character\":\"Dorinda Durston\",\"name\":\"Irene Dunne\"},{\"character\":\"Ted Randall\",\"name\":\"Van Johnson\"},{\"character\":\"Al Yackey\",\"name\":\"Ward Bond\"},{\"character\":\"'Nails' Kilpatrick\",\"name\":\"James Gleason\"},{\"character\":\"The General\",\"name\":\"Lionel Barrymore\"},{\"character\":\"Dick Rumney\",\"name\":\"Barry Nelson\"},{\"character\":\"Ellen Bright\",\"name\":\"Esther Williams\"},{\"character\":\"Col. Sykes\",\"name\":\"Henry O'Neill\"},{\"character\":\"James J. Rourke\",\"name\":\"Don DeFore\"},{\"character\":\"Sanderson\",\"name\":\"Charles Smith\"},{\"character\":\"Maj. Corbett\",\"name\":\"Addison Richards\"},{\"character\":\"Henderson\",\"name\":\"Irving Bacon\"},{\"character\":\"Girlfriend of Rourke\",\"name\":\"Eve Whitney\"}],\"release_year\":1944}\n",
      "{\"budget\":6500000,\"genres\":[\"Comedy\",\"Drama\"],\"keywords\":[\"father son relationship\",\"capitalism\",\"based on novel\",\"smoking\",\"lie\",\"cigarette\",\"research\",\"law\",\"health\",\"marketing\",\"politics\",\"politician\",\"tobacco\",\"liar\",\"dark comedy\",\"cancer\",\"independent film\",\"money\",\"morality\",\"social satire\",\"cigarette smoking\",\"business\",\"advertising\",\"guilt\",\"humiliation\",\"lobby\",\"bribe\",\"corporation\",\"lung cancer\",\"lobbyist\",\"tobacco industry\",\"nicotine\"],\"original_language\":\"en\",\"overview\":\"The chief spokesperson and lobbyist Nick Naylor is the Vice-President of the Academy of Tobacco Studies. He is talented in speaking and spins argument to defend the cigarette industry in the most difficult situations. His best friends are Polly Bailey that works in the Moderation Council in alcohol business, and Bobby Jay Bliss of the gun business own advisory group SAFETY. They frequently meet each other in a bar and they self-entitle the Mod Squad a.k.a. Merchants of Death, disputing which industry has killed more people. Nick's greatest enemy is Vermont's Senator Ortolan Finistirre, who defends in the Senate the use a skull and crossed bones in the cigarette packs. Nick's son Joey Naylor lives with his mother, and has the chance to know his father in a business trip. When the ambitious reporter Heather Holloway betrays Nick disclosing confidences he had in bed with her, his life turns upside-down. But Nick is good in what he does for the mortgage.\",\"popularity\":29.01153,\"release_date\":1125878400000,\"revenue\":24793509,\"runtime\":92.0,\"spoken_languages\":[\"English\"],\"title\":\"Thank You for Smoking\",\"cast\":[{\"character\":\"Nick Naylor\",\"name\":\"Aaron Eckhart\"},{\"character\":\"Polly Bailey\",\"name\":\"Maria Bello\"},{\"character\":\"Joey Naylor\",\"name\":\"Cameron Bright\"},{\"character\":\"Jack\",\"name\":\"Adam Brody\"},{\"character\":\"Lorne Lutch\",\"name\":\"Sam Elliott\"},{\"character\":\"Heather Holloway\",\"name\":\"Katie Holmes\"},{\"character\":\"Jeff Megall\",\"name\":\"Rob Lowe\"},{\"character\":\"Senator Ortolan Finistirre\",\"name\":\"William H. Macy\"},{\"character\":\"The Captain\",\"name\":\"Robert Duvall\"},{\"character\":\"Bobby Jay Bliss\",\"name\":\"David Koechner\"},{\"character\":\"BR\",\"name\":\"J.K. Simmons\"},{\"character\":\"Jill Naylor\",\"name\":\"Kim Dickens\"},{\"character\":\"Pearl\",\"name\":\"Connie Ray\"},{\"character\":\"Joan Lunden\",\"name\":\"Joan Lunden\"},{\"character\":\"Sue Maclean\",\"name\":\"Mary Jo Smith\"},{\"character\":\"Ron Goode\",\"name\":\"Todd Louiso\"},{\"character\":\"Kidnapper\",\"name\":\"Jeff Witzke\"},{\"character\":\"Teacher\",\"name\":\"Marianne Muellerleile\"},{\"character\":\"Kid #2\",\"name\":\"Jordan Garrett\"},{\"character\":\"Kid #3\",\"name\":\"Courtney Taylor Burness\"},{\"character\":\"Brad\",\"name\":\"Daniel Travis\"},{\"character\":\"Trainee\",\"name\":\"Richard Speight Jr.\"},{\"character\":\"Tiffany\",\"name\":\"Ren\\u00e9e Graham\"},{\"character\":\"EGO Assistant\",\"name\":\"Timothy Dowling\"},{\"character\":\"Dennis Miller\",\"name\":\"Dennis Miller\"},{\"character\":\"Ski Mask #1\",\"name\":\"Terry James\"},{\"character\":\"Ski Mask #2\",\"name\":\"Marc Scizak\"},{\"character\":\"Flighty Girl\",\"name\":\"Rachel Thorp\"},{\"character\":\"Doctor\",\"name\":\"Aaron Lustig\"},{\"character\":\"Interviewer\",\"name\":\"Melora Hardin\"},{\"character\":\"FBI Agent (voice)\",\"name\":\"Brian Palermo\"},{\"character\":\"Dr. Meisenbach\",\"name\":\"Michael Mantell\"},{\"character\":\"Senator Lothridge\",\"name\":\"Spencer Garrett\"},{\"character\":\"Senator Dupree\",\"name\":\"Earl Billings\"},{\"character\":\"Reporter #1\",\"name\":\"Catherine Reitman\"},{\"character\":\"Reporter #2\",\"name\":\"Sean Patrick Murphy\"},{\"character\":\"Oil Lobbyist\",\"name\":\"David O. Sacks\"},{\"character\":\"Nancy Humphries O'Dell\",\"name\":\"Nancy O'Dell\"},{\"character\":\"Debate Moderator\",\"name\":\"Roy Jenkins\"},{\"character\":\"Gentleman #2\",\"name\":\"Bruce French\"},{\"character\":\"Man at Metro Station (uncredited)\",\"name\":\"Christopher Buckley\"},{\"character\":\"Hotel Phone Operator (voice) (uncredited)\",\"name\":\"Dana E. Glauberman\"},{\"character\":\"Flight Attendant (uncredited)\",\"name\":\"Eva La Dare\"},{\"character\":\"Peter (uncredited)\",\"name\":\"Robert Malina\"},{\"character\":\"Gizelle (voice) (uncredited)\",\"name\":\"Aloma Wright\"}],\"release_year\":2005}\n",
      "{\"budget\":3000000,\"genres\":[\"Comedy\",\"Drama\",\"Romance\"],\"keywords\":[\"new york\",\"new year's eve\",\"lovesickness\",\"age difference\",\"suicide attempt\",\"office\",\"flat\",\"spaghetti\",\"christmas party\",\"winter\",\"clerk\",\"tennis racket\",\"romantic comedy\",\"extramarital affair\"],\"original_language\":\"en\",\"overview\":\"Bud Baxter is a minor clerk in a huge New York insurance company, until he discovers a quick way to climb the corporate ladder. He lends out his apartment to the executives as a place to take their mistresses. Although he often has to deal with the aftermath of their visits, one night he's left with a major problem to solve.\",\"popularity\":22.889294,\"release_date\":-301276800000,\"revenue\":25000000,\"runtime\":125.0,\"spoken_languages\":[\"English\"],\"title\":\"The Apartment\",\"cast\":[{\"character\":\"C.C. Baxter\",\"name\":\"Jack Lemmon\"},{\"character\":\"Fran Kubelik\",\"name\":\"Shirley MacLaine\"},{\"character\":\"Jeff D. Sheldrake\",\"name\":\"Fred MacMurray\"},{\"character\":\"Joe Dobisch\",\"name\":\"Ray Walston\"},{\"character\":\"Dr. Dreyfuss\",\"name\":\"Jack Kruschen\"},{\"character\":\"Mrs. Mildred Dreyfuss\",\"name\":\"Naomi Stevens\"},{\"character\":\"Mrs. Margie MacDougall\",\"name\":\"Hope Holiday\"},{\"character\":\"Miss Olsen\",\"name\":\"Edie Adams\"},{\"character\":\"Sylvia\",\"name\":\"Joan Shawlee\"},{\"character\":\"Karl Matuschka\",\"name\":\"Johnny Seven\"},{\"character\":\"Al Kirkeby\",\"name\":\"David Lewis\"},{\"character\":\"The Blonde\",\"name\":\"Joyce Jameson\"},{\"character\":\"Mr. Vanderhoff\",\"name\":\"Willard Waterman\"},{\"character\":\"Mr. Eichelberger\",\"name\":\"David White\"},{\"character\":\"Office Worker (uncredited)\",\"name\":\"Dorothy Abbott\"},{\"character\":\"Office Worker (uncredited)\",\"name\":\"Ralph Moratz\"},{\"character\":\"Office Maintenance Man (uncredited)\",\"name\":\"Joe Palma\"},{\"character\":\"TV Movie Host (uncredited)\",\"name\":\"Bill Baldwin\"},{\"character\":\"Charlie - Bartender (uncredited)\",\"name\":\"Benny Burt\"},{\"character\":\"Elevator Supervisor with Clicker (uncredited)\",\"name\":\"Lynn Cartwright\"},{\"character\":\"Bit Part (uncredited)\",\"name\":\"Mason Curry\"},{\"character\":\"Messenger (uncredited)\",\"name\":\"David Macklin\"},{\"character\":\"Man in Santa Claus Suit (uncredited)\",\"name\":\"Hal Smith\"}],\"release_year\":1960}\n",
      "{\"budget\":25000000,\"genres\":[\"Drama\"],\"keywords\":[\"baseball\",\"sport\",\"duringcreditsstinger\"],\"original_language\":\"en\",\"overview\":\"In a last-ditch effort to save his career, sports agent JB Bernstein (Jon Hamm) dreams up a wild game plan to find Major League Baseball\\u2019s next great pitcher from a pool of cricket players in India. He soon discovers two young men who can throw a fastball but know nothing about the game of baseball. Or America. It\\u2019s an incredible and touching journey that will change them all \\u2014 especially JB, who learns valuable lessons about teamwork, commitment and family.\",\"popularity\":17.312433,\"release_date\":1399593600000,\"revenue\":38307627,\"runtime\":124.0,\"spoken_languages\":[\"\\u0939\\u093f\\u0928\\u094d\\u0926\\u0940\",\"English\"],\"title\":\"Million Dollar Arm\",\"cast\":[{\"character\":\"J. B. Bernstein\",\"name\":\"Jon Hamm\"},{\"character\":\"Tom House\",\"name\":\"Bill Paxton\"},{\"character\":\"Brenda Paauwe\",\"name\":\"Lake Bell\"},{\"character\":\"Rinku\",\"name\":\"Suraj Sharma\"},{\"character\":\"Ash Vasudevan\",\"name\":\"Aasif Mandvi\"},{\"character\":\"Dinesh\",\"name\":\"Madhur Mittal\"},{\"character\":\"Amit\",\"name\":\"Pitobash\"},{\"character\":\"Ray Arkin\",\"name\":\"Alan Arkin\"},{\"character\":\"Lisette\",\"name\":\"Bar Paly\"},{\"character\":\"Pete\",\"name\":\"Al Sapienza\"},{\"character\":\"Chang\",\"name\":\"Tzi Ma\"},{\"character\":\"Theresa\",\"name\":\"Allyn Rachel\"},{\"character\":\"Indian Reporter\",\"name\":\"Ravi Naidu\"},{\"character\":\"Hot Girl\",\"name\":\"Gabriela Lopez\"}],\"release_year\":2014}\n",
      "{\"budget\":0,\"genres\":[\"Action\",\"Comedy\",\"Science Fiction\"],\"keywords\":[],\"original_language\":\"en\",\"overview\":\" \",\"popularity\":0.0206,\"release_date\":1104537600000,\"revenue\":0,\"runtime\":97.0,\"spoken_languages\":[\"English\"],\"title\":\"The Helix... Loaded\",\"cast\":[],\"release_year\":2005}\n",
      "{\"budget\":31000000,\"genres\":[\"Drama\"],\"keywords\":[\"confession\",\"airplane\",\"f word\",\"hangover\",\"airplane crash\",\"syringe\",\"denial\",\"porn actress\",\"jesus freak\",\"baseball stadium\",\"perjury\",\"national transportation safety board\",\"flying upside down\",\"narcissist\",\"relapse\",\"substance abuse\"],\"original_language\":\"en\",\"overview\":\"Commercial airline pilot Whip Whitaker has a problem with drugs and alcohol, though so far he's managed to complete his flights safely. His luck runs out when a disastrous mechanical malfunction sends his plane hurtling toward the ground. Whip pulls off a miraculous crash-landing that results in only six lives lost. Shaken to the core, Whip vows to get sober -- but when the crash investigation exposes his addiction, he finds himself in an even worse situation.\",\"popularity\":42.213765,\"release_date\":1351814400000,\"revenue\":161772375,\"runtime\":138.0,\"spoken_languages\":[\"English\"],\"title\":\"Flight\",\"cast\":[{\"character\":\"Whip Whitaker\",\"name\":\"Denzel Washington\"},{\"character\":\"Hugh Lang\",\"name\":\"Don Cheadle\"},{\"character\":\"Charlie Anderson\",\"name\":\"Bruce Greenwood\"},{\"character\":\"Nicole\",\"name\":\"Kelly Reilly\"},{\"character\":\"Harling Mays\",\"name\":\"John Goodman\"},{\"character\":\"Ken Evans\",\"name\":\"Brian Geraghty\"},{\"character\":\"Katerina Marquez\",\"name\":\"Nadine Velazquez\"},{\"character\":\"Margaret Thomason\",\"name\":\"Tamara Tunie\"},{\"character\":\"Ellen Block\",\"name\":\"Melissa Leo\"},{\"character\":\"Deana\",\"name\":\"Garcelle Beauvais\"},{\"character\":\"Will Whitaker Jr.\",\"name\":\"Justin Martin\"},{\"character\":\"Avington Carr\",\"name\":\"Peter Gerety\"},{\"character\":\"Man in Hallway\",\"name\":\"James Badge Dale\"},{\"character\":\"Peach Tree Employee\",\"name\":\"Sharon Blackwood\"},{\"character\":\"Son on Plane\",\"name\":\"Carter Cabassa\"},{\"character\":\"Field Reporter\",\"name\":\"John Crow\"},{\"character\":\"Derek Hogue\",\"name\":\"Dane Davenport\"},{\"character\":\"\",\"name\":\"Piers Morgan\"}],\"release_year\":2012}\n",
      "{\"budget\":35000000,\"genres\":[\"Animation\",\"Family\",\"Adventure\"],\"keywords\":[\"animation\",\"animal\",\"3d\"],\"original_language\":\"en\",\"overview\":\"The animated comedy tells the story of a lowly wood pigeon named Valiant, who overcomes his small size to become a hero in Great Britain's Royal Air Force Homing Pigeon Service during World War II. The RHPS advanced the Allied cause by flying vital messages about enemy movements across the English Channel, whilst evading brutal attacks by the enemy's Falcon Brigade.\",\"popularity\":14.051852,\"release_date\":1111708800000,\"revenue\":19478106,\"runtime\":76.0,\"spoken_languages\":[\"English\"],\"title\":\"Valiant\",\"cast\":[{\"character\":\"Valiant (voice)\",\"name\":\"Ewan McGregor\"},{\"character\":\"Bugsy (voice)\",\"name\":\"Ricky Gervais\"},{\"character\":\"Von Talon (voice)\",\"name\":\"Tim Curry\"},{\"character\":\"Sergeant (voice)\",\"name\":\"Jim Broadbent\"},{\"character\":\"Gutsy (voice)\",\"name\":\"Hugh Laurie\"},{\"character\":\"Mercury (voice)\",\"name\":\"John Cleese\"},{\"character\":\"Felix (voice)\",\"name\":\"John Hurt\"},{\"character\":\"Lofty (voice)\",\"name\":\"Pip Torrens\"},{\"character\":\"Cufflingk (voice)\",\"name\":\"Rik Mayall\"},{\"character\":\"Victoria (voice)\",\"name\":\"Olivia Williams\"},{\"character\":\"Big Thug (voice)\",\"name\":\"Jonathan Ross\"},{\"character\":\"Toughwood (voice)\",\"name\":\"Brian Lonsdale\"},{\"character\":\"Tailfeather (voice)\",\"name\":\"Dan Roberts\"},{\"character\":\"Underlingk (voice)\",\"name\":\"Michael Schlingmann\"},{\"character\":\"Charles De Girl\",\"name\":\"Sharon Horgan\"}],\"release_year\":2005}\n",
      "\n"
     ]
    }
   ],
   "source": [
    "res = query_movie_db(\"air bud\")\n",
    "print(res[\"llm_consumable\"])"
   ]
  },
  {
   "cell_type": "code",
   "execution_count": 8,
   "id": "e5fb396a",
   "metadata": {},
   "outputs": [
    {
     "data": {
      "text/plain": [
       "budget               3500000                                                                                                                                                                                                                                                                                                                                                                                                                                                                                                                                                                                                                                                                                                                                                                                                                                                                                                                                                                                                                                                                                                                                                                                                                                                                                                                        \n",
       "genres               [Comedy]                                                                                                                                                                                                                                                                                                                                                                                                                                                                                                                                                                                                                                                                                                                                                                                                                                                                                                                                                                                                                                                                                                                                                                                                                                                                                                                       \n",
       "keywords             [chicago, alcohol, cataclysm, guitar, medicine, taxi driver, passenger, saxophone, stewardess, pilot, airplane, fear of flying, air controller, landing, autopilot, kiss, spoof, los angeles, alcohol abuse, aftercreditsstinger, anarchic comedy]                                                                                                                                                                                                                                                                                                                                                                                                                                                                                                                                                                                                                                                                                                                                                                                                                                                                                                                                                                                                                                                                             \n",
       "original_language    en                                                                                                                                                                                                                                                                                                                                                                                                                                                                                                                                                                                                                                                                                                                                                                                                                                                                                                                                                                                                                                                                                                                                                                                                                                                                                                                             \n",
       "overview             Alcoholic pilot, Ted Striker has developed a fear of flying due to wartime trauma, but nevertheless boards a passenger jet in an attempt to woo back his stewardess girlfriend. Food poisoning decimates the passengers and crew, leaving it up to Striker to land the plane with the help of a glue-sniffing air traffic controller and Striker's vengeful former Air Force captain, who must both talk him down.                                                                                                                                                                                                                                                                                                                                                                                                                                                                                                                                                                                                                                                                                                                                                                                                                                                                                                             \n",
       "popularity           46.116885                                                                                                                                                                                                                                                                                                                                                                                                                                                                                                                                                                                                                                                                                                                                                                                                                                                                                                                                                                                                                                                                                                                                                                                                                                                                                                                      \n",
       "release_date         1980-07-02                                                                                                                                                                                                                                                                                                                                                                                                                                                                                                                                                                                                                                                                                                                                                                                                                                                                                                                                                                                                                                                                                                                                                                                                                                                                                                                     \n",
       "revenue              83453539                                                                                                                                                                                                                                                                                                                                                                                                                                                                                                                                                                                                                                                                                                                                                                                                                                                                                                                                                                                                                                                                                                                                                                                                                                                                                                                       \n",
       "runtime              88.0                                                                                                                                                                                                                                                                                                                                                                                                                                                                                                                                                                                                                                                                                                                                                                                                                                                                                                                                                                                                                                                                                                                                                                                                                                                                                                                           \n",
       "spoken_languages     [English]                                                                                                                                                                                                                                                                                                                                                                                                                                                                                                                                                                                                                                                                                                                                                                                                                                                                                                                                                                                                                                                                                                                                                                                                                                                                                                                      \n",
       "title                Airplane!                                                                                                                                                                                                                                                                                                                                                                                                                                                                                                                                                                                                                                                                                                                                                                                                                                                                                                                                                                                                                                                                                                                                                                                                                                                                                                                      \n",
       "cast                 [{'character': 'Ted Striker', 'name': 'Robert Hays'}, {'character': 'Elaine', 'name': 'Julie Hagerty'}, {'character': 'Murdock', 'name': 'Kareem Abdul-Jabbar'}, {'character': 'McCroskey', 'name': 'Lloyd Bridges'}, {'character': 'Captain Oveur', 'name': 'Peter Graves'}, {'character': 'Dr. Rumack', 'name': 'Leslie Nielsen'}, {'character': 'Randy', 'name': 'Lorna Patterson'}, {'character': 'Rex Kramer', 'name': 'Robert Stack'}, {'character': 'Johnny', 'name': 'Stephen Stucker'}, {'character': 'Religious zealot #6', 'name': 'Jim Abrahams'}, {'character': 'Victor Basta', 'name': 'Frank Ashmore'}, {'character': 'Gunderson', 'name': 'Jonathan Banks'}, {'character': 'Paul Carey', 'name': 'Craig Berenson'}, {'character': 'Jive Lady', 'name': 'Barbara Billingsley'}, {'character': 'Mrs. Hammen', 'name': 'Lee Bryant'}, {'character': 'Mrs. Davis', 'name': 'Joyce Bulifant'}, {'character': 'Security Lady', 'name': 'Mae E. Campbell'}, {'character': 'Lieutenant Hurwitz', 'name': 'Ethel Merman'}, {'character': 'Windshield Wiper Man', 'name': 'Jimmie Walker'}, {'character': 'Lisa Davis', 'name': 'Jill Whelan'}, {'character': '', 'name': 'Kitten Natividad'}, {'character': 'Cocaine Lady', 'name': 'Nora Meerbaum'}, {'character': 'Air Controller Neubauer', 'name': 'Kenneth Tobey'}]\n",
       "release_year         1980                                                                                                                                                                                                                                                                                                                                                                                                                                                                                                                                                                                                                                                                                                                                                                                                                                                                                                                                                                                                                                                                                                                                                                                                                                                                                                                           \n",
       "Name: 0, dtype: object"
      ]
     },
     "execution_count": 8,
     "metadata": {},
     "output_type": "execute_result"
    }
   ],
   "source": [
    "res[\"ui_displayable\"].iloc[0]"
   ]
  },
  {
   "cell_type": "markdown",
   "id": "4d6cc252",
   "metadata": {},
   "source": [
    "## Creating a JSON schema\n",
    "\n",
    "We need to create a JSON schema for our tools so that the LLM knows what each tool does and how to use it."
   ]
  },
  {
   "cell_type": "code",
   "execution_count": 11,
   "id": "4405bd1b",
   "metadata": {},
   "outputs": [],
   "source": [
    "# We create a BaseModel for the arguments to our function to easily create a JSON schema\n",
    "class QueryMovieDB(BaseModel):\n",
    "    text: str = Field(\n",
    "        description=\"Query overviews of movies\",\n",
    "    )\n",
    "    limit: int = Field(\n",
    "        default=10,\n",
    "        description=\"Number of results to return\",\n",
    "    )"
   ]
  },
  {
   "cell_type": "code",
   "execution_count": 12,
   "id": "2391e2dd",
   "metadata": {},
   "outputs": [
    {
     "data": {
      "text/plain": [
       "{'type': 'function',\n",
       " 'function': {'name': 'query_movie_db',\n",
       "  'description': 'Query the LanceDB movie database for movies with similar overviews to the input text.',\n",
       "  'parameters': {'properties': {'text': {'description': 'Query overviews of movies',\n",
       "     'title': 'Text',\n",
       "     'type': 'string'},\n",
       "    'limit': {'default': 10,\n",
       "     'description': 'Number of results to return',\n",
       "     'title': 'Limit',\n",
       "     'type': 'integer'}},\n",
       "   'required': ['text'],\n",
       "   'title': 'QueryMovieDB',\n",
       "   'type': 'object'}}}"
      ]
     },
     "execution_count": 12,
     "metadata": {},
     "output_type": "execute_result"
    }
   ],
   "source": [
    "schema = create_tool_schema_for_function(query_movie_db, QueryMovieDB)\n",
    "schema"
   ]
  },
  {
   "cell_type": "markdown",
   "id": "d8a143f7",
   "metadata": {},
   "source": [
    "## Hugging Face InferenceClient\n",
    "\n",
    "* [Hugging Face InferenceClient Function Calling](https://huggingface.co/docs/hugs/en/guides/function-calling)"
   ]
  },
  {
   "cell_type": "code",
   "execution_count": 13,
   "id": "005c50ec",
   "metadata": {},
   "outputs": [],
   "source": [
    "hf_token = os.getenv(\"HF_TOKEN\")\n",
    "if hf_token is None:\n",
    "    raise ValueError(\"HF_TOKEN environment variable not set\")\n",
    "\n",
    "hf_client = AsyncInferenceClient(\n",
    "    provider=\"fireworks-ai\",\n",
    "    api_key=hf_token,\n",
    ")"
   ]
  },
  {
   "cell_type": "code",
   "execution_count": 14,
   "id": "1a15f441",
   "metadata": {},
   "outputs": [
    {
     "name": "stdout",
     "output_type": "stream",
     "text": [
      "[ChatCompletionOutputToolCall(function=ChatCompletionOutputFunctionDefinition(arguments='{\"text\": \"A retired assassin who is forced back into the game\", \"limit\": 10}', name='query_movie_db', description=None), id='call_GtVrMe6Uc8tzbV4wP4JM3wsQ', type='function', index=0)]\n"
     ]
    }
   ],
   "source": [
    "messages = [\n",
    "    {\n",
    "        \"role\": \"system\",\n",
    "        \"content\": \"Don't make assumptions about values. Ask for clarification if needed.\",\n",
    "    },\n",
    "    {\n",
    "        \"role\": \"user\",\n",
    "        \"content\": \"I'd like to watch a movie about a retired assassin who is forced back into the game. /no_think\",\n",
    "    },\n",
    "]\n",
    "\n",
    "response = await hf_client.chat_completion(\n",
    "    model=\"Qwen/Qwen3-235B-A22B\",\n",
    "    messages=messages,\n",
    "    tools=[schema],\n",
    "    tool_choice=\"auto\",  # allow the model to choose to call tool, if any; others options: \"required\": call one or more tools\n",
    ")  # type: ignore\n",
    "print(response.choices[0].message.tool_calls)\n"
   ]
  },
  {
   "cell_type": "code",
   "execution_count": null,
   "id": "c100ab5f",
   "metadata": {},
   "outputs": [
    {
     "data": {
      "text/plain": [
       "ChatCompletionOutputMessage(role='assistant', content='<think>\\n\\n</think>\\n\\n', tool_call_id=None, tool_calls=[ChatCompletionOutputToolCall(function=ChatCompletionOutputFunctionDefinition(arguments='{\"text\": \"a retired assassin who is forced back into the game\", \"limit\": 10}', name='query_movie_db', description=None), id='call_s2FqSYpNMohv6sJluEiafAeO', type='function', index=0)])"
      ]
     },
     "execution_count": 55,
     "metadata": {},
     "output_type": "execute_result"
    }
   ],
   "source": [
    "response.choices[0].message"
   ]
  },
  {
   "cell_type": "code",
   "execution_count": 60,
   "id": "3942dff3",
   "metadata": {},
   "outputs": [
    {
     "data": {
      "text/plain": [
       "'ChatCompletionOutputFunctionDefinition(arguments=\\'{\"text\": \"a retired assassin who is forced back into the game\", \"limit\": 10}\\', name=\\'query_movie_db\\', description=None)'"
      ]
     },
     "execution_count": 60,
     "metadata": {},
     "output_type": "execute_result"
    }
   ],
   "source": [
    "str(response.choices[0].message.tool_calls[0].function)"
   ]
  },
  {
   "cell_type": "code",
   "execution_count": 56,
   "id": "495b52e5",
   "metadata": {},
   "outputs": [
    {
     "data": {
      "text/plain": [
       "ChatCompletionOutputFunctionDefinition(arguments='{\"text\": \"a retired assassin who is forced back into the game\", \"limit\": 10}', name='query_movie_db', description=None)"
      ]
     },
     "execution_count": 56,
     "metadata": {},
     "output_type": "execute_result"
    }
   ],
   "source": [
    "func = response.choices[0].message.tool_calls[0].function\n",
    "func\n"
   ]
  },
  {
   "cell_type": "code",
   "execution_count": 58,
   "id": "19a89ff7",
   "metadata": {},
   "outputs": [
    {
     "name": "stdout",
     "output_type": "stream",
     "text": [
      "call_s2FqSYpNMohv6sJluEiafAeO\n",
      "query_movie_db\n",
      "{'text': 'a retired assassin who is forced back into the game', 'limit': 10}\n"
     ]
    }
   ],
   "source": [
    "print(response.choices[0].message.tool_calls[0].id)\n",
    "print(func.name)\n",
    "print(json.loads(func.arguments))"
   ]
  },
  {
   "cell_type": "code",
   "execution_count": null,
   "id": "0a4e72f5",
   "metadata": {},
   "outputs": [],
   "source": [
    "func.call"
   ]
  },
  {
   "cell_type": "markdown",
   "id": "567f00f5",
   "metadata": {},
   "source": [
    "### Streaming kind of a hassle"
   ]
  },
  {
   "cell_type": "code",
   "execution_count": null,
   "id": "c41249b4",
   "metadata": {},
   "outputs": [
    {
     "name": "stdout",
     "output_type": "stream",
     "text": [
      "ChatCompletionStreamOutput(choices=[ChatCompletionStreamOutputChoice(delta=ChatCompletionStreamOutputDelta(role='assistant', content=None, tool_call_id=None, tool_calls=None), index=0, finish_reason=None, logprobs=None)], created=1747809409.1515565, id='b03f4b31-5eb4-42f4-8376-6fa1715113a5', model='Meta-Llama-3.3-70B-Instruct', system_fingerprint='fastcoe', usage=None, object='chat.completion.chunk')\n",
      "ChatCompletionStreamOutput(choices=[ChatCompletionStreamOutputChoice(delta=ChatCompletionStreamOutputDelta(role='assistant', content=None, tool_call_id=None, tool_calls=[ChatCompletionStreamOutputDeltaToolCall(function=ChatCompletionStreamOutputFunction(arguments='{\"limit\":10,\"text\":\"a retired assassin who is forced back into the game\"}', name='query_movie_db'), id='call_130dc102c3264ccba4', index=None, type='function')]), index=0, finish_reason='tool_calls', logprobs=None)], created=1747809409.1515565, id='b03f4b31-5eb4-42f4-8376-6fa1715113a5', model='Meta-Llama-3.3-70B-Instruct', system_fingerprint='fastcoe', usage=None, object='chat.completion.chunk')\n"
     ]
    }
   ],
   "source": [
    "response = await hf_client.chat_completion(\n",
    "    model=\"Qwen/Qwen3-235B-A22B\",\n",
    "    messages=messages,\n",
    "    tools=[schema],\n",
    "    tool_choice=\"auto\",  # allow the model to choose to call tool, if any; others options: \"required\": call one or more tools\n",
    "    stream=True,\n",
    ")  # type: ignore\n",
    "chunks = []\n",
    "async for chunk in response:\n",
    "    chunks.append(chunk)\n",
    "    print(chunk)"
   ]
  },
  {
   "cell_type": "code",
   "execution_count": 15,
   "id": "7ae5a1d3",
   "metadata": {},
   "outputs": [
    {
     "name": "stdout",
     "output_type": "stream",
     "text": [
      "ChatCompletionStreamOutput(choices=[ChatCompletionStreamOutputChoice(delta=ChatCompletionStreamOutputDelta(role='assistant', content=None, tool_call_id=None, tool_calls=None), index=0, finish_reason=None, logprobs=None)], created=1747836758, id='bf6552b7-d531-48ca-b440-43ce7d408827', model='accounts/fireworks/models/qwen3-235b-a22b', system_fingerprint=None, usage=None, object='chat.completion.chunk')\n",
      "ChatCompletionStreamOutput(choices=[ChatCompletionStreamOutputChoice(delta=ChatCompletionStreamOutputDelta(role=None, content='<think>\\n\\n', tool_call_id=None, tool_calls=None), index=0, finish_reason=None, logprobs=None)], created=1747836758, id='bf6552b7-d531-48ca-b440-43ce7d408827', model='accounts/fireworks/models/qwen3-235b-a22b', system_fingerprint=None, usage=None, object='chat.completion.chunk')\n",
      "ChatCompletionStreamOutput(choices=[ChatCompletionStreamOutputChoice(delta=ChatCompletionStreamOutputDelta(role=None, content='</think>\\n\\n<tool_call>\\n{\"', tool_call_id=None, tool_calls=None), index=0, finish_reason=None, logprobs=None)], created=1747836758, id='bf6552b7-d531-48ca-b440-43ce7d408827', model='accounts/fireworks/models/qwen3-235b-a22b', system_fingerprint=None, usage=None, object='chat.completion.chunk')\n",
      "ChatCompletionStreamOutput(choices=[ChatCompletionStreamOutputChoice(delta=ChatCompletionStreamOutputDelta(role=None, content='name\": \"query_movie_db', tool_call_id=None, tool_calls=None), index=0, finish_reason=None, logprobs=None)], created=1747836758, id='bf6552b7-d531-48ca-b440-43ce7d408827', model='accounts/fireworks/models/qwen3-235b-a22b', system_fingerprint=None, usage=None, object='chat.completion.chunk')\n",
      "ChatCompletionStreamOutput(choices=[ChatCompletionStreamOutputChoice(delta=ChatCompletionStreamOutputDelta(role=None, content='\", \"arguments\": {\"text', tool_call_id=None, tool_calls=None), index=0, finish_reason=None, logprobs=None)], created=1747836758, id='bf6552b7-d531-48ca-b440-43ce7d408827', model='accounts/fireworks/models/qwen3-235b-a22b', system_fingerprint=None, usage=None, object='chat.completion.chunk')\n",
      "ChatCompletionStreamOutput(choices=[ChatCompletionStreamOutputChoice(delta=ChatCompletionStreamOutputDelta(role=None, content='\": \"superheroes\", \"', tool_call_id=None, tool_calls=None), index=0, finish_reason=None, logprobs=None)], created=1747836758, id='bf6552b7-d531-48ca-b440-43ce7d408827', model='accounts/fireworks/models/qwen3-235b-a22b', system_fingerprint=None, usage=None, object='chat.completion.chunk')\n",
      "ChatCompletionStreamOutput(choices=[ChatCompletionStreamOutputChoice(delta=ChatCompletionStreamOutputDelta(role=None, content='limit\": 10}}\\n', tool_call_id=None, tool_calls=None), index=0, finish_reason=None, logprobs=None)], created=1747836758, id='bf6552b7-d531-48ca-b440-43ce7d408827', model='accounts/fireworks/models/qwen3-235b-a22b', system_fingerprint=None, usage=None, object='chat.completion.chunk')\n",
      "ChatCompletionStreamOutput(choices=[ChatCompletionStreamOutputChoice(delta=ChatCompletionStreamOutputDelta(role=None, content='</think>\\n\\n', tool_call_id=None, tool_calls=None), index=0, finish_reason=None, logprobs=None)], created=1747836758, id='bf6552b7-d531-48ca-b440-43ce7d408827', model='accounts/fireworks/models/qwen3-235b-a22b', system_fingerprint=None, usage=None, object='chat.completion.chunk')\n",
      "ChatCompletionStreamOutput(choices=[ChatCompletionStreamOutputChoice(delta=ChatCompletionStreamOutputDelta(role=None, content=None, tool_call_id=None, tool_calls=[ChatCompletionStreamOutputDeltaToolCall(function=ChatCompletionStreamOutputFunction(arguments=None, name='query_movie_db'), id='call_1GAzwg0mlSykIN3zgHMnmTU4', index=0, type='function')]), index=0, finish_reason=None, logprobs=None)], created=1747836758, id='bf6552b7-d531-48ca-b440-43ce7d408827', model='accounts/fireworks/models/qwen3-235b-a22b', system_fingerprint=None, usage=None, object='chat.completion.chunk')\n",
      "ChatCompletionStreamOutput(choices=[ChatCompletionStreamOutputChoice(delta=ChatCompletionStreamOutputDelta(role=None, content=None, tool_call_id=None, tool_calls=[ChatCompletionStreamOutputDeltaToolCall(function=ChatCompletionStreamOutputFunction(arguments='{\"text\": \"superheroes\", \"limit\": 10}', name=None), id='call_1GAzwg0mlSykIN3zgHMnmTU4', index=0, type='function')]), index=0, finish_reason=None, logprobs=None)], created=1747836758, id='bf6552b7-d531-48ca-b440-43ce7d408827', model='accounts/fireworks/models/qwen3-235b-a22b', system_fingerprint=None, usage=None, object='chat.completion.chunk')\n",
      "ChatCompletionStreamOutput(choices=[ChatCompletionStreamOutputChoice(delta=ChatCompletionStreamOutputDelta(role=None, content=None, tool_call_id=None, tool_calls=None), index=0, finish_reason='stop', logprobs=None)], created=1747836758, id='bf6552b7-d531-48ca-b440-43ce7d408827', model='accounts/fireworks/models/qwen3-235b-a22b', system_fingerprint=None, usage=ChatCompletionStreamOutputUsage(completion_tokens=33, prompt_tokens=244, total_tokens=277), object='chat.completion.chunk')\n"
     ]
    }
   ],
   "source": [
    "messages = [\n",
    "    {\n",
    "        \"role\": \"system\",\n",
    "        \"content\": \"You are a helpful assistant. Only query the database if you are sure it is needed.\",\n",
    "    },\n",
    "    {\n",
    "        \"role\": \"user\",\n",
    "        \"content\": \"I want to watch a movie about superheroes. /no_think\",\n",
    "    },\n",
    "]\n",
    "response = await hf_client.chat.completions.create(\n",
    "    model=\"Qwen/Qwen3-235B-A22B\",\n",
    "    messages=messages,\n",
    "    tools=[schema],\n",
    "    tool_choice=\"auto\",  # allow the model to choose to call tool, if any; others options: \"required\": call one or more tools\n",
    "    stream=True,\n",
    ")  # type: ignore\n",
    "chunks = []\n",
    "async for chunk in response:\n",
    "    chunks.append(chunk)\n",
    "    print(chunk)"
   ]
  },
  {
   "cell_type": "markdown",
   "id": "64025f9b",
   "metadata": {},
   "source": [
    "## OpenAI\n",
    "\n",
    "* [OpenAI Function Calling](https://platform.openai.com/docs/guides/function-calling?api-mode=chat)\n",
    "* [Generous free tier](https://platform.openai.com/docs/models/gpt-4.1-nano)\n",
    "\n",
    "![](https://i.ibb.co/JwZtC9px/Screenshot-2025-05-20-235653.png \"GPT-4.1-nano\")"
   ]
  },
  {
   "cell_type": "code",
   "execution_count": null,
   "id": "96e81483",
   "metadata": {},
   "outputs": [],
   "source": [
    "oai_api_key = os.getenv(\"OPENAI_API_KEY\")\n",
    "if oai_api_key is None:\n",
    "    raise ValueError(\"OPENAI_API_KEY environment variable not set\")\n",
    "oai_client = AsyncOpenAI(api_key=oai_api_key)\n"
   ]
  },
  {
   "cell_type": "code",
   "execution_count": null,
   "id": "5d4c9439",
   "metadata": {},
   "outputs": [],
   "source": [
    "messages = [\n",
    "    {\n",
    "        \"role\": \"system\",\n",
    "        \"content\": \"Don't make assumptions about values. Ask for clarification if needed.\",\n",
    "    },\n",
    "    {\n",
    "        \"role\": \"user\",\n",
    "        \"content\": \"I'd like to watch a movie about a retired assassin who is forced back into the game.\",\n",
    "    },\n",
    "]\n",
    "\n",
    "response = await oai_client.chat.completions.create(\n",
    "    model=\"gpt-4.1-nano\",\n",
    "    messages=messages,\n",
    "    tools=[schema],\n",
    "    tool_choice=\"auto\",\n",
    ")\n",
    "print(response.choices[0].message.tool_calls)\n"
   ]
  },
  {
   "cell_type": "code",
   "execution_count": null,
   "id": "3a116cca",
   "metadata": {},
   "outputs": [],
   "source": [
    "tool_call = response.choices[0].message.tool_calls[0]\n",
    "tool_call\n"
   ]
  },
  {
   "cell_type": "code",
   "execution_count": null,
   "id": "fe7f062c",
   "metadata": {},
   "outputs": [],
   "source": [
    "AVAILABLE_FUNCTIONS = {\n",
    "    \"query_movie_db\": query_movie_db,\n",
    "}\n",
    "\n",
    "\n",
    "def call_function(name, args) -> ToolCallResult:\n",
    "    func = AVAILABLE_FUNCTIONS.get(name)\n",
    "    if not func:\n",
    "        raise ValueError(f\"Unknown function: {name}\")\n",
    "    try:\n",
    "        # Call the function with the provided arguments\n",
    "        return func(**args)\n",
    "    except TypeError as e:  # Catches errors like missing/extra arguments\n",
    "        error_msg = f\"Error: Argument mismatch when calling tool '{name}' with arguments {args}. Details: {e}\"\n",
    "        print(error_msg)\n",
    "        return {\n",
    "            \"llm_consumable\": error_msg,\n",
    "            \"ui_displayable\": error_msg,\n",
    "            \"return_type\": \"error_message\",\n",
    "        }\n",
    "    except Exception as e:  # Catches other errors during tool execution\n",
    "        error_msg = f\"Error during execution of tool '{name}' with arguments {args}. Details: {e}\"\n",
    "        print(error_msg)\n",
    "        return {\n",
    "            \"llm_consumable\": error_msg,\n",
    "            \"ui_displayable\": error_msg,\n",
    "            \"return_type\": \"error_message\",\n",
    "        }\n",
    "\n",
    "\n",
    "def handle_tool_call(\n",
    "    tool_call: ChatCompletionMessageToolCall | ChatCompletionOutputToolCall,\n",
    ") -> ToolCallResult:\n",
    "    tool_call_id = tool_call.id\n",
    "    func = tool_call.function\n",
    "    function_name = func.name\n",
    "    arguments = json.loads(func.arguments)\n",
    "    result = call_function(function_name, arguments)\n",
    "    return\n"
   ]
  },
  {
   "cell_type": "markdown",
   "id": "cc37d343",
   "metadata": {},
   "source": [
    "## Check for function calls in LLM response"
   ]
  },
  {
   "cell_type": "code",
   "execution_count": null,
   "id": "95bf6657",
   "metadata": {},
   "outputs": [],
   "source": [
    "tool_calls = response.choices[0].message.tool_calls\n",
    "for tool_call in tool_calls:\n",
    "    func = tool_call.function\n",
    "    func_name = func.name\n",
    "    tool_call_id = tool_call.id\n",
    "    func_args = json.loads(func.arguments)\n",
    "    result = call_function(func_name, func_args)\n",
    "    messages.append(\n",
    "        {\n",
    "            \"role\": \"tool\",\n",
    "            \"tool_call_id\": tool_call_id,\n",
    "            \"content\": json.dumps(result),\n",
    "        }\n",
    "    )\n"
   ]
  },
  {
   "cell_type": "markdown",
   "id": "a25f4fcf",
   "metadata": {},
   "source": [
    "# Structured outputs\n",
    "\n",
    "We can ensure that the LLM output in a specific format using `structured outputs`"
   ]
  },
  {
   "cell_type": "code",
   "execution_count": null,
   "id": "6f4efd6e",
   "metadata": {},
   "outputs": [],
   "source": [
    "class Polarity(StrEnum):\n",
    "    POSITIVE = \"positive\"\n",
    "    NEGATIVE = \"negative\"\n",
    "    NEUTRAL = \"neutral\"\n",
    "\n",
    "\n",
    "class SentimentAnalysisOutput(BaseModel):\n",
    "    polarity: Annotated[Polarity, \"The sentiment polarity of the text\"]\n",
    "    confidence: Annotated[\n",
    "        float,\n",
    "        Field(\n",
    "            description=\"The confidence score of the sentiment polarity between 0 and 1\",\n",
    "            ge=0.0,\n",
    "            le=1.0,\n",
    "        ),\n",
    "    ]\n",
    "\n",
    "\n",
    "print(json.dumps(SentimentAnalysisOutput.model_json_schema(), indent=2))"
   ]
  },
  {
   "cell_type": "code",
   "execution_count": null,
   "id": "560f7f55",
   "metadata": {},
   "outputs": [],
   "source": [
    "# This will throw an error because the confidence is greater than 1\n",
    "SentimentAnalysisOutput(polarity=\"positive\", confidence=1.1)"
   ]
  },
  {
   "cell_type": "markdown",
   "id": "aeda281e",
   "metadata": {},
   "source": [
    "## Prepare prompt"
   ]
  },
  {
   "cell_type": "code",
   "execution_count": null,
   "id": "f9125a0c",
   "metadata": {},
   "outputs": [],
   "source": [
    "base_prompt = \"\"\"\\\n",
    "Please analyze the sentiment (positive, negative, or neutral) of the following text and return the result in JSON format. \\\n",
    "The JSON should contain the following fields:\n",
    "- polarity: The sentiment polarity of the text (positive, negative, or neutral)\n",
    "- confidence: The confidence score of the sentiment polarity between 0 (not confident) and 1 (very confident)\n",
    "The JSON should be formatted as follows:\n",
    "{{\n",
    "    \"polarity\": \"positive\",\n",
    "    \"confidence\": 0.95\n",
    "}}\n",
    "Text: {text}\n",
    "\"\"\"\n",
    "\n",
    "text_to_analyze = \"Cilantro is amazing on everything!\"\n",
    "\n",
    "messages = [\n",
    "    {\n",
    "        \"role\": \"user\",\n",
    "        \"content\": base_prompt.format(text=text_to_analyze),\n",
    "    }\n",
    "]"
   ]
  },
  {
   "cell_type": "markdown",
   "id": "0b4ee5ff",
   "metadata": {},
   "source": [
    "## Hugging Face InferenceClient\n",
    "\n",
    "We must create a JSON schema manually for the LLM to know how to format the output."
   ]
  },
  {
   "cell_type": "code",
   "execution_count": null,
   "id": "a018382b",
   "metadata": {},
   "outputs": [],
   "source": [
    "response = await hf_client.chat_completion(\n",
    "    model=\"Qwen/Qwen3-235B-A22B\",\n",
    "    messages=messages,\n",
    "    response_format={\n",
    "        \"type\": \"json_object\",\n",
    "        \"value\": SentimentAnalysisOutput.model_json_schema(),  # type: ignore\n",
    "    },\n",
    ")  # type: ignore\n",
    "response"
   ]
  },
  {
   "cell_type": "code",
   "execution_count": null,
   "id": "d714dd35",
   "metadata": {},
   "outputs": [],
   "source": [
    "# raw response\n",
    "response.choices[0].message.content\n"
   ]
  },
  {
   "cell_type": "code",
   "execution_count": null,
   "id": "eb8f18a6",
   "metadata": {},
   "outputs": [],
   "source": [
    "# parse into dictionary\n",
    "response_dict = json.loads(response.choices[0].message.content)\n",
    "response_dict\n"
   ]
  },
  {
   "cell_type": "code",
   "execution_count": null,
   "id": "e11b5be0",
   "metadata": {},
   "outputs": [],
   "source": [
    "# parse into SentimentAnalysisOutput\n",
    "sentiment_result = SentimentAnalysisOutput(**response_dict)\n",
    "sentiment_result\n"
   ]
  },
  {
   "cell_type": "code",
   "execution_count": null,
   "id": "d579641b",
   "metadata": {},
   "outputs": [],
   "source": [
    "# parse from string directly into SentimentAnalysisOutput\n",
    "sentiment_result = SentimentAnalysisOutput.model_validate_json(\n",
    "    response.choices[0].message.content\n",
    ")\n",
    "sentiment_result\n"
   ]
  },
  {
   "cell_type": "code",
   "execution_count": null,
   "id": "f148bc37",
   "metadata": {},
   "outputs": [],
   "source": [
    "str(sentiment_result.polarity)\n"
   ]
  },
  {
   "cell_type": "markdown",
   "id": "c767f97f",
   "metadata": {},
   "source": [
    "## OpenAI\n",
    "\n",
    "\n",
    "[Structured Output Documentation](https://platform.openai.com/docs/guides/structured-outputs?api-mode=chat)\n",
    "\n",
    "We can directly pass in the Pydantic model to the function call. The client will do the work for us.\n",
    "\n",
    "<div class=\"alert alert-block alert-warning\">\n",
    "⚠️ we use `beta.chat.completions.parse` instead of `.chat.completions.create`\n",
    "</div>"
   ]
  },
  {
   "cell_type": "code",
   "execution_count": null,
   "id": "59dc4248",
   "metadata": {},
   "outputs": [],
   "source": [
    "response = await oai_client.beta.chat.completions.parse(\n",
    "    messages=messages, model=\"gpt-4.1-nano\", response_format=SentimentAnalysisOutput\n",
    ")\n",
    "response"
   ]
  },
  {
   "cell_type": "code",
   "execution_count": null,
   "id": "b0d3fe1b",
   "metadata": {},
   "outputs": [],
   "source": [
    "# raw response\n",
    "response.choices[0].message.content\n"
   ]
  },
  {
   "cell_type": "code",
   "execution_count": null,
   "id": "112340c0",
   "metadata": {},
   "outputs": [],
   "source": [
    "# parse into dictionary\n",
    "response_dict = json.loads(response.choices[0].message.content)\n",
    "response_dict\n"
   ]
  },
  {
   "cell_type": "code",
   "execution_count": null,
   "id": "06f954e0",
   "metadata": {},
   "outputs": [],
   "source": [
    "# parse into SentimentAnalysisOutput\n",
    "sentiment_result = SentimentAnalysisOutput(**response_dict)\n",
    "sentiment_result\n"
   ]
  },
  {
   "cell_type": "code",
   "execution_count": null,
   "id": "c6385058",
   "metadata": {},
   "outputs": [],
   "source": [
    "# parse from string directly into SentimentAnalysisOutput\n",
    "sentiment_result = SentimentAnalysisOutput.model_validate_json(\n",
    "    response.choices[0].message.content\n",
    ")\n",
    "sentiment_result\n"
   ]
  },
  {
   "cell_type": "code",
   "execution_count": null,
   "id": "3bdbdf0e",
   "metadata": {},
   "outputs": [],
   "source": [
    "# access the parsed response directly\n",
    "response.choices[0].message.parsed\n"
   ]
  },
  {
   "cell_type": "code",
   "execution_count": 2,
   "id": "402fa406",
   "metadata": {},
   "outputs": [],
   "source": [
    "def test():\n",
    "    \"\"\"this returns 1\"\"\"\n",
    "    return 1"
   ]
  },
  {
   "cell_type": "code",
   "execution_count": 3,
   "id": "4d02de12",
   "metadata": {},
   "outputs": [
    {
     "data": {
      "text/plain": [
       "function"
      ]
     },
     "execution_count": 3,
     "metadata": {},
     "output_type": "execute_result"
    }
   ],
   "source": [
    "type(test)"
   ]
  },
  {
   "cell_type": "code",
   "execution_count": null,
   "id": "e2e21129",
   "metadata": {},
   "outputs": [],
   "source": []
  }
 ],
 "metadata": {
  "kernelspec": {
   "display_name": ".venv",
   "language": "python",
   "name": "python3"
  },
  "language_info": {
   "codemirror_mode": {
    "name": "ipython",
    "version": 3
   },
   "file_extension": ".py",
   "mimetype": "text/x-python",
   "name": "python",
   "nbconvert_exporter": "python",
   "pygments_lexer": "ipython3",
   "version": "3.11.11"
  }
 },
 "nbformat": 4,
 "nbformat_minor": 5
}
