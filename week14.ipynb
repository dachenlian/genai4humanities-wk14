{
 "cells": [
  {
   "cell_type": "markdown",
   "id": "b77a10bc",
   "metadata": {},
   "source": [
    "# Imports"
   ]
  },
  {
   "cell_type": "code",
   "execution_count": 4,
   "id": "8133fb97",
   "metadata": {},
   "outputs": [],
   "source": [
    "%load_ext autoreload\n",
    "%autoreload 2\n",
    "\n",
    "import asyncio\n",
    "import datetime\n",
    "import json\n",
    "import os\n",
    "from enum import StrEnum\n",
    "from typing import Annotated\n",
    "\n",
    "import lancedb\n",
    "import pandas as pd\n",
    "import tiktoken\n",
    "import torch\n",
    "import torch.nn.functional as F\n",
    "from datasets import load_dataset\n",
    "from dotenv import load_dotenv\n",
    "from huggingface_hub import AsyncInferenceClient\n",
    "from huggingface_hub.inference._generated.types import ChatCompletionOutputToolCall\n",
    "from loguru import logger\n",
    "from pydantic import BaseModel, Field\n",
    "from openai import OpenAI, AsyncOpenAI\n",
    "from openai.types.chat.chat_completion_message_tool_call import (\n",
    "    ChatCompletionMessageToolCall,\n",
    ")\n",
    "from sentence_transformers import SentenceTransformer\n",
    "from tenacity import (\n",
    "    RetryCallState,\n",
    "    retry,\n",
    "    stop_after_attempt,\n",
    "    wait_random_exponential,\n",
    ")  # for exponential backoff\n",
    "\n",
    "from utils import create_tool_schema_for_function\n",
    "from tool_types import ToolCallResult\n",
    "\n",
    "load_dotenv()\n",
    "\n",
    "try:\n",
    "    from google.colab import userdata  # type: ignore\n",
    "except ImportError:\n",
    "    userdata = None\n",
    "\n",
    "load_dotenv(override=True)\n",
    "pd.set_option(\"display.max_colwidth\", 0)"
   ]
  },
  {
   "cell_type": "markdown",
   "id": "4f7c4e35",
   "metadata": {},
   "source": [
    "# Preparing dataset"
   ]
  },
  {
   "cell_type": "code",
   "execution_count": 2,
   "id": "3b0bc263",
   "metadata": {},
   "outputs": [
    {
     "data": {
      "application/vnd.jupyter.widget-view+json": {
       "model_id": "5435d0fab5d2411d828ae3b75018c098",
       "version_major": 2,
       "version_minor": 0
      },
      "text/plain": [
       "README.md:   0%|          | 0.00/1.62k [00:00<?, ?B/s]"
      ]
     },
     "metadata": {},
     "output_type": "display_data"
    },
    {
     "data": {
      "application/vnd.jupyter.widget-view+json": {
       "model_id": "b2868ab85b954e6aabccb5e8bacd680f",
       "version_major": 2,
       "version_minor": 0
      },
      "text/plain": [
       "(…)-00000-of-00001-6db04ab1c75d6817.parquet:   0%|          | 0.00/13.9M [00:00<?, ?B/s]"
      ]
     },
     "metadata": {},
     "output_type": "display_data"
    },
    {
     "data": {
      "application/vnd.jupyter.widget-view+json": {
       "model_id": "881abc3f442e4456bec4aae4ab0a763e",
       "version_major": 2,
       "version_minor": 0
      },
      "text/plain": [
       "Generating train split:   0%|          | 0/4803 [00:00<?, ? examples/s]"
      ]
     },
     "metadata": {},
     "output_type": "display_data"
    },
    {
     "data": {
      "text/plain": [
       "Dataset({\n",
       "    features: ['id', 'budget', 'genres', 'homepage', 'keywords', 'original_language', 'original_title', 'overview', 'popularity', 'production_companies', 'production_countries', 'release_date', 'revenue', 'runtime', 'spoken_languages', 'status', 'tagline', 'title', 'vote_average', 'vote_count', 'cast', 'crew'],\n",
       "    num_rows: 4803\n",
       "})"
      ]
     },
     "execution_count": 2,
     "metadata": {},
     "output_type": "execute_result"
    }
   ],
   "source": [
    "# https://huggingface.co/datasets/AiresPucrs/tmdb-5000-movies\n",
    "ds = load_dataset(\"AiresPucrs/tmdb-5000-movies\", split=\"train\")\n",
    "ds"
   ]
  },
  {
   "cell_type": "code",
   "execution_count": 3,
   "id": "cee9a86b",
   "metadata": {},
   "outputs": [
    {
     "data": {
      "application/vnd.jupyter.widget-view+json": {
       "model_id": "f4e0bc27a0c54bafba65f2040e4685c5",
       "version_major": 2,
       "version_minor": 0
      },
      "text/plain": [
       "Filter:   0%|          | 0/4803 [00:00<?, ? examples/s]"
      ]
     },
     "metadata": {},
     "output_type": "display_data"
    },
    {
     "data": {
      "text/plain": [
       "Dataset({\n",
       "    features: ['id', 'budget', 'genres', 'homepage', 'keywords', 'original_language', 'original_title', 'overview', 'popularity', 'production_companies', 'production_countries', 'release_date', 'revenue', 'runtime', 'spoken_languages', 'status', 'tagline', 'title', 'vote_average', 'vote_count', 'cast', 'crew'],\n",
       "    num_rows: 4800\n",
       "})"
      ]
     },
     "execution_count": 3,
     "metadata": {},
     "output_type": "execute_result"
    }
   ],
   "source": [
    "# Remove missing overview\n",
    "ds = ds.filter(lambda x: bool(x[\"overview\"]))\n",
    "ds"
   ]
  },
  {
   "cell_type": "code",
   "execution_count": 4,
   "id": "d67d408b",
   "metadata": {},
   "outputs": [],
   "source": [
    "def preprocess(example: dict) -> dict:\n",
    "    example[\"genres\"] = [g[\"name\"] for g in json.loads(example[\"genres\"])]\n",
    "    example[\"keywords\"] = [k[\"name\"] for k in json.loads(example[\"keywords\"])]\n",
    "    example[\"release_date\"] = datetime.datetime.strptime(\n",
    "        d if (d := example[\"release_date\"]) else \"1970-01-01\", \"%Y-%m-%d\"\n",
    "    ).date()\n",
    "    example[\"release_year\"] = example[\"release_date\"].year\n",
    "    example[\"spoken_languages\"] = [\n",
    "        sl[\"name\"] for sl in json.loads(example[\"spoken_languages\"])\n",
    "    ]\n",
    "    example[\"cast\"] = [\n",
    "        {\n",
    "            \"name\": c[\"name\"],\n",
    "            \"character\": c[\"character\"],\n",
    "        }\n",
    "        for c in json.loads(example[\"cast\"])\n",
    "    ]\n",
    "    # example[\"production_companies\"] = [\n",
    "    #     pc[\"name\"] for pc in json.loads(example[\"production_companies\"])\n",
    "    # ]\n",
    "    # example[\"production_countries\"] = [\n",
    "    #     pc[\"name\"] for pc in json.loads(example[\"production_countries\"])\n",
    "    # ]\n",
    "    # example[\"crew\"] = [\n",
    "    #     {\n",
    "    #         \"name\": c[\"name\"],\n",
    "    #         \"job\": c[\"job\"],\n",
    "    #     }\n",
    "    #     for c in json.loads(example[\"crew\"])\n",
    "    # ]\n",
    "    return example\n"
   ]
  },
  {
   "cell_type": "code",
   "execution_count": 5,
   "id": "5de6f690",
   "metadata": {},
   "outputs": [
    {
     "name": "stderr",
     "output_type": "stream",
     "text": [
      "/home/richlian/github/genai4humanities-wk14/.venv/lib/python3.11/site-packages/lancedb/__init__.py:220: UserWarning: lance is not fork-safe. If you are using multiprocessing, use spawn instead.\n",
      "  warnings.warn(\n"
     ]
    },
    {
     "data": {
      "application/vnd.jupyter.widget-view+json": {
       "model_id": "fd52672278cb4b80b439348cc360da8f",
       "version_major": 2,
       "version_minor": 0
      },
      "text/plain": [
       "Map (num_proc=4):   0%|          | 0/4800 [00:00<?, ? examples/s]"
      ]
     },
     "metadata": {},
     "output_type": "display_data"
    },
    {
     "name": "stderr",
     "output_type": "stream",
     "text": [
      "/home/richlian/github/genai4humanities-wk14/.venv/lib/python3.11/site-packages/lancedb/__init__.py:220: UserWarning: lance is not fork-safe. If you are using multiprocessing, use spawn instead.\n",
      "  warnings.warn(\n"
     ]
    },
    {
     "data": {
      "text/plain": [
       "{'budget': 4000000,\n",
       " 'genres': ['Crime', 'Comedy'],\n",
       " 'keywords': ['hotel',\n",
       "  \"new year's eve\",\n",
       "  'witch',\n",
       "  'bet',\n",
       "  'hotel room',\n",
       "  'sperm',\n",
       "  'los angeles',\n",
       "  'hoodlum',\n",
       "  'woman director',\n",
       "  'episode film'],\n",
       " 'original_language': 'en',\n",
       " 'overview': \"It's Ted the Bellhop's first night on the job...and the hotel's very unusual guests are about to place him in some outrageous predicaments. It seems that this evening's room service is serving up one unbelievable happening after another.\",\n",
       " 'popularity': 22.87623,\n",
       " 'release_date': datetime.date(1995, 12, 9),\n",
       " 'revenue': 4300000,\n",
       " 'runtime': 98.0,\n",
       " 'spoken_languages': ['English'],\n",
       " 'title': 'Four Rooms',\n",
       " 'cast': [{'character': 'Ted the Bellhop', 'name': 'Tim Roth'},\n",
       "  {'character': 'Man', 'name': 'Antonio Banderas'},\n",
       "  {'character': 'Angela', 'name': 'Jennifer Beals'},\n",
       "  {'character': 'Elspeth', 'name': 'Madonna'},\n",
       "  {'character': 'Margaret', 'name': 'Marisa Tomei'},\n",
       "  {'character': 'Leo', 'name': 'Bruce Willis'},\n",
       "  {'character': 'Chester Rush', 'name': 'Quentin Tarantino'},\n",
       "  {'character': 'Jezebel', 'name': 'Sammi Davis'},\n",
       "  {'character': 'Diana', 'name': 'Amanda de Cadenet'},\n",
       "  {'character': 'Athena', 'name': 'Valeria Golino'},\n",
       "  {'character': 'Raven', 'name': 'Lili Taylor'},\n",
       "  {'character': 'Long Hair Yuppy Scum', 'name': 'Lawrence Bender'},\n",
       "  {'character': 'Eva', 'name': 'Ione Skye'},\n",
       "  {'character': 'Kiva', 'name': 'Alicia Witt'},\n",
       "  {'character': 'Siegfried', 'name': 'David Proval'},\n",
       "  {'character': 'Sarah', 'name': 'Lana McKissack'},\n",
       "  {'character': 'Wife', 'name': 'Tamlyn Tomita'},\n",
       "  {'character': 'Betty', 'name': 'Kathy Griffin'},\n",
       "  {'character': 'Norman', 'name': 'Paul Calderon'},\n",
       "  {'character': 'TV Dancing Girl', 'name': 'Salma Hayek'},\n",
       "  {'character': 'Corpse', 'name': 'Patricia Vonne'},\n",
       "  {'character': 'Juancho', 'name': 'Danny Verduzco'},\n",
       "  {'character': 'Hooker', 'name': 'Kimberly Blair'},\n",
       "  {'character': 'Sam the Bellhop', 'name': 'Marc Lawrence'}],\n",
       " 'release_year': 1995}"
      ]
     },
     "execution_count": 5,
     "metadata": {},
     "output_type": "execute_result"
    }
   ],
   "source": [
    "ds = ds.map(\n",
    "    preprocess,\n",
    "    remove_columns=[\n",
    "        \"id\",\n",
    "        \"homepage\",\n",
    "        \"production_companies\",\n",
    "        \"production_countries\",\n",
    "        \"status\",\n",
    "        \"tagline\",\n",
    "        \"vote_count\",\n",
    "        \"vote_average\",\n",
    "        \"crew\",\n",
    "        \"original_title\",\n",
    "    ],\n",
    "    num_proc=4,\n",
    ")\n",
    "ds[0]"
   ]
  },
  {
   "cell_type": "markdown",
   "id": "e343d419",
   "metadata": {},
   "source": [
    "# Embeddings"
   ]
  },
  {
   "cell_type": "code",
   "execution_count": 6,
   "id": "4e3ff444",
   "metadata": {},
   "outputs": [],
   "source": [
    "queries = [\n",
    "    \"I want to watch an exciting superhero movie\",\n",
    "    \"我想看一部超級英雄電影\",\n",
    "]\n",
    "\n",
    "movies = [\n",
    "    \"A movie about a group of friends who go on a road trip\",\n",
    "    \"A romantic comedy about a couple who meet at a wedding\",\n",
    "    \"An autobiography of George Washington, the first president of the United States\",\n",
    "    \"Spider-Man is fighting against the Green Goblin in another universe\",\n",
    "]"
   ]
  },
  {
   "cell_type": "markdown",
   "id": "e57dd154",
   "metadata": {},
   "source": [
    "## sentence-transformers\n",
    "\n",
    "* [Official Documentation](https://sbert.net/)\n",
    "* Models supporting `sentence-transformers`: https://huggingface.co/models?library=sentence-transformers\n",
    "* Models for `sentence-similarity`: https://huggingface.co/models?pipeline_tag=sentence-similarity\n"
   ]
  },
  {
   "cell_type": "code",
   "execution_count": 10,
   "id": "921bbc08",
   "metadata": {},
   "outputs": [],
   "source": [
    "embedder = SentenceTransformer(\n",
    "    \"sentence-transformers/paraphrase-multilingual-MiniLM-L12-v2\",\n",
    "    device=\"cpu\",\n",
    ")"
   ]
  },
  {
   "cell_type": "markdown",
   "id": "fb11faf2",
   "metadata": {},
   "source": [
    "### Compute embeddings"
   ]
  },
  {
   "cell_type": "code",
   "execution_count": null,
   "id": "e4d94b2b",
   "metadata": {},
   "outputs": [
    {
     "name": "stdout",
     "output_type": "stream",
     "text": [
      "(2, 384) (4, 384)\n",
      "Query: [-0.4084644  -0.24543129 -0.600559   -0.11258549  0.19218642]\n",
      "Movie: [ 0.30984214 -0.12824544 -0.33090717 -0.2385715   0.33415732]\n"
     ]
    }
   ],
   "source": [
    "query_embeddings = embedder.encode(queries)\n",
    "movie_embeddings = embedder.encode(movies)\n",
    "print(query_embeddings.shape, movie_embeddings.shape)\n",
    "print(f\"Query: {query_embeddings[0][:5]}\")\n",
    "print(f\"Movie: {movie_embeddings[0][:5]}\")"
   ]
  },
  {
   "cell_type": "markdown",
   "id": "2596c7ff",
   "metadata": {},
   "source": [
    "### Computing similarity + retrieving top k"
   ]
  },
  {
   "cell_type": "code",
   "execution_count": null,
   "id": "a1293584",
   "metadata": {},
   "outputs": [
    {
     "data": {
      "text/plain": [
       "tensor([[ 0.2611,  0.1753, -0.0321,  0.3556],\n",
       "        [ 0.2784,  0.1435,  0.0242,  0.3834]])"
      ]
     },
     "execution_count": 9,
     "metadata": {},
     "output_type": "execute_result"
    }
   ],
   "source": [
    "# Compute cosine similarities\n",
    "similarities = embedder.similarity(query_embeddings, movie_embeddings)\n",
    "similarities"
   ]
  },
  {
   "cell_type": "code",
   "execution_count": 12,
   "id": "e5e50169",
   "metadata": {},
   "outputs": [
    {
     "name": "stdout",
     "output_type": "stream",
     "text": [
      "I want to watch an exciting superhero movie\n",
      " - A movie about a group of friends who go on a road trip: \u001b[33m0.2611\u001b[0m\n",
      " - A romantic comedy about a couple who meet at a wedding: \u001b[33m0.1753\u001b[0m\n",
      " - An autobiography of George Washington, the first president of the United States: \u001b[33m-0.0321\u001b[0m\n",
      " - Spider-Man is fighting against the Green Goblin in another universe: \u001b[33m0.3556\u001b[0m\n",
      "我想看一部超級英雄電影\n",
      " - A movie about a group of friends who go on a road trip: \u001b[33m0.2784\u001b[0m\n",
      " - A romantic comedy about a couple who meet at a wedding: \u001b[33m0.1435\u001b[0m\n",
      " - An autobiography of George Washington, the first president of the United States: \u001b[33m0.0242\u001b[0m\n",
      " - Spider-Man is fighting against the Green Goblin in another universe: \u001b[33m0.3834\u001b[0m\n"
     ]
    }
   ],
   "source": [
    "YELLOW = \"\\033[33m\"\n",
    "END = \"\\033[0m\"\n",
    "# Output the pairs with their score\n",
    "for idx_i, sentence1 in enumerate(queries):\n",
    "    print(sentence1)\n",
    "    for idx_j, sentence2 in enumerate(movies):\n",
    "        print(f\" - {sentence2: <30}: {YELLOW}{similarities[idx_i][idx_j]:.4f}{END}\")"
   ]
  },
  {
   "cell_type": "code",
   "execution_count": 141,
   "id": "55494610",
   "metadata": {},
   "outputs": [
    {
     "data": {
      "text/plain": [
       "torch.return_types.topk(\n",
       "values=tensor([ 0.3556,  0.2611,  0.1753, -0.0321]),\n",
       "indices=tensor([3, 0, 1, 2]))"
      ]
     },
     "execution_count": 141,
     "metadata": {},
     "output_type": "execute_result"
    }
   ],
   "source": [
    "torch.topk(similarities[0], k=4)"
   ]
  },
  {
   "cell_type": "code",
   "execution_count": 13,
   "id": "f1d2dc21",
   "metadata": {},
   "outputs": [
    {
     "name": "stdout",
     "output_type": "stream",
     "text": [
      "I want to watch an exciting superhero movie\n",
      " - Spider-Man is fighting against the Green Goblin in another universe: \u001b[33m0.3556\u001b[0m\n",
      " - A movie about a group of friends who go on a road trip: \u001b[33m0.2611\u001b[0m\n",
      " - A romantic comedy about a couple who meet at a wedding: \u001b[33m0.1753\u001b[0m\n",
      " - An autobiography of George Washington, the first president of the United States: \u001b[33m-0.0321\u001b[0m\n",
      "我想看一部超級英雄電影\n",
      " - Spider-Man is fighting against the Green Goblin in another universe: \u001b[33m0.3834\u001b[0m\n",
      " - A movie about a group of friends who go on a road trip: \u001b[33m0.2784\u001b[0m\n",
      " - A romantic comedy about a couple who meet at a wedding: \u001b[33m0.1435\u001b[0m\n",
      " - An autobiography of George Washington, the first president of the United States: \u001b[33m0.0242\u001b[0m\n"
     ]
    }
   ],
   "source": [
    "for idx_i, sentence1 in enumerate(queries):\n",
    "    print(sentence1)\n",
    "    for idx_j in torch.topk(similarities[idx_i], k=4).indices:\n",
    "        print(f\" - {movies[idx_j]: <30}: {YELLOW}{similarities[idx_i][idx_j]:.4f}{END}\")"
   ]
  },
  {
   "cell_type": "markdown",
   "id": "a408f6c2",
   "metadata": {},
   "source": [
    "## OpenAI\n",
    "\n",
    "[Documentation](https://platform.openai.com/docs/guides/embeddings?lang=python)"
   ]
  },
  {
   "cell_type": "markdown",
   "id": "afb4c287",
   "metadata": {},
   "source": [
    "![](https://i.redd.it/lpf0u9nbj7w41.jpg)"
   ]
  },
  {
   "cell_type": "code",
   "execution_count": null,
   "id": "1b45bfd8",
   "metadata": {},
   "outputs": [],
   "source": [
    "api_key = os.getenv(\"OPENAI_API_KEY\")\n",
    "if not api_key and userdata:\n",
    "    # If running in Google Colab, try to get the API key from userdata\n",
    "    api_key = userdata.get(\"OPENAI_API_KEY\")\n",
    "if not api_key:\n",
    "    raise ValueError(\"OPENAI_API_KEY environment variable is not set\")\n",
    "\n",
    "client = AsyncOpenAI(api_key=api_key, max_retries=5)  # async instead of sync"
   ]
  },
  {
   "cell_type": "markdown",
   "id": "9535512f",
   "metadata": {},
   "source": [
    "### Compute embeddings"
   ]
  },
  {
   "cell_type": "code",
   "execution_count": 15,
   "id": "ecb09082",
   "metadata": {},
   "outputs": [
    {
     "name": "stdout",
     "output_type": "stream",
     "text": [
      "1536\n",
      "[-0.010025657713413239, 0.007190898526459932, -0.08766952902078629, 0.010150458663702011, -0.025221630930900574]\n"
     ]
    }
   ],
   "source": [
    "res = await client.embeddings.create(input=queries[0], model=\"text-embedding-3-small\")\n",
    "embedding = res.data[0].embedding\n",
    "print(len(embedding))\n",
    "print(embedding[:5])"
   ]
  },
  {
   "cell_type": "code",
   "execution_count": 16,
   "id": "24c4d2f0",
   "metadata": {},
   "outputs": [
    {
     "name": "stdout",
     "output_type": "stream",
     "text": [
      "Total tokens: 8\n"
     ]
    }
   ],
   "source": [
    "print(f\"Total tokens: {res.usage.total_tokens}\")"
   ]
  },
  {
   "cell_type": "code",
   "execution_count": 17,
   "id": "c7f42920",
   "metadata": {},
   "outputs": [],
   "source": [
    "# Convert to torch.Tensor for cosine similarity\n",
    "_query_embeddings = await asyncio.gather(\n",
    "    *[\n",
    "        client.embeddings.create(input=query, model=\"text-embedding-3-small\")\n",
    "        for query in queries\n",
    "    ]\n",
    ")\n",
    "query_embeddings = torch.Tensor(\n",
    "    [embedding.data[0].embedding for embedding in _query_embeddings]\n",
    ")\n",
    "_movie_embeddings = await asyncio.gather(\n",
    "    *[\n",
    "        client.embeddings.create(input=movie, model=\"text-embedding-3-small\")\n",
    "        for movie in movies\n",
    "    ]\n",
    ")\n",
    "movie_embeddings = torch.Tensor(\n",
    "    [embedding.data[0].embedding for embedding in _movie_embeddings]\n",
    ")"
   ]
  },
  {
   "cell_type": "code",
   "execution_count": 18,
   "id": "9afcaf1d",
   "metadata": {},
   "outputs": [
    {
     "data": {
      "text/plain": [
       "tensor([[ 0.0125,  0.0218, -0.0479,  ...,  0.0026, -0.0386,  0.0079],\n",
       "        [-0.0326,  0.0203, -0.0673,  ...,  0.0057, -0.0081, -0.0111],\n",
       "        [ 0.0083, -0.0117,  0.0179,  ...,  0.0175, -0.0041, -0.0108],\n",
       "        [-0.0362, -0.0462,  0.0150,  ..., -0.0224,  0.0127,  0.0131]])"
      ]
     },
     "execution_count": 18,
     "metadata": {},
     "output_type": "execute_result"
    }
   ],
   "source": [
    "torch.Tensor(movie_embeddings)"
   ]
  },
  {
   "cell_type": "markdown",
   "id": "b3cbdbca",
   "metadata": {},
   "source": [
    "### Computing similarity + retrieving top k"
   ]
  },
  {
   "cell_type": "code",
   "execution_count": null,
   "id": "e5ed078e",
   "metadata": {},
   "outputs": [
    {
     "data": {
      "text/plain": [
       "tensor([[0.2881, 0.2119, 0.0501, 0.3344],\n",
       "        [0.2241, 0.1764, 0.0754, 0.2568]])"
      ]
     },
     "execution_count": 20,
     "metadata": {},
     "output_type": "execute_result"
    }
   ],
   "source": [
    "similarities = F.cosine_similarity(\n",
    "    query_embeddings.unsqueeze(1), movie_embeddings.unsqueeze(0), dim=2\n",
    ")\n",
    "similarities"
   ]
  },
  {
   "cell_type": "code",
   "execution_count": 21,
   "id": "56e48176",
   "metadata": {},
   "outputs": [
    {
     "name": "stdout",
     "output_type": "stream",
     "text": [
      "I want to watch an exciting superhero movie\n",
      " - Spider-Man is fighting against the Green Goblin in another universe: \u001b[33m0.3344\u001b[0m\n",
      " - A movie about a group of friends who go on a road trip: \u001b[33m0.2881\u001b[0m\n",
      " - A romantic comedy about a couple who meet at a wedding: \u001b[33m0.2119\u001b[0m\n",
      " - An autobiography of George Washington, the first president of the United States: \u001b[33m0.0501\u001b[0m\n",
      "我想看一部超級英雄電影\n",
      " - Spider-Man is fighting against the Green Goblin in another universe: \u001b[33m0.2568\u001b[0m\n",
      " - A movie about a group of friends who go on a road trip: \u001b[33m0.2241\u001b[0m\n",
      " - A romantic comedy about a couple who meet at a wedding: \u001b[33m0.1764\u001b[0m\n",
      " - An autobiography of George Washington, the first president of the United States: \u001b[33m0.0754\u001b[0m\n"
     ]
    }
   ],
   "source": [
    "YELLOW = \"\\033[33m\"\n",
    "END = \"\\033[0m\"\n",
    "for idx_i, sentence1 in enumerate(queries):\n",
    "    print(sentence1)\n",
    "    for idx_j in torch.topk(similarities[idx_i], k=4).indices:\n",
    "        print(f\" - {movies[idx_j]: <30}: {YELLOW}{similarities[idx_i][idx_j]:.4f}{END}\")"
   ]
  },
  {
   "cell_type": "markdown",
   "id": "79d81fd6",
   "metadata": {},
   "source": [
    "### Calculate tokens and price\n",
    "\n",
    "[OpenAI pricing](https://platform.openai.com/docs/pricing)"
   ]
  },
  {
   "cell_type": "code",
   "execution_count": 24,
   "id": "30951b8d",
   "metadata": {},
   "outputs": [],
   "source": [
    "enc = tiktoken.encoding_for_model(\"text-embedding-3-small\")"
   ]
  },
  {
   "cell_type": "code",
   "execution_count": 27,
   "id": "8216e6d8",
   "metadata": {},
   "outputs": [
    {
     "name": "stdout",
     "output_type": "stream",
     "text": [
      "Total tokens: 8\n",
      "[40, 1390, 311, 3821, 459, 13548, 46244, 5818]\n"
     ]
    }
   ],
   "source": [
    "encoded = enc.encode(queries[0])\n",
    "print(f\"Total tokens: {len(encoded)}\")\n",
    "print(encoded)"
   ]
  },
  {
   "cell_type": "code",
   "execution_count": 28,
   "id": "c7b57982",
   "metadata": {},
   "outputs": [],
   "source": [
    "# price per 1M tokens\n",
    "model_to_price = {\n",
    "    \"text-embedding-3-small\": 0.02,\n",
    "    \"text-embedding-3-large\": 0.13,\n",
    "}\n",
    "\n",
    "\n",
    "def get_token_count_and_price(\n",
    "    texts: list[str], model: str = \"text-embedding-3-small\"\n",
    ") -> tuple[int, float]:\n",
    "    if model not in model_to_price:\n",
    "        raise ValueError(f\"Model {model} not supported\")\n",
    "    enc = tiktoken.encoding_for_model(model)\n",
    "    token_count = sum(len(e) for e in enc.encode_batch(texts))\n",
    "    price_per_1m_tokens = model_to_price[model]\n",
    "    price = (token_count / 1_000_000) * price_per_1m_tokens\n",
    "    return token_count, price"
   ]
  },
  {
   "cell_type": "code",
   "execution_count": 29,
   "id": "27304088",
   "metadata": {},
   "outputs": [
    {
     "data": {
      "text/plain": [
       "(480, 9.600000000000001e-06)"
      ]
     },
     "execution_count": 29,
     "metadata": {},
     "output_type": "execute_result"
    }
   ],
   "source": [
    "get_token_count_and_price(movies * 10, model=\"text-embedding-3-small\")"
   ]
  },
  {
   "cell_type": "markdown",
   "id": "de99a2af",
   "metadata": {},
   "source": [
    "### Handling rate limits"
   ]
  },
  {
   "cell_type": "code",
   "execution_count": null,
   "id": "ee5c15ca",
   "metadata": {},
   "outputs": [],
   "source": [
    "def log_backoff_attempt(retry_state: RetryCallState) -> None:\n",
    "    \"\"\"\n",
    "    Logs a message before a retry attempt, detailing the attempt number,\n",
    "    the exception, and the wait time.\n",
    "    \"\"\"\n",
    "    attempt_num = retry_state.attempt_number\n",
    "    exception = retry_state.outcome.exception() if retry_state.outcome else \"N/A\"\n",
    "    wait_time = retry_state.next_action.sleep if retry_state.next_action else 0.0\n",
    "    func_name = retry_state.fn.__name__ if retry_state.fn else \"N/A\"\n",
    "\n",
    "    logger.info(\n",
    "        f\"Backing off for function '{func_name}': \"\n",
    "        f\"Attempt {attempt_num} failed due to '{exception.__class__.__name__}: {exception}'. \"\n",
    "        f\"Waiting {wait_time:.2f} seconds before next attempt.\"\n",
    "    )\n",
    "\n",
    "\n",
    "@retry(\n",
    "    wait=wait_random_exponential(min=1, max=60),\n",
    "    stop=stop_after_attempt(6),\n",
    "    before_sleep=log_backoff_attempt,\n",
    ")\n",
    "async def embedding_with_backoff(**kwargs):\n",
    "    return await client.embeddings.create(**kwargs)"
   ]
  },
  {
   "cell_type": "markdown",
   "id": "77b75512",
   "metadata": {},
   "source": [
    "# Setting up a vector database\n",
    "\n",
    "[LanceDB documentation](https://lancedb.github.io/lancedb/basic/)"
   ]
  },
  {
   "cell_type": "markdown",
   "id": "0bd42b39",
   "metadata": {},
   "source": [
    "## Creating a LanceDB table"
   ]
  },
  {
   "cell_type": "code",
   "execution_count": 6,
   "id": "5a56860a",
   "metadata": {},
   "outputs": [
    {
     "data": {
      "text/plain": [
       "{'budget': 4000000,\n",
       " 'genres': ['Crime', 'Comedy'],\n",
       " 'keywords': ['hotel',\n",
       "  \"new year's eve\",\n",
       "  'witch',\n",
       "  'bet',\n",
       "  'hotel room',\n",
       "  'sperm',\n",
       "  'los angeles',\n",
       "  'hoodlum',\n",
       "  'woman director',\n",
       "  'episode film'],\n",
       " 'original_language': 'en',\n",
       " 'overview': \"It's Ted the Bellhop's first night on the job...and the hotel's very unusual guests are about to place him in some outrageous predicaments. It seems that this evening's room service is serving up one unbelievable happening after another.\",\n",
       " 'popularity': 22.87623,\n",
       " 'release_date': datetime.date(1995, 12, 9),\n",
       " 'revenue': 4300000,\n",
       " 'runtime': 98.0,\n",
       " 'spoken_languages': ['English'],\n",
       " 'title': 'Four Rooms',\n",
       " 'cast': [{'character': 'Ted the Bellhop', 'name': 'Tim Roth'},\n",
       "  {'character': 'Man', 'name': 'Antonio Banderas'},\n",
       "  {'character': 'Angela', 'name': 'Jennifer Beals'},\n",
       "  {'character': 'Elspeth', 'name': 'Madonna'},\n",
       "  {'character': 'Margaret', 'name': 'Marisa Tomei'},\n",
       "  {'character': 'Leo', 'name': 'Bruce Willis'},\n",
       "  {'character': 'Chester Rush', 'name': 'Quentin Tarantino'},\n",
       "  {'character': 'Jezebel', 'name': 'Sammi Davis'},\n",
       "  {'character': 'Diana', 'name': 'Amanda de Cadenet'},\n",
       "  {'character': 'Athena', 'name': 'Valeria Golino'},\n",
       "  {'character': 'Raven', 'name': 'Lili Taylor'},\n",
       "  {'character': 'Long Hair Yuppy Scum', 'name': 'Lawrence Bender'},\n",
       "  {'character': 'Eva', 'name': 'Ione Skye'},\n",
       "  {'character': 'Kiva', 'name': 'Alicia Witt'},\n",
       "  {'character': 'Siegfried', 'name': 'David Proval'},\n",
       "  {'character': 'Sarah', 'name': 'Lana McKissack'},\n",
       "  {'character': 'Wife', 'name': 'Tamlyn Tomita'},\n",
       "  {'character': 'Betty', 'name': 'Kathy Griffin'},\n",
       "  {'character': 'Norman', 'name': 'Paul Calderon'},\n",
       "  {'character': 'TV Dancing Girl', 'name': 'Salma Hayek'},\n",
       "  {'character': 'Corpse', 'name': 'Patricia Vonne'},\n",
       "  {'character': 'Juancho', 'name': 'Danny Verduzco'},\n",
       "  {'character': 'Hooker', 'name': 'Kimberly Blair'},\n",
       "  {'character': 'Sam the Bellhop', 'name': 'Marc Lawrence'}],\n",
       " 'release_year': 1995}"
      ]
     },
     "execution_count": 6,
     "metadata": {},
     "output_type": "execute_result"
    }
   ],
   "source": [
    "# We'll use the \"overview\" column as the text to embed\n",
    "ds[0]"
   ]
  },
  {
   "cell_type": "code",
   "execution_count": 7,
   "id": "bf1efe30",
   "metadata": {},
   "outputs": [
    {
     "name": "stdout",
     "output_type": "stream",
     "text": [
      "4800\n"
     ]
    },
    {
     "data": {
      "text/plain": [
       "[\"It's Ted the Bellhop's first night on the job...and the hotel's very unusual guests are about to place him in some outrageous predicaments. It seems that this evening's room service is serving up one unbelievable happening after another.\",\n",
       " 'Princess Leia is captured and held hostage by the evil Imperial forces in their effort to take over the galactic Empire. Venturesome Luke Skywalker and dashing captain Han Solo team together with the loveable robot duo R2-D2 and C-3PO to rescue the beautiful princess and restore peace and justice in the Empire.',\n",
       " \"Nemo, an adventurous young clownfish, is unexpectedly taken from his Great Barrier Reef home to a dentist's office aquarium. It's up to his worrisome father Marlin and a friendly but forgetful fish Dory to bring Nemo home -- meeting vegetarian sharks, surfer dude turtles, hypnotic jellyfish, hungry seagulls, and more along the way.\",\n",
       " \"A man with a low IQ has accomplished great things in his life and been present during significant historic events - in each case, far exceeding what anyone imagined he could do. Yet, despite all the things he has attained, his one true love eludes him. 'Forrest Gump' is the story of a man who rose above his challenges, and who proved that determination, courage, and love are more important than ability.\",\n",
       " \"Lester Burnham, a depressed suburban father in a mid-life crisis, decides to turn his hectic life around after developing an infatuation with his daughter's attractive friend.\"]"
      ]
     },
     "execution_count": 7,
     "metadata": {},
     "output_type": "execute_result"
    }
   ],
   "source": [
    "overviews = ds[\"overview\"]\n",
    "print(len(overviews))\n",
    "overviews[:5]"
   ]
  },
  {
   "cell_type": "code",
   "execution_count": 8,
   "id": "003b2d90",
   "metadata": {},
   "outputs": [
    {
     "data": {
      "text/plain": [
       "{'budget': Value(dtype='int64', id=None),\n",
       " 'genres': Sequence(feature=Value(dtype='string', id=None), length=-1, id=None),\n",
       " 'keywords': Sequence(feature=Value(dtype='string', id=None), length=-1, id=None),\n",
       " 'original_language': Value(dtype='string', id=None),\n",
       " 'overview': Value(dtype='string', id=None),\n",
       " 'popularity': Value(dtype='float64', id=None),\n",
       " 'release_date': Value(dtype='date32', id=None),\n",
       " 'revenue': Value(dtype='int64', id=None),\n",
       " 'runtime': Value(dtype='float64', id=None),\n",
       " 'spoken_languages': Sequence(feature=Value(dtype='string', id=None), length=-1, id=None),\n",
       " 'title': Value(dtype='string', id=None),\n",
       " 'cast': [{'character': Value(dtype='string', id=None),\n",
       "   'name': Value(dtype='string', id=None)}],\n",
       " 'release_year': Value(dtype='int64', id=None)}"
      ]
     },
     "execution_count": 8,
     "metadata": {},
     "output_type": "execute_result"
    }
   ],
   "source": [
    "ds.features"
   ]
  },
  {
   "cell_type": "markdown",
   "id": "18a04fca",
   "metadata": {},
   "source": [
    "## sentence-transformers"
   ]
  },
  {
   "cell_type": "code",
   "execution_count": 11,
   "id": "22fe5039",
   "metadata": {},
   "outputs": [
    {
     "data": {
      "text/plain": [
       "array([ 0.07971882, -0.22588535, -0.08258647, -0.06734925,  0.0794584 ],\n",
       "      dtype=float32)"
      ]
     },
     "execution_count": 11,
     "metadata": {},
     "output_type": "execute_result"
    }
   ],
   "source": [
    "overview_embeddings = embedder.encode(overviews)\n",
    "overview_embeddings[0][:5]"
   ]
  },
  {
   "cell_type": "code",
   "execution_count": 12,
   "id": "24ccd446",
   "metadata": {},
   "outputs": [
    {
     "data": {
      "application/vnd.microsoft.datawrangler.viewer.v0+json": {
       "columns": [
        {
         "name": "index",
         "rawType": "object",
         "type": "string"
        },
        {
         "name": "0",
         "rawType": "object",
         "type": "unknown"
        }
       ],
       "ref": "0d82e949-a6ab-4c48-8f1d-e0a2bb38a5d9",
       "rows": [
        [
         "budget",
         "4000000"
        ],
        [
         "genres",
         "['Crime' 'Comedy']"
        ],
        [
         "keywords",
         "['hotel' \"new year's eve\" 'witch' 'bet' 'hotel room' 'sperm' 'los angeles'\n 'hoodlum' 'woman director' 'episode film']"
        ],
        [
         "original_language",
         "en"
        ],
        [
         "overview",
         "It's Ted the Bellhop's first night on the job...and the hotel's very unusual guests are about to place him in some outrageous predicaments. It seems that this evening's room service is serving up one unbelievable happening after another."
        ],
        [
         "popularity",
         "22.87623"
        ],
        [
         "release_date",
         "1995-12-09"
        ],
        [
         "revenue",
         "4300000"
        ],
        [
         "runtime",
         "98.0"
        ],
        [
         "spoken_languages",
         "['English']"
        ],
        [
         "title",
         "Four Rooms"
        ],
        [
         "cast",
         "[{'character': 'Ted the Bellhop', 'name': 'Tim Roth'}\n {'character': 'Man', 'name': 'Antonio Banderas'}\n {'character': 'Angela', 'name': 'Jennifer Beals'}\n {'character': 'Elspeth', 'name': 'Madonna'}\n {'character': 'Margaret', 'name': 'Marisa Tomei'}\n {'character': 'Leo', 'name': 'Bruce Willis'}\n {'character': 'Chester Rush', 'name': 'Quentin Tarantino'}\n {'character': 'Jezebel', 'name': 'Sammi Davis'}\n {'character': 'Diana', 'name': 'Amanda de Cadenet'}\n {'character': 'Athena', 'name': 'Valeria Golino'}\n {'character': 'Raven', 'name': 'Lili Taylor'}\n {'character': 'Long Hair Yuppy Scum', 'name': 'Lawrence Bender'}\n {'character': 'Eva', 'name': 'Ione Skye'}\n {'character': 'Kiva', 'name': 'Alicia Witt'}\n {'character': 'Siegfried', 'name': 'David Proval'}\n {'character': 'Sarah', 'name': 'Lana McKissack'}\n {'character': 'Wife', 'name': 'Tamlyn Tomita'}\n {'character': 'Betty', 'name': 'Kathy Griffin'}\n {'character': 'Norman', 'name': 'Paul Calderon'}\n {'character': 'TV Dancing Girl', 'name': 'Salma Hayek'}\n {'character': 'Corpse', 'name': 'Patricia Vonne'}\n {'character': 'Juancho', 'name': 'Danny Verduzco'}\n {'character': 'Hooker', 'name': 'Kimberly Blair'}\n {'character': 'Sam the Bellhop', 'name': 'Marc Lawrence'}]"
        ],
        [
         "release_year",
         "1995"
        ],
        [
         "vector",
         "[0.07971882075071335, -0.22588534653186798, -0.08258646726608276, -0.06734924763441086, 0.07945840060710907, -0.0077929068356752396, 0.20818649232387543, -0.05983145907521248, 0.37639644742012024, 0.15994125604629517, -0.03390928730368614, 0.557076632976532, -0.2832843065261841, 0.07294664531946182, -0.06037349998950958, 0.035015787929296494, 0.04075496271252632, -0.14458410441875458, -0.06307351589202881, 0.484988272190094, -0.0035080518573522568, -0.1593170017004013, 0.024108877405524254, 0.39136818051338196, 0.12227243930101395, -0.10958606749773026, 0.3602820336818695, -0.14865131676197052, -0.3392030894756317, -0.3866499364376068, -0.3291855454444885, -0.004170011263340712, -0.02511667273938656, 0.10739908367395401, 0.22779464721679688, 0.07729756832122803, 0.19648334383964539, 0.09722363203763962, 0.06259569525718689, 0.19326594471931458, 0.15396787226200104, -0.11439710110425949, 0.0071198586374521255, 0.009638805873692036, -0.2516464293003082, 0.04700208082795143, -0.08753163367509842, 0.030516522005200386, -0.05551803857088089, 0.04095613211393356, 0.04564269632101059, 0.24446822702884674, -0.1134914979338646, -0.0849655345082283, -0.3540255129337311, -0.028869403526186943, 0.1769842803478241, 0.1587352156639099, -0.21263235807418823, 0.2724984586238861, 0.12742380797863007, 0.007504205219447613, -0.351890504360199, 0.204241544008255, -0.18355022370815277, 0.27082085609436035, -0.38788923621177673, -0.22341716289520264, -0.06142066791653633, 0.12052159756422043, 0.002140152733772993, -0.05371638759970665, -0.15430358052253723, -0.13308677077293396, 0.41069257259368896, -0.04140356555581093, -0.054771602153778076, -0.05415654554963112, 0.1254846155643463, -0.045016098767519, 0.03460722044110298, -0.2604438066482544, -0.174565851688385, 0.05583005025982857, -0.14313583076000214, 0.2041950821876526, 0.1683356612920761, -0.02496124990284443, 0.15503840148448944, -0.12457010895013809, -0.3307628035545349, -0.10738862305879593, 0.044761959463357925, 0.1525128334760666, 0.04114758223295212, -0.19631768763065338, 0.01345714833587408, 0.2304171323776245, -0.04921664670109749, 0.18146824836730957, 0.24550098180770874, 0.2352083921432495, 0.21234968304634094, -0.006722653284668922, 0.3789942264556885, -0.1989675760269165, 0.42399361729621887, -0.049448005855083466, 0.23104694485664368, -0.2020796835422516, -0.22950223088264465, 0.2593306303024292, -0.052244286984205246, -0.08267257362604141, -0.015732280910015106, 0.4147844910621643, -0.1297042965888977, 0.3965553045272827, -0.1734231412410736, 0.10919779539108276, 0.21294787526130676, 0.24424012005329132, 0.15548650920391083, 0.09748884290456772, -0.3921149969100952, -0.0692485123872757, 0.0049073901027441025, -0.13128051161766052, -0.07686994969844818, 0.023062147200107574, -0.29079824686050415, 0.21027377247810364, 0.5114415884017944, 0.47735339403152466, -0.25804269313812256, 0.027386905625462532, 0.48514440655708313, 0.4225556254386902, 0.06716358661651611, -0.09250843524932861, 0.0421169176697731, 0.3392316997051239, -0.34082913398742676, 0.016438119113445282, -0.1495255082845688, -0.10896877944469452, -0.30691879987716675, -0.22758705914020538, -0.5530033707618713, 0.12222521007061005, -0.01936013251543045, 0.15949124097824097, 0.18055570125579834, 0.2993384003639221, -0.036926187574863434, 0.20538367331027985, 0.13201382756233215, 0.14566999673843384, -0.04178624227643013, 0.10990280658006668, 0.132608100771904, 0.1648932248353958, -0.056244026869535446, -0.13818980753421783, 0.1068742647767067, -0.2570233643054962, 0.036627091467380524, -0.04132019355893135, -0.2288857251405716, -0.11643486469984055, -0.23446324467658997, -0.0019206322031095624, -0.4587150514125824, -0.214040145277977, 0.0870097428560257, -0.04669125750660896, 0.26183196902275085, 0.26722362637519836, -0.11966503411531448, -0.12457017600536346, -0.0044945478439331055, 0.11523444950580597, 0.0027167864609509706, -0.35554856061935425, 0.04372221603989601, -0.1881127953529358, 0.3828122615814209, -0.038803961127996445, 0.3547714948654175, -0.29238879680633545, -0.13420432806015015, 0.04577912017703056, 0.12741734087467194, -0.1224018782377243, 0.15670469403266907, -0.08408962190151215, 0.11051448434591293, -0.4563654363155365, 0.05787660926580429, -0.03390905261039734, -0.41157910227775574, -0.5178021192550659, -0.1361708790063858, 0.05521119385957718, -0.012457315810024738, 0.006121006328612566, -0.09181400388479233, 0.022166365757584572, 0.12381913512945175, -0.002585434587672353, 0.23458944261074066, -0.28931865096092224, -0.21378716826438904, 0.3283578157424927, 0.15041275322437286, 0.18115626275539398, -0.08594515919685364, 0.12724417448043823, -0.03584964945912361, -0.23626582324504852, 0.08934175223112106, 0.10107149928808212, 0.2682177722454071, -0.4138011336326599, -0.05725564435124397, -0.2744762599468231, -0.061312198638916016, -0.2327292561531067, 0.27083852887153625, -0.031826578080654144, -0.0663381814956665, 0.02364354021847248, -0.04835043102502823, 0.05054868757724762, -0.2592155337333679, 0.10230375081300735, -0.03036123886704445, -0.06673538684844971, 0.05752474069595337, 0.039563603699207306, 0.00896115880459547, -0.09069125354290009, -0.14212673902511597, 0.25010615587234497, 0.5539062023162842, 0.0331583172082901, -0.2862437963485718, -0.17021021246910095, -0.11112207174301147, 0.4016649127006531, 0.28222036361694336, -0.09080558270215988, -0.31594470143318176, -0.039743002504110336, -0.2989825904369354, 0.291841983795166, -0.2548072040081024, 0.12087361514568329, 0.08249446004629135, 0.379043847322464, 0.04676363989710808, 0.1474916934967041, -0.22645185887813568, -0.46177926659584045, 0.3060254156589508, -0.12001346796751022, -0.008142944425344467, 0.17496059834957123, 0.2777249217033386, -0.4020270109176636, -0.36413896083831787, -0.24689647555351257, -0.08676525950431824, 0.06555518507957458, -0.1678411066532135, -0.12165256589651108, -0.10200516134500504, -0.15552961826324463, -0.23837397992610931, 0.29634180665016174, -0.32960355281829834, -0.09783466160297394, 0.17010994255542755, 0.2693624794483185, 0.2519293427467346, -0.21289443969726562, 0.06771363317966461, -0.09824085235595703, 0.1041753813624382, 0.029228173196315765, -0.2790766656398773, 0.13491617143154144, 0.1350858211517334, 0.17911683022975922, 0.02623489499092102, 0.07651693373918533, -0.05751509591937065, 0.014907865785062313, 0.049007222056388855, 0.42766571044921875, 0.018501395359635353, 0.1677570790052414, -0.11307497322559357, -0.42465999722480774, 0.06866799294948578, -0.09450479596853256, -0.1541096270084381, 0.09608053416013718, -0.10386807471513748, 0.12596359848976135, 0.5959838032722473, 0.10438644886016846, -0.12124365568161011, 0.10595052689313889, -0.013216852210462093, -0.02948775514960289, 0.003987779375165701, 0.09091394394636154, 0.2630581259727478, -0.41844677925109863, -0.08664698898792267, -0.14582189917564392, -0.19318272173404694, -0.20290416479110718, 0.08537851274013519, -0.2901509404182434, -0.23012375831604004, 0.07665622979402542, -0.34067022800445557, 0.021670853719115257, 0.04361356049776077, 0.035139814019203186, 0.3220725655555725, 0.11356526613235474, 0.12797501683235168, 0.09324733912944794, -0.42656999826431274, -0.06629040092229843, -0.13159731030464172, -0.010708757676184177, 0.34784573316574097, 0.11699530482292175, 0.307637482881546, 0.005334774032235146, 0.11200731992721558, 0.43168169260025024, -0.24036285281181335, 0.055196613073349, 0.14187970757484436, 0.10818883776664734, -0.2297753542661667, 0.10818096250295639, -0.33994802832603455, 0.14310669898986816, 0.12730972468852997, 0.1334974616765976, -0.007411282509565353, -0.10243184864521027, 0.21119055151939392, -0.36206483840942383, 0.05464770644903183, -0.16733504831790924, -0.464568167924881, 0.33908355236053467, 0.12294444441795349, 0.03354525938630104, -0.1198161244392395, 0.11926009505987167, -0.2433997392654419, 0.014045683667063713, -0.09763094037771225, 0.07893910259008408, -0.06705872714519501, -0.05982670933008194, 0.38599127531051636, -0.4216717779636383, 0.1523781269788742, 0.08692523092031479, -0.1965702772140503, -0.08151260018348694, -0.05700145289301872, -0.017368869855999947, -0.36394938826560974, -0.09018796682357788]"
        ]
       ],
       "shape": {
        "columns": 1,
        "rows": 14
       }
      },
      "text/plain": [
       "budget               4000000                                                                                                                                                                                                                                                                                                                                                                                                                                                                                                                                                                                                                                                                                                                                                                                                                                                                                                                                                                                                                                                                                                                                                                                                                                                                                                                                                                                                                                                                                                                                                                                                                                                                                                                                                                                                                                                                                                                                                                                                                                                                                                                                                                                                                   \n",
       "genres               [Crime, Comedy]                                                                                                                                                                                                                                                                                                                                                                                                                                                                                                                                                                                                                                                                                                                                                                                                                                                                                                                                                                                                                                                                                                                                                                                                                                                                                                                                                                                                                                                                                                                                                                                                                                                                                                                                                                                                                                                                                                                                                                                                                                                                                                                                                                                                           \n",
       "keywords             [hotel, new year's eve, witch, bet, hotel room, sperm, los angeles, hoodlum, woman director, episode film]                                                                                                                                                                                                                                                                                                                                                                                                                                                                                                                                                                                                                                                                                                                                                                                                                                                                                                                                                                                                                                                                                                                                                                                                                                                                                                                                                                                                                                                                                                                                                                                                                                                                                                                                                                                                                                                                                                                                                                                                                                                                                                                \n",
       "original_language    en                                                                                                                                                                                                                                                                                                                                                                                                                                                                                                                                                                                                                                                                                                                                                                                                                                                                                                                                                                                                                                                                                                                                                                                                                                                                                                                                                                                                                                                                                                                                                                                                                                                                                                                                                                                                                                                                                                                                                                                                                                                                                                                                                                                                                        \n",
       "overview             It's Ted the Bellhop's first night on the job...and the hotel's very unusual guests are about to place him in some outrageous predicaments. It seems that this evening's room service is serving up one unbelievable happening after another.                                                                                                                                                                                                                                                                                                                                                                                                                                                                                                                                                                                                                                                                                                                                                                                                                                                                                                                                                                                                                                                                                                                                                                                                                                                                                                                                                                                                                                                                                                                                                                                                                                                                                                                                                                                                                                                                                                                                                                             \n",
       "popularity           22.87623                                                                                                                                                                                                                                                                                                                                                                                                                                                                                                                                                                                                                                                                                                                                                                                                                                                                                                                                                                                                                                                                                                                                                                                                                                                                                                                                                                                                                                                                                                                                                                                                                                                                                                                                                                                                                                                                                                                                                                                                                                                                                                                                                                                                                  \n",
       "release_date         1995-12-09                                                                                                                                                                                                                                                                                                                                                                                                                                                                                                                                                                                                                                                                                                                                                                                                                                                                                                                                                                                                                                                                                                                                                                                                                                                                                                                                                                                                                                                                                                                                                                                                                                                                                                                                                                                                                                                                                                                                                                                                                                                                                                                                                                                                                \n",
       "revenue              4300000                                                                                                                                                                                                                                                                                                                                                                                                                                                                                                                                                                                                                                                                                                                                                                                                                                                                                                                                                                                                                                                                                                                                                                                                                                                                                                                                                                                                                                                                                                                                                                                                                                                                                                                                                                                                                                                                                                                                                                                                                                                                                                                                                                                                                   \n",
       "runtime              98.0                                                                                                                                                                                                                                                                                                                                                                                                                                                                                                                                                                                                                                                                                                                                                                                                                                                                                                                                                                                                                                                                                                                                                                                                                                                                                                                                                                                                                                                                                                                                                                                                                                                                                                                                                                                                                                                                                                                                                                                                                                                                                                                                                                                                                      \n",
       "spoken_languages     [English]                                                                                                                                                                                                                                                                                                                                                                                                                                                                                                                                                                                                                                                                                                                                                                                                                                                                                                                                                                                                                                                                                                                                                                                                                                                                                                                                                                                                                                                                                                                                                                                                                                                                                                                                                                                                                                                                                                                                                                                                                                                                                                                                                                                                                 \n",
       "title                Four Rooms                                                                                                                                                                                                                                                                                                                                                                                                                                                                                                                                                                                                                                                                                                                                                                                                                                                                                                                                                                                                                                                                                                                                                                                                                                                                                                                                                                                                                                                                                                                                                                                                                                                                                                                                                                                                                                                                                                                                                                                                                                                                                                                                                                                                                \n",
       "cast                 [{'character': 'Ted the Bellhop', 'name': 'Tim Roth'}, {'character': 'Man', 'name': 'Antonio Banderas'}, {'character': 'Angela', 'name': 'Jennifer Beals'}, {'character': 'Elspeth', 'name': 'Madonna'}, {'character': 'Margaret', 'name': 'Marisa Tomei'}, {'character': 'Leo', 'name': 'Bruce Willis'}, {'character': 'Chester Rush', 'name': 'Quentin Tarantino'}, {'character': 'Jezebel', 'name': 'Sammi Davis'}, {'character': 'Diana', 'name': 'Amanda de Cadenet'}, {'character': 'Athena', 'name': 'Valeria Golino'}, {'character': 'Raven', 'name': 'Lili Taylor'}, {'character': 'Long Hair Yuppy Scum', 'name': 'Lawrence Bender'}, {'character': 'Eva', 'name': 'Ione Skye'}, {'character': 'Kiva', 'name': 'Alicia Witt'}, {'character': 'Siegfried', 'name': 'David Proval'}, {'character': 'Sarah', 'name': 'Lana McKissack'}, {'character': 'Wife', 'name': 'Tamlyn Tomita'}, {'character': 'Betty', 'name': 'Kathy Griffin'}, {'character': 'Norman', 'name': 'Paul Calderon'}, {'character': 'TV Dancing Girl', 'name': 'Salma Hayek'}, {'character': 'Corpse', 'name': 'Patricia Vonne'}, {'character': 'Juancho', 'name': 'Danny Verduzco'}, {'character': 'Hooker', 'name': 'Kimberly Blair'}, {'character': 'Sam the Bellhop', 'name': 'Marc Lawrence'}]                                                                                                                                                                                                                                                                                                                                                                                                                                                                                                                                                                                                                                                                                                                                                                                                                                                                                                                                           \n",
       "release_year         1995                                                                                                                                                                                                                                                                                                                                                                                                                                                                                                                                                                                                                                                                                                                                                                                                                                                                                                                                                                                                                                                                                                                                                                                                                                                                                                                                                                                                                                                                                                                                                                                                                                                                                                                                                                                                                                                                                                                                                                                                                                                                                                                                                                                                                      \n",
       "vector               [0.07971882075071335, -0.22588534653186798, -0.08258646726608276, -0.06734924763441086, 0.07945840060710907, -0.0077929068356752396, 0.20818649232387543, -0.05983145907521248, 0.37639644742012024, 0.15994125604629517, -0.03390928730368614, 0.557076632976532, -0.2832843065261841, 0.07294664531946182, -0.06037349998950958, 0.035015787929296494, 0.04075496271252632, -0.14458410441875458, -0.06307351589202881, 0.484988272190094, -0.0035080518573522568, -0.1593170017004013, 0.024108877405524254, 0.39136818051338196, 0.12227243930101395, -0.10958606749773026, 0.3602820336818695, -0.14865131676197052, -0.3392030894756317, -0.3866499364376068, -0.3291855454444885, -0.004170011263340712, -0.02511667273938656, 0.10739908367395401, 0.22779464721679688, 0.07729756832122803, 0.19648334383964539, 0.09722363203763962, 0.06259569525718689, 0.19326594471931458, 0.15396787226200104, -0.11439710110425949, 0.0071198586374521255, 0.009638805873692036, -0.2516464293003082, 0.04700208082795143, -0.08753163367509842, 0.030516522005200386, -0.05551803857088089, 0.04095613211393356, 0.04564269632101059, 0.24446822702884674, -0.1134914979338646, -0.0849655345082283, -0.3540255129337311, -0.028869403526186943, 0.1769842803478241, 0.1587352156639099, -0.21263235807418823, 0.2724984586238861, 0.12742380797863007, 0.007504205219447613, -0.351890504360199, 0.204241544008255, -0.18355022370815277, 0.27082085609436035, -0.38788923621177673, -0.22341716289520264, -0.06142066791653633, 0.12052159756422043, 0.002140152733772993, -0.05371638759970665, -0.15430358052253723, -0.13308677077293396, 0.41069257259368896, -0.04140356555581093, -0.054771602153778076, -0.05415654554963112, 0.1254846155643463, -0.045016098767519, 0.03460722044110298, -0.2604438066482544, -0.174565851688385, 0.05583005025982857, -0.14313583076000214, 0.2041950821876526, 0.1683356612920761, -0.02496124990284443, 0.15503840148448944, -0.12457010895013809, -0.3307628035545349, -0.10738862305879593, 0.044761959463357925, 0.1525128334760666, 0.04114758223295212, -0.19631768763065338, 0.01345714833587408, 0.2304171323776245, -0.04921664670109749, 0.18146824836730957, ...]\n",
       "Name: 0, dtype: object"
      ]
     },
     "execution_count": 12,
     "metadata": {},
     "output_type": "execute_result"
    }
   ],
   "source": [
    "df = ds.to_pandas()\n",
    "df[\"vector\"] = overview_embeddings.tolist()\n",
    "df.iloc[0]"
   ]
  },
  {
   "cell_type": "code",
   "execution_count": 13,
   "id": "81baa734",
   "metadata": {},
   "outputs": [],
   "source": [
    "db = lancedb.connect(\"./data/lance_db\")"
   ]
  },
  {
   "cell_type": "code",
   "execution_count": 14,
   "id": "c62247de",
   "metadata": {},
   "outputs": [
    {
     "name": "stderr",
     "output_type": "stream",
     "text": [
      "\u001b[90m[\u001b[0m2025-05-21T01:39:20Z \u001b[33mWARN \u001b[0m lance::dataset::write::insert\u001b[90m]\u001b[0m No existing dataset at /home/richlian/github/genai4humanities-wk14/data/lance_db/movies.lance, it will be created\n"
     ]
    }
   ],
   "source": [
    "tbl = db.create_table(\"movies\", data=df, mode=\"overwrite\")"
   ]
  },
  {
   "cell_type": "markdown",
   "id": "33b827c2",
   "metadata": {},
   "source": [
    "#### Save results to Google Drive"
   ]
  },
  {
   "cell_type": "code",
   "execution_count": null,
   "id": "2d4bad0e",
   "metadata": {},
   "outputs": [],
   "source": [
    "from google.colab import drive\n",
    "\n",
    "drive.mount(\"/content/drive\")\n",
    "!mkdir -p \"/content/drive/My Drive/genai4h-wk14\"\n",
    "!cp -r \"./data/tmdb-5000-movies\" \"/content/drive/My Drive/genai4h-wk14/\""
   ]
  },
  {
   "cell_type": "markdown",
   "id": "8b9c6293",
   "metadata": {},
   "source": [
    "### OpenAI\n",
    "\n",
    "[Slow embeddings?](https://community.openai.com/t/embeddings-api-extremely-slow/1135044)"
   ]
  },
  {
   "cell_type": "code",
   "execution_count": 30,
   "id": "ac2d6e0c",
   "metadata": {},
   "outputs": [
    {
     "data": {
      "text/plain": [
       "(311562, 0.00623124)"
      ]
     },
     "execution_count": 30,
     "metadata": {},
     "output_type": "execute_result"
    }
   ],
   "source": [
    "overviews = ds[\"overview\"]\n",
    "get_token_count_and_price(overviews, model=\"text-embedding-3-small\")"
   ]
  },
  {
   "cell_type": "code",
   "execution_count": null,
   "id": "6ad0b508",
   "metadata": {},
   "outputs": [],
   "source": [
    "_overview_embeddings = await asyncio.gather(\n",
    "    *[\n",
    "        embedding_with_backoff(input=overview, model=\"text-embedding-3-small\")\n",
    "        # client.embeddings.create(input=overview, model=\"text-embedding-3-small\")\n",
    "        for overview in overviews\n",
    "    ]\n",
    ")\n",
    "overview_embeddings = [\n",
    "    embedding.data[0].embedding for embedding in _overview_embeddings\n",
    "]\n",
    "overview_embeddings[0][:5]"
   ]
  },
  {
   "cell_type": "code",
   "execution_count": null,
   "id": "6abc1ebf",
   "metadata": {},
   "outputs": [],
   "source": [
    "df = ds.to_pandas()\n",
    "df[\"vector\"] = overview_embeddings"
   ]
  },
  {
   "cell_type": "markdown",
   "id": "1407a00a",
   "metadata": {},
   "source": [
    "# Vector search\n",
    "\n",
    "* [Vector search](https://lancedb.github.io/lancedb/search/)\n",
    "* [Hybrid search](https://lancedb.github.io/lancedb/hybrid_search/hybrid_search/)\n",
    "* [Keyword search](https://lancedb.github.io/lancedb/fts/)  (needs tokenization)\n",
    "\n",
    "Hybrid and keyword search may not work as well for cross lingual search."
   ]
  },
  {
   "cell_type": "markdown",
   "id": "45e9cfb6",
   "metadata": {},
   "source": [
    "## Load embedding model\n",
    "<div class=\"alert alert-block alert-warning\">\n",
    "⚠️ Must use the same model as the one used to create the embeddings\n",
    "</div>"
   ]
  },
  {
   "cell_type": "code",
   "execution_count": null,
   "id": "29394288",
   "metadata": {},
   "outputs": [],
   "source": [
    "embedder = SentenceTransformer(\n",
    "    \"sentence-transformers/paraphrase-multilingual-MiniLM-L12-v2\",\n",
    "    device=\"cpu\",\n",
    ")"
   ]
  },
  {
   "cell_type": "code",
   "execution_count": 15,
   "id": "db8465c0",
   "metadata": {},
   "outputs": [],
   "source": [
    "db = lancedb.connect(\"./data/lance_db/\")\n",
    "tbl = db.open_table(\"movies\")\n",
    "tbl.create_fts_index(\"overview\", replace=True)"
   ]
  },
  {
   "cell_type": "markdown",
   "id": "9bba6289",
   "metadata": {},
   "source": [
    "## Embed the query"
   ]
  },
  {
   "cell_type": "code",
   "execution_count": 13,
   "id": "e97347cd",
   "metadata": {},
   "outputs": [
    {
     "name": "stdout",
     "output_type": "stream",
     "text": [
      "384 384\n",
      "[-0.32662207 -0.63097787  0.14315039 -0.11667649  0.03020003] [-0.23116109 -0.4500395   0.09482061  0.01837618 -0.08190724]\n"
     ]
    }
   ],
   "source": [
    "q_en = \"I want to watch a romantic comedy\"\n",
    "q_zh = \"我想看一部浪漫喜劇\"\n",
    "\n",
    "q_en_embedding = embedder.encode(q_en)\n",
    "q_zh_embedding = embedder.encode(q_zh)\n",
    "print(len(q_en_embedding), len(q_zh_embedding))\n",
    "print(q_en_embedding[:5], q_zh_embedding[:5])"
   ]
  },
  {
   "cell_type": "markdown",
   "id": "28acf177",
   "metadata": {},
   "source": [
    "## Querying the database"
   ]
  },
  {
   "cell_type": "code",
   "execution_count": 16,
   "id": "d6636e8b",
   "metadata": {},
   "outputs": [
    {
     "data": {
      "text/plain": [
       "array([ 0.3624173 , -0.39165464,  0.6183053 ,  0.5983386 ,  1.8258102 ,\n",
       "        0.33074635,  1.4305156 , -0.64978415, -1.469294  ,  1.6759685 ],\n",
       "      dtype=float32)"
      ]
     },
     "execution_count": 16,
     "metadata": {},
     "output_type": "execute_result"
    }
   ],
   "source": [
    "random_vector = torch.randn(10).numpy()\n",
    "random_vector"
   ]
  },
  {
   "cell_type": "markdown",
   "id": "5a80c923",
   "metadata": {},
   "source": [
    "<div class=\"alert alert-block alert-warning\">\n",
    "⚠️ This will fail because the embedding dimension does not match 👇"
   ]
  },
  {
   "cell_type": "code",
   "execution_count": 18,
   "id": "900077a6",
   "metadata": {},
   "outputs": [
    {
     "ename": "RuntimeError",
     "evalue": "lance error: Invalid user input: query dim(10) doesn't match the column vector vector dim(384), /root/.cargo/registry/src/index.crates.io-6f17d22bba15001f/lance-0.26.0/src/dataset/scanner.rs:756:25",
     "output_type": "error",
     "traceback": [
      "\u001b[31m---------------------------------------------------------------------------\u001b[39m",
      "\u001b[31mRuntimeError\u001b[39m                              Traceback (most recent call last)",
      "\u001b[36mCell\u001b[39m\u001b[36m \u001b[39m\u001b[32mIn[18]\u001b[39m\u001b[32m, line 1\u001b[39m\n\u001b[32m----> \u001b[39m\u001b[32m1\u001b[39m \u001b[43mtbl\u001b[49m\u001b[43m.\u001b[49m\u001b[43msearch\u001b[49m\u001b[43m(\u001b[49m\u001b[43mrandom_vector\u001b[49m\u001b[43m)\u001b[49m\u001b[43m.\u001b[49m\u001b[43mlimit\u001b[49m\u001b[43m(\u001b[49m\u001b[32;43m5\u001b[39;49m\u001b[43m)\u001b[49m\u001b[43m.\u001b[49m\u001b[43mto_pandas\u001b[49m\u001b[43m(\u001b[49m\u001b[43m)\u001b[49m\n",
      "\u001b[36mFile \u001b[39m\u001b[32m~/github/genai4humanities-wk14/.venv/lib/python3.11/site-packages/lancedb/query.py:683\u001b[39m, in \u001b[36mLanceQueryBuilder.to_pandas\u001b[39m\u001b[34m(self, flatten, timeout)\u001b[39m\n\u001b[32m    660\u001b[39m \u001b[38;5;28;01mdef\u001b[39;00m\u001b[38;5;250m \u001b[39m\u001b[34mto_pandas\u001b[39m(\n\u001b[32m    661\u001b[39m     \u001b[38;5;28mself\u001b[39m,\n\u001b[32m    662\u001b[39m     flatten: Optional[Union[\u001b[38;5;28mint\u001b[39m, \u001b[38;5;28mbool\u001b[39m]] = \u001b[38;5;28;01mNone\u001b[39;00m,\n\u001b[32m    663\u001b[39m     *,\n\u001b[32m    664\u001b[39m     timeout: Optional[timedelta] = \u001b[38;5;28;01mNone\u001b[39;00m,\n\u001b[32m    665\u001b[39m ) -> \u001b[33m\"\u001b[39m\u001b[33mpd.DataFrame\u001b[39m\u001b[33m\"\u001b[39m:\n\u001b[32m    666\u001b[39m \u001b[38;5;250m    \u001b[39m\u001b[33;03m\"\"\"\u001b[39;00m\n\u001b[32m    667\u001b[39m \u001b[33;03m    Execute the query and return the results as a pandas DataFrame.\u001b[39;00m\n\u001b[32m    668\u001b[39m \u001b[33;03m    In addition to the selected columns, LanceDB also returns a vector\u001b[39;00m\n\u001b[32m   (...)\u001b[39m\u001b[32m    681\u001b[39m \u001b[33;03m        If None, wait indefinitely.\u001b[39;00m\n\u001b[32m    682\u001b[39m \u001b[33;03m    \"\"\"\u001b[39;00m\n\u001b[32m--> \u001b[39m\u001b[32m683\u001b[39m     tbl = flatten_columns(\u001b[38;5;28;43mself\u001b[39;49m\u001b[43m.\u001b[49m\u001b[43mto_arrow\u001b[49m\u001b[43m(\u001b[49m\u001b[43mtimeout\u001b[49m\u001b[43m=\u001b[49m\u001b[43mtimeout\u001b[49m\u001b[43m)\u001b[49m, flatten)\n\u001b[32m    684\u001b[39m     \u001b[38;5;28;01mreturn\u001b[39;00m tbl.to_pandas()\n",
      "\u001b[36mFile \u001b[39m\u001b[32m~/github/genai4humanities-wk14/.venv/lib/python3.11/site-packages/lancedb/query.py:1209\u001b[39m, in \u001b[36mLanceVectorQueryBuilder.to_arrow\u001b[39m\u001b[34m(self, timeout)\u001b[39m\n\u001b[32m   1194\u001b[39m \u001b[38;5;28;01mdef\u001b[39;00m\u001b[38;5;250m \u001b[39m\u001b[34mto_arrow\u001b[39m(\u001b[38;5;28mself\u001b[39m, *, timeout: Optional[timedelta] = \u001b[38;5;28;01mNone\u001b[39;00m) -> pa.Table:\n\u001b[32m   1195\u001b[39m \u001b[38;5;250m    \u001b[39m\u001b[33;03m\"\"\"\u001b[39;00m\n\u001b[32m   1196\u001b[39m \u001b[33;03m    Execute the query and return the results as an\u001b[39;00m\n\u001b[32m   1197\u001b[39m \u001b[33;03m    [Apache Arrow Table](https://arrow.apache.org/docs/python/generated/pyarrow.Table.html#pyarrow.Table).\u001b[39;00m\n\u001b[32m   (...)\u001b[39m\u001b[32m   1207\u001b[39m \u001b[33;03m        If None, wait indefinitely.\u001b[39;00m\n\u001b[32m   1208\u001b[39m \u001b[33;03m    \"\"\"\u001b[39;00m\n\u001b[32m-> \u001b[39m\u001b[32m1209\u001b[39m     \u001b[38;5;28;01mreturn\u001b[39;00m \u001b[38;5;28;43mself\u001b[39;49m\u001b[43m.\u001b[49m\u001b[43mto_batches\u001b[49m\u001b[43m(\u001b[49m\u001b[43mtimeout\u001b[49m\u001b[43m=\u001b[49m\u001b[43mtimeout\u001b[49m\u001b[43m)\u001b[49m.read_all()\n",
      "\u001b[36mFile \u001b[39m\u001b[32m~/github/genai4humanities-wk14/.venv/lib/python3.11/site-packages/lancedb/query.py:1265\u001b[39m, in \u001b[36mLanceVectorQueryBuilder.to_batches\u001b[39m\u001b[34m(self, batch_size, timeout)\u001b[39m\n\u001b[32m   1263\u001b[39m     vector = [v.tolist() \u001b[38;5;28;01mfor\u001b[39;00m v \u001b[38;5;129;01min\u001b[39;00m vector]\n\u001b[32m   1264\u001b[39m query = \u001b[38;5;28mself\u001b[39m.to_query_object()\n\u001b[32m-> \u001b[39m\u001b[32m1265\u001b[39m result_set = \u001b[38;5;28;43mself\u001b[39;49m\u001b[43m.\u001b[49m\u001b[43m_table\u001b[49m\u001b[43m.\u001b[49m\u001b[43m_execute_query\u001b[49m\u001b[43m(\u001b[49m\n\u001b[32m   1266\u001b[39m \u001b[43m    \u001b[49m\u001b[43mquery\u001b[49m\u001b[43m,\u001b[49m\u001b[43m \u001b[49m\u001b[43mbatch_size\u001b[49m\u001b[43m=\u001b[49m\u001b[43mbatch_size\u001b[49m\u001b[43m,\u001b[49m\u001b[43m \u001b[49m\u001b[43mtimeout\u001b[49m\u001b[43m=\u001b[49m\u001b[43mtimeout\u001b[49m\n\u001b[32m   1267\u001b[39m \u001b[43m\u001b[49m\u001b[43m)\u001b[49m\n\u001b[32m   1268\u001b[39m \u001b[38;5;28;01mif\u001b[39;00m \u001b[38;5;28mself\u001b[39m._reranker \u001b[38;5;129;01mis\u001b[39;00m \u001b[38;5;129;01mnot\u001b[39;00m \u001b[38;5;28;01mNone\u001b[39;00m:\n\u001b[32m   1269\u001b[39m     rs_table = result_set.read_all()\n",
      "\u001b[36mFile \u001b[39m\u001b[32m~/github/genai4humanities-wk14/.venv/lib/python3.11/site-packages/lancedb/table.py:2381\u001b[39m, in \u001b[36mLanceTable._execute_query\u001b[39m\u001b[34m(self, query, batch_size, timeout)\u001b[39m\n\u001b[32m   2374\u001b[39m \u001b[38;5;28;01mdef\u001b[39;00m\u001b[38;5;250m \u001b[39m\u001b[34m_execute_query\u001b[39m(\n\u001b[32m   2375\u001b[39m     \u001b[38;5;28mself\u001b[39m,\n\u001b[32m   2376\u001b[39m     query: Query,\n\u001b[32m   (...)\u001b[39m\u001b[32m   2379\u001b[39m     timeout: Optional[timedelta] = \u001b[38;5;28;01mNone\u001b[39;00m,\n\u001b[32m   2380\u001b[39m ) -> pa.RecordBatchReader:\n\u001b[32m-> \u001b[39m\u001b[32m2381\u001b[39m     async_iter = \u001b[43mLOOP\u001b[49m\u001b[43m.\u001b[49m\u001b[43mrun\u001b[49m\u001b[43m(\u001b[49m\n\u001b[32m   2382\u001b[39m \u001b[43m        \u001b[49m\u001b[38;5;28;43mself\u001b[39;49m\u001b[43m.\u001b[49m\u001b[43m_table\u001b[49m\u001b[43m.\u001b[49m\u001b[43m_execute_query\u001b[49m\u001b[43m(\u001b[49m\u001b[43mquery\u001b[49m\u001b[43m,\u001b[49m\u001b[43m \u001b[49m\u001b[43mbatch_size\u001b[49m\u001b[43m=\u001b[49m\u001b[43mbatch_size\u001b[49m\u001b[43m,\u001b[49m\u001b[43m \u001b[49m\u001b[43mtimeout\u001b[49m\u001b[43m=\u001b[49m\u001b[43mtimeout\u001b[49m\u001b[43m)\u001b[49m\n\u001b[32m   2383\u001b[39m \u001b[43m    \u001b[49m\u001b[43m)\u001b[49m\n\u001b[32m   2385\u001b[39m     \u001b[38;5;28;01mdef\u001b[39;00m\u001b[38;5;250m \u001b[39m\u001b[34miter_sync\u001b[39m():\n\u001b[32m   2386\u001b[39m         \u001b[38;5;28;01mtry\u001b[39;00m:\n",
      "\u001b[36mFile \u001b[39m\u001b[32m~/github/genai4humanities-wk14/.venv/lib/python3.11/site-packages/lancedb/background_loop.py:25\u001b[39m, in \u001b[36mBackgroundEventLoop.run\u001b[39m\u001b[34m(self, future)\u001b[39m\n\u001b[32m     24\u001b[39m \u001b[38;5;28;01mdef\u001b[39;00m\u001b[38;5;250m \u001b[39m\u001b[34mrun\u001b[39m(\u001b[38;5;28mself\u001b[39m, future):\n\u001b[32m---> \u001b[39m\u001b[32m25\u001b[39m     \u001b[38;5;28;01mreturn\u001b[39;00m \u001b[43masyncio\u001b[49m\u001b[43m.\u001b[49m\u001b[43mrun_coroutine_threadsafe\u001b[49m\u001b[43m(\u001b[49m\u001b[43mfuture\u001b[49m\u001b[43m,\u001b[49m\u001b[43m \u001b[49m\u001b[38;5;28;43mself\u001b[39;49m\u001b[43m.\u001b[49m\u001b[43mloop\u001b[49m\u001b[43m)\u001b[49m\u001b[43m.\u001b[49m\u001b[43mresult\u001b[49m\u001b[43m(\u001b[49m\u001b[43m)\u001b[49m\n",
      "\u001b[36mFile \u001b[39m\u001b[32m~/.local/share/uv/python/cpython-3.11.11-linux-x86_64-gnu/lib/python3.11/concurrent/futures/_base.py:456\u001b[39m, in \u001b[36mFuture.result\u001b[39m\u001b[34m(self, timeout)\u001b[39m\n\u001b[32m    454\u001b[39m     \u001b[38;5;28;01mraise\u001b[39;00m CancelledError()\n\u001b[32m    455\u001b[39m \u001b[38;5;28;01melif\u001b[39;00m \u001b[38;5;28mself\u001b[39m._state == FINISHED:\n\u001b[32m--> \u001b[39m\u001b[32m456\u001b[39m     \u001b[38;5;28;01mreturn\u001b[39;00m \u001b[38;5;28;43mself\u001b[39;49m\u001b[43m.\u001b[49m\u001b[43m__get_result\u001b[49m\u001b[43m(\u001b[49m\u001b[43m)\u001b[49m\n\u001b[32m    457\u001b[39m \u001b[38;5;28;01melse\u001b[39;00m:\n\u001b[32m    458\u001b[39m     \u001b[38;5;28;01mraise\u001b[39;00m \u001b[38;5;167;01mTimeoutError\u001b[39;00m()\n",
      "\u001b[36mFile \u001b[39m\u001b[32m~/.local/share/uv/python/cpython-3.11.11-linux-x86_64-gnu/lib/python3.11/concurrent/futures/_base.py:401\u001b[39m, in \u001b[36mFuture.__get_result\u001b[39m\u001b[34m(self)\u001b[39m\n\u001b[32m    399\u001b[39m \u001b[38;5;28;01mif\u001b[39;00m \u001b[38;5;28mself\u001b[39m._exception:\n\u001b[32m    400\u001b[39m     \u001b[38;5;28;01mtry\u001b[39;00m:\n\u001b[32m--> \u001b[39m\u001b[32m401\u001b[39m         \u001b[38;5;28;01mraise\u001b[39;00m \u001b[38;5;28mself\u001b[39m._exception\n\u001b[32m    402\u001b[39m     \u001b[38;5;28;01mfinally\u001b[39;00m:\n\u001b[32m    403\u001b[39m         \u001b[38;5;66;03m# Break a reference cycle with the exception in self._exception\u001b[39;00m\n\u001b[32m    404\u001b[39m         \u001b[38;5;28mself\u001b[39m = \u001b[38;5;28;01mNone\u001b[39;00m\n",
      "\u001b[36mFile \u001b[39m\u001b[32m~/github/genai4humanities-wk14/.venv/lib/python3.11/site-packages/lancedb/table.py:3512\u001b[39m, in \u001b[36mAsyncTable._execute_query\u001b[39m\u001b[34m(self, query, batch_size, timeout)\u001b[39m\n\u001b[32m   3499\u001b[39m \u001b[38;5;28;01masync\u001b[39;00m \u001b[38;5;28;01mdef\u001b[39;00m\u001b[38;5;250m \u001b[39m\u001b[34m_execute_query\u001b[39m(\n\u001b[32m   3500\u001b[39m     \u001b[38;5;28mself\u001b[39m,\n\u001b[32m   3501\u001b[39m     query: Query,\n\u001b[32m   (...)\u001b[39m\u001b[32m   3507\u001b[39m     \u001b[38;5;66;03m# query to the async version of the query and run that here. This is only\u001b[39;00m\n\u001b[32m   3508\u001b[39m     \u001b[38;5;66;03m# used for that code path right now.\u001b[39;00m\n\u001b[32m   3510\u001b[39m     async_query = \u001b[38;5;28mself\u001b[39m._sync_query_to_async(query)\n\u001b[32m-> \u001b[39m\u001b[32m3512\u001b[39m     \u001b[38;5;28;01mreturn\u001b[39;00m \u001b[38;5;28;01mawait\u001b[39;00m async_query.to_batches(\n\u001b[32m   3513\u001b[39m         max_batch_length=batch_size, timeout=timeout\n\u001b[32m   3514\u001b[39m     )\n",
      "\u001b[36mFile \u001b[39m\u001b[32m~/github/genai4humanities-wk14/.venv/lib/python3.11/site-packages/lancedb/query.py:2784\u001b[39m, in \u001b[36mAsyncVectorQuery.to_batches\u001b[39m\u001b[34m(self, max_batch_length, timeout)\u001b[39m\n\u001b[32m   2778\u001b[39m \u001b[38;5;28;01masync\u001b[39;00m \u001b[38;5;28;01mdef\u001b[39;00m\u001b[38;5;250m \u001b[39m\u001b[34mto_batches\u001b[39m(\n\u001b[32m   2779\u001b[39m     \u001b[38;5;28mself\u001b[39m,\n\u001b[32m   2780\u001b[39m     *,\n\u001b[32m   2781\u001b[39m     max_batch_length: Optional[\u001b[38;5;28mint\u001b[39m] = \u001b[38;5;28;01mNone\u001b[39;00m,\n\u001b[32m   2782\u001b[39m     timeout: Optional[timedelta] = \u001b[38;5;28;01mNone\u001b[39;00m,\n\u001b[32m   2783\u001b[39m ) -> AsyncRecordBatchReader:\n\u001b[32m-> \u001b[39m\u001b[32m2784\u001b[39m     reader = \u001b[38;5;28;01mawait\u001b[39;00m \u001b[38;5;28msuper\u001b[39m().to_batches(timeout=timeout)\n\u001b[32m   2785\u001b[39m     results = pa.Table.from_batches(\u001b[38;5;28;01mawait\u001b[39;00m reader.read_all(), reader.schema)\n\u001b[32m   2786\u001b[39m     \u001b[38;5;28;01mif\u001b[39;00m \u001b[38;5;28mself\u001b[39m._reranker:\n",
      "\u001b[36mFile \u001b[39m\u001b[32m~/github/genai4humanities-wk14/.venv/lib/python3.11/site-packages/lancedb/query.py:2164\u001b[39m, in \u001b[36mAsyncQueryBase.to_batches\u001b[39m\u001b[34m(self, max_batch_length, timeout)\u001b[39m\n\u001b[32m   2141\u001b[39m \u001b[38;5;28;01masync\u001b[39;00m \u001b[38;5;28;01mdef\u001b[39;00m\u001b[38;5;250m \u001b[39m\u001b[34mto_batches\u001b[39m(\n\u001b[32m   2142\u001b[39m     \u001b[38;5;28mself\u001b[39m,\n\u001b[32m   2143\u001b[39m     *,\n\u001b[32m   2144\u001b[39m     max_batch_length: Optional[\u001b[38;5;28mint\u001b[39m] = \u001b[38;5;28;01mNone\u001b[39;00m,\n\u001b[32m   2145\u001b[39m     timeout: Optional[timedelta] = \u001b[38;5;28;01mNone\u001b[39;00m,\n\u001b[32m   2146\u001b[39m ) -> AsyncRecordBatchReader:\n\u001b[32m   2147\u001b[39m \u001b[38;5;250m    \u001b[39m\u001b[33;03m\"\"\"\u001b[39;00m\n\u001b[32m   2148\u001b[39m \u001b[33;03m    Execute the query and return the results as an Apache Arrow RecordBatchReader.\u001b[39;00m\n\u001b[32m   2149\u001b[39m \n\u001b[32m   (...)\u001b[39m\u001b[32m   2161\u001b[39m \u001b[33;03m        complete within the specified time, an error will be raised.\u001b[39;00m\n\u001b[32m   2162\u001b[39m \u001b[33;03m    \"\"\"\u001b[39;00m\n\u001b[32m   2163\u001b[39m     \u001b[38;5;28;01mreturn\u001b[39;00m AsyncRecordBatchReader(\n\u001b[32m-> \u001b[39m\u001b[32m2164\u001b[39m         \u001b[38;5;28;01mawait\u001b[39;00m \u001b[38;5;28mself\u001b[39m._inner.execute(max_batch_length, timeout)\n\u001b[32m   2165\u001b[39m     )\n",
      "\u001b[31mRuntimeError\u001b[39m: lance error: Invalid user input: query dim(10) doesn't match the column vector vector dim(384), /root/.cargo/registry/src/index.crates.io-6f17d22bba15001f/lance-0.26.0/src/dataset/scanner.rs:756:25"
     ]
    }
   ],
   "source": [
    "tbl.search(random_vector).limit(5).to_pandas()"
   ]
  },
  {
   "cell_type": "code",
   "execution_count": 22,
   "id": "8a01640b",
   "metadata": {},
   "outputs": [
    {
     "data": {
      "text/html": [
       "<div>\n",
       "<style scoped>\n",
       "    .dataframe tbody tr th:only-of-type {\n",
       "        vertical-align: middle;\n",
       "    }\n",
       "\n",
       "    .dataframe tbody tr th {\n",
       "        vertical-align: top;\n",
       "    }\n",
       "\n",
       "    .dataframe thead th {\n",
       "        text-align: right;\n",
       "    }\n",
       "</style>\n",
       "<table border=\"1\" class=\"dataframe\">\n",
       "  <thead>\n",
       "    <tr style=\"text-align: right;\">\n",
       "      <th></th>\n",
       "      <th>overview</th>\n",
       "      <th>original_title</th>\n",
       "      <th>_distance</th>\n",
       "    </tr>\n",
       "  </thead>\n",
       "  <tbody>\n",
       "    <tr>\n",
       "      <th>0</th>\n",
       "      <td>A modern reimagining of the classic romantic comedy, this contemporary version closely follows new love for two couples as they journey from the bar to the bedroom and are eventually put to the test in the real world.</td>\n",
       "      <td>About Last Night</td>\n",
       "      <td>20.804733</td>\n",
       "    </tr>\n",
       "    <tr>\n",
       "      <th>1</th>\n",
       "      <td>Spoof of romantic comedies which focuses on a man (Campbell), his crush (Hannigan), his parents (Coolidge, Willard), and her father (Griffin).</td>\n",
       "      <td>Date Movie</td>\n",
       "      <td>21.273169</td>\n",
       "    </tr>\n",
       "    <tr>\n",
       "      <th>2</th>\n",
       "      <td>Romantic comedy. A small town teenager's angst about sexual inexperience drives a comic quest for love and understanding on a birthday to end all birthdays.</td>\n",
       "      <td>16 to Life</td>\n",
       "      <td>22.505936</td>\n",
       "    </tr>\n",
       "    <tr>\n",
       "      <th>3</th>\n",
       "      <td>Dramatic comedy about two unlikely people who find each other while looking for love. Judith Nelson (Holly Hunter) is suddenly single after discovering her husband of fifteen years, a successful doctor (Martin Donovan), has been having an affair with a younger woman. Judith stews, plans, plots and fantasizes, but she can't decide what to do with her life until she goes out to a night club to see singer Liz Bailey (Queen Latifah), who is full of advice on life and love. While out on the town, Judith is suddenly kissed by a total stranger, which opens her eyes to new possibilities ... which is when she notices Pat (Danny De Vito), the elevator operator in her building.</td>\n",
       "      <td>Living Out Loud</td>\n",
       "      <td>24.331312</td>\n",
       "    </tr>\n",
       "    <tr>\n",
       "      <th>4</th>\n",
       "      <td>A romantic comedy centered on Dexter and Emma, who first meet during their graduation in 1988 and proceed to keep in touch regularly. The film follows what they do on July 15 annually, usually doing something together.</td>\n",
       "      <td>One Day</td>\n",
       "      <td>24.688421</td>\n",
       "    </tr>\n",
       "  </tbody>\n",
       "</table>\n",
       "</div>"
      ],
      "text/plain": [
       "                                                                                                                                                                                                                                                                                                                                                                                                                                                                                                                                                                                                                                                                                              overview  \\\n",
       "0  A modern reimagining of the classic romantic comedy, this contemporary version closely follows new love for two couples as they journey from the bar to the bedroom and are eventually put to the test in the real world.                                                                                                                                                                                                                                                                                                                                                                                                                                                                             \n",
       "1  Spoof of romantic comedies which focuses on a man (Campbell), his crush (Hannigan), his parents (Coolidge, Willard), and her father (Griffin).                                                                                                                                                                                                                                                                                                                                                                                                                                                                                                                                                        \n",
       "2  Romantic comedy. A small town teenager's angst about sexual inexperience drives a comic quest for love and understanding on a birthday to end all birthdays.                                                                                                                                                                                                                                                                                                                                                                                                                                                                                                                                          \n",
       "3  Dramatic comedy about two unlikely people who find each other while looking for love. Judith Nelson (Holly Hunter) is suddenly single after discovering her husband of fifteen years, a successful doctor (Martin Donovan), has been having an affair with a younger woman. Judith stews, plans, plots and fantasizes, but she can't decide what to do with her life until she goes out to a night club to see singer Liz Bailey (Queen Latifah), who is full of advice on life and love. While out on the town, Judith is suddenly kissed by a total stranger, which opens her eyes to new possibilities ... which is when she notices Pat (Danny De Vito), the elevator operator in her building.   \n",
       "4  A romantic comedy centered on Dexter and Emma, who first meet during their graduation in 1988 and proceed to keep in touch regularly. The film follows what they do on July 15 annually, usually doing something together.                                                                                                                                                                                                                                                                                                                                                                                                                                                                            \n",
       "\n",
       "     original_title  _distance  \n",
       "0  About Last Night  20.804733  \n",
       "1  Date Movie        21.273169  \n",
       "2  16 to Life        22.505936  \n",
       "3  Living Out Loud   24.331312  \n",
       "4  One Day           24.688421  "
      ]
     },
     "execution_count": 22,
     "metadata": {},
     "output_type": "execute_result"
    }
   ],
   "source": [
    "tbl.search(q_en_embedding).select([\"overview\", \"original_title\"]).limit(5).to_pandas()"
   ]
  },
  {
   "cell_type": "code",
   "execution_count": 23,
   "id": "b9eec11e",
   "metadata": {},
   "outputs": [
    {
     "data": {
      "text/html": [
       "<div>\n",
       "<style scoped>\n",
       "    .dataframe tbody tr th:only-of-type {\n",
       "        vertical-align: middle;\n",
       "    }\n",
       "\n",
       "    .dataframe tbody tr th {\n",
       "        vertical-align: top;\n",
       "    }\n",
       "\n",
       "    .dataframe thead th {\n",
       "        text-align: right;\n",
       "    }\n",
       "</style>\n",
       "<table border=\"1\" class=\"dataframe\">\n",
       "  <thead>\n",
       "    <tr style=\"text-align: right;\">\n",
       "      <th></th>\n",
       "      <th>overview</th>\n",
       "      <th>original_title</th>\n",
       "      <th>_distance</th>\n",
       "    </tr>\n",
       "  </thead>\n",
       "  <tbody>\n",
       "    <tr>\n",
       "      <th>0</th>\n",
       "      <td>Spoof of romantic comedies which focuses on a man (Campbell), his crush (Hannigan), his parents (Coolidge, Willard), and her father (Griffin).</td>\n",
       "      <td>Date Movie</td>\n",
       "      <td>13.745854</td>\n",
       "    </tr>\n",
       "    <tr>\n",
       "      <th>1</th>\n",
       "      <td>A modern reimagining of the classic romantic comedy, this contemporary version closely follows new love for two couples as they journey from the bar to the bedroom and are eventually put to the test in the real world.</td>\n",
       "      <td>About Last Night</td>\n",
       "      <td>13.997502</td>\n",
       "    </tr>\n",
       "    <tr>\n",
       "      <th>2</th>\n",
       "      <td>Romantic comedy. A small town teenager's angst about sexual inexperience drives a comic quest for love and understanding on a birthday to end all birthdays.</td>\n",
       "      <td>16 to Life</td>\n",
       "      <td>15.334779</td>\n",
       "    </tr>\n",
       "    <tr>\n",
       "      <th>3</th>\n",
       "      <td>Dramatic comedy about two unlikely people who find each other while looking for love. Judith Nelson (Holly Hunter) is suddenly single after discovering her husband of fifteen years, a successful doctor (Martin Donovan), has been having an affair with a younger woman. Judith stews, plans, plots and fantasizes, but she can't decide what to do with her life until she goes out to a night club to see singer Liz Bailey (Queen Latifah), who is full of advice on life and love. While out on the town, Judith is suddenly kissed by a total stranger, which opens her eyes to new possibilities ... which is when she notices Pat (Danny De Vito), the elevator operator in her building.</td>\n",
       "      <td>Living Out Loud</td>\n",
       "      <td>16.062124</td>\n",
       "    </tr>\n",
       "    <tr>\n",
       "      <th>4</th>\n",
       "      <td>A sparkling comedic chronicle of a middle-class young man’s romantic misadventures among New York City’s debutante society. Stillman’s deft, literate dialogue and hilariously highbrow observations earned this debut film an Academy Award nomination for Best Original Screenplay. Alongside the wit and sophistication, though, lies a tender tale of adolescent anxiety.</td>\n",
       "      <td>Metropolitan</td>\n",
       "      <td>16.759302</td>\n",
       "    </tr>\n",
       "  </tbody>\n",
       "</table>\n",
       "</div>"
      ],
      "text/plain": [
       "                                                                                                                                                                                                                                                                                                                                                                                                                                                                                                                                                                                                                                                                                              overview  \\\n",
       "0  Spoof of romantic comedies which focuses on a man (Campbell), his crush (Hannigan), his parents (Coolidge, Willard), and her father (Griffin).                                                                                                                                                                                                                                                                                                                                                                                                                                                                                                                                                        \n",
       "1  A modern reimagining of the classic romantic comedy, this contemporary version closely follows new love for two couples as they journey from the bar to the bedroom and are eventually put to the test in the real world.                                                                                                                                                                                                                                                                                                                                                                                                                                                                             \n",
       "2  Romantic comedy. A small town teenager's angst about sexual inexperience drives a comic quest for love and understanding on a birthday to end all birthdays.                                                                                                                                                                                                                                                                                                                                                                                                                                                                                                                                          \n",
       "3  Dramatic comedy about two unlikely people who find each other while looking for love. Judith Nelson (Holly Hunter) is suddenly single after discovering her husband of fifteen years, a successful doctor (Martin Donovan), has been having an affair with a younger woman. Judith stews, plans, plots and fantasizes, but she can't decide what to do with her life until she goes out to a night club to see singer Liz Bailey (Queen Latifah), who is full of advice on life and love. While out on the town, Judith is suddenly kissed by a total stranger, which opens her eyes to new possibilities ... which is when she notices Pat (Danny De Vito), the elevator operator in her building.   \n",
       "4  A sparkling comedic chronicle of a middle-class young man’s romantic misadventures among New York City’s debutante society. Stillman’s deft, literate dialogue and hilariously highbrow observations earned this debut film an Academy Award nomination for Best Original Screenplay. Alongside the wit and sophistication, though, lies a tender tale of adolescent anxiety.                                                                                                                                                                                                                                                                                                                         \n",
       "\n",
       "     original_title  _distance  \n",
       "0  Date Movie        13.745854  \n",
       "1  About Last Night  13.997502  \n",
       "2  16 to Life        15.334779  \n",
       "3  Living Out Loud   16.062124  \n",
       "4  Metropolitan      16.759302  "
      ]
     },
     "execution_count": 23,
     "metadata": {},
     "output_type": "execute_result"
    }
   ],
   "source": [
    "tbl.search(q_zh_embedding).select([\"overview\", \"original_title\"]).limit(5).to_pandas()"
   ]
  },
  {
   "cell_type": "markdown",
   "id": "bb34833f",
   "metadata": {},
   "source": [
    "# Function calling\n",
    "\n",
    "We'll use RAG to demonstrate LLM function calling."
   ]
  },
  {
   "cell_type": "code",
   "execution_count": 5,
   "id": "5b5d22e3",
   "metadata": {},
   "outputs": [
    {
     "name": "stdout",
     "output_type": "stream",
     "text": [
      "['movies']\n"
     ]
    }
   ],
   "source": [
    "embedder = SentenceTransformer(\n",
    "    \"sentence-transformers/paraphrase-multilingual-MiniLM-L12-v2\",\n",
    "    device=\"cpu\",\n",
    ")\n",
    "db = lancedb.connect(\"./data/lance_db\")\n",
    "print(db.table_names())\n",
    "tbl = db.open_table(\"movies\")"
   ]
  },
  {
   "cell_type": "code",
   "execution_count": 6,
   "id": "0c3b3044",
   "metadata": {},
   "outputs": [],
   "source": [
    "def query_movie_db(\n",
    "    text: str,\n",
    "    limit: int = 10,\n",
    ") -> ToolCallResult:\n",
    "    \"\"\"\n",
    "    Query the LanceDB movie database for movies with similar overviews to the input text.\n",
    "\n",
    "    Args:\n",
    "        text (str): The input text to query the database.\n",
    "        limit (int, optional): The number of results to return. Defaults to 10.\n",
    "\n",
    "    Returns:\n",
    "        ToolCallResult: The result of the tool call.\n",
    "    \"\"\"\n",
    "    q_emb = embedder.encode(text)\n",
    "    df = (\n",
    "        tbl.search(q_emb).limit(limit).to_pandas().drop(columns=[\"vector\", \"_distance\"])\n",
    "    )\n",
    "    return {\n",
    "        \"llm_consumable\": df.to_json(lines=True, orient=\"records\"),\n",
    "        \"ui_displayable\": df,\n",
    "        \"return_type\": \"dataframe\",\n",
    "    }\n"
   ]
  },
  {
   "cell_type": "code",
   "execution_count": 7,
   "id": "55c14be0",
   "metadata": {},
   "outputs": [
    {
     "name": "stdout",
     "output_type": "stream",
     "text": [
      "{\"budget\":3500000,\"genres\":[\"Comedy\"],\"keywords\":[\"chicago\",\"alcohol\",\"cataclysm\",\"guitar\",\"medicine\",\"taxi driver\",\"passenger\",\"saxophone\",\"stewardess\",\"pilot\",\"airplane\",\"fear of flying\",\"air controller\",\"landing\",\"autopilot\",\"kiss\",\"spoof\",\"los angeles\",\"alcohol abuse\",\"aftercreditsstinger\",\"anarchic comedy\"],\"original_language\":\"en\",\"overview\":\"Alcoholic pilot, Ted Striker has developed a fear of flying due to wartime trauma, but nevertheless boards a passenger jet in an attempt to woo back his stewardess girlfriend. Food poisoning decimates the passengers and crew, leaving it up to Striker to land the plane with the help of a glue-sniffing air traffic controller and Striker's vengeful former Air Force captain, who must both talk him down.\",\"popularity\":46.116885,\"release_date\":331344000000,\"revenue\":83453539,\"runtime\":88.0,\"spoken_languages\":[\"English\"],\"title\":\"Airplane!\",\"cast\":[{\"character\":\"Ted Striker\",\"name\":\"Robert Hays\"},{\"character\":\"Elaine\",\"name\":\"Julie Hagerty\"},{\"character\":\"Murdock\",\"name\":\"Kareem Abdul-Jabbar\"},{\"character\":\"McCroskey\",\"name\":\"Lloyd Bridges\"},{\"character\":\"Captain Oveur\",\"name\":\"Peter Graves\"},{\"character\":\"Dr. Rumack\",\"name\":\"Leslie Nielsen\"},{\"character\":\"Randy\",\"name\":\"Lorna Patterson\"},{\"character\":\"Rex Kramer\",\"name\":\"Robert Stack\"},{\"character\":\"Johnny\",\"name\":\"Stephen Stucker\"},{\"character\":\"Religious zealot #6\",\"name\":\"Jim Abrahams\"},{\"character\":\"Victor Basta\",\"name\":\"Frank Ashmore\"},{\"character\":\"Gunderson\",\"name\":\"Jonathan Banks\"},{\"character\":\"Paul Carey\",\"name\":\"Craig Berenson\"},{\"character\":\"Jive Lady\",\"name\":\"Barbara Billingsley\"},{\"character\":\"Mrs. Hammen\",\"name\":\"Lee Bryant\"},{\"character\":\"Mrs. Davis\",\"name\":\"Joyce Bulifant\"},{\"character\":\"Security Lady\",\"name\":\"Mae E. Campbell\"},{\"character\":\"Lieutenant Hurwitz\",\"name\":\"Ethel Merman\"},{\"character\":\"Windshield Wiper Man\",\"name\":\"Jimmie Walker\"},{\"character\":\"Lisa Davis\",\"name\":\"Jill Whelan\"},{\"character\":\"\",\"name\":\"Kitten Natividad\"},{\"character\":\"Cocaine Lady\",\"name\":\"Nora Meerbaum\"},{\"character\":\"Air Controller Neubauer\",\"name\":\"Kenneth Tobey\"}],\"release_year\":1980}\n",
      "{\"budget\":209000000,\"genres\":[\"Thriller\",\"Action\",\"Adventure\",\"Science Fiction\"],\"keywords\":[\"fight\",\"u.s. navy\",\"mind reading\",\"hong kong\",\"soccer\",\"scientist\",\"fictional war\",\"naval\",\"armada\",\"battleship\",\"naval combat\",\"jds myoko\",\"lost communication\",\"taser\",\"buoy\",\"communications expert\",\"joint chiefs of staff\",\"crash landing\",\"jet fighter pilot\",\"navy lieutenant\",\"permission to marry\",\"uss john paul jones\",\"based on board game\",\"aftercreditsstinger\",\"mighty mo\",\"uss missouri\"],\"original_language\":\"en\",\"overview\":\"When mankind beams a radio signal into space, a reply comes from \\u2018Planet G\\u2019, in the form of several alien crafts that splash down in the waters off Hawaii. Lieutenant Alex Hopper is a weapons officer assigned to the USS John Paul Jones, part of an international naval coalition which becomes the world's last hope for survival as they engage the hostile alien force of unimaginable strength. While taking on the invaders, Hopper must also try to live up to the potential his brother, and his fianc\\u00e9e's father, Admiral Shane, expect of him.\",\"popularity\":64.928382,\"release_date\":1334102400000,\"revenue\":303025485,\"runtime\":131.0,\"spoken_languages\":[\"English\",\"\\u0e20\\u0e32\\u0e29\\u0e32\\u0e44\\u0e17\\u0e22\"],\"title\":\"Battleship\",\"cast\":[{\"character\":\"Lieutenant Alex Hopper\",\"name\":\"Taylor Kitsch\"},{\"character\":\"Commander Stone Hopper\",\"name\":\"Alexander Skarsg\\u00e5rd\"},{\"character\":\"Petty Officer Cora 'Weps' Raikes\",\"name\":\"Rihanna\"},{\"character\":\"Sam\",\"name\":\"Brooklyn Decker\"},{\"character\":\"Captain Yugi Nagata\",\"name\":\"Tadanobu Asano\"},{\"character\":\"Admiral Shane\",\"name\":\"Liam Neeson\"},{\"character\":\"Lieutenant Colonel Mick Canales\",\"name\":\"Gregory D. Gadson\"},{\"character\":\"Cal Zapata\",\"name\":\"Hamish Linklater\"},{\"character\":\"Boatswain Mate Seaman Jimmy \\\"Ordy\\\" Ord\",\"name\":\"Jesse Plemons\"},{\"character\":\"Chief Petty Officer Walter \\\"The Beast\\\" Lynch\",\"name\":\"John Tui\"},{\"character\":\"Sampson JOOD Strodell\",\"name\":\"Jerry Ferrara\"},{\"character\":\"NASA Director\",\"name\":\"David Jensen\"},{\"character\":\"JPJ 2nd Gunner\",\"name\":\"Peter Berg\"},{\"character\":\"Dr. Nogrady\",\"name\":\"Adam Godley\"},{\"character\":\"Captain Browley\",\"name\":\"Rico McClinton\"},{\"character\":\"Chief Engineer Hiroki\",\"name\":\"Joji Yoshida\"},{\"character\":\"JPJ OOD\",\"name\":\"Stephen Bishop\"},{\"character\":\"JPJ Fireman\",\"name\":\"Austin Naulty\"},{\"character\":\"JPJ Scat\",\"name\":\"James Rawlings\"},{\"character\":\"Electronic Warfare Supervisor\",\"name\":\"Dustin J. Reno\"},{\"character\":\"Chairman, Joint Chiefs of Staff\",\"name\":\"Rick Hoffman\"},{\"character\":\"Air Force Chief of Staff\",\"name\":\"Gary Grubbs\"},{\"character\":\"Watch Officer\",\"name\":\"Rami Malek\"},{\"character\":\"Secretary of Defense\",\"name\":\"Peter MacNicol\"},{\"character\":\"Bartender\",\"name\":\"Louis Lombardi\"},{\"character\":\"JPJ Sailor\",\"name\":\"Jordan Kirkwood\"},{\"character\":\"CIC Watch Supervisor\",\"name\":\"Doug Penty\"},{\"character\":\"CIC Gunner\",\"name\":\"Carson Aune\"},{\"character\":\"Combat Systems Coordinator\",\"name\":\"Josh Pence\"},{\"character\":\"JPJ Port Gunner\",\"name\":\"Lloyd Pitts\"},{\"character\":\"British Newscaster\",\"name\":\"Michelle Arthur\"},{\"character\":\"Spanish Newscaster\",\"name\":\"Natalia Castellanos\"},{\"character\":\"Japanese Newscaster\",\"name\":\"Leni Ito\"},{\"character\":\"Jackie Johnson\",\"name\":\"Jackie Johnson\"},{\"character\":\"Cal's Female Colleague\",\"name\":\"Kerry Cahill\"},{\"character\":\"Old Salt\",\"name\":\"Norman Vincent McLafferty\"},{\"character\":\"JPJ XO Mullenaro\",\"name\":\"Dante Jimenez\"},{\"character\":\"JPJ Helmsman\",\"name\":\"Daven Arce\"},{\"character\":\"JPJ Starboard Gunner\",\"name\":\"Ralph Richardson\"},{\"character\":\"JPJ BMOW\",\"name\":\"Biunca Love\"},{\"character\":\"Regent Sea Commander\",\"name\":\"Kyle Russell Clements\"},{\"character\":\"Myoko XO\",\"name\":\"Yutaka Takeuchi\"},{\"character\":\"JPJ Sailor\",\"name\":\"John A Weaver\"},{\"character\":\"Sampson OOD\",\"name\":\"Dane Justman\"},{\"character\":\"Sampson XO\",\"name\":\"Drew Rausch\"},{\"character\":\"Marine Commandant\",\"name\":\"Bill Stinchcomb\"}],\"release_year\":2012}\n",
      "{\"budget\":0,\"genres\":[\"Comedy\"],\"keywords\":[\"independent film\"],\"original_language\":\"en\",\"overview\":\"\\u201cThe Living Wake\\u201d is a dark comedy set in a timeless storybook universe. Self-proclaimed artist and genius, K. Roth Binew, has one day to live. He has enlisted his best and only friend, Mills Joquin, to take him around on a bicycle powered rickshaw. In a final attempt to probe life\\u2019s deepest mysteries, Binew endures one ridiculous trial after the next. He concludes his day with a final performance, his living wake. On a makeshift stage in an open field, Binew\\u2019s friends and enemies gather to witness his madness one final time.\",\"popularity\":0.383442,\"release_date\":1167609600000,\"revenue\":0,\"runtime\":91.0,\"spoken_languages\":[],\"title\":\"The Living Wake\",\"cast\":[{\"character\":\"Mills\",\"name\":\"Jesse Eisenberg\"},{\"character\":\"K. Roth Binew\",\"name\":\"Mike O'Connell\"},{\"character\":\"Lampert Binew\",\"name\":\"Jim Gaffigan\"},{\"character\":\"Librarian\",\"name\":\"Ann Dowd\"},{\"character\":\"Prostitute\",\"name\":\"Colombe Jacobsen-Derstine\"},{\"character\":\"Reginald\",\"name\":\"Eddie Pepitone\"}],\"release_year\":2007}\n",
      "{\"budget\":2627000,\"genres\":[\"Drama\",\"Romance\",\"War\"],\"keywords\":[\"pilot\",\"airplane\",\"ghost\"],\"original_language\":\"en\",\"overview\":\"Pete Sandidge (Tracy), a daredevil bomber pilot, dies when he crashes his plane into a German aircraft carrier, leaving his devoted girlfriend, Dorinda (Irene Dunne), who is also a pilot, heartbroken. In heaven, Pete receives a new assignment: he is to become the guardian angel for Ted Randall (Van Johnson), a young Army flyer. Invisibly, Pete guides Ted through flight school and into combat, but the ectoplasmic mentor's tolerance is tested when Ted falls for Dorinda. Ultimately, however, Pete not only comes to terms with their relationship but also acts as Dorinda's copilot when she undertakes a dangerous bombing raid, so that Ted won't have to. Remade by Steven Speilberg in 1989 as ALWAYS\",\"popularity\":0.531444,\"release_date\":-815356800000,\"revenue\":5363000,\"runtime\":120.0,\"spoken_languages\":[\"English\"],\"title\":\"A Guy Named Joe\",\"cast\":[{\"character\":\"Pete Sandidge\",\"name\":\"Spencer Tracy\"},{\"character\":\"Dorinda Durston\",\"name\":\"Irene Dunne\"},{\"character\":\"Ted Randall\",\"name\":\"Van Johnson\"},{\"character\":\"Al Yackey\",\"name\":\"Ward Bond\"},{\"character\":\"'Nails' Kilpatrick\",\"name\":\"James Gleason\"},{\"character\":\"The General\",\"name\":\"Lionel Barrymore\"},{\"character\":\"Dick Rumney\",\"name\":\"Barry Nelson\"},{\"character\":\"Ellen Bright\",\"name\":\"Esther Williams\"},{\"character\":\"Col. Sykes\",\"name\":\"Henry O'Neill\"},{\"character\":\"James J. Rourke\",\"name\":\"Don DeFore\"},{\"character\":\"Sanderson\",\"name\":\"Charles Smith\"},{\"character\":\"Maj. Corbett\",\"name\":\"Addison Richards\"},{\"character\":\"Henderson\",\"name\":\"Irving Bacon\"},{\"character\":\"Girlfriend of Rourke\",\"name\":\"Eve Whitney\"}],\"release_year\":1944}\n",
      "{\"budget\":6500000,\"genres\":[\"Comedy\",\"Drama\"],\"keywords\":[\"father son relationship\",\"capitalism\",\"based on novel\",\"smoking\",\"lie\",\"cigarette\",\"research\",\"law\",\"health\",\"marketing\",\"politics\",\"politician\",\"tobacco\",\"liar\",\"dark comedy\",\"cancer\",\"independent film\",\"money\",\"morality\",\"social satire\",\"cigarette smoking\",\"business\",\"advertising\",\"guilt\",\"humiliation\",\"lobby\",\"bribe\",\"corporation\",\"lung cancer\",\"lobbyist\",\"tobacco industry\",\"nicotine\"],\"original_language\":\"en\",\"overview\":\"The chief spokesperson and lobbyist Nick Naylor is the Vice-President of the Academy of Tobacco Studies. He is talented in speaking and spins argument to defend the cigarette industry in the most difficult situations. His best friends are Polly Bailey that works in the Moderation Council in alcohol business, and Bobby Jay Bliss of the gun business own advisory group SAFETY. They frequently meet each other in a bar and they self-entitle the Mod Squad a.k.a. Merchants of Death, disputing which industry has killed more people. Nick's greatest enemy is Vermont's Senator Ortolan Finistirre, who defends in the Senate the use a skull and crossed bones in the cigarette packs. Nick's son Joey Naylor lives with his mother, and has the chance to know his father in a business trip. When the ambitious reporter Heather Holloway betrays Nick disclosing confidences he had in bed with her, his life turns upside-down. But Nick is good in what he does for the mortgage.\",\"popularity\":29.01153,\"release_date\":1125878400000,\"revenue\":24793509,\"runtime\":92.0,\"spoken_languages\":[\"English\"],\"title\":\"Thank You for Smoking\",\"cast\":[{\"character\":\"Nick Naylor\",\"name\":\"Aaron Eckhart\"},{\"character\":\"Polly Bailey\",\"name\":\"Maria Bello\"},{\"character\":\"Joey Naylor\",\"name\":\"Cameron Bright\"},{\"character\":\"Jack\",\"name\":\"Adam Brody\"},{\"character\":\"Lorne Lutch\",\"name\":\"Sam Elliott\"},{\"character\":\"Heather Holloway\",\"name\":\"Katie Holmes\"},{\"character\":\"Jeff Megall\",\"name\":\"Rob Lowe\"},{\"character\":\"Senator Ortolan Finistirre\",\"name\":\"William H. Macy\"},{\"character\":\"The Captain\",\"name\":\"Robert Duvall\"},{\"character\":\"Bobby Jay Bliss\",\"name\":\"David Koechner\"},{\"character\":\"BR\",\"name\":\"J.K. Simmons\"},{\"character\":\"Jill Naylor\",\"name\":\"Kim Dickens\"},{\"character\":\"Pearl\",\"name\":\"Connie Ray\"},{\"character\":\"Joan Lunden\",\"name\":\"Joan Lunden\"},{\"character\":\"Sue Maclean\",\"name\":\"Mary Jo Smith\"},{\"character\":\"Ron Goode\",\"name\":\"Todd Louiso\"},{\"character\":\"Kidnapper\",\"name\":\"Jeff Witzke\"},{\"character\":\"Teacher\",\"name\":\"Marianne Muellerleile\"},{\"character\":\"Kid #2\",\"name\":\"Jordan Garrett\"},{\"character\":\"Kid #3\",\"name\":\"Courtney Taylor Burness\"},{\"character\":\"Brad\",\"name\":\"Daniel Travis\"},{\"character\":\"Trainee\",\"name\":\"Richard Speight Jr.\"},{\"character\":\"Tiffany\",\"name\":\"Ren\\u00e9e Graham\"},{\"character\":\"EGO Assistant\",\"name\":\"Timothy Dowling\"},{\"character\":\"Dennis Miller\",\"name\":\"Dennis Miller\"},{\"character\":\"Ski Mask #1\",\"name\":\"Terry James\"},{\"character\":\"Ski Mask #2\",\"name\":\"Marc Scizak\"},{\"character\":\"Flighty Girl\",\"name\":\"Rachel Thorp\"},{\"character\":\"Doctor\",\"name\":\"Aaron Lustig\"},{\"character\":\"Interviewer\",\"name\":\"Melora Hardin\"},{\"character\":\"FBI Agent (voice)\",\"name\":\"Brian Palermo\"},{\"character\":\"Dr. Meisenbach\",\"name\":\"Michael Mantell\"},{\"character\":\"Senator Lothridge\",\"name\":\"Spencer Garrett\"},{\"character\":\"Senator Dupree\",\"name\":\"Earl Billings\"},{\"character\":\"Reporter #1\",\"name\":\"Catherine Reitman\"},{\"character\":\"Reporter #2\",\"name\":\"Sean Patrick Murphy\"},{\"character\":\"Oil Lobbyist\",\"name\":\"David O. Sacks\"},{\"character\":\"Nancy Humphries O'Dell\",\"name\":\"Nancy O'Dell\"},{\"character\":\"Debate Moderator\",\"name\":\"Roy Jenkins\"},{\"character\":\"Gentleman #2\",\"name\":\"Bruce French\"},{\"character\":\"Man at Metro Station (uncredited)\",\"name\":\"Christopher Buckley\"},{\"character\":\"Hotel Phone Operator (voice) (uncredited)\",\"name\":\"Dana E. Glauberman\"},{\"character\":\"Flight Attendant (uncredited)\",\"name\":\"Eva La Dare\"},{\"character\":\"Peter (uncredited)\",\"name\":\"Robert Malina\"},{\"character\":\"Gizelle (voice) (uncredited)\",\"name\":\"Aloma Wright\"}],\"release_year\":2005}\n",
      "{\"budget\":3000000,\"genres\":[\"Comedy\",\"Drama\",\"Romance\"],\"keywords\":[\"new york\",\"new year's eve\",\"lovesickness\",\"age difference\",\"suicide attempt\",\"office\",\"flat\",\"spaghetti\",\"christmas party\",\"winter\",\"clerk\",\"tennis racket\",\"romantic comedy\",\"extramarital affair\"],\"original_language\":\"en\",\"overview\":\"Bud Baxter is a minor clerk in a huge New York insurance company, until he discovers a quick way to climb the corporate ladder. He lends out his apartment to the executives as a place to take their mistresses. Although he often has to deal with the aftermath of their visits, one night he's left with a major problem to solve.\",\"popularity\":22.889294,\"release_date\":-301276800000,\"revenue\":25000000,\"runtime\":125.0,\"spoken_languages\":[\"English\"],\"title\":\"The Apartment\",\"cast\":[{\"character\":\"C.C. Baxter\",\"name\":\"Jack Lemmon\"},{\"character\":\"Fran Kubelik\",\"name\":\"Shirley MacLaine\"},{\"character\":\"Jeff D. Sheldrake\",\"name\":\"Fred MacMurray\"},{\"character\":\"Joe Dobisch\",\"name\":\"Ray Walston\"},{\"character\":\"Dr. Dreyfuss\",\"name\":\"Jack Kruschen\"},{\"character\":\"Mrs. Mildred Dreyfuss\",\"name\":\"Naomi Stevens\"},{\"character\":\"Mrs. Margie MacDougall\",\"name\":\"Hope Holiday\"},{\"character\":\"Miss Olsen\",\"name\":\"Edie Adams\"},{\"character\":\"Sylvia\",\"name\":\"Joan Shawlee\"},{\"character\":\"Karl Matuschka\",\"name\":\"Johnny Seven\"},{\"character\":\"Al Kirkeby\",\"name\":\"David Lewis\"},{\"character\":\"The Blonde\",\"name\":\"Joyce Jameson\"},{\"character\":\"Mr. Vanderhoff\",\"name\":\"Willard Waterman\"},{\"character\":\"Mr. Eichelberger\",\"name\":\"David White\"},{\"character\":\"Office Worker (uncredited)\",\"name\":\"Dorothy Abbott\"},{\"character\":\"Office Worker (uncredited)\",\"name\":\"Ralph Moratz\"},{\"character\":\"Office Maintenance Man (uncredited)\",\"name\":\"Joe Palma\"},{\"character\":\"TV Movie Host (uncredited)\",\"name\":\"Bill Baldwin\"},{\"character\":\"Charlie - Bartender (uncredited)\",\"name\":\"Benny Burt\"},{\"character\":\"Elevator Supervisor with Clicker (uncredited)\",\"name\":\"Lynn Cartwright\"},{\"character\":\"Bit Part (uncredited)\",\"name\":\"Mason Curry\"},{\"character\":\"Messenger (uncredited)\",\"name\":\"David Macklin\"},{\"character\":\"Man in Santa Claus Suit (uncredited)\",\"name\":\"Hal Smith\"}],\"release_year\":1960}\n",
      "{\"budget\":25000000,\"genres\":[\"Drama\"],\"keywords\":[\"baseball\",\"sport\",\"duringcreditsstinger\"],\"original_language\":\"en\",\"overview\":\"In a last-ditch effort to save his career, sports agent JB Bernstein (Jon Hamm) dreams up a wild game plan to find Major League Baseball\\u2019s next great pitcher from a pool of cricket players in India. He soon discovers two young men who can throw a fastball but know nothing about the game of baseball. Or America. It\\u2019s an incredible and touching journey that will change them all \\u2014 especially JB, who learns valuable lessons about teamwork, commitment and family.\",\"popularity\":17.312433,\"release_date\":1399593600000,\"revenue\":38307627,\"runtime\":124.0,\"spoken_languages\":[\"\\u0939\\u093f\\u0928\\u094d\\u0926\\u0940\",\"English\"],\"title\":\"Million Dollar Arm\",\"cast\":[{\"character\":\"J. B. Bernstein\",\"name\":\"Jon Hamm\"},{\"character\":\"Tom House\",\"name\":\"Bill Paxton\"},{\"character\":\"Brenda Paauwe\",\"name\":\"Lake Bell\"},{\"character\":\"Rinku\",\"name\":\"Suraj Sharma\"},{\"character\":\"Ash Vasudevan\",\"name\":\"Aasif Mandvi\"},{\"character\":\"Dinesh\",\"name\":\"Madhur Mittal\"},{\"character\":\"Amit\",\"name\":\"Pitobash\"},{\"character\":\"Ray Arkin\",\"name\":\"Alan Arkin\"},{\"character\":\"Lisette\",\"name\":\"Bar Paly\"},{\"character\":\"Pete\",\"name\":\"Al Sapienza\"},{\"character\":\"Chang\",\"name\":\"Tzi Ma\"},{\"character\":\"Theresa\",\"name\":\"Allyn Rachel\"},{\"character\":\"Indian Reporter\",\"name\":\"Ravi Naidu\"},{\"character\":\"Hot Girl\",\"name\":\"Gabriela Lopez\"}],\"release_year\":2014}\n",
      "{\"budget\":0,\"genres\":[\"Action\",\"Comedy\",\"Science Fiction\"],\"keywords\":[],\"original_language\":\"en\",\"overview\":\" \",\"popularity\":0.0206,\"release_date\":1104537600000,\"revenue\":0,\"runtime\":97.0,\"spoken_languages\":[\"English\"],\"title\":\"The Helix... Loaded\",\"cast\":[],\"release_year\":2005}\n",
      "{\"budget\":31000000,\"genres\":[\"Drama\"],\"keywords\":[\"confession\",\"airplane\",\"f word\",\"hangover\",\"airplane crash\",\"syringe\",\"denial\",\"porn actress\",\"jesus freak\",\"baseball stadium\",\"perjury\",\"national transportation safety board\",\"flying upside down\",\"narcissist\",\"relapse\",\"substance abuse\"],\"original_language\":\"en\",\"overview\":\"Commercial airline pilot Whip Whitaker has a problem with drugs and alcohol, though so far he's managed to complete his flights safely. His luck runs out when a disastrous mechanical malfunction sends his plane hurtling toward the ground. Whip pulls off a miraculous crash-landing that results in only six lives lost. Shaken to the core, Whip vows to get sober -- but when the crash investigation exposes his addiction, he finds himself in an even worse situation.\",\"popularity\":42.213765,\"release_date\":1351814400000,\"revenue\":161772375,\"runtime\":138.0,\"spoken_languages\":[\"English\"],\"title\":\"Flight\",\"cast\":[{\"character\":\"Whip Whitaker\",\"name\":\"Denzel Washington\"},{\"character\":\"Hugh Lang\",\"name\":\"Don Cheadle\"},{\"character\":\"Charlie Anderson\",\"name\":\"Bruce Greenwood\"},{\"character\":\"Nicole\",\"name\":\"Kelly Reilly\"},{\"character\":\"Harling Mays\",\"name\":\"John Goodman\"},{\"character\":\"Ken Evans\",\"name\":\"Brian Geraghty\"},{\"character\":\"Katerina Marquez\",\"name\":\"Nadine Velazquez\"},{\"character\":\"Margaret Thomason\",\"name\":\"Tamara Tunie\"},{\"character\":\"Ellen Block\",\"name\":\"Melissa Leo\"},{\"character\":\"Deana\",\"name\":\"Garcelle Beauvais\"},{\"character\":\"Will Whitaker Jr.\",\"name\":\"Justin Martin\"},{\"character\":\"Avington Carr\",\"name\":\"Peter Gerety\"},{\"character\":\"Man in Hallway\",\"name\":\"James Badge Dale\"},{\"character\":\"Peach Tree Employee\",\"name\":\"Sharon Blackwood\"},{\"character\":\"Son on Plane\",\"name\":\"Carter Cabassa\"},{\"character\":\"Field Reporter\",\"name\":\"John Crow\"},{\"character\":\"Derek Hogue\",\"name\":\"Dane Davenport\"},{\"character\":\"\",\"name\":\"Piers Morgan\"}],\"release_year\":2012}\n",
      "{\"budget\":35000000,\"genres\":[\"Animation\",\"Family\",\"Adventure\"],\"keywords\":[\"animation\",\"animal\",\"3d\"],\"original_language\":\"en\",\"overview\":\"The animated comedy tells the story of a lowly wood pigeon named Valiant, who overcomes his small size to become a hero in Great Britain's Royal Air Force Homing Pigeon Service during World War II. The RHPS advanced the Allied cause by flying vital messages about enemy movements across the English Channel, whilst evading brutal attacks by the enemy's Falcon Brigade.\",\"popularity\":14.051852,\"release_date\":1111708800000,\"revenue\":19478106,\"runtime\":76.0,\"spoken_languages\":[\"English\"],\"title\":\"Valiant\",\"cast\":[{\"character\":\"Valiant (voice)\",\"name\":\"Ewan McGregor\"},{\"character\":\"Bugsy (voice)\",\"name\":\"Ricky Gervais\"},{\"character\":\"Von Talon (voice)\",\"name\":\"Tim Curry\"},{\"character\":\"Sergeant (voice)\",\"name\":\"Jim Broadbent\"},{\"character\":\"Gutsy (voice)\",\"name\":\"Hugh Laurie\"},{\"character\":\"Mercury (voice)\",\"name\":\"John Cleese\"},{\"character\":\"Felix (voice)\",\"name\":\"John Hurt\"},{\"character\":\"Lofty (voice)\",\"name\":\"Pip Torrens\"},{\"character\":\"Cufflingk (voice)\",\"name\":\"Rik Mayall\"},{\"character\":\"Victoria (voice)\",\"name\":\"Olivia Williams\"},{\"character\":\"Big Thug (voice)\",\"name\":\"Jonathan Ross\"},{\"character\":\"Toughwood (voice)\",\"name\":\"Brian Lonsdale\"},{\"character\":\"Tailfeather (voice)\",\"name\":\"Dan Roberts\"},{\"character\":\"Underlingk (voice)\",\"name\":\"Michael Schlingmann\"},{\"character\":\"Charles De Girl\",\"name\":\"Sharon Horgan\"}],\"release_year\":2005}\n",
      "\n"
     ]
    }
   ],
   "source": [
    "res = query_movie_db(\"air bud\")\n",
    "print(res[\"llm_consumable\"])"
   ]
  },
  {
   "cell_type": "code",
   "execution_count": 8,
   "id": "e5fb396a",
   "metadata": {},
   "outputs": [
    {
     "data": {
      "application/vnd.microsoft.datawrangler.viewer.v0+json": {
       "columns": [
        {
         "name": "index",
         "rawType": "int64",
         "type": "integer"
        },
        {
         "name": "budget",
         "rawType": "int64",
         "type": "integer"
        },
        {
         "name": "genres",
         "rawType": "object",
         "type": "unknown"
        },
        {
         "name": "keywords",
         "rawType": "object",
         "type": "unknown"
        },
        {
         "name": "original_language",
         "rawType": "object",
         "type": "string"
        },
        {
         "name": "overview",
         "rawType": "object",
         "type": "string"
        },
        {
         "name": "popularity",
         "rawType": "float64",
         "type": "float"
        },
        {
         "name": "release_date",
         "rawType": "object",
         "type": "unknown"
        },
        {
         "name": "revenue",
         "rawType": "int64",
         "type": "integer"
        },
        {
         "name": "runtime",
         "rawType": "float64",
         "type": "float"
        },
        {
         "name": "spoken_languages",
         "rawType": "object",
         "type": "unknown"
        },
        {
         "name": "title",
         "rawType": "object",
         "type": "string"
        },
        {
         "name": "cast",
         "rawType": "object",
         "type": "unknown"
        },
        {
         "name": "release_year",
         "rawType": "int64",
         "type": "integer"
        }
       ],
       "ref": "e58244e8-4a09-4485-8695-7d7b3f3e1c53",
       "rows": [
        [
         "0",
         "3500000",
         "['Comedy']",
         "['chicago' 'alcohol' 'cataclysm' 'guitar' 'medicine' 'taxi driver'\n 'passenger' 'saxophone' 'stewardess' 'pilot' 'airplane' 'fear of flying'\n 'air controller' 'landing' 'autopilot' 'kiss' 'spoof' 'los angeles'\n 'alcohol abuse' 'aftercreditsstinger' 'anarchic comedy']",
         "en",
         "Alcoholic pilot, Ted Striker has developed a fear of flying due to wartime trauma, but nevertheless boards a passenger jet in an attempt to woo back his stewardess girlfriend. Food poisoning decimates the passengers and crew, leaving it up to Striker to land the plane with the help of a glue-sniffing air traffic controller and Striker's vengeful former Air Force captain, who must both talk him down.",
         "46.116885",
         "1980-07-02",
         "83453539",
         "88.0",
         "['English']",
         "Airplane!",
         "[{'character': 'Ted Striker', 'name': 'Robert Hays'}\n {'character': 'Elaine', 'name': 'Julie Hagerty'}\n {'character': 'Murdock', 'name': 'Kareem Abdul-Jabbar'}\n {'character': 'McCroskey', 'name': 'Lloyd Bridges'}\n {'character': 'Captain Oveur', 'name': 'Peter Graves'}\n {'character': 'Dr. Rumack', 'name': 'Leslie Nielsen'}\n {'character': 'Randy', 'name': 'Lorna Patterson'}\n {'character': 'Rex Kramer', 'name': 'Robert Stack'}\n {'character': 'Johnny', 'name': 'Stephen Stucker'}\n {'character': 'Religious zealot #6', 'name': 'Jim Abrahams'}\n {'character': 'Victor Basta', 'name': 'Frank Ashmore'}\n {'character': 'Gunderson', 'name': 'Jonathan Banks'}\n {'character': 'Paul Carey', 'name': 'Craig Berenson'}\n {'character': 'Jive Lady', 'name': 'Barbara Billingsley'}\n {'character': 'Mrs. Hammen', 'name': 'Lee Bryant'}\n {'character': 'Mrs. Davis', 'name': 'Joyce Bulifant'}\n {'character': 'Security Lady', 'name': 'Mae E. Campbell'}\n {'character': 'Lieutenant Hurwitz', 'name': 'Ethel Merman'}\n {'character': 'Windshield Wiper Man', 'name': 'Jimmie Walker'}\n {'character': 'Lisa Davis', 'name': 'Jill Whelan'}\n {'character': '', 'name': 'Kitten Natividad'}\n {'character': 'Cocaine Lady', 'name': 'Nora Meerbaum'}\n {'character': 'Air Controller Neubauer', 'name': 'Kenneth Tobey'}]",
         "1980"
        ],
        [
         "1",
         "209000000",
         "['Thriller' 'Action' 'Adventure' 'Science Fiction']",
         "['fight' 'u.s. navy' 'mind reading' 'hong kong' 'soccer' 'scientist'\n 'fictional war' 'naval' 'armada' 'battleship' 'naval combat' 'jds myoko'\n 'lost communication' 'taser' 'buoy' 'communications expert'\n 'joint chiefs of staff' 'crash landing' 'jet fighter pilot'\n 'navy lieutenant' 'permission to marry' 'uss john paul jones'\n 'based on board game' 'aftercreditsstinger' 'mighty mo' 'uss missouri']",
         "en",
         "When mankind beams a radio signal into space, a reply comes from ‘Planet G’, in the form of several alien crafts that splash down in the waters off Hawaii. Lieutenant Alex Hopper is a weapons officer assigned to the USS John Paul Jones, part of an international naval coalition which becomes the world's last hope for survival as they engage the hostile alien force of unimaginable strength. While taking on the invaders, Hopper must also try to live up to the potential his brother, and his fiancée's father, Admiral Shane, expect of him.",
         "64.928382",
         "2012-04-11",
         "303025485",
         "131.0",
         "['English' 'ภาษาไทย']",
         "Battleship",
         "[{'character': 'Lieutenant Alex Hopper', 'name': 'Taylor Kitsch'}\n {'character': 'Commander Stone Hopper', 'name': 'Alexander Skarsgård'}\n {'character': \"Petty Officer Cora 'Weps' Raikes\", 'name': 'Rihanna'}\n {'character': 'Sam', 'name': 'Brooklyn Decker'}\n {'character': 'Captain Yugi Nagata', 'name': 'Tadanobu Asano'}\n {'character': 'Admiral Shane', 'name': 'Liam Neeson'}\n {'character': 'Lieutenant Colonel Mick Canales', 'name': 'Gregory D. Gadson'}\n {'character': 'Cal Zapata', 'name': 'Hamish Linklater'}\n {'character': 'Boatswain Mate Seaman Jimmy \"Ordy\" Ord', 'name': 'Jesse Plemons'}\n {'character': 'Chief Petty Officer Walter \"The Beast\" Lynch', 'name': 'John Tui'}\n {'character': 'Sampson JOOD Strodell', 'name': 'Jerry Ferrara'}\n {'character': 'NASA Director', 'name': 'David Jensen'}\n {'character': 'JPJ 2nd Gunner', 'name': 'Peter Berg'}\n {'character': 'Dr. Nogrady', 'name': 'Adam Godley'}\n {'character': 'Captain Browley', 'name': 'Rico McClinton'}\n {'character': 'Chief Engineer Hiroki', 'name': 'Joji Yoshida'}\n {'character': 'JPJ OOD', 'name': 'Stephen Bishop'}\n {'character': 'JPJ Fireman', 'name': 'Austin Naulty'}\n {'character': 'JPJ Scat', 'name': 'James Rawlings'}\n {'character': 'Electronic Warfare Supervisor', 'name': 'Dustin J. Reno'}\n {'character': 'Chairman, Joint Chiefs of Staff', 'name': 'Rick Hoffman'}\n {'character': 'Air Force Chief of Staff', 'name': 'Gary Grubbs'}\n {'character': 'Watch Officer', 'name': 'Rami Malek'}\n {'character': 'Secretary of Defense', 'name': 'Peter MacNicol'}\n {'character': 'Bartender', 'name': 'Louis Lombardi'}\n {'character': 'JPJ Sailor', 'name': 'Jordan Kirkwood'}\n {'character': 'CIC Watch Supervisor', 'name': 'Doug Penty'}\n {'character': 'CIC Gunner', 'name': 'Carson Aune'}\n {'character': 'Combat Systems Coordinator', 'name': 'Josh Pence'}\n {'character': 'JPJ Port Gunner', 'name': 'Lloyd Pitts'}\n {'character': 'British Newscaster', 'name': 'Michelle Arthur'}\n {'character': 'Spanish Newscaster', 'name': 'Natalia Castellanos'}\n {'character': 'Japanese Newscaster', 'name': 'Leni Ito'}\n {'character': 'Jackie Johnson', 'name': 'Jackie Johnson'}\n {'character': \"Cal's Female Colleague\", 'name': 'Kerry Cahill'}\n {'character': 'Old Salt', 'name': 'Norman Vincent McLafferty'}\n {'character': 'JPJ XO Mullenaro', 'name': 'Dante Jimenez'}\n {'character': 'JPJ Helmsman', 'name': 'Daven Arce'}\n {'character': 'JPJ Starboard Gunner', 'name': 'Ralph Richardson'}\n {'character': 'JPJ BMOW', 'name': 'Biunca Love'}\n {'character': 'Regent Sea Commander', 'name': 'Kyle Russell Clements'}\n {'character': 'Myoko XO', 'name': 'Yutaka Takeuchi'}\n {'character': 'JPJ Sailor', 'name': 'John A Weaver'}\n {'character': 'Sampson OOD', 'name': 'Dane Justman'}\n {'character': 'Sampson XO', 'name': 'Drew Rausch'}\n {'character': 'Marine Commandant', 'name': 'Bill Stinchcomb'}]",
         "2012"
        ],
        [
         "2",
         "0",
         "['Comedy']",
         "['independent film']",
         "en",
         "“The Living Wake” is a dark comedy set in a timeless storybook universe. Self-proclaimed artist and genius, K. Roth Binew, has one day to live. He has enlisted his best and only friend, Mills Joquin, to take him around on a bicycle powered rickshaw. In a final attempt to probe life’s deepest mysteries, Binew endures one ridiculous trial after the next. He concludes his day with a final performance, his living wake. On a makeshift stage in an open field, Binew’s friends and enemies gather to witness his madness one final time.",
         "0.383442",
         "2007-01-01",
         "0",
         "91.0",
         "[]",
         "The Living Wake",
         "[{'character': 'Mills', 'name': 'Jesse Eisenberg'}\n {'character': 'K. Roth Binew', 'name': \"Mike O'Connell\"}\n {'character': 'Lampert Binew', 'name': 'Jim Gaffigan'}\n {'character': 'Librarian', 'name': 'Ann Dowd'}\n {'character': 'Prostitute', 'name': 'Colombe Jacobsen-Derstine'}\n {'character': 'Reginald', 'name': 'Eddie Pepitone'}]",
         "2007"
        ],
        [
         "3",
         "2627000",
         "['Drama' 'Romance' 'War']",
         "['pilot' 'airplane' 'ghost']",
         "en",
         "Pete Sandidge (Tracy), a daredevil bomber pilot, dies when he crashes his plane into a German aircraft carrier, leaving his devoted girlfriend, Dorinda (Irene Dunne), who is also a pilot, heartbroken. In heaven, Pete receives a new assignment: he is to become the guardian angel for Ted Randall (Van Johnson), a young Army flyer. Invisibly, Pete guides Ted through flight school and into combat, but the ectoplasmic mentor's tolerance is tested when Ted falls for Dorinda. Ultimately, however, Pete not only comes to terms with their relationship but also acts as Dorinda's copilot when she undertakes a dangerous bombing raid, so that Ted won't have to. Remade by Steven Speilberg in 1989 as ALWAYS",
         "0.531444",
         "1944-03-01",
         "5363000",
         "120.0",
         "['English']",
         "A Guy Named Joe",
         "[{'character': 'Pete Sandidge', 'name': 'Spencer Tracy'}\n {'character': 'Dorinda Durston', 'name': 'Irene Dunne'}\n {'character': 'Ted Randall', 'name': 'Van Johnson'}\n {'character': 'Al Yackey', 'name': 'Ward Bond'}\n {'character': \"'Nails' Kilpatrick\", 'name': 'James Gleason'}\n {'character': 'The General', 'name': 'Lionel Barrymore'}\n {'character': 'Dick Rumney', 'name': 'Barry Nelson'}\n {'character': 'Ellen Bright', 'name': 'Esther Williams'}\n {'character': 'Col. Sykes', 'name': \"Henry O'Neill\"}\n {'character': 'James J. Rourke', 'name': 'Don DeFore'}\n {'character': 'Sanderson', 'name': 'Charles Smith'}\n {'character': 'Maj. Corbett', 'name': 'Addison Richards'}\n {'character': 'Henderson', 'name': 'Irving Bacon'}\n {'character': 'Girlfriend of Rourke', 'name': 'Eve Whitney'}]",
         "1944"
        ],
        [
         "4",
         "6500000",
         "['Comedy' 'Drama']",
         "['father son relationship' 'capitalism' 'based on novel' 'smoking' 'lie'\n 'cigarette' 'research' 'law' 'health' 'marketing' 'politics' 'politician'\n 'tobacco' 'liar' 'dark comedy' 'cancer' 'independent film' 'money'\n 'morality' 'social satire' 'cigarette smoking' 'business' 'advertising'\n 'guilt' 'humiliation' 'lobby' 'bribe' 'corporation' 'lung cancer'\n 'lobbyist' 'tobacco industry' 'nicotine']",
         "en",
         "The chief spokesperson and lobbyist Nick Naylor is the Vice-President of the Academy of Tobacco Studies. He is talented in speaking and spins argument to defend the cigarette industry in the most difficult situations. His best friends are Polly Bailey that works in the Moderation Council in alcohol business, and Bobby Jay Bliss of the gun business own advisory group SAFETY. They frequently meet each other in a bar and they self-entitle the Mod Squad a.k.a. Merchants of Death, disputing which industry has killed more people. Nick's greatest enemy is Vermont's Senator Ortolan Finistirre, who defends in the Senate the use a skull and crossed bones in the cigarette packs. Nick's son Joey Naylor lives with his mother, and has the chance to know his father in a business trip. When the ambitious reporter Heather Holloway betrays Nick disclosing confidences he had in bed with her, his life turns upside-down. But Nick is good in what he does for the mortgage.",
         "29.01153",
         "2005-09-05",
         "24793509",
         "92.0",
         "['English']",
         "Thank You for Smoking",
         "[{'character': 'Nick Naylor', 'name': 'Aaron Eckhart'}\n {'character': 'Polly Bailey', 'name': 'Maria Bello'}\n {'character': 'Joey Naylor', 'name': 'Cameron Bright'}\n {'character': 'Jack', 'name': 'Adam Brody'}\n {'character': 'Lorne Lutch', 'name': 'Sam Elliott'}\n {'character': 'Heather Holloway', 'name': 'Katie Holmes'}\n {'character': 'Jeff Megall', 'name': 'Rob Lowe'}\n {'character': 'Senator Ortolan Finistirre', 'name': 'William H. Macy'}\n {'character': 'The Captain', 'name': 'Robert Duvall'}\n {'character': 'Bobby Jay Bliss', 'name': 'David Koechner'}\n {'character': 'BR', 'name': 'J.K. Simmons'}\n {'character': 'Jill Naylor', 'name': 'Kim Dickens'}\n {'character': 'Pearl', 'name': 'Connie Ray'}\n {'character': 'Joan Lunden', 'name': 'Joan Lunden'}\n {'character': 'Sue Maclean', 'name': 'Mary Jo Smith'}\n {'character': 'Ron Goode', 'name': 'Todd Louiso'}\n {'character': 'Kidnapper', 'name': 'Jeff Witzke'}\n {'character': 'Teacher', 'name': 'Marianne Muellerleile'}\n {'character': 'Kid #2', 'name': 'Jordan Garrett'}\n {'character': 'Kid #3', 'name': 'Courtney Taylor Burness'}\n {'character': 'Brad', 'name': 'Daniel Travis'}\n {'character': 'Trainee', 'name': 'Richard Speight Jr.'}\n {'character': 'Tiffany', 'name': 'Renée Graham'}\n {'character': 'EGO Assistant', 'name': 'Timothy Dowling'}\n {'character': 'Dennis Miller', 'name': 'Dennis Miller'}\n {'character': 'Ski Mask #1', 'name': 'Terry James'}\n {'character': 'Ski Mask #2', 'name': 'Marc Scizak'}\n {'character': 'Flighty Girl', 'name': 'Rachel Thorp'}\n {'character': 'Doctor', 'name': 'Aaron Lustig'}\n {'character': 'Interviewer', 'name': 'Melora Hardin'}\n {'character': 'FBI Agent (voice)', 'name': 'Brian Palermo'}\n {'character': 'Dr. Meisenbach', 'name': 'Michael Mantell'}\n {'character': 'Senator Lothridge', 'name': 'Spencer Garrett'}\n {'character': 'Senator Dupree', 'name': 'Earl Billings'}\n {'character': 'Reporter #1', 'name': 'Catherine Reitman'}\n {'character': 'Reporter #2', 'name': 'Sean Patrick Murphy'}\n {'character': 'Oil Lobbyist', 'name': 'David O. Sacks'}\n {'character': \"Nancy Humphries O'Dell\", 'name': \"Nancy O'Dell\"}\n {'character': 'Debate Moderator', 'name': 'Roy Jenkins'}\n {'character': 'Gentleman #2', 'name': 'Bruce French'}\n {'character': 'Man at Metro Station (uncredited)', 'name': 'Christopher Buckley'}\n {'character': 'Hotel Phone Operator (voice) (uncredited)', 'name': 'Dana E. Glauberman'}\n {'character': 'Flight Attendant (uncredited)', 'name': 'Eva La Dare'}\n {'character': 'Peter (uncredited)', 'name': 'Robert Malina'}\n {'character': 'Gizelle (voice) (uncredited)', 'name': 'Aloma Wright'}]",
         "2005"
        ],
        [
         "5",
         "3000000",
         "['Comedy' 'Drama' 'Romance']",
         "['new york' \"new year's eve\" 'lovesickness' 'age difference'\n 'suicide attempt' 'office' 'flat' 'spaghetti' 'christmas party' 'winter'\n 'clerk' 'tennis racket' 'romantic comedy' 'extramarital affair']",
         "en",
         "Bud Baxter is a minor clerk in a huge New York insurance company, until he discovers a quick way to climb the corporate ladder. He lends out his apartment to the executives as a place to take their mistresses. Although he often has to deal with the aftermath of their visits, one night he's left with a major problem to solve.",
         "22.889294",
         "1960-06-15",
         "25000000",
         "125.0",
         "['English']",
         "The Apartment",
         "[{'character': 'C.C. Baxter', 'name': 'Jack Lemmon'}\n {'character': 'Fran Kubelik', 'name': 'Shirley MacLaine'}\n {'character': 'Jeff D. Sheldrake', 'name': 'Fred MacMurray'}\n {'character': 'Joe Dobisch', 'name': 'Ray Walston'}\n {'character': 'Dr. Dreyfuss', 'name': 'Jack Kruschen'}\n {'character': 'Mrs. Mildred Dreyfuss', 'name': 'Naomi Stevens'}\n {'character': 'Mrs. Margie MacDougall', 'name': 'Hope Holiday'}\n {'character': 'Miss Olsen', 'name': 'Edie Adams'}\n {'character': 'Sylvia', 'name': 'Joan Shawlee'}\n {'character': 'Karl Matuschka', 'name': 'Johnny Seven'}\n {'character': 'Al Kirkeby', 'name': 'David Lewis'}\n {'character': 'The Blonde', 'name': 'Joyce Jameson'}\n {'character': 'Mr. Vanderhoff', 'name': 'Willard Waterman'}\n {'character': 'Mr. Eichelberger', 'name': 'David White'}\n {'character': 'Office Worker (uncredited)', 'name': 'Dorothy Abbott'}\n {'character': 'Office Worker (uncredited)', 'name': 'Ralph Moratz'}\n {'character': 'Office Maintenance Man (uncredited)', 'name': 'Joe Palma'}\n {'character': 'TV Movie Host (uncredited)', 'name': 'Bill Baldwin'}\n {'character': 'Charlie - Bartender (uncredited)', 'name': 'Benny Burt'}\n {'character': 'Elevator Supervisor with Clicker (uncredited)', 'name': 'Lynn Cartwright'}\n {'character': 'Bit Part (uncredited)', 'name': 'Mason Curry'}\n {'character': 'Messenger (uncredited)', 'name': 'David Macklin'}\n {'character': 'Man in Santa Claus Suit (uncredited)', 'name': 'Hal Smith'}]",
         "1960"
        ],
        [
         "6",
         "25000000",
         "['Drama']",
         "['baseball' 'sport' 'duringcreditsstinger']",
         "en",
         "In a last-ditch effort to save his career, sports agent JB Bernstein (Jon Hamm) dreams up a wild game plan to find Major League Baseball’s next great pitcher from a pool of cricket players in India. He soon discovers two young men who can throw a fastball but know nothing about the game of baseball. Or America. It’s an incredible and touching journey that will change them all — especially JB, who learns valuable lessons about teamwork, commitment and family.",
         "17.312433",
         "2014-05-09",
         "38307627",
         "124.0",
         "['हिन्दी' 'English']",
         "Million Dollar Arm",
         "[{'character': 'J. B. Bernstein', 'name': 'Jon Hamm'}\n {'character': 'Tom House', 'name': 'Bill Paxton'}\n {'character': 'Brenda Paauwe', 'name': 'Lake Bell'}\n {'character': 'Rinku', 'name': 'Suraj Sharma'}\n {'character': 'Ash Vasudevan', 'name': 'Aasif Mandvi'}\n {'character': 'Dinesh', 'name': 'Madhur Mittal'}\n {'character': 'Amit', 'name': 'Pitobash'}\n {'character': 'Ray Arkin', 'name': 'Alan Arkin'}\n {'character': 'Lisette', 'name': 'Bar Paly'}\n {'character': 'Pete', 'name': 'Al Sapienza'}\n {'character': 'Chang', 'name': 'Tzi Ma'}\n {'character': 'Theresa', 'name': 'Allyn Rachel'}\n {'character': 'Indian Reporter', 'name': 'Ravi Naidu'}\n {'character': 'Hot Girl', 'name': 'Gabriela Lopez'}]",
         "2014"
        ],
        [
         "7",
         "0",
         "['Action' 'Comedy' 'Science Fiction']",
         "[]",
         "en",
         " ",
         "0.0206",
         "2005-01-01",
         "0",
         "97.0",
         "['English']",
         "The Helix... Loaded",
         "[]",
         "2005"
        ],
        [
         "8",
         "31000000",
         "['Drama']",
         "['confession' 'airplane' 'f word' 'hangover' 'airplane crash' 'syringe'\n 'denial' 'porn actress' 'jesus freak' 'baseball stadium' 'perjury'\n 'national transportation safety board' 'flying upside down' 'narcissist'\n 'relapse' 'substance abuse']",
         "en",
         "Commercial airline pilot Whip Whitaker has a problem with drugs and alcohol, though so far he's managed to complete his flights safely. His luck runs out when a disastrous mechanical malfunction sends his plane hurtling toward the ground. Whip pulls off a miraculous crash-landing that results in only six lives lost. Shaken to the core, Whip vows to get sober -- but when the crash investigation exposes his addiction, he finds himself in an even worse situation.",
         "42.213765",
         "2012-11-02",
         "161772375",
         "138.0",
         "['English']",
         "Flight",
         "[{'character': 'Whip Whitaker', 'name': 'Denzel Washington'}\n {'character': 'Hugh Lang', 'name': 'Don Cheadle'}\n {'character': 'Charlie Anderson', 'name': 'Bruce Greenwood'}\n {'character': 'Nicole', 'name': 'Kelly Reilly'}\n {'character': 'Harling Mays', 'name': 'John Goodman'}\n {'character': 'Ken Evans', 'name': 'Brian Geraghty'}\n {'character': 'Katerina Marquez', 'name': 'Nadine Velazquez'}\n {'character': 'Margaret Thomason', 'name': 'Tamara Tunie'}\n {'character': 'Ellen Block', 'name': 'Melissa Leo'}\n {'character': 'Deana', 'name': 'Garcelle Beauvais'}\n {'character': 'Will Whitaker Jr.', 'name': 'Justin Martin'}\n {'character': 'Avington Carr', 'name': 'Peter Gerety'}\n {'character': 'Man in Hallway', 'name': 'James Badge Dale'}\n {'character': 'Peach Tree Employee', 'name': 'Sharon Blackwood'}\n {'character': 'Son on Plane', 'name': 'Carter Cabassa'}\n {'character': 'Field Reporter', 'name': 'John Crow'}\n {'character': 'Derek Hogue', 'name': 'Dane Davenport'}\n {'character': '', 'name': 'Piers Morgan'}]",
         "2012"
        ],
        [
         "9",
         "35000000",
         "['Animation' 'Family' 'Adventure']",
         "['animation' 'animal' '3d']",
         "en",
         "The animated comedy tells the story of a lowly wood pigeon named Valiant, who overcomes his small size to become a hero in Great Britain's Royal Air Force Homing Pigeon Service during World War II. The RHPS advanced the Allied cause by flying vital messages about enemy movements across the English Channel, whilst evading brutal attacks by the enemy's Falcon Brigade.",
         "14.051852",
         "2005-03-25",
         "19478106",
         "76.0",
         "['English']",
         "Valiant",
         "[{'character': 'Valiant (voice)', 'name': 'Ewan McGregor'}\n {'character': 'Bugsy (voice)', 'name': 'Ricky Gervais'}\n {'character': 'Von Talon (voice)', 'name': 'Tim Curry'}\n {'character': 'Sergeant (voice)', 'name': 'Jim Broadbent'}\n {'character': 'Gutsy (voice)', 'name': 'Hugh Laurie'}\n {'character': 'Mercury (voice)', 'name': 'John Cleese'}\n {'character': 'Felix (voice)', 'name': 'John Hurt'}\n {'character': 'Lofty (voice)', 'name': 'Pip Torrens'}\n {'character': 'Cufflingk (voice)', 'name': 'Rik Mayall'}\n {'character': 'Victoria (voice)', 'name': 'Olivia Williams'}\n {'character': 'Big Thug (voice)', 'name': 'Jonathan Ross'}\n {'character': 'Toughwood (voice)', 'name': 'Brian Lonsdale'}\n {'character': 'Tailfeather (voice)', 'name': 'Dan Roberts'}\n {'character': 'Underlingk (voice)', 'name': 'Michael Schlingmann'}\n {'character': 'Charles De Girl', 'name': 'Sharon Horgan'}]",
         "2005"
        ]
       ],
       "shape": {
        "columns": 13,
        "rows": 10
       }
      },
      "text/html": [
       "<div>\n",
       "<style scoped>\n",
       "    .dataframe tbody tr th:only-of-type {\n",
       "        vertical-align: middle;\n",
       "    }\n",
       "\n",
       "    .dataframe tbody tr th {\n",
       "        vertical-align: top;\n",
       "    }\n",
       "\n",
       "    .dataframe thead th {\n",
       "        text-align: right;\n",
       "    }\n",
       "</style>\n",
       "<table border=\"1\" class=\"dataframe\">\n",
       "  <thead>\n",
       "    <tr style=\"text-align: right;\">\n",
       "      <th></th>\n",
       "      <th>budget</th>\n",
       "      <th>genres</th>\n",
       "      <th>keywords</th>\n",
       "      <th>original_language</th>\n",
       "      <th>overview</th>\n",
       "      <th>popularity</th>\n",
       "      <th>release_date</th>\n",
       "      <th>revenue</th>\n",
       "      <th>runtime</th>\n",
       "      <th>spoken_languages</th>\n",
       "      <th>title</th>\n",
       "      <th>cast</th>\n",
       "      <th>release_year</th>\n",
       "    </tr>\n",
       "  </thead>\n",
       "  <tbody>\n",
       "    <tr>\n",
       "      <th>0</th>\n",
       "      <td>3500000</td>\n",
       "      <td>[Comedy]</td>\n",
       "      <td>[chicago, alcohol, cataclysm, guitar, medicine, taxi driver, passenger, saxophone, stewardess, pilot, airplane, fear of flying, air controller, landing, autopilot, kiss, spoof, los angeles, alcohol abuse, aftercreditsstinger, anarchic comedy]</td>\n",
       "      <td>en</td>\n",
       "      <td>Alcoholic pilot, Ted Striker has developed a fear of flying due to wartime trauma, but nevertheless boards a passenger jet in an attempt to woo back his stewardess girlfriend. Food poisoning decimates the passengers and crew, leaving it up to Striker to land the plane with the help of a glue-sniffing air traffic controller and Striker's vengeful former Air Force captain, who must both talk him down.</td>\n",
       "      <td>46.116885</td>\n",
       "      <td>1980-07-02</td>\n",
       "      <td>83453539</td>\n",
       "      <td>88.0</td>\n",
       "      <td>[English]</td>\n",
       "      <td>Airplane!</td>\n",
       "      <td>[{'character': 'Ted Striker', 'name': 'Robert Hays'}, {'character': 'Elaine', 'name': 'Julie Hagerty'}, {'character': 'Murdock', 'name': 'Kareem Abdul-Jabbar'}, {'character': 'McCroskey', 'name': 'Lloyd Bridges'}, {'character': 'Captain Oveur', 'name': 'Peter Graves'}, {'character': 'Dr. Rumack', 'name': 'Leslie Nielsen'}, {'character': 'Randy', 'name': 'Lorna Patterson'}, {'character': 'Rex Kramer', 'name': 'Robert Stack'}, {'character': 'Johnny', 'name': 'Stephen Stucker'}, {'character': 'Religious zealot #6', 'name': 'Jim Abrahams'}, {'character': 'Victor Basta', 'name': 'Frank Ashmore'}, {'character': 'Gunderson', 'name': 'Jonathan Banks'}, {'character': 'Paul Carey', 'name': 'Craig Berenson'}, {'character': 'Jive Lady', 'name': 'Barbara Billingsley'}, {'character': 'Mrs. Hammen', 'name': 'Lee Bryant'}, {'character': 'Mrs. Davis', 'name': 'Joyce Bulifant'}, {'character': 'Security Lady', 'name': 'Mae E. Campbell'}, {'character': 'Lieutenant Hurwitz', 'name': 'Ethel Merman'}, {'character': 'Windshield Wiper Man', 'name': 'Jimmie Walker'}, {'character': 'Lisa Davis', 'name': 'Jill Whelan'}, {'character': '', 'name': 'Kitten Natividad'}, {'character': 'Cocaine Lady', 'name': 'Nora Meerbaum'}, {'character': 'Air Controller Neubauer', 'name': 'Kenneth Tobey'}]</td>\n",
       "      <td>1980</td>\n",
       "    </tr>\n",
       "    <tr>\n",
       "      <th>1</th>\n",
       "      <td>209000000</td>\n",
       "      <td>[Thriller, Action, Adventure, Science Fiction]</td>\n",
       "      <td>[fight, u.s. navy, mind reading, hong kong, soccer, scientist, fictional war, naval, armada, battleship, naval combat, jds myoko, lost communication, taser, buoy, communications expert, joint chiefs of staff, crash landing, jet fighter pilot, navy lieutenant, permission to marry, uss john paul jones, based on board game, aftercreditsstinger, mighty mo, uss missouri]</td>\n",
       "      <td>en</td>\n",
       "      <td>When mankind beams a radio signal into space, a reply comes from ‘Planet G’, in the form of several alien crafts that splash down in the waters off Hawaii. Lieutenant Alex Hopper is a weapons officer assigned to the USS John Paul Jones, part of an international naval coalition which becomes the world's last hope for survival as they engage the hostile alien force of unimaginable strength. While taking on the invaders, Hopper must also try to live up to the potential his brother, and his fiancée's father, Admiral Shane, expect of him.</td>\n",
       "      <td>64.928382</td>\n",
       "      <td>2012-04-11</td>\n",
       "      <td>303025485</td>\n",
       "      <td>131.0</td>\n",
       "      <td>[English, ภาษาไทย]</td>\n",
       "      <td>Battleship</td>\n",
       "      <td>[{'character': 'Lieutenant Alex Hopper', 'name': 'Taylor Kitsch'}, {'character': 'Commander Stone Hopper', 'name': 'Alexander Skarsgård'}, {'character': 'Petty Officer Cora 'Weps' Raikes', 'name': 'Rihanna'}, {'character': 'Sam', 'name': 'Brooklyn Decker'}, {'character': 'Captain Yugi Nagata', 'name': 'Tadanobu Asano'}, {'character': 'Admiral Shane', 'name': 'Liam Neeson'}, {'character': 'Lieutenant Colonel Mick Canales', 'name': 'Gregory D. Gadson'}, {'character': 'Cal Zapata', 'name': 'Hamish Linklater'}, {'character': 'Boatswain Mate Seaman Jimmy \"Ordy\" Ord', 'name': 'Jesse Plemons'}, {'character': 'Chief Petty Officer Walter \"The Beast\" Lynch', 'name': 'John Tui'}, {'character': 'Sampson JOOD Strodell', 'name': 'Jerry Ferrara'}, {'character': 'NASA Director', 'name': 'David Jensen'}, {'character': 'JPJ 2nd Gunner', 'name': 'Peter Berg'}, {'character': 'Dr. Nogrady', 'name': 'Adam Godley'}, {'character': 'Captain Browley', 'name': 'Rico McClinton'}, {'character': 'Chief Engineer Hiroki', 'name': 'Joji Yoshida'}, {'character': 'JPJ OOD', 'name': 'Stephen Bishop'}, {'character': 'JPJ Fireman', 'name': 'Austin Naulty'}, {'character': 'JPJ Scat', 'name': 'James Rawlings'}, {'character': 'Electronic Warfare Supervisor', 'name': 'Dustin J. Reno'}, {'character': 'Chairman, Joint Chiefs of Staff', 'name': 'Rick Hoffman'}, {'character': 'Air Force Chief of Staff', 'name': 'Gary Grubbs'}, {'character': 'Watch Officer', 'name': 'Rami Malek'}, {'character': 'Secretary of Defense', 'name': 'Peter MacNicol'}, {'character': 'Bartender', 'name': 'Louis Lombardi'}, {'character': 'JPJ Sailor', 'name': 'Jordan Kirkwood'}, {'character': 'CIC Watch Supervisor', 'name': 'Doug Penty'}, {'character': 'CIC Gunner', 'name': 'Carson Aune'}, {'character': 'Combat Systems Coordinator', 'name': 'Josh Pence'}, {'character': 'JPJ Port Gunner', 'name': 'Lloyd Pitts'}, {'character': 'British Newscaster', 'name': 'Michelle Arthur'}, {'character': 'Spanish Newscaster', 'name': 'Natalia Castellanos'}, {'character': 'Japanese Newscaster', 'name': 'Leni Ito'}, {'character': 'Jackie Johnson', 'name': 'Jackie Johnson'}, {'character': 'Cal's Female Colleague', 'name': 'Kerry Cahill'}, {'character': 'Old Salt', 'name': 'Norman Vincent McLafferty'}, {'character': 'JPJ XO Mullenaro', 'name': 'Dante Jimenez'}, {'character': 'JPJ Helmsman', 'name': 'Daven Arce'}, {'character': 'JPJ Starboard Gunner', 'name': 'Ralph Richardson'}, {'character': 'JPJ BMOW', 'name': 'Biunca Love'}, {'character': 'Regent Sea Commander', 'name': 'Kyle Russell Clements'}, {'character': 'Myoko XO', 'name': 'Yutaka Takeuchi'}, {'character': 'JPJ Sailor', 'name': 'John A Weaver'}, {'character': 'Sampson OOD', 'name': 'Dane Justman'}, {'character': 'Sampson XO', 'name': 'Drew Rausch'}, {'character': 'Marine Commandant', 'name': 'Bill Stinchcomb'}]</td>\n",
       "      <td>2012</td>\n",
       "    </tr>\n",
       "    <tr>\n",
       "      <th>2</th>\n",
       "      <td>0</td>\n",
       "      <td>[Comedy]</td>\n",
       "      <td>[independent film]</td>\n",
       "      <td>en</td>\n",
       "      <td>“The Living Wake” is a dark comedy set in a timeless storybook universe. Self-proclaimed artist and genius, K. Roth Binew, has one day to live. He has enlisted his best and only friend, Mills Joquin, to take him around on a bicycle powered rickshaw. In a final attempt to probe life’s deepest mysteries, Binew endures one ridiculous trial after the next. He concludes his day with a final performance, his living wake. On a makeshift stage in an open field, Binew’s friends and enemies gather to witness his madness one final time.</td>\n",
       "      <td>0.383442</td>\n",
       "      <td>2007-01-01</td>\n",
       "      <td>0</td>\n",
       "      <td>91.0</td>\n",
       "      <td>[]</td>\n",
       "      <td>The Living Wake</td>\n",
       "      <td>[{'character': 'Mills', 'name': 'Jesse Eisenberg'}, {'character': 'K. Roth Binew', 'name': 'Mike O'Connell'}, {'character': 'Lampert Binew', 'name': 'Jim Gaffigan'}, {'character': 'Librarian', 'name': 'Ann Dowd'}, {'character': 'Prostitute', 'name': 'Colombe Jacobsen-Derstine'}, {'character': 'Reginald', 'name': 'Eddie Pepitone'}]</td>\n",
       "      <td>2007</td>\n",
       "    </tr>\n",
       "    <tr>\n",
       "      <th>3</th>\n",
       "      <td>2627000</td>\n",
       "      <td>[Drama, Romance, War]</td>\n",
       "      <td>[pilot, airplane, ghost]</td>\n",
       "      <td>en</td>\n",
       "      <td>Pete Sandidge (Tracy), a daredevil bomber pilot, dies when he crashes his plane into a German aircraft carrier, leaving his devoted girlfriend, Dorinda (Irene Dunne), who is also a pilot, heartbroken. In heaven, Pete receives a new assignment: he is to become the guardian angel for Ted Randall (Van Johnson), a young Army flyer. Invisibly, Pete guides Ted through flight school and into combat, but the ectoplasmic mentor's tolerance is tested when Ted falls for Dorinda. Ultimately, however, Pete not only comes to terms with their relationship but also acts as Dorinda's copilot when she undertakes a dangerous bombing raid, so that Ted won't have to. Remade by Steven Speilberg in 1989 as ALWAYS</td>\n",
       "      <td>0.531444</td>\n",
       "      <td>1944-03-01</td>\n",
       "      <td>5363000</td>\n",
       "      <td>120.0</td>\n",
       "      <td>[English]</td>\n",
       "      <td>A Guy Named Joe</td>\n",
       "      <td>[{'character': 'Pete Sandidge', 'name': 'Spencer Tracy'}, {'character': 'Dorinda Durston', 'name': 'Irene Dunne'}, {'character': 'Ted Randall', 'name': 'Van Johnson'}, {'character': 'Al Yackey', 'name': 'Ward Bond'}, {'character': ''Nails' Kilpatrick', 'name': 'James Gleason'}, {'character': 'The General', 'name': 'Lionel Barrymore'}, {'character': 'Dick Rumney', 'name': 'Barry Nelson'}, {'character': 'Ellen Bright', 'name': 'Esther Williams'}, {'character': 'Col. Sykes', 'name': 'Henry O'Neill'}, {'character': 'James J. Rourke', 'name': 'Don DeFore'}, {'character': 'Sanderson', 'name': 'Charles Smith'}, {'character': 'Maj. Corbett', 'name': 'Addison Richards'}, {'character': 'Henderson', 'name': 'Irving Bacon'}, {'character': 'Girlfriend of Rourke', 'name': 'Eve Whitney'}]</td>\n",
       "      <td>1944</td>\n",
       "    </tr>\n",
       "    <tr>\n",
       "      <th>4</th>\n",
       "      <td>6500000</td>\n",
       "      <td>[Comedy, Drama]</td>\n",
       "      <td>[father son relationship, capitalism, based on novel, smoking, lie, cigarette, research, law, health, marketing, politics, politician, tobacco, liar, dark comedy, cancer, independent film, money, morality, social satire, cigarette smoking, business, advertising, guilt, humiliation, lobby, bribe, corporation, lung cancer, lobbyist, tobacco industry, nicotine]</td>\n",
       "      <td>en</td>\n",
       "      <td>The chief spokesperson and lobbyist Nick Naylor is the Vice-President of the Academy of Tobacco Studies. He is talented in speaking and spins argument to defend the cigarette industry in the most difficult situations. His best friends are Polly Bailey that works in the Moderation Council in alcohol business, and Bobby Jay Bliss of the gun business own advisory group SAFETY. They frequently meet each other in a bar and they self-entitle the Mod Squad a.k.a. Merchants of Death, disputing which industry has killed more people. Nick's greatest enemy is Vermont's Senator Ortolan Finistirre, who defends in the Senate the use a skull and crossed bones in the cigarette packs. Nick's son Joey Naylor lives with his mother, and has the chance to know his father in a business trip. When the ambitious reporter Heather Holloway betrays Nick disclosing confidences he had in bed with her, his life turns upside-down. But Nick is good in what he does for the mortgage.</td>\n",
       "      <td>29.011530</td>\n",
       "      <td>2005-09-05</td>\n",
       "      <td>24793509</td>\n",
       "      <td>92.0</td>\n",
       "      <td>[English]</td>\n",
       "      <td>Thank You for Smoking</td>\n",
       "      <td>[{'character': 'Nick Naylor', 'name': 'Aaron Eckhart'}, {'character': 'Polly Bailey', 'name': 'Maria Bello'}, {'character': 'Joey Naylor', 'name': 'Cameron Bright'}, {'character': 'Jack', 'name': 'Adam Brody'}, {'character': 'Lorne Lutch', 'name': 'Sam Elliott'}, {'character': 'Heather Holloway', 'name': 'Katie Holmes'}, {'character': 'Jeff Megall', 'name': 'Rob Lowe'}, {'character': 'Senator Ortolan Finistirre', 'name': 'William H. Macy'}, {'character': 'The Captain', 'name': 'Robert Duvall'}, {'character': 'Bobby Jay Bliss', 'name': 'David Koechner'}, {'character': 'BR', 'name': 'J.K. Simmons'}, {'character': 'Jill Naylor', 'name': 'Kim Dickens'}, {'character': 'Pearl', 'name': 'Connie Ray'}, {'character': 'Joan Lunden', 'name': 'Joan Lunden'}, {'character': 'Sue Maclean', 'name': 'Mary Jo Smith'}, {'character': 'Ron Goode', 'name': 'Todd Louiso'}, {'character': 'Kidnapper', 'name': 'Jeff Witzke'}, {'character': 'Teacher', 'name': 'Marianne Muellerleile'}, {'character': 'Kid #2', 'name': 'Jordan Garrett'}, {'character': 'Kid #3', 'name': 'Courtney Taylor Burness'}, {'character': 'Brad', 'name': 'Daniel Travis'}, {'character': 'Trainee', 'name': 'Richard Speight Jr.'}, {'character': 'Tiffany', 'name': 'Renée Graham'}, {'character': 'EGO Assistant', 'name': 'Timothy Dowling'}, {'character': 'Dennis Miller', 'name': 'Dennis Miller'}, {'character': 'Ski Mask #1', 'name': 'Terry James'}, {'character': 'Ski Mask #2', 'name': 'Marc Scizak'}, {'character': 'Flighty Girl', 'name': 'Rachel Thorp'}, {'character': 'Doctor', 'name': 'Aaron Lustig'}, {'character': 'Interviewer', 'name': 'Melora Hardin'}, {'character': 'FBI Agent (voice)', 'name': 'Brian Palermo'}, {'character': 'Dr. Meisenbach', 'name': 'Michael Mantell'}, {'character': 'Senator Lothridge', 'name': 'Spencer Garrett'}, {'character': 'Senator Dupree', 'name': 'Earl Billings'}, {'character': 'Reporter #1', 'name': 'Catherine Reitman'}, {'character': 'Reporter #2', 'name': 'Sean Patrick Murphy'}, {'character': 'Oil Lobbyist', 'name': 'David O. Sacks'}, {'character': 'Nancy Humphries O'Dell', 'name': 'Nancy O'Dell'}, {'character': 'Debate Moderator', 'name': 'Roy Jenkins'}, {'character': 'Gentleman #2', 'name': 'Bruce French'}, {'character': 'Man at Metro Station (uncredited)', 'name': 'Christopher Buckley'}, {'character': 'Hotel Phone Operator (voice) (uncredited)', 'name': 'Dana E. Glauberman'}, {'character': 'Flight Attendant (uncredited)', 'name': 'Eva La Dare'}, {'character': 'Peter (uncredited)', 'name': 'Robert Malina'}, {'character': 'Gizelle (voice) (uncredited)', 'name': 'Aloma Wright'}]</td>\n",
       "      <td>2005</td>\n",
       "    </tr>\n",
       "    <tr>\n",
       "      <th>5</th>\n",
       "      <td>3000000</td>\n",
       "      <td>[Comedy, Drama, Romance]</td>\n",
       "      <td>[new york, new year's eve, lovesickness, age difference, suicide attempt, office, flat, spaghetti, christmas party, winter, clerk, tennis racket, romantic comedy, extramarital affair]</td>\n",
       "      <td>en</td>\n",
       "      <td>Bud Baxter is a minor clerk in a huge New York insurance company, until he discovers a quick way to climb the corporate ladder. He lends out his apartment to the executives as a place to take their mistresses. Although he often has to deal with the aftermath of their visits, one night he's left with a major problem to solve.</td>\n",
       "      <td>22.889294</td>\n",
       "      <td>1960-06-15</td>\n",
       "      <td>25000000</td>\n",
       "      <td>125.0</td>\n",
       "      <td>[English]</td>\n",
       "      <td>The Apartment</td>\n",
       "      <td>[{'character': 'C.C. Baxter', 'name': 'Jack Lemmon'}, {'character': 'Fran Kubelik', 'name': 'Shirley MacLaine'}, {'character': 'Jeff D. Sheldrake', 'name': 'Fred MacMurray'}, {'character': 'Joe Dobisch', 'name': 'Ray Walston'}, {'character': 'Dr. Dreyfuss', 'name': 'Jack Kruschen'}, {'character': 'Mrs. Mildred Dreyfuss', 'name': 'Naomi Stevens'}, {'character': 'Mrs. Margie MacDougall', 'name': 'Hope Holiday'}, {'character': 'Miss Olsen', 'name': 'Edie Adams'}, {'character': 'Sylvia', 'name': 'Joan Shawlee'}, {'character': 'Karl Matuschka', 'name': 'Johnny Seven'}, {'character': 'Al Kirkeby', 'name': 'David Lewis'}, {'character': 'The Blonde', 'name': 'Joyce Jameson'}, {'character': 'Mr. Vanderhoff', 'name': 'Willard Waterman'}, {'character': 'Mr. Eichelberger', 'name': 'David White'}, {'character': 'Office Worker (uncredited)', 'name': 'Dorothy Abbott'}, {'character': 'Office Worker (uncredited)', 'name': 'Ralph Moratz'}, {'character': 'Office Maintenance Man (uncredited)', 'name': 'Joe Palma'}, {'character': 'TV Movie Host (uncredited)', 'name': 'Bill Baldwin'}, {'character': 'Charlie - Bartender (uncredited)', 'name': 'Benny Burt'}, {'character': 'Elevator Supervisor with Clicker (uncredited)', 'name': 'Lynn Cartwright'}, {'character': 'Bit Part (uncredited)', 'name': 'Mason Curry'}, {'character': 'Messenger (uncredited)', 'name': 'David Macklin'}, {'character': 'Man in Santa Claus Suit (uncredited)', 'name': 'Hal Smith'}]</td>\n",
       "      <td>1960</td>\n",
       "    </tr>\n",
       "    <tr>\n",
       "      <th>6</th>\n",
       "      <td>25000000</td>\n",
       "      <td>[Drama]</td>\n",
       "      <td>[baseball, sport, duringcreditsstinger]</td>\n",
       "      <td>en</td>\n",
       "      <td>In a last-ditch effort to save his career, sports agent JB Bernstein (Jon Hamm) dreams up a wild game plan to find Major League Baseball’s next great pitcher from a pool of cricket players in India. He soon discovers two young men who can throw a fastball but know nothing about the game of baseball. Or America. It’s an incredible and touching journey that will change them all — especially JB, who learns valuable lessons about teamwork, commitment and family.</td>\n",
       "      <td>17.312433</td>\n",
       "      <td>2014-05-09</td>\n",
       "      <td>38307627</td>\n",
       "      <td>124.0</td>\n",
       "      <td>[हिन्दी, English]</td>\n",
       "      <td>Million Dollar Arm</td>\n",
       "      <td>[{'character': 'J. B. Bernstein', 'name': 'Jon Hamm'}, {'character': 'Tom House', 'name': 'Bill Paxton'}, {'character': 'Brenda Paauwe', 'name': 'Lake Bell'}, {'character': 'Rinku', 'name': 'Suraj Sharma'}, {'character': 'Ash Vasudevan', 'name': 'Aasif Mandvi'}, {'character': 'Dinesh', 'name': 'Madhur Mittal'}, {'character': 'Amit', 'name': 'Pitobash'}, {'character': 'Ray Arkin', 'name': 'Alan Arkin'}, {'character': 'Lisette', 'name': 'Bar Paly'}, {'character': 'Pete', 'name': 'Al Sapienza'}, {'character': 'Chang', 'name': 'Tzi Ma'}, {'character': 'Theresa', 'name': 'Allyn Rachel'}, {'character': 'Indian Reporter', 'name': 'Ravi Naidu'}, {'character': 'Hot Girl', 'name': 'Gabriela Lopez'}]</td>\n",
       "      <td>2014</td>\n",
       "    </tr>\n",
       "    <tr>\n",
       "      <th>7</th>\n",
       "      <td>0</td>\n",
       "      <td>[Action, Comedy, Science Fiction]</td>\n",
       "      <td>[]</td>\n",
       "      <td>en</td>\n",
       "      <td></td>\n",
       "      <td>0.020600</td>\n",
       "      <td>2005-01-01</td>\n",
       "      <td>0</td>\n",
       "      <td>97.0</td>\n",
       "      <td>[English]</td>\n",
       "      <td>The Helix... Loaded</td>\n",
       "      <td>[]</td>\n",
       "      <td>2005</td>\n",
       "    </tr>\n",
       "    <tr>\n",
       "      <th>8</th>\n",
       "      <td>31000000</td>\n",
       "      <td>[Drama]</td>\n",
       "      <td>[confession, airplane, f word, hangover, airplane crash, syringe, denial, porn actress, jesus freak, baseball stadium, perjury, national transportation safety board, flying upside down, narcissist, relapse, substance abuse]</td>\n",
       "      <td>en</td>\n",
       "      <td>Commercial airline pilot Whip Whitaker has a problem with drugs and alcohol, though so far he's managed to complete his flights safely. His luck runs out when a disastrous mechanical malfunction sends his plane hurtling toward the ground. Whip pulls off a miraculous crash-landing that results in only six lives lost. Shaken to the core, Whip vows to get sober -- but when the crash investigation exposes his addiction, he finds himself in an even worse situation.</td>\n",
       "      <td>42.213765</td>\n",
       "      <td>2012-11-02</td>\n",
       "      <td>161772375</td>\n",
       "      <td>138.0</td>\n",
       "      <td>[English]</td>\n",
       "      <td>Flight</td>\n",
       "      <td>[{'character': 'Whip Whitaker', 'name': 'Denzel Washington'}, {'character': 'Hugh Lang', 'name': 'Don Cheadle'}, {'character': 'Charlie Anderson', 'name': 'Bruce Greenwood'}, {'character': 'Nicole', 'name': 'Kelly Reilly'}, {'character': 'Harling Mays', 'name': 'John Goodman'}, {'character': 'Ken Evans', 'name': 'Brian Geraghty'}, {'character': 'Katerina Marquez', 'name': 'Nadine Velazquez'}, {'character': 'Margaret Thomason', 'name': 'Tamara Tunie'}, {'character': 'Ellen Block', 'name': 'Melissa Leo'}, {'character': 'Deana', 'name': 'Garcelle Beauvais'}, {'character': 'Will Whitaker Jr.', 'name': 'Justin Martin'}, {'character': 'Avington Carr', 'name': 'Peter Gerety'}, {'character': 'Man in Hallway', 'name': 'James Badge Dale'}, {'character': 'Peach Tree Employee', 'name': 'Sharon Blackwood'}, {'character': 'Son on Plane', 'name': 'Carter Cabassa'}, {'character': 'Field Reporter', 'name': 'John Crow'}, {'character': 'Derek Hogue', 'name': 'Dane Davenport'}, {'character': '', 'name': 'Piers Morgan'}]</td>\n",
       "      <td>2012</td>\n",
       "    </tr>\n",
       "    <tr>\n",
       "      <th>9</th>\n",
       "      <td>35000000</td>\n",
       "      <td>[Animation, Family, Adventure]</td>\n",
       "      <td>[animation, animal, 3d]</td>\n",
       "      <td>en</td>\n",
       "      <td>The animated comedy tells the story of a lowly wood pigeon named Valiant, who overcomes his small size to become a hero in Great Britain's Royal Air Force Homing Pigeon Service during World War II. The RHPS advanced the Allied cause by flying vital messages about enemy movements across the English Channel, whilst evading brutal attacks by the enemy's Falcon Brigade.</td>\n",
       "      <td>14.051852</td>\n",
       "      <td>2005-03-25</td>\n",
       "      <td>19478106</td>\n",
       "      <td>76.0</td>\n",
       "      <td>[English]</td>\n",
       "      <td>Valiant</td>\n",
       "      <td>[{'character': 'Valiant (voice)', 'name': 'Ewan McGregor'}, {'character': 'Bugsy (voice)', 'name': 'Ricky Gervais'}, {'character': 'Von Talon (voice)', 'name': 'Tim Curry'}, {'character': 'Sergeant (voice)', 'name': 'Jim Broadbent'}, {'character': 'Gutsy (voice)', 'name': 'Hugh Laurie'}, {'character': 'Mercury (voice)', 'name': 'John Cleese'}, {'character': 'Felix (voice)', 'name': 'John Hurt'}, {'character': 'Lofty (voice)', 'name': 'Pip Torrens'}, {'character': 'Cufflingk (voice)', 'name': 'Rik Mayall'}, {'character': 'Victoria (voice)', 'name': 'Olivia Williams'}, {'character': 'Big Thug (voice)', 'name': 'Jonathan Ross'}, {'character': 'Toughwood (voice)', 'name': 'Brian Lonsdale'}, {'character': 'Tailfeather (voice)', 'name': 'Dan Roberts'}, {'character': 'Underlingk (voice)', 'name': 'Michael Schlingmann'}, {'character': 'Charles De Girl', 'name': 'Sharon Horgan'}]</td>\n",
       "      <td>2005</td>\n",
       "    </tr>\n",
       "  </tbody>\n",
       "</table>\n",
       "</div>"
      ],
      "text/plain": [
       "      budget                                          genres  \\\n",
       "0  3500000    [Comedy]                                         \n",
       "1  209000000  [Thriller, Action, Adventure, Science Fiction]   \n",
       "2  0          [Comedy]                                         \n",
       "3  2627000    [Drama, Romance, War]                            \n",
       "4  6500000    [Comedy, Drama]                                  \n",
       "5  3000000    [Comedy, Drama, Romance]                         \n",
       "6  25000000   [Drama]                                          \n",
       "7  0          [Action, Comedy, Science Fiction]                \n",
       "8  31000000   [Drama]                                          \n",
       "9  35000000   [Animation, Family, Adventure]                   \n",
       "\n",
       "                                                                                                                                                                                                                                                                                                                                                                           keywords  \\\n",
       "0  [chicago, alcohol, cataclysm, guitar, medicine, taxi driver, passenger, saxophone, stewardess, pilot, airplane, fear of flying, air controller, landing, autopilot, kiss, spoof, los angeles, alcohol abuse, aftercreditsstinger, anarchic comedy]                                                                                                                                 \n",
       "1  [fight, u.s. navy, mind reading, hong kong, soccer, scientist, fictional war, naval, armada, battleship, naval combat, jds myoko, lost communication, taser, buoy, communications expert, joint chiefs of staff, crash landing, jet fighter pilot, navy lieutenant, permission to marry, uss john paul jones, based on board game, aftercreditsstinger, mighty mo, uss missouri]   \n",
       "2  [independent film]                                                                                                                                                                                                                                                                                                                                                                 \n",
       "3  [pilot, airplane, ghost]                                                                                                                                                                                                                                                                                                                                                           \n",
       "4  [father son relationship, capitalism, based on novel, smoking, lie, cigarette, research, law, health, marketing, politics, politician, tobacco, liar, dark comedy, cancer, independent film, money, morality, social satire, cigarette smoking, business, advertising, guilt, humiliation, lobby, bribe, corporation, lung cancer, lobbyist, tobacco industry, nicotine]           \n",
       "5  [new york, new year's eve, lovesickness, age difference, suicide attempt, office, flat, spaghetti, christmas party, winter, clerk, tennis racket, romantic comedy, extramarital affair]                                                                                                                                                                                            \n",
       "6  [baseball, sport, duringcreditsstinger]                                                                                                                                                                                                                                                                                                                                            \n",
       "7  []                                                                                                                                                                                                                                                                                                                                                                                 \n",
       "8  [confession, airplane, f word, hangover, airplane crash, syringe, denial, porn actress, jesus freak, baseball stadium, perjury, national transportation safety board, flying upside down, narcissist, relapse, substance abuse]                                                                                                                                                    \n",
       "9  [animation, animal, 3d]                                                                                                                                                                                                                                                                                                                                                            \n",
       "\n",
       "  original_language  \\\n",
       "0  en                 \n",
       "1  en                 \n",
       "2  en                 \n",
       "3  en                 \n",
       "4  en                 \n",
       "5  en                 \n",
       "6  en                 \n",
       "7  en                 \n",
       "8  en                 \n",
       "9  en                 \n",
       "\n",
       "                                                                                                                                                                                                                                                                                                                                                                                                                                                                                                                                                                                                                                                                                                                                                                                                                                                                                                                                                                                               overview  \\\n",
       "0  Alcoholic pilot, Ted Striker has developed a fear of flying due to wartime trauma, but nevertheless boards a passenger jet in an attempt to woo back his stewardess girlfriend. Food poisoning decimates the passengers and crew, leaving it up to Striker to land the plane with the help of a glue-sniffing air traffic controller and Striker's vengeful former Air Force captain, who must both talk him down.                                                                                                                                                                                                                                                                                                                                                                                                                                                                                                                                                                                     \n",
       "1  When mankind beams a radio signal into space, a reply comes from ‘Planet G’, in the form of several alien crafts that splash down in the waters off Hawaii. Lieutenant Alex Hopper is a weapons officer assigned to the USS John Paul Jones, part of an international naval coalition which becomes the world's last hope for survival as they engage the hostile alien force of unimaginable strength. While taking on the invaders, Hopper must also try to live up to the potential his brother, and his fiancée's father, Admiral Shane, expect of him.                                                                                                                                                                                                                                                                                                                                                                                                                                            \n",
       "2  “The Living Wake” is a dark comedy set in a timeless storybook universe. Self-proclaimed artist and genius, K. Roth Binew, has one day to live. He has enlisted his best and only friend, Mills Joquin, to take him around on a bicycle powered rickshaw. In a final attempt to probe life’s deepest mysteries, Binew endures one ridiculous trial after the next. He concludes his day with a final performance, his living wake. On a makeshift stage in an open field, Binew’s friends and enemies gather to witness his madness one final time.                                                                                                                                                                                                                                                                                                                                                                                                                                                    \n",
       "3  Pete Sandidge (Tracy), a daredevil bomber pilot, dies when he crashes his plane into a German aircraft carrier, leaving his devoted girlfriend, Dorinda (Irene Dunne), who is also a pilot, heartbroken. In heaven, Pete receives a new assignment: he is to become the guardian angel for Ted Randall (Van Johnson), a young Army flyer. Invisibly, Pete guides Ted through flight school and into combat, but the ectoplasmic mentor's tolerance is tested when Ted falls for Dorinda. Ultimately, however, Pete not only comes to terms with their relationship but also acts as Dorinda's copilot when she undertakes a dangerous bombing raid, so that Ted won't have to. Remade by Steven Speilberg in 1989 as ALWAYS                                                                                                                                                                                                                                                                            \n",
       "4  The chief spokesperson and lobbyist Nick Naylor is the Vice-President of the Academy of Tobacco Studies. He is talented in speaking and spins argument to defend the cigarette industry in the most difficult situations. His best friends are Polly Bailey that works in the Moderation Council in alcohol business, and Bobby Jay Bliss of the gun business own advisory group SAFETY. They frequently meet each other in a bar and they self-entitle the Mod Squad a.k.a. Merchants of Death, disputing which industry has killed more people. Nick's greatest enemy is Vermont's Senator Ortolan Finistirre, who defends in the Senate the use a skull and crossed bones in the cigarette packs. Nick's son Joey Naylor lives with his mother, and has the chance to know his father in a business trip. When the ambitious reporter Heather Holloway betrays Nick disclosing confidences he had in bed with her, his life turns upside-down. But Nick is good in what he does for the mortgage.   \n",
       "5  Bud Baxter is a minor clerk in a huge New York insurance company, until he discovers a quick way to climb the corporate ladder. He lends out his apartment to the executives as a place to take their mistresses. Although he often has to deal with the aftermath of their visits, one night he's left with a major problem to solve.                                                                                                                                                                                                                                                                                                                                                                                                                                                                                                                                                                                                                                                                 \n",
       "6  In a last-ditch effort to save his career, sports agent JB Bernstein (Jon Hamm) dreams up a wild game plan to find Major League Baseball’s next great pitcher from a pool of cricket players in India. He soon discovers two young men who can throw a fastball but know nothing about the game of baseball. Or America. It’s an incredible and touching journey that will change them all — especially JB, who learns valuable lessons about teamwork, commitment and family.                                                                                                                                                                                                                                                                                                                                                                                                                                                                                                                         \n",
       "7                                                                                                                                                                                                                                                                                                                                                                                                                                                                                                                                                                                                                                                                                                                                                                                                                                                                                                                                                                                                         \n",
       "8  Commercial airline pilot Whip Whitaker has a problem with drugs and alcohol, though so far he's managed to complete his flights safely. His luck runs out when a disastrous mechanical malfunction sends his plane hurtling toward the ground. Whip pulls off a miraculous crash-landing that results in only six lives lost. Shaken to the core, Whip vows to get sober -- but when the crash investigation exposes his addiction, he finds himself in an even worse situation.                                                                                                                                                                                                                                                                                                                                                                                                                                                                                                                       \n",
       "9  The animated comedy tells the story of a lowly wood pigeon named Valiant, who overcomes his small size to become a hero in Great Britain's Royal Air Force Homing Pigeon Service during World War II. The RHPS advanced the Allied cause by flying vital messages about enemy movements across the English Channel, whilst evading brutal attacks by the enemy's Falcon Brigade.                                                                                                                                                                                                                                                                                                                                                                                                                                                                                                                                                                                                                       \n",
       "\n",
       "   popularity release_date    revenue  runtime    spoken_languages  \\\n",
       "0  46.116885   1980-07-02   83453539   88.0     [English]            \n",
       "1  64.928382   2012-04-11   303025485  131.0    [English, ภาษาไทย]   \n",
       "2  0.383442    2007-01-01   0          91.0     []                   \n",
       "3  0.531444    1944-03-01   5363000    120.0    [English]            \n",
       "4  29.011530   2005-09-05   24793509   92.0     [English]            \n",
       "5  22.889294   1960-06-15   25000000   125.0    [English]            \n",
       "6  17.312433   2014-05-09   38307627   124.0    [हिन्दी, English]    \n",
       "7  0.020600    2005-01-01   0          97.0     [English]            \n",
       "8  42.213765   2012-11-02   161772375  138.0    [English]            \n",
       "9  14.051852   2005-03-25   19478106   76.0     [English]            \n",
       "\n",
       "                   title  \\\n",
       "0  Airplane!               \n",
       "1  Battleship              \n",
       "2  The Living Wake         \n",
       "3  A Guy Named Joe         \n",
       "4  Thank You for Smoking   \n",
       "5  The Apartment           \n",
       "6  Million Dollar Arm      \n",
       "7  The Helix... Loaded     \n",
       "8  Flight                  \n",
       "9  Valiant                 \n",
       "\n",
       "                                                                                                                                                                                                                                                                                                                                                                                                                                                                                                                                                                                                                                                                                                                                                                                                                                                                                                                                                                                                                                                                                                                                                                                                                                                                                                                                                                                                                                                                                                                                                                                                                                                                                                                                                                                                                                                                                                                                                                                                                                                                                                                                                                                                                                                                                                                                                                                                                                                                                                                                                                                                                                                                                                                                                                                                                                                                                                                                          cast  \\\n",
       "0  [{'character': 'Ted Striker', 'name': 'Robert Hays'}, {'character': 'Elaine', 'name': 'Julie Hagerty'}, {'character': 'Murdock', 'name': 'Kareem Abdul-Jabbar'}, {'character': 'McCroskey', 'name': 'Lloyd Bridges'}, {'character': 'Captain Oveur', 'name': 'Peter Graves'}, {'character': 'Dr. Rumack', 'name': 'Leslie Nielsen'}, {'character': 'Randy', 'name': 'Lorna Patterson'}, {'character': 'Rex Kramer', 'name': 'Robert Stack'}, {'character': 'Johnny', 'name': 'Stephen Stucker'}, {'character': 'Religious zealot #6', 'name': 'Jim Abrahams'}, {'character': 'Victor Basta', 'name': 'Frank Ashmore'}, {'character': 'Gunderson', 'name': 'Jonathan Banks'}, {'character': 'Paul Carey', 'name': 'Craig Berenson'}, {'character': 'Jive Lady', 'name': 'Barbara Billingsley'}, {'character': 'Mrs. Hammen', 'name': 'Lee Bryant'}, {'character': 'Mrs. Davis', 'name': 'Joyce Bulifant'}, {'character': 'Security Lady', 'name': 'Mae E. Campbell'}, {'character': 'Lieutenant Hurwitz', 'name': 'Ethel Merman'}, {'character': 'Windshield Wiper Man', 'name': 'Jimmie Walker'}, {'character': 'Lisa Davis', 'name': 'Jill Whelan'}, {'character': '', 'name': 'Kitten Natividad'}, {'character': 'Cocaine Lady', 'name': 'Nora Meerbaum'}, {'character': 'Air Controller Neubauer', 'name': 'Kenneth Tobey'}]                                                                                                                                                                                                                                                                                                                                                                                                                                                                                                                                                                                                                                                                                                                                                                                                                                                                                                                                                                                                                                                                                                                                                                                                                                                                                                                                                                                                                                                                                                                                                                                                               \n",
       "1  [{'character': 'Lieutenant Alex Hopper', 'name': 'Taylor Kitsch'}, {'character': 'Commander Stone Hopper', 'name': 'Alexander Skarsgård'}, {'character': 'Petty Officer Cora 'Weps' Raikes', 'name': 'Rihanna'}, {'character': 'Sam', 'name': 'Brooklyn Decker'}, {'character': 'Captain Yugi Nagata', 'name': 'Tadanobu Asano'}, {'character': 'Admiral Shane', 'name': 'Liam Neeson'}, {'character': 'Lieutenant Colonel Mick Canales', 'name': 'Gregory D. Gadson'}, {'character': 'Cal Zapata', 'name': 'Hamish Linklater'}, {'character': 'Boatswain Mate Seaman Jimmy \"Ordy\" Ord', 'name': 'Jesse Plemons'}, {'character': 'Chief Petty Officer Walter \"The Beast\" Lynch', 'name': 'John Tui'}, {'character': 'Sampson JOOD Strodell', 'name': 'Jerry Ferrara'}, {'character': 'NASA Director', 'name': 'David Jensen'}, {'character': 'JPJ 2nd Gunner', 'name': 'Peter Berg'}, {'character': 'Dr. Nogrady', 'name': 'Adam Godley'}, {'character': 'Captain Browley', 'name': 'Rico McClinton'}, {'character': 'Chief Engineer Hiroki', 'name': 'Joji Yoshida'}, {'character': 'JPJ OOD', 'name': 'Stephen Bishop'}, {'character': 'JPJ Fireman', 'name': 'Austin Naulty'}, {'character': 'JPJ Scat', 'name': 'James Rawlings'}, {'character': 'Electronic Warfare Supervisor', 'name': 'Dustin J. Reno'}, {'character': 'Chairman, Joint Chiefs of Staff', 'name': 'Rick Hoffman'}, {'character': 'Air Force Chief of Staff', 'name': 'Gary Grubbs'}, {'character': 'Watch Officer', 'name': 'Rami Malek'}, {'character': 'Secretary of Defense', 'name': 'Peter MacNicol'}, {'character': 'Bartender', 'name': 'Louis Lombardi'}, {'character': 'JPJ Sailor', 'name': 'Jordan Kirkwood'}, {'character': 'CIC Watch Supervisor', 'name': 'Doug Penty'}, {'character': 'CIC Gunner', 'name': 'Carson Aune'}, {'character': 'Combat Systems Coordinator', 'name': 'Josh Pence'}, {'character': 'JPJ Port Gunner', 'name': 'Lloyd Pitts'}, {'character': 'British Newscaster', 'name': 'Michelle Arthur'}, {'character': 'Spanish Newscaster', 'name': 'Natalia Castellanos'}, {'character': 'Japanese Newscaster', 'name': 'Leni Ito'}, {'character': 'Jackie Johnson', 'name': 'Jackie Johnson'}, {'character': 'Cal's Female Colleague', 'name': 'Kerry Cahill'}, {'character': 'Old Salt', 'name': 'Norman Vincent McLafferty'}, {'character': 'JPJ XO Mullenaro', 'name': 'Dante Jimenez'}, {'character': 'JPJ Helmsman', 'name': 'Daven Arce'}, {'character': 'JPJ Starboard Gunner', 'name': 'Ralph Richardson'}, {'character': 'JPJ BMOW', 'name': 'Biunca Love'}, {'character': 'Regent Sea Commander', 'name': 'Kyle Russell Clements'}, {'character': 'Myoko XO', 'name': 'Yutaka Takeuchi'}, {'character': 'JPJ Sailor', 'name': 'John A Weaver'}, {'character': 'Sampson OOD', 'name': 'Dane Justman'}, {'character': 'Sampson XO', 'name': 'Drew Rausch'}, {'character': 'Marine Commandant', 'name': 'Bill Stinchcomb'}]   \n",
       "2  [{'character': 'Mills', 'name': 'Jesse Eisenberg'}, {'character': 'K. Roth Binew', 'name': 'Mike O'Connell'}, {'character': 'Lampert Binew', 'name': 'Jim Gaffigan'}, {'character': 'Librarian', 'name': 'Ann Dowd'}, {'character': 'Prostitute', 'name': 'Colombe Jacobsen-Derstine'}, {'character': 'Reginald', 'name': 'Eddie Pepitone'}]                                                                                                                                                                                                                                                                                                                                                                                                                                                                                                                                                                                                                                                                                                                                                                                                                                                                                                                                                                                                                                                                                                                                                                                                                                                                                                                                                                                                                                                                                                                                                                                                                                                                                                                                                                                                                                                                                                                                                                                                                                                                                                                                                                                                                                                                                                                                                                                                                                                                                                                                                                                                  \n",
       "3  [{'character': 'Pete Sandidge', 'name': 'Spencer Tracy'}, {'character': 'Dorinda Durston', 'name': 'Irene Dunne'}, {'character': 'Ted Randall', 'name': 'Van Johnson'}, {'character': 'Al Yackey', 'name': 'Ward Bond'}, {'character': ''Nails' Kilpatrick', 'name': 'James Gleason'}, {'character': 'The General', 'name': 'Lionel Barrymore'}, {'character': 'Dick Rumney', 'name': 'Barry Nelson'}, {'character': 'Ellen Bright', 'name': 'Esther Williams'}, {'character': 'Col. Sykes', 'name': 'Henry O'Neill'}, {'character': 'James J. Rourke', 'name': 'Don DeFore'}, {'character': 'Sanderson', 'name': 'Charles Smith'}, {'character': 'Maj. Corbett', 'name': 'Addison Richards'}, {'character': 'Henderson', 'name': 'Irving Bacon'}, {'character': 'Girlfriend of Rourke', 'name': 'Eve Whitney'}]                                                                                                                                                                                                                                                                                                                                                                                                                                                                                                                                                                                                                                                                                                                                                                                                                                                                                                                                                                                                                                                                                                                                                                                                                                                                                                                                                                                                                                                                                                                                                                                                                                                                                                                                                                                                                                                                                                                                                                                                                                                                                                                              \n",
       "4  [{'character': 'Nick Naylor', 'name': 'Aaron Eckhart'}, {'character': 'Polly Bailey', 'name': 'Maria Bello'}, {'character': 'Joey Naylor', 'name': 'Cameron Bright'}, {'character': 'Jack', 'name': 'Adam Brody'}, {'character': 'Lorne Lutch', 'name': 'Sam Elliott'}, {'character': 'Heather Holloway', 'name': 'Katie Holmes'}, {'character': 'Jeff Megall', 'name': 'Rob Lowe'}, {'character': 'Senator Ortolan Finistirre', 'name': 'William H. Macy'}, {'character': 'The Captain', 'name': 'Robert Duvall'}, {'character': 'Bobby Jay Bliss', 'name': 'David Koechner'}, {'character': 'BR', 'name': 'J.K. Simmons'}, {'character': 'Jill Naylor', 'name': 'Kim Dickens'}, {'character': 'Pearl', 'name': 'Connie Ray'}, {'character': 'Joan Lunden', 'name': 'Joan Lunden'}, {'character': 'Sue Maclean', 'name': 'Mary Jo Smith'}, {'character': 'Ron Goode', 'name': 'Todd Louiso'}, {'character': 'Kidnapper', 'name': 'Jeff Witzke'}, {'character': 'Teacher', 'name': 'Marianne Muellerleile'}, {'character': 'Kid #2', 'name': 'Jordan Garrett'}, {'character': 'Kid #3', 'name': 'Courtney Taylor Burness'}, {'character': 'Brad', 'name': 'Daniel Travis'}, {'character': 'Trainee', 'name': 'Richard Speight Jr.'}, {'character': 'Tiffany', 'name': 'Renée Graham'}, {'character': 'EGO Assistant', 'name': 'Timothy Dowling'}, {'character': 'Dennis Miller', 'name': 'Dennis Miller'}, {'character': 'Ski Mask #1', 'name': 'Terry James'}, {'character': 'Ski Mask #2', 'name': 'Marc Scizak'}, {'character': 'Flighty Girl', 'name': 'Rachel Thorp'}, {'character': 'Doctor', 'name': 'Aaron Lustig'}, {'character': 'Interviewer', 'name': 'Melora Hardin'}, {'character': 'FBI Agent (voice)', 'name': 'Brian Palermo'}, {'character': 'Dr. Meisenbach', 'name': 'Michael Mantell'}, {'character': 'Senator Lothridge', 'name': 'Spencer Garrett'}, {'character': 'Senator Dupree', 'name': 'Earl Billings'}, {'character': 'Reporter #1', 'name': 'Catherine Reitman'}, {'character': 'Reporter #2', 'name': 'Sean Patrick Murphy'}, {'character': 'Oil Lobbyist', 'name': 'David O. Sacks'}, {'character': 'Nancy Humphries O'Dell', 'name': 'Nancy O'Dell'}, {'character': 'Debate Moderator', 'name': 'Roy Jenkins'}, {'character': 'Gentleman #2', 'name': 'Bruce French'}, {'character': 'Man at Metro Station (uncredited)', 'name': 'Christopher Buckley'}, {'character': 'Hotel Phone Operator (voice) (uncredited)', 'name': 'Dana E. Glauberman'}, {'character': 'Flight Attendant (uncredited)', 'name': 'Eva La Dare'}, {'character': 'Peter (uncredited)', 'name': 'Robert Malina'}, {'character': 'Gizelle (voice) (uncredited)', 'name': 'Aloma Wright'}]                                                                                                                                                                                                                                             \n",
       "5  [{'character': 'C.C. Baxter', 'name': 'Jack Lemmon'}, {'character': 'Fran Kubelik', 'name': 'Shirley MacLaine'}, {'character': 'Jeff D. Sheldrake', 'name': 'Fred MacMurray'}, {'character': 'Joe Dobisch', 'name': 'Ray Walston'}, {'character': 'Dr. Dreyfuss', 'name': 'Jack Kruschen'}, {'character': 'Mrs. Mildred Dreyfuss', 'name': 'Naomi Stevens'}, {'character': 'Mrs. Margie MacDougall', 'name': 'Hope Holiday'}, {'character': 'Miss Olsen', 'name': 'Edie Adams'}, {'character': 'Sylvia', 'name': 'Joan Shawlee'}, {'character': 'Karl Matuschka', 'name': 'Johnny Seven'}, {'character': 'Al Kirkeby', 'name': 'David Lewis'}, {'character': 'The Blonde', 'name': 'Joyce Jameson'}, {'character': 'Mr. Vanderhoff', 'name': 'Willard Waterman'}, {'character': 'Mr. Eichelberger', 'name': 'David White'}, {'character': 'Office Worker (uncredited)', 'name': 'Dorothy Abbott'}, {'character': 'Office Worker (uncredited)', 'name': 'Ralph Moratz'}, {'character': 'Office Maintenance Man (uncredited)', 'name': 'Joe Palma'}, {'character': 'TV Movie Host (uncredited)', 'name': 'Bill Baldwin'}, {'character': 'Charlie - Bartender (uncredited)', 'name': 'Benny Burt'}, {'character': 'Elevator Supervisor with Clicker (uncredited)', 'name': 'Lynn Cartwright'}, {'character': 'Bit Part (uncredited)', 'name': 'Mason Curry'}, {'character': 'Messenger (uncredited)', 'name': 'David Macklin'}, {'character': 'Man in Santa Claus Suit (uncredited)', 'name': 'Hal Smith'}]                                                                                                                                                                                                                                                                                                                                                                                                                                                                                                                                                                                                                                                                                                                                                                                                                                                                                                                                                                                                                                                                                                                                                                                                                                                                                                                                                                                                                                      \n",
       "6  [{'character': 'J. B. Bernstein', 'name': 'Jon Hamm'}, {'character': 'Tom House', 'name': 'Bill Paxton'}, {'character': 'Brenda Paauwe', 'name': 'Lake Bell'}, {'character': 'Rinku', 'name': 'Suraj Sharma'}, {'character': 'Ash Vasudevan', 'name': 'Aasif Mandvi'}, {'character': 'Dinesh', 'name': 'Madhur Mittal'}, {'character': 'Amit', 'name': 'Pitobash'}, {'character': 'Ray Arkin', 'name': 'Alan Arkin'}, {'character': 'Lisette', 'name': 'Bar Paly'}, {'character': 'Pete', 'name': 'Al Sapienza'}, {'character': 'Chang', 'name': 'Tzi Ma'}, {'character': 'Theresa', 'name': 'Allyn Rachel'}, {'character': 'Indian Reporter', 'name': 'Ravi Naidu'}, {'character': 'Hot Girl', 'name': 'Gabriela Lopez'}]                                                                                                                                                                                                                                                                                                                                                                                                                                                                                                                                                                                                                                                                                                                                                                                                                                                                                                                                                                                                                                                                                                                                                                                                                                                                                                                                                                                                                                                                                                                                                                                                                                                                                                                                                                                                                                                                                                                                                                                                                                                                                                                                                                                                                    \n",
       "7  []                                                                                                                                                                                                                                                                                                                                                                                                                                                                                                                                                                                                                                                                                                                                                                                                                                                                                                                                                                                                                                                                                                                                                                                                                                                                                                                                                                                                                                                                                                                                                                                                                                                                                                                                                                                                                                                                                                                                                                                                                                                                                                                                                                                                                                                                                                                                                                                                                                                                                                                                                                                                                                                                                                                                                                                                                                                                                                                                            \n",
       "8  [{'character': 'Whip Whitaker', 'name': 'Denzel Washington'}, {'character': 'Hugh Lang', 'name': 'Don Cheadle'}, {'character': 'Charlie Anderson', 'name': 'Bruce Greenwood'}, {'character': 'Nicole', 'name': 'Kelly Reilly'}, {'character': 'Harling Mays', 'name': 'John Goodman'}, {'character': 'Ken Evans', 'name': 'Brian Geraghty'}, {'character': 'Katerina Marquez', 'name': 'Nadine Velazquez'}, {'character': 'Margaret Thomason', 'name': 'Tamara Tunie'}, {'character': 'Ellen Block', 'name': 'Melissa Leo'}, {'character': 'Deana', 'name': 'Garcelle Beauvais'}, {'character': 'Will Whitaker Jr.', 'name': 'Justin Martin'}, {'character': 'Avington Carr', 'name': 'Peter Gerety'}, {'character': 'Man in Hallway', 'name': 'James Badge Dale'}, {'character': 'Peach Tree Employee', 'name': 'Sharon Blackwood'}, {'character': 'Son on Plane', 'name': 'Carter Cabassa'}, {'character': 'Field Reporter', 'name': 'John Crow'}, {'character': 'Derek Hogue', 'name': 'Dane Davenport'}, {'character': '', 'name': 'Piers Morgan'}]                                                                                                                                                                                                                                                                                                                                                                                                                                                                                                                                                                                                                                                                                                                                                                                                                                                                                                                                                                                                                                                                                                                                                                                                                                                                                                                                                                                                                                                                                                                                                                                                                                                                                                                                                                                                                                                                                       \n",
       "9  [{'character': 'Valiant (voice)', 'name': 'Ewan McGregor'}, {'character': 'Bugsy (voice)', 'name': 'Ricky Gervais'}, {'character': 'Von Talon (voice)', 'name': 'Tim Curry'}, {'character': 'Sergeant (voice)', 'name': 'Jim Broadbent'}, {'character': 'Gutsy (voice)', 'name': 'Hugh Laurie'}, {'character': 'Mercury (voice)', 'name': 'John Cleese'}, {'character': 'Felix (voice)', 'name': 'John Hurt'}, {'character': 'Lofty (voice)', 'name': 'Pip Torrens'}, {'character': 'Cufflingk (voice)', 'name': 'Rik Mayall'}, {'character': 'Victoria (voice)', 'name': 'Olivia Williams'}, {'character': 'Big Thug (voice)', 'name': 'Jonathan Ross'}, {'character': 'Toughwood (voice)', 'name': 'Brian Lonsdale'}, {'character': 'Tailfeather (voice)', 'name': 'Dan Roberts'}, {'character': 'Underlingk (voice)', 'name': 'Michael Schlingmann'}, {'character': 'Charles De Girl', 'name': 'Sharon Horgan'}]                                                                                                                                                                                                                                                                                                                                                                                                                                                                                                                                                                                                                                                                                                                                                                                                                                                                                                                                                                                                                                                                                                                                                                                                                                                                                                                                                                                                                                                                                                                                                                                                                                                                                                                                                                                                                                                                                                                                                                                                                           \n",
       "\n",
       "   release_year  \n",
       "0  1980          \n",
       "1  2012          \n",
       "2  2007          \n",
       "3  1944          \n",
       "4  2005          \n",
       "5  1960          \n",
       "6  2014          \n",
       "7  2005          \n",
       "8  2012          \n",
       "9  2005          "
      ]
     },
     "execution_count": 8,
     "metadata": {},
     "output_type": "execute_result"
    }
   ],
   "source": [
    "res[\"ui_displayable\"]"
   ]
  },
  {
   "cell_type": "markdown",
   "id": "4d6cc252",
   "metadata": {},
   "source": [
    "## Creating a JSON schema\n",
    "\n",
    "We need to create a JSON schema for our tools so that the LLM knows what each tool does and how to use it."
   ]
  },
  {
   "cell_type": "code",
   "execution_count": 9,
   "id": "4405bd1b",
   "metadata": {},
   "outputs": [],
   "source": [
    "# We create a BaseModel for the arguments to our function to easily create a JSON schema\n",
    "class QueryMovieDB(BaseModel):\n",
    "    text: str = Field(\n",
    "        description=\"Query overviews of movies\",\n",
    "    )\n",
    "    limit: int = Field(\n",
    "        default=10,\n",
    "        description=\"Number of results to return\",\n",
    "    )"
   ]
  },
  {
   "cell_type": "code",
   "execution_count": 10,
   "id": "2391e2dd",
   "metadata": {},
   "outputs": [
    {
     "data": {
      "text/plain": [
       "{'type': 'function',\n",
       " 'function': {'name': 'query_movie_db',\n",
       "  'description': 'Query the LanceDB movie database for movies with similar overviews to the input text.',\n",
       "  'parameters': {'properties': {'text': {'description': 'Query overviews of movies',\n",
       "     'title': 'Text',\n",
       "     'type': 'string'},\n",
       "    'limit': {'default': 10,\n",
       "     'description': 'Number of results to return',\n",
       "     'title': 'Limit',\n",
       "     'type': 'integer'}},\n",
       "   'required': ['text'],\n",
       "   'title': 'QueryMovieDB',\n",
       "   'type': 'object'}}}"
      ]
     },
     "execution_count": 10,
     "metadata": {},
     "output_type": "execute_result"
    }
   ],
   "source": [
    "schema = create_tool_schema_for_function(query_movie_db, QueryMovieDB)\n",
    "schema"
   ]
  },
  {
   "cell_type": "markdown",
   "id": "d8a143f7",
   "metadata": {},
   "source": [
    "## Hugging Face InferenceClient\n",
    "\n",
    "* [Hugging Face InferenceClient Function Calling](https://huggingface.co/docs/hugs/en/guides/function-calling)"
   ]
  },
  {
   "cell_type": "code",
   "execution_count": 52,
   "id": "005c50ec",
   "metadata": {},
   "outputs": [],
   "source": [
    "hf_token = os.getenv(\"HF_TOKEN\")\n",
    "if hf_token is None:\n",
    "    raise ValueError(\"HF_TOKEN environment variable not set\")\n",
    "\n",
    "hf_client = AsyncInferenceClient(\n",
    "    provider=\"fireworks-ai\",\n",
    "    api_key=hf_token,\n",
    ")"
   ]
  },
  {
   "cell_type": "code",
   "execution_count": 54,
   "id": "1a15f441",
   "metadata": {},
   "outputs": [
    {
     "name": "stdout",
     "output_type": "stream",
     "text": [
      "[ChatCompletionOutputToolCall(function=ChatCompletionOutputFunctionDefinition(arguments='{\"text\": \"a retired assassin who is forced back into the game\", \"limit\": 10}', name='query_movie_db', description=None), id='call_s2FqSYpNMohv6sJluEiafAeO', type='function', index=0)]\n"
     ]
    }
   ],
   "source": [
    "messages = [\n",
    "    {\n",
    "        \"role\": \"system\",\n",
    "        \"content\": \"Don't make assumptions about values. Ask for clarification if needed.\",\n",
    "    },\n",
    "    {\n",
    "        \"role\": \"user\",\n",
    "        \"content\": \"I'd like to watch a movie about a retired assassin who is forced back into the game. /no_think\",\n",
    "    },\n",
    "]\n",
    "\n",
    "response = await hf_client.chat_completion(\n",
    "    model=\"Qwen/Qwen3-235B-A22B\",\n",
    "    messages=messages,\n",
    "    tools=[schema],\n",
    "    tool_choice=\"auto\",  # allow the model to choose to call tool, if any; others options: \"required\": call one or more tools\n",
    ")  # type: ignore\n",
    "print(response.choices[0].message.tool_calls)\n"
   ]
  },
  {
   "cell_type": "code",
   "execution_count": null,
   "id": "c100ab5f",
   "metadata": {},
   "outputs": [
    {
     "data": {
      "text/plain": [
       "ChatCompletionOutputMessage(role='assistant', content='<think>\\n\\n</think>\\n\\n', tool_call_id=None, tool_calls=[ChatCompletionOutputToolCall(function=ChatCompletionOutputFunctionDefinition(arguments='{\"text\": \"a retired assassin who is forced back into the game\", \"limit\": 10}', name='query_movie_db', description=None), id='call_s2FqSYpNMohv6sJluEiafAeO', type='function', index=0)])"
      ]
     },
     "execution_count": 55,
     "metadata": {},
     "output_type": "execute_result"
    }
   ],
   "source": [
    "response.choices[0].message"
   ]
  },
  {
   "cell_type": "code",
   "execution_count": 60,
   "id": "3942dff3",
   "metadata": {},
   "outputs": [
    {
     "data": {
      "text/plain": [
       "'ChatCompletionOutputFunctionDefinition(arguments=\\'{\"text\": \"a retired assassin who is forced back into the game\", \"limit\": 10}\\', name=\\'query_movie_db\\', description=None)'"
      ]
     },
     "execution_count": 60,
     "metadata": {},
     "output_type": "execute_result"
    }
   ],
   "source": [
    "str(response.choices[0].message.tool_calls[0].function)"
   ]
  },
  {
   "cell_type": "code",
   "execution_count": 56,
   "id": "495b52e5",
   "metadata": {},
   "outputs": [
    {
     "data": {
      "text/plain": [
       "ChatCompletionOutputFunctionDefinition(arguments='{\"text\": \"a retired assassin who is forced back into the game\", \"limit\": 10}', name='query_movie_db', description=None)"
      ]
     },
     "execution_count": 56,
     "metadata": {},
     "output_type": "execute_result"
    }
   ],
   "source": [
    "func = response.choices[0].message.tool_calls[0].function\n",
    "func\n"
   ]
  },
  {
   "cell_type": "code",
   "execution_count": 58,
   "id": "19a89ff7",
   "metadata": {},
   "outputs": [
    {
     "name": "stdout",
     "output_type": "stream",
     "text": [
      "call_s2FqSYpNMohv6sJluEiafAeO\n",
      "query_movie_db\n",
      "{'text': 'a retired assassin who is forced back into the game', 'limit': 10}\n"
     ]
    }
   ],
   "source": [
    "print(response.choices[0].message.tool_calls[0].id)\n",
    "print(func.name)\n",
    "print(json.loads(func.arguments))"
   ]
  },
  {
   "cell_type": "code",
   "execution_count": null,
   "id": "0a4e72f5",
   "metadata": {},
   "outputs": [],
   "source": [
    "func.call"
   ]
  },
  {
   "cell_type": "markdown",
   "id": "567f00f5",
   "metadata": {},
   "source": [
    "### Streaming kind of a hassle"
   ]
  },
  {
   "cell_type": "code",
   "execution_count": null,
   "id": "c41249b4",
   "metadata": {},
   "outputs": [
    {
     "name": "stdout",
     "output_type": "stream",
     "text": [
      "ChatCompletionStreamOutput(choices=[ChatCompletionStreamOutputChoice(delta=ChatCompletionStreamOutputDelta(role='assistant', content=None, tool_call_id=None, tool_calls=None), index=0, finish_reason=None, logprobs=None)], created=1747809409.1515565, id='b03f4b31-5eb4-42f4-8376-6fa1715113a5', model='Meta-Llama-3.3-70B-Instruct', system_fingerprint='fastcoe', usage=None, object='chat.completion.chunk')\n",
      "ChatCompletionStreamOutput(choices=[ChatCompletionStreamOutputChoice(delta=ChatCompletionStreamOutputDelta(role='assistant', content=None, tool_call_id=None, tool_calls=[ChatCompletionStreamOutputDeltaToolCall(function=ChatCompletionStreamOutputFunction(arguments='{\"limit\":10,\"text\":\"a retired assassin who is forced back into the game\"}', name='query_movie_db'), id='call_130dc102c3264ccba4', index=None, type='function')]), index=0, finish_reason='tool_calls', logprobs=None)], created=1747809409.1515565, id='b03f4b31-5eb4-42f4-8376-6fa1715113a5', model='Meta-Llama-3.3-70B-Instruct', system_fingerprint='fastcoe', usage=None, object='chat.completion.chunk')\n"
     ]
    }
   ],
   "source": [
    "response = await hf_client.chat_completion(\n",
    "    model=\"Qwen/Qwen3-235B-A22B\",\n",
    "    messages=messages,\n",
    "    tools=[schema],\n",
    "    tool_choice=\"auto\",  # allow the model to choose to call tool, if any; others options: \"required\": call one or more tools\n",
    "    stream=True,\n",
    ")  # type: ignore\n",
    "chunks = []\n",
    "async for chunk in response:\n",
    "    chunks.append(chunk)\n",
    "    print(chunk)"
   ]
  },
  {
   "cell_type": "code",
   "execution_count": 43,
   "id": "7ae5a1d3",
   "metadata": {},
   "outputs": [
    {
     "name": "stdout",
     "output_type": "stream",
     "text": [
      "ChatCompletionStreamOutput(choices=[ChatCompletionStreamOutputChoice(delta=ChatCompletionStreamOutputDelta(role='assistant', content=None, tool_call_id=None, tool_calls=None, reasoning_content=None), index=0, finish_reason=None, logprobs=None, matched_stop=None)], created=1747810636, id='c4614c21e91245b6a44973b39aa8ba7d', model='Qwen/Qwen3-235B-A22B', system_fingerprint=None, usage=None, object='chat.completion.chunk')\n",
      "ChatCompletionStreamOutput(choices=[ChatCompletionStreamOutputChoice(delta=ChatCompletionStreamOutputDelta(role=None, content='<think>', tool_call_id=None, tool_calls=None, reasoning_content=None), index=0, finish_reason=None, logprobs=None, matched_stop=None)], created=1747810636, id='c4614c21e91245b6a44973b39aa8ba7d', model='Qwen/Qwen3-235B-A22B', system_fingerprint=None, usage=None, object='chat.completion.chunk')\n",
      "ChatCompletionStreamOutput(choices=[ChatCompletionStreamOutputChoice(delta=ChatCompletionStreamOutputDelta(role=None, content='\\n\\n', tool_call_id=None, tool_calls=None, reasoning_content=None), index=0, finish_reason=None, logprobs=None, matched_stop=None)], created=1747810636, id='c4614c21e91245b6a44973b39aa8ba7d', model='Qwen/Qwen3-235B-A22B', system_fingerprint=None, usage=None, object='chat.completion.chunk')\n",
      "ChatCompletionStreamOutput(choices=[ChatCompletionStreamOutputChoice(delta=ChatCompletionStreamOutputDelta(role=None, content='</think>', tool_call_id=None, tool_calls=None, reasoning_content=None), index=0, finish_reason=None, logprobs=None, matched_stop=None)], created=1747810636, id='c4614c21e91245b6a44973b39aa8ba7d', model='Qwen/Qwen3-235B-A22B', system_fingerprint=None, usage=None, object='chat.completion.chunk')\n",
      "ChatCompletionStreamOutput(choices=[ChatCompletionStreamOutputChoice(delta=ChatCompletionStreamOutputDelta(role=None, content='\\n\\n', tool_call_id=None, tool_calls=None, reasoning_content=None), index=0, finish_reason=None, logprobs=None, matched_stop=None)], created=1747810636, id='c4614c21e91245b6a44973b39aa8ba7d', model='Qwen/Qwen3-235B-A22B', system_fingerprint=None, usage=None, object='chat.completion.chunk')\n",
      "ChatCompletionStreamOutput(choices=[ChatCompletionStreamOutputChoice(delta=ChatCompletionStreamOutputDelta(role=None, content=None, tool_call_id=None, tool_calls=[ChatCompletionStreamOutputDeltaToolCall(function=ChatCompletionStreamOutputFunction(arguments='', name='query_movie_db'), id='0', index=None, type='function')], reasoning_content=None), index=0, finish_reason=None, logprobs=None, matched_stop=None)], created=1747810636, id='c4614c21e91245b6a44973b39aa8ba7d', model='Qwen/Qwen3-235B-A22B', system_fingerprint=None, usage=None, object='chat.completion.chunk')\n",
      "ChatCompletionStreamOutput(choices=[ChatCompletionStreamOutputChoice(delta=ChatCompletionStreamOutputDelta(role=None, content=None, tool_call_id=None, tool_calls=[ChatCompletionStreamOutputDeltaToolCall(function=ChatCompletionStreamOutputFunction(arguments='{\"text\": \"', name=None), id='0', index=None, type='function')], reasoning_content=None), index=0, finish_reason=None, logprobs=None, matched_stop=None)], created=1747810636, id='c4614c21e91245b6a44973b39aa8ba7d', model='Qwen/Qwen3-235B-A22B', system_fingerprint=None, usage=None, object='chat.completion.chunk')\n",
      "ChatCompletionStreamOutput(choices=[ChatCompletionStreamOutputChoice(delta=ChatCompletionStreamOutputDelta(role=None, content=None, tool_call_id=None, tool_calls=[ChatCompletionStreamOutputDeltaToolCall(function=ChatCompletionStreamOutputFunction(arguments='super', name=None), id='0', index=None, type='function')], reasoning_content=None), index=0, finish_reason=None, logprobs=None, matched_stop=None)], created=1747810636, id='c4614c21e91245b6a44973b39aa8ba7d', model='Qwen/Qwen3-235B-A22B', system_fingerprint=None, usage=None, object='chat.completion.chunk')\n",
      "ChatCompletionStreamOutput(choices=[ChatCompletionStreamOutputChoice(delta=ChatCompletionStreamOutputDelta(role=None, content=None, tool_call_id=None, tool_calls=[ChatCompletionStreamOutputDeltaToolCall(function=ChatCompletionStreamOutputFunction(arguments='heroes\"}', name=None), id='0', index=None, type='function')], reasoning_content=None), index=0, finish_reason=None, logprobs=None, matched_stop=None)], created=1747810636, id='c4614c21e91245b6a44973b39aa8ba7d', model='Qwen/Qwen3-235B-A22B', system_fingerprint=None, usage=None, object='chat.completion.chunk')\n",
      "ChatCompletionStreamOutput(choices=[ChatCompletionStreamOutputChoice(delta=ChatCompletionStreamOutputDelta(role=None, content=None, tool_call_id=None, tool_calls=None, reasoning_content=None), index=0, finish_reason='tool_calls', logprobs=None, matched_stop=None)], created=1747810636, id='c4614c21e91245b6a44973b39aa8ba7d', model='Qwen/Qwen3-235B-A22B', system_fingerprint=None, usage=None, object='chat.completion.chunk')\n"
     ]
    }
   ],
   "source": [
    "messages = [\n",
    "    {\n",
    "        \"role\": \"system\",\n",
    "        \"content\": \"You are a helpful assistant. Only query the database if you are sure it is needed.\",\n",
    "    },\n",
    "    {\n",
    "        \"role\": \"user\",\n",
    "        \"content\": \"I want to watch a movie about superheroes. /no_think\",\n",
    "    },\n",
    "]\n",
    "response = await hf_client.chat.completions.create(\n",
    "    model=\"Qwen/Qwen3-235B-A22B\",\n",
    "    messages=messages,\n",
    "    tools=[schema],\n",
    "    tool_choice=\"auto\",  # allow the model to choose to call tool, if any; others options: \"required\": call one or more tools\n",
    "    stream=True,\n",
    ")  # type: ignore\n",
    "chunks = []\n",
    "async for chunk in response:\n",
    "    chunks.append(chunk)\n",
    "    print(chunk)"
   ]
  },
  {
   "cell_type": "markdown",
   "id": "64025f9b",
   "metadata": {},
   "source": [
    "## OpenAI\n",
    "\n",
    "* [OpenAI Function Calling](https://platform.openai.com/docs/guides/function-calling?api-mode=chat)\n",
    "* [Generous free tier](https://platform.openai.com/docs/models/gpt-4.1-nano)\n",
    "\n",
    "![](https://i.ibb.co/JwZtC9px/Screenshot-2025-05-20-235653.png \"GPT-4.1-nano\")"
   ]
  },
  {
   "cell_type": "code",
   "execution_count": null,
   "id": "96e81483",
   "metadata": {},
   "outputs": [],
   "source": [
    "oai_api_key = os.getenv(\"OPENAI_API_KEY\")\n",
    "if oai_api_key is None:\n",
    "    raise ValueError(\"OPENAI_API_KEY environment variable not set\")\n",
    "oai_client = AsyncOpenAI(api_key=oai_api_key)\n"
   ]
  },
  {
   "cell_type": "code",
   "execution_count": null,
   "id": "5d4c9439",
   "metadata": {},
   "outputs": [],
   "source": [
    "messages = [\n",
    "    {\n",
    "        \"role\": \"system\",\n",
    "        \"content\": \"Don't make assumptions about values. Ask for clarification if needed.\",\n",
    "    },\n",
    "    {\n",
    "        \"role\": \"user\",\n",
    "        \"content\": \"I'd like to watch a movie about a retired assassin who is forced back into the game.\",\n",
    "    },\n",
    "]\n",
    "\n",
    "response = await oai_client.chat.completions.create(\n",
    "    model=\"gpt-4.1-nano\",\n",
    "    messages=messages,\n",
    "    tools=[schema],\n",
    "    tool_choice=\"auto\",\n",
    ")\n",
    "print(response.choices[0].message.tool_calls)\n"
   ]
  },
  {
   "cell_type": "code",
   "execution_count": null,
   "id": "3a116cca",
   "metadata": {},
   "outputs": [],
   "source": [
    "tool_call = response.choices[0].message.tool_calls[0]\n",
    "tool_call\n"
   ]
  },
  {
   "cell_type": "code",
   "execution_count": null,
   "id": "fe7f062c",
   "metadata": {},
   "outputs": [],
   "source": [
    "AVAILABLE_FUNCTIONS = {\n",
    "    \"query_movie_db\": query_movie_db,\n",
    "}\n",
    "\n",
    "\n",
    "def call_function(name, args) -> ToolCallResult:\n",
    "    func = AVAILABLE_FUNCTIONS.get(name)\n",
    "    if not func:\n",
    "        raise ValueError(f\"Unknown function: {name}\")\n",
    "    try:\n",
    "        # Call the function with the provided arguments\n",
    "        return func(**args)\n",
    "    except TypeError as e:  # Catches errors like missing/extra arguments\n",
    "        error_msg = f\"Error: Argument mismatch when calling tool '{name}' with arguments {args}. Details: {e}\"\n",
    "        print(error_msg)\n",
    "        return {\n",
    "            \"llm_consumable\": error_msg,\n",
    "            \"ui_displayable\": error_msg,\n",
    "            \"return_type\": \"error_message\",\n",
    "        }\n",
    "    except Exception as e:  # Catches other errors during tool execution\n",
    "        error_msg = f\"Error during execution of tool '{name}' with arguments {args}. Details: {e}\"\n",
    "        print(error_msg)\n",
    "        return {\n",
    "            \"llm_consumable\": error_msg,\n",
    "            \"ui_displayable\": error_msg,\n",
    "            \"return_type\": \"error_message\",\n",
    "        }\n",
    "\n",
    "\n",
    "def handle_tool_call(\n",
    "    tool_call: ChatCompletionMessageToolCall | ChatCompletionOutputToolCall,\n",
    ") -> ToolCallResult:\n",
    "    tool_call_id = tool_call.id\n",
    "    func = tool_call.function\n",
    "    function_name = func.name\n",
    "    arguments = json.loads(func.arguments)\n",
    "    result = call_function(function_name, arguments)\n",
    "    return\n"
   ]
  },
  {
   "cell_type": "markdown",
   "id": "cc37d343",
   "metadata": {},
   "source": [
    "## Check for function calls in LLM response"
   ]
  },
  {
   "cell_type": "code",
   "execution_count": null,
   "id": "95bf6657",
   "metadata": {},
   "outputs": [],
   "source": [
    "tool_calls = response.choices[0].message.tool_calls\n",
    "for tool_call in tool_calls:\n",
    "    func = tool_call.function\n",
    "    func_name = func.name\n",
    "    tool_call_id = tool_call.id\n",
    "    func_args = json.loads(func.arguments)\n",
    "    result = call_function(func_name, func_args)\n",
    "    messages.append(\n",
    "        {\n",
    "            \"role\": \"tool\",\n",
    "            \"tool_call_id\": tool_call_id,\n",
    "            \"content\": json.dumps(result),\n",
    "        }\n",
    "    )\n"
   ]
  },
  {
   "cell_type": "markdown",
   "id": "a25f4fcf",
   "metadata": {},
   "source": [
    "# Structured outputs\n",
    "\n",
    "We can ensure that the LLM output in a specific format using `structured outputs`"
   ]
  },
  {
   "cell_type": "code",
   "execution_count": null,
   "id": "6f4efd6e",
   "metadata": {},
   "outputs": [],
   "source": [
    "class Polarity(StrEnum):\n",
    "    POSITIVE = \"positive\"\n",
    "    NEGATIVE = \"negative\"\n",
    "    NEUTRAL = \"neutral\"\n",
    "\n",
    "\n",
    "class SentimentAnalysisOutput(BaseModel):\n",
    "    polarity: Annotated[Polarity, \"The sentiment polarity of the text\"]\n",
    "    confidence: Annotated[\n",
    "        float,\n",
    "        Field(\n",
    "            description=\"The confidence score of the sentiment polarity between 0 and 1\",\n",
    "            ge=0.0,\n",
    "            le=1.0,\n",
    "        ),\n",
    "    ]\n",
    "\n",
    "\n",
    "print(json.dumps(SentimentAnalysisOutput.model_json_schema(), indent=2))"
   ]
  },
  {
   "cell_type": "code",
   "execution_count": null,
   "id": "560f7f55",
   "metadata": {},
   "outputs": [],
   "source": [
    "# This will throw an error because the confidence is greater than 1\n",
    "SentimentAnalysisOutput(polarity=\"positive\", confidence=1.1)"
   ]
  },
  {
   "cell_type": "markdown",
   "id": "aeda281e",
   "metadata": {},
   "source": [
    "## Prepare prompt"
   ]
  },
  {
   "cell_type": "code",
   "execution_count": null,
   "id": "f9125a0c",
   "metadata": {},
   "outputs": [],
   "source": [
    "base_prompt = \"\"\"\\\n",
    "Please analyze the sentiment (positive, negative, or neutral) of the following text and return the result in JSON format. \\\n",
    "The JSON should contain the following fields:\n",
    "- polarity: The sentiment polarity of the text (positive, negative, or neutral)\n",
    "- confidence: The confidence score of the sentiment polarity between 0 (not confident) and 1 (very confident)\n",
    "The JSON should be formatted as follows:\n",
    "{{\n",
    "    \"polarity\": \"positive\",\n",
    "    \"confidence\": 0.95\n",
    "}}\n",
    "Text: {text}\n",
    "\"\"\"\n",
    "\n",
    "text_to_analyze = \"Cilantro is amazing on everything!\"\n",
    "\n",
    "messages = [\n",
    "    {\n",
    "        \"role\": \"user\",\n",
    "        \"content\": base_prompt.format(text=text_to_analyze),\n",
    "    }\n",
    "]"
   ]
  },
  {
   "cell_type": "markdown",
   "id": "0b4ee5ff",
   "metadata": {},
   "source": [
    "## Hugging Face InferenceClient\n",
    "\n",
    "We must create a JSON schema manually for the LLM to know how to format the output."
   ]
  },
  {
   "cell_type": "code",
   "execution_count": null,
   "id": "a018382b",
   "metadata": {},
   "outputs": [],
   "source": [
    "response = await hf_client.chat_completion(\n",
    "    model=\"Qwen/Qwen3-235B-A22B\",\n",
    "    messages=messages,\n",
    "    response_format={\n",
    "        \"type\": \"json_object\",\n",
    "        \"value\": SentimentAnalysisOutput.model_json_schema(),  # type: ignore\n",
    "    },\n",
    ")  # type: ignore\n",
    "response"
   ]
  },
  {
   "cell_type": "code",
   "execution_count": null,
   "id": "d714dd35",
   "metadata": {},
   "outputs": [],
   "source": [
    "# raw response\n",
    "response.choices[0].message.content\n"
   ]
  },
  {
   "cell_type": "code",
   "execution_count": null,
   "id": "eb8f18a6",
   "metadata": {},
   "outputs": [],
   "source": [
    "# parse into dictionary\n",
    "response_dict = json.loads(response.choices[0].message.content)\n",
    "response_dict\n"
   ]
  },
  {
   "cell_type": "code",
   "execution_count": null,
   "id": "e11b5be0",
   "metadata": {},
   "outputs": [],
   "source": [
    "# parse into SentimentAnalysisOutput\n",
    "sentiment_result = SentimentAnalysisOutput(**response_dict)\n",
    "sentiment_result\n"
   ]
  },
  {
   "cell_type": "code",
   "execution_count": null,
   "id": "d579641b",
   "metadata": {},
   "outputs": [],
   "source": [
    "# parse from string directly into SentimentAnalysisOutput\n",
    "sentiment_result = SentimentAnalysisOutput.model_validate_json(\n",
    "    response.choices[0].message.content\n",
    ")\n",
    "sentiment_result\n"
   ]
  },
  {
   "cell_type": "code",
   "execution_count": null,
   "id": "f148bc37",
   "metadata": {},
   "outputs": [],
   "source": [
    "str(sentiment_result.polarity)\n"
   ]
  },
  {
   "cell_type": "markdown",
   "id": "c767f97f",
   "metadata": {},
   "source": [
    "## OpenAI\n",
    "\n",
    "\n",
    "[Structured Output Documentation](https://platform.openai.com/docs/guides/structured-outputs?api-mode=chat)\n",
    "\n",
    "We can directly pass in the Pydantic model to the function call. The client will do the work for us.\n",
    "\n",
    "<div class=\"alert alert-block alert-warning\">\n",
    "⚠️ we use `beta.chat.completions.parse` instead of `.chat.completions.create`\n",
    "</div>"
   ]
  },
  {
   "cell_type": "code",
   "execution_count": null,
   "id": "59dc4248",
   "metadata": {},
   "outputs": [],
   "source": [
    "response = await oai_client.beta.chat.completions.parse(\n",
    "    messages=messages, model=\"gpt-4.1-nano\", response_format=SentimentAnalysisOutput\n",
    ")\n",
    "response"
   ]
  },
  {
   "cell_type": "code",
   "execution_count": null,
   "id": "b0d3fe1b",
   "metadata": {},
   "outputs": [],
   "source": [
    "# raw response\n",
    "response.choices[0].message.content\n"
   ]
  },
  {
   "cell_type": "code",
   "execution_count": null,
   "id": "112340c0",
   "metadata": {},
   "outputs": [],
   "source": [
    "# parse into dictionary\n",
    "response_dict = json.loads(response.choices[0].message.content)\n",
    "response_dict\n"
   ]
  },
  {
   "cell_type": "code",
   "execution_count": null,
   "id": "06f954e0",
   "metadata": {},
   "outputs": [],
   "source": [
    "# parse into SentimentAnalysisOutput\n",
    "sentiment_result = SentimentAnalysisOutput(**response_dict)\n",
    "sentiment_result\n"
   ]
  },
  {
   "cell_type": "code",
   "execution_count": null,
   "id": "c6385058",
   "metadata": {},
   "outputs": [],
   "source": [
    "# parse from string directly into SentimentAnalysisOutput\n",
    "sentiment_result = SentimentAnalysisOutput.model_validate_json(\n",
    "    response.choices[0].message.content\n",
    ")\n",
    "sentiment_result\n"
   ]
  },
  {
   "cell_type": "code",
   "execution_count": null,
   "id": "3bdbdf0e",
   "metadata": {},
   "outputs": [],
   "source": [
    "# access the parsed response directly\n",
    "response.choices[0].message.parsed\n"
   ]
  },
  {
   "cell_type": "code",
   "execution_count": 2,
   "id": "402fa406",
   "metadata": {},
   "outputs": [],
   "source": [
    "def test():\n",
    "    \"\"\"this returns 1\"\"\"\n",
    "    return 1"
   ]
  },
  {
   "cell_type": "code",
   "execution_count": 3,
   "id": "4d02de12",
   "metadata": {},
   "outputs": [
    {
     "data": {
      "text/plain": [
       "function"
      ]
     },
     "execution_count": 3,
     "metadata": {},
     "output_type": "execute_result"
    }
   ],
   "source": [
    "type(test)"
   ]
  },
  {
   "cell_type": "code",
   "execution_count": null,
   "id": "e2e21129",
   "metadata": {},
   "outputs": [],
   "source": []
  }
 ],
 "metadata": {
  "kernelspec": {
   "display_name": ".venv",
   "language": "python",
   "name": "python3"
  },
  "language_info": {
   "codemirror_mode": {
    "name": "ipython",
    "version": 3
   },
   "file_extension": ".py",
   "mimetype": "text/x-python",
   "name": "python",
   "nbconvert_exporter": "python",
   "pygments_lexer": "ipython3",
   "version": "3.11.10"
  }
 },
 "nbformat": 4,
 "nbformat_minor": 5
}
